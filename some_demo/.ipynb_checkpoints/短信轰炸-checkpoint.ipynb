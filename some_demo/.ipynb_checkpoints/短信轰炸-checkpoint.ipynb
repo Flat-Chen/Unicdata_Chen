{
 "cells": [
  {
   "cell_type": "code",
   "execution_count": 8,
   "metadata": {
    "collapsed": true,
    "pycharm": {
     "is_executing": false
    }
   },
   "outputs": [],
   "source": [
    "import requests\n",
    "def zgdk(phone):\n",
    "    data = {'mobile':phone}\n",
    "    response = requests.post(url='https://mgjr.360yhzd.com/api/sms/getCode', data=data)\n",
    "    return response"
   ]
  },
  {
   "cell_type": "code",
   "execution_count": 9,
   "metadata": {
    "pycharm": {
     "is_executing": false,
     "name": "#%%\n"
    }
   },
   "outputs": [
    {
     "name": "stdout",
     "output_type": "stream",
     "text": [
      "{\"resMap\":{\"result\":\"0\",\"msgid\":\"371251606068396032\",\"desc\":\"提交成功\",\"blacklist\":\"\",\"repeatList\":\"\\\" + repeatList + \\\"\",\"errorList\":\"\",\"errorNo\":\"0\"}}\n"
     ]
    }
   ],
   "source": [
    "text = zgdk('18855481111')\n",
    "print(text.text)\n",
    "\n"
   ]
  }
 ],
 "metadata": {
  "kernelspec": {
   "display_name": "Python 3",
   "language": "python",
   "name": "python3"
  },
  "language_info": {
   "codemirror_mode": {
    "name": "ipython",
    "version": 3
   },
   "file_extension": ".py",
   "mimetype": "text/x-python",
   "name": "python",
   "nbconvert_exporter": "python",
   "pygments_lexer": "ipython3",
   "version": "3.7.3"
  },
  "pycharm": {
   "stem_cell": {
    "cell_type": "raw",
    "metadata": {
     "collapsed": false
    },
    "source": []
   }
  }
 },
 "nbformat": 4,
 "nbformat_minor": 1
}
