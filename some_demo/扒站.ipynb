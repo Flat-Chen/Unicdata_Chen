{
 "cells": [
  {
   "cell_type": "code",
   "execution_count": 2,
   "metadata": {
    "collapsed": true,
    "pycharm": {
     "name": "#%% 获取网页源代码\n",
     "is_executing": false
    }
   },
   "outputs": [],
   "source": [
    "import requests\n",
    "from lxml import etree\n",
    "response = requests.get('http://gensiscloud.com/')\n",
    "html = etree.HTML(response.text)"
   ]
  },
  {
   "cell_type": "code",
   "execution_count": 3,
   "outputs": [],
   "source": [
    "divs = html.xpath('//div[@id=\"ilist99\"]')\n",
    "data = {}\n",
    "for div in divs:\n",
    "    title = div.xpath('.//h6/a/text()')[0]\n",
    "    lis = div.xpath('.//ul/li')\n",
    "    list_li = []\n",
    "    for li in lis:\n",
    "        province = li.xpath('.//font/text()')[0]\n",
    "        info = li.xpath('.//a/text()')[0]\n",
    "        list_info = [province,info]\n",
    "        list_li.append(list_info)\n",
    "    data[title] = list_li\n"
   ],
   "metadata": {
    "collapsed": false,
    "pycharm": {
     "name": "#%%\n",
     "is_executing": false
    }
   }
  }
 ],
 "metadata": {
  "kernelspec": {
   "display_name": "Python 3",
   "language": "python",
   "name": "python3"
  },
  "language_info": {
   "codemirror_mode": {
    "name": "ipython",
    "version": 2
   },
   "file_extension": ".py",
   "mimetype": "text/x-python",
   "name": "python",
   "nbconvert_exporter": "python",
   "pygments_lexer": "ipython2",
   "version": "2.7.6"
  },
  "pycharm": {
   "stem_cell": {
    "cell_type": "raw",
    "source": [],
    "metadata": {
     "collapsed": false
    }
   }
  }
 },
 "nbformat": 4,
 "nbformat_minor": 0
}