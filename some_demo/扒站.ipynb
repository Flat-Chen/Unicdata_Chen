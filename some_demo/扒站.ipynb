{
 "cells": [
  {
   "cell_type": "code",
   "execution_count": 7,
   "metadata": {
    "collapsed": true,
    "pycharm": {
     "name": "#%% 获取网页源代码\n",
     "is_executing": false
    }
   },
   "outputs": [],
   "source": [
    "import requests\n",
    "from lxml import etree\n",
    "response = requests.get('http://gensiscloud.com/')\n",
    "html = etree.HTML(response.text)"
   ]
  },
  {
   "cell_type": "code",
   "execution_count": 9,
   "outputs": [],
   "source": [
    "divs = html.xpath('//div[@id=\"ilist99\"]')\n",
    "data = {}\n",
    "for div in divs:\n",
    "    title = div.xpath('.//h6/a/text()')[0]\n",
    "    lis = div.xpath('.//ul/li')\n",
    "    list_li = []\n",
    "    for li in lis:\n",
    "        province = li.xpath('.//font/text()')[0]\n",
    "        info = li.xpath('.//a/text()')[0]\n",
    "        view_url = 'http://gensiscloud.com/' + li.xpath('.//a/@href')[0]\n",
    "        response_view = requests.get(view_url)\n",
    "        html_view = etree.HTML(response_view.text)\n",
    "        infoNum = html_view.xpath('//ul[@class=\"menu clearfix\"]/li/span/text()')[0]\n",
    "        activityTime = html_view.xpath('//ul[@class=\"menu clearfix\"]/li[2]/span/text()')[0]\n",
    "        clickTime = html_view.xpath('//ul[@class=\"menu clearfix\"]/li[3]/span/text()')[0]\n",
    "        phone = html_view.xpath('//td[@class=\"dianhuabox\"]/span/text()')[0]\n",
    "        contact = ''.join(html_view.xpath('//td[@class=\"lianxiren\"]/text()')).replace(' ','').replace('\\n','')\n",
    "        contactAddress = ''.join(html_view.xpath('//div[@class=\"top_table_3\"]/p/text()'))\n",
    "        url = html_view.xpath('//div[@class=\"gallery-item\"]/a/@href')[0]\n",
    "        if 'target=\"_blank\"' in url:\n",
    "            url = 'None'\n",
    "        list_info = {'province':province[1:-1], 'title':info, 'infoNum':infoNum, 'activityTime':activityTime, \n",
    "                     'clickTime':clickTime, 'phone':phone, 'contact':contact, 'contactAddress':contactAddress,\n",
    "                     'url':url}\n",
    "        list_li.append(list_info)\n",
    "    data[title] = list_li\n"
   ],
   "metadata": {
    "collapsed": false,
    "pycharm": {
     "name": "#%%\n",
     "is_executing": false
    }
   }
  },
  {
   "cell_type": "code",
   "execution_count": 10,
   "outputs": [
    {
     "name": "stdout",
     "text": [
      "'蔬菜'=> array(array('province'=> '河北省', 'title'=> 'asdf', 'infoNum'=> 'INFO_2014_15776', 'activityTime'=> '长期有效', 'clickTime'=> '63', 'phone'=> 'asdfsadf', 'contact'=> 'asdf', 'contactAddress'=> '', 'url'=> 'None'), array('province'=> '河南省', 'title'=> '(供)红薯苗大量上市中', 'infoNum'=> 'INFO_2014_13924', 'activityTime'=> '长期有效', 'clickTime'=> '241', 'phone'=> ' 13839951355', 'contact'=> '发', 'contactAddress'=> ' 开封市祥符区', 'url'=> 'http://proimg.nongnet.com/spUpload/Images/2018041315090037.jpg'), array('province'=> '广东省', 'title'=> '(供)长期配送各种新鲜蔬菜', 'infoNum'=> 'INFO_2014_13505', 'activityTime'=> '长期有效', 'clickTime'=> '248', 'phone'=> ' 13501571599', 'contact'=> '刘生', 'contactAddress'=> ' 深圳市宝安区福永桥头', 'url'=> 'http://www.nongnet.com/spUpload/Images/299623049.jpg'), array('province'=> '内蒙古自治区', 'title'=> '(供)出售数万斤农家优质土豆种子', 'infoNum'=> 'INFO_2014_13463', 'activityTime'=> '长期有效', 'clickTime'=> '192', 'phone'=> ' 15540967102', 'contact'=> '李俊', 'contactAddress'=> ' 北堡乡', 'url'=> 'http://proimg.nongnet.com/spUpload/Images/2018032414521695.jpg'), array('province'=> '广东省', 'title'=> '(供)大量供应优质子弹头大冬瓜，每只平均32斤左右。', 'infoNum'=> 'INFO_2014_11951', 'activityTime'=> '长期有效', 'clickTime'=> '210', 'phone'=> ' 13510503982', 'contact'=> '练生', 'contactAddress'=> ' 石角镇 回岐', 'url'=> 'http://proimg.nongnet.com/spUpload/Images/2018012820260121.jpg'), array('province'=> '山东省', 'title'=> '(供)大量供应北京新三号大白菜', 'infoNum'=> 'INFO_2014_10852', 'activityTime'=> '长期有效', 'clickTime'=> '249', 'phone'=> ' 18853832158', 'contact'=> '崔增', 'contactAddress'=> ' 王庄镇演北村', 'url'=> 'http://webimg2017.nongnet.com/spUpload/Images/993671481.octet-stream'), array('province'=> '河北省', 'title'=> '(供)霸州大白菜有个小、帮细、青色、口感佳、不塞牙、营养丰富', 'infoNum'=> 'INFO_2014_10834', 'activityTime'=> '长期有效', 'clickTime'=> '212', 'phone'=> ' 15931665481', 'contact'=> '郭先生', 'contactAddress'=> ' 霸州市东杨庄', 'url'=> 'http://webimg2017.nongnet.com/spUpload/Images/1691312586.jpg'), array('province'=> '山东省', 'title'=> '(供)常年代收山东肥城北京新三号大白菜', 'infoNum'=> 'INFO_2014_10543', 'activityTime'=> '长期有效', 'clickTime'=> '165', 'phone'=> ' 18615622771', 'contact'=> '袁喜', 'contactAddress'=> ' 山东肥城', 'url'=> 'http://proimg2017.nongnet.com/spUpload/Images/2017110420334489.jpg'), array('province'=> '山东省', 'title'=> '(供)供应红薯,烟薯25号蜜薯可溶性糖含量高', 'infoNum'=> 'INFO_2014_10271', 'activityTime'=> '长期有效', 'clickTime'=> '235', 'phone'=> ' 15192238338', 'contact'=> '宋先生', 'contactAddress'=> ' 莱阳鹤山路中段', 'url'=> 'http://webimg2017.nongnet.com/spUpload/Images/1329482149.jpg'), array('province'=> '河北省', 'title'=> '(供)唐山市玉田县大安镇丁家街蔬菜产地', 'infoNum'=> 'INFO_2014_10108', 'activityTime'=> '长期有效', 'clickTime'=> '191', 'phone'=> ' 13472964996', 'contact'=> '吕经理', 'contactAddress'=> ' 唐山市玉田县大安镇丁家街', 'url'=> 'None')), '水果'=> array(array('province'=> '广西壮族自治区', 'title'=> 'array(求)大量收购菜花', 'infoNum'=> 'INFO_2014_15410', 'activityTime'=> '长期有效', 'clickTime'=> '199', 'phone'=> ' 18177722022', 'contact'=> '万里', 'contactAddress'=> ' 凭祥市物流园', 'url'=> 'None'), array('province'=> '山东省', 'title'=> '(供)山东生姜=>小黄姜、大黄姜、面姜、老姜、姜种常年批发', 'infoNum'=> 'INFO_2014_14451', 'activityTime'=> '长期有效', 'clickTime'=> '159', 'phone'=> ' 13953922483', 'contact'=> '孙明龙经理', 'contactAddress'=> ' 山东省沂水县四十里堡镇铺前村', 'url'=> 'http://proimg.nongnet.com/spUpload/Images/2018050510514731.jpg'), array('province'=> '山东省', 'title'=> '(供)优质生姜，姜种便宜出售，价格五毛起', 'infoNum'=> 'INFO_2014_13195', 'activityTime'=> '长期有效', 'clickTime'=> '123', 'phone'=> ' 15244340111', 'contact'=> '赵而坤', 'contactAddress'=> ' 山东省临沂市', 'url'=> 'http://proimg.nongnet.com/spUpload/Images/2018031508283832.jpg'), array('province'=> '新疆维吾尔自治区', 'title'=> '(供)蔬菜大棚蔬菜种植', 'infoNum'=> 'INFO_2014_11916', 'activityTime'=> '长期有效', 'clickTime'=> '156', 'phone'=> ' 13139665876', 'contact'=> '毛胜杰', 'contactAddress'=> ' 水西沟大庙村', 'url'=> 'None'), array('province'=> '湖北省', 'title'=> '(供)本地花菜已上市，质量好，货源集中，个头沟匀花白', 'infoNum'=> 'INFO_2014_11264', 'activityTime'=> '长期有效', 'clickTime'=> '186', 'phone'=> ' 13377955026', 'contact'=> '胡先生', 'contactAddress'=> ' 湖北省天门市蒋湖农场', 'url'=> 'http://proimg2017.nongnet.com/spUpload/Images/2017112819570110.jpg'), array('province'=> '河北省', 'title'=> '(供)长年代收个种蔬菜', 'infoNum'=> 'INFO_2014_11056', 'activityTime'=> '长期有效', 'clickTime'=> '196', 'phone'=> ' 17749866665', 'contact'=> '刘明明', 'contactAddress'=> ' 河北省秦皇岛市昌黎县马坨店乡邱家营嘉诚蔬菜批发市场', 'url'=> 'None'), array('province'=> '天津市', 'title'=> '(供)鲜嫩、味浓的安全韭菜、没使用农药的韭菜、凝结着科技的韭', 'infoNum'=> 'INFO_2014_10227', 'activityTime'=> '长期有效', 'clickTime'=> '218', 'phone'=> ' 13194625208', 'contact'=> '张余良', 'contactAddress'=> ' 天津市武清区下伍旗镇下伍旗村', 'url'=> 'http://webimg2017.nongnet.com/spUpload/Images/124959977.jpg'), array('province'=> '新疆维吾尔自治区', 'title'=> '(供)绿色无公害韭菜携手南开大学研究博士共同开发', 'infoNum'=> 'INFO_2014_4294', 'activityTime'=> '长期有效', 'clickTime'=> '183', 'phone'=> ' 15564476777', 'contact'=> '李先生', 'contactAddress'=> '', 'url'=> 'None'), array('province'=> '河南省', 'title'=> '(供)出售红皮洋葱，量大，直径8以上，价格2.5~3.5', 'infoNum'=> 'INFO_2014_15285', 'activityTime'=> '长期有效', 'clickTime'=> '170', 'phone'=> ' 18237506657', 'contact'=> '张经理', 'contactAddress'=> ' 河南省汝州市小屯镇河张村', 'url'=> 'None'), array('province'=> '江苏省', 'title'=> '(供)蔬菜种植基地有贵妃香芹大量上市，品相A类市场畅销。', 'infoNum'=> 'INFO_2014_13244', 'activityTime'=> '长期有效', 'clickTime'=> '182', 'phone'=> ' 17717869945', 'contact'=> '刘振', 'contactAddress'=> ' 江苏省南通市港闸区通刘公路588号', 'url'=> 'http://proimg.nongnet.com/spUpload/Images/2018031701232218.jpg')), '粮油'=> array(array('province'=> '河北省', 'title'=> 'asdf', 'infoNum'=> 'INFO_2014_15776', 'activityTime'=> '长期有效', 'clickTime'=> '64', 'phone'=> 'asdfsadf', 'contact'=> 'asdf', 'contactAddress'=> '', 'url'=> 'None'), array('province'=> '河南省', 'title'=> '(供)红薯苗大量上市中', 'infoNum'=> 'INFO_2014_13924', 'activityTime'=> '长期有效', 'clickTime'=> '242', 'phone'=> ' 13839951355', 'contact'=> '发', 'contactAddress'=> ' 开封市祥符区', 'url'=> 'http://proimg.nongnet.com/spUpload/Images/2018041315090037.jpg'), array('province'=> '广东省', 'title'=> '(供)长期配送各种新鲜蔬菜', 'infoNum'=> 'INFO_2014_13505', 'activityTime'=> '长期有效', 'clickTime'=> '249', 'phone'=> ' 13501571599', 'contact'=> '刘生', 'contactAddress'=> ' 深圳市宝安区福永桥头', 'url'=> 'http://www.nongnet.com/spUpload/Images/299623049.jpg'), array('province'=> '内蒙古自治区', 'title'=> '(供)出售数万斤农家优质土豆种子', 'infoNum'=> 'INFO_2014_13463', 'activityTime'=> '长期有效', 'clickTime'=> '193', 'phone'=> ' 15540967102', 'contact'=> '李俊', 'contactAddress'=> ' 北堡乡', 'url'=> 'http://proimg.nongnet.com/spUpload/Images/2018032414521695.jpg'), array('province'=> '广东省', 'title'=> '(供)大量供应优质子弹头大冬瓜，每只平均32斤左右。', 'infoNum'=> 'INFO_2014_11951', 'activityTime'=> '长期有效', 'clickTime'=> '211', 'phone'=> ' 13510503982', 'contact'=> '练生', 'contactAddress'=> ' 石角镇 回岐', 'url'=> 'http://proimg.nongnet.com/spUpload/Images/2018012820260121.jpg'), array('province'=> '山东省', 'title'=> '(供)大量供应北京新三号大白菜', 'infoNum'=> 'INFO_2014_10852', 'activityTime'=> '长期有效', 'clickTime'=> '250', 'phone'=> ' 18853832158', 'contact'=> '崔增', 'contactAddress'=> ' 王庄镇演北村', 'url'=> 'http://webimg2017.nongnet.com/spUpload/Images/993671481.octet-stream'), array('province'=> '河北省', 'title'=> '(供)霸州大白菜有个小、帮细、青色、口感佳、不塞牙、营养丰富', 'infoNum'=> 'INFO_2014_10834', 'activityTime'=> '长期有效', 'clickTime'=> '213', 'phone'=> ' 15931665481', 'contact'=> '郭先生', 'contactAddress'=> ' 霸州市东杨庄', 'url'=> 'http://webimg2017.nongnet.com/spUpload/Images/1691312586.jpg'), array('province'=> '山东省', 'title'=> '(供)常年代收山东肥城北京新三号大白菜', 'infoNum'=> 'INFO_2014_10543', 'activityTime'=> '长期有效', 'clickTime'=> '166', 'phone'=> ' 18615622771', 'contact'=> '袁喜', 'contactAddress'=> ' 山东肥城', 'url'=> 'http://proimg2017.nongnet.com/spUpload/Images/2017110420334489.jpg'), array('province'=> '山东省', 'title'=> '(供)供应红薯,烟薯25号蜜薯可溶性糖含量高', 'infoNum'=> 'INFO_2014_10271', 'activityTime'=> '长期有效', 'clickTime'=> '236', 'phone'=> ' 15192238338', 'contact'=> '宋先生', 'contactAddress'=> ' 莱阳鹤山路中段', 'url'=> 'http://webimg2017.nongnet.com/spUpload/Images/1329482149.jpg'), array('province'=> '河北省', 'title'=> '(供)唐山市玉田县大安镇丁家街蔬菜产地', 'infoNum'=> 'INFO_2014_10108', 'activityTime'=> '长期有效', 'clickTime'=> '192', 'phone'=> ' 13472964996', 'contact'=> '吕经理', 'contactAddress'=> ' 唐山市玉田县大安镇丁家街', 'url'=> 'None')), '畜禽养殖'=> array(array('province'=> '河南省', 'title'=> '(供)纯正花生油', 'infoNum'=> 'INFO_2014_14959', 'activityTime'=> '长期有效', 'clickTime'=> '216', 'phone'=> ' 15603927941', 'contact'=> '常修菊', 'contactAddress'=> ' 河南省浚县屯子镇钊寨村', 'url'=> 'http://proimg.nongnet.com/spUpload/Images/2018052816474047.jpg'), array('province'=> '云南省', 'title'=> '(供)云南缅甸黄玉米', 'infoNum'=> 'INFO_2014_14353', 'activityTime'=> '长期有效', 'clickTime'=> '262', 'phone'=> ' 13958506551', 'contact'=> '张先生', 'contactAddress'=> ' 云南�院耆鹄�', 'url'=> 'http://proimg.nongnet.com/spUpload/Images/2018050206023907.jpg'), array('province'=> '山东省', 'title'=> '(供)出售肉牛犊 黄牛 改良肉牛 杂交牛 黄牛犊', 'infoNum'=> 'INFO_2014_14273', 'activityTime'=> '长期有效', 'clickTime'=> '198', 'phone'=> ' 15865836828', 'contact'=> '徐龙虎', 'contactAddress'=> ' 山东省菏泽市郓城县', 'url'=> 'http://proimg.nongnet.com/spUpload/Images/2018042720290656.jpg'), array('province'=> '湖南省', 'title'=> '(供)求购玉米高梁小麦大豆豆粕棉粕菜粕等饲料原料', 'infoNum'=> 'INFO_2014_13780', 'activityTime'=> '长期有效', 'clickTime'=> '235', 'phone'=> ' 15197008069', 'contact'=> '张女士', 'contactAddress'=> ' 东湖东路', 'url'=> 'http://www.nongnet.com/spUpload/Images/2136362138.jpg'), array('province'=> '四川省', 'title'=> '(供)求购大米、玉米、大豆、淀粉、高粱等', 'infoNum'=> 'INFO_2014_13678', 'activityTime'=> '长期有效', 'clickTime'=> '187', 'phone'=> ' 13880617468', 'contact'=> '杨先生', 'contactAddress'=> ' 四川成都', 'url'=> 'None'), array('province'=> '湖南省', 'title'=> 'array(求)长年求购玉米大豆棉菜粕麦麸油糖。', 'infoNum'=> 'INFO_2014_13547', 'activityTime'=> '长期有效', 'clickTime'=> '196', 'phone'=> ' 13973047693', 'contact'=> '刘木想', 'contactAddress'=> ' 文星镇东湖东路', 'url'=> 'None'), array('province'=> '内蒙古自治区', 'title'=> '(供)清水河特产小香米', 'infoNum'=> 'INFO_2014_12905', 'activityTime'=> '长期有效', 'clickTime'=> '173', 'phone'=> ' 15391171985', 'contact'=> '侯在明', 'contactAddress'=> ' 呼和浩特市金川开发区', 'url'=> 'http://proimg.nongnet.com/spUpload/Images/2018030119155605.jpg'), array('province'=> '浙江省', 'title'=> '(供)供应 青蛙 田鸡 黑斑蛙 小蝌蚪', 'infoNum'=> 'INFO_2014_11305', 'activityTime'=> '长期有效', 'clickTime'=> '208', 'phone'=> ' 18368603258', 'contact'=> '华经理', 'contactAddress'=> ' 航埠镇', 'url'=> 'http://webimg2017.nongnet.com/spUpload/Images/1889840648.jpg'), array('province'=> '云南省', 'title'=> '(供)缅甸优质玉米', 'infoNum'=> 'INFO_2014_11137', 'activityTime'=> '长期有效', 'clickTime'=> '211', 'phone'=> ' 18908823952', 'contact'=> '依坐', 'contactAddress'=> ' 瑞丽市勐卯镇喊沙村64号', 'url'=> 'http://proimg2017.nongnet.com/spUpload/Images/2017112413353735.jpg'), array('province'=> '湖南省', 'title'=> '(供)放养黑山羊种羊低价销售', 'infoNum'=> 'INFO_2014_10681', 'activityTime'=> '长期有效', 'clickTime'=> '201', 'phone'=> ' 15211071239', 'contact'=> '', 'contactAddress'=> ' 湘潭县花石镇金丰村', 'url'=> 'None')), '种子农资'=> array(array('province'=> '河北省', 'title'=> 'asdfasdf', 'infoNum'=> 'INFO_2014_15775', 'activityTime'=> '长期有效', 'clickTime'=> '25', 'phone'=> 'adf', 'contact'=> 'asdf', 'contactAddress'=> '', 'url'=> 'None'), array('province'=> '安徽省', 'title'=> '安徽萧县夏黑葡萄供应', 'infoNum'=> 'INFO_2014_15771', 'activityTime'=> '长期有效', 'clickTime'=> '95', 'phone'=> '18955793212', 'contact'=> '刘先生', 'contactAddress'=> '', 'url'=> 'None'), array('province'=> '山东省', 'title'=> '(供)供应西瓜,沙土地，无污染，纯天然，口感好。', 'infoNum'=> 'INFO_2014_15499', 'activityTime'=> '长期有效', 'clickTime'=> '186', 'phone'=> ' 13695439997', 'contact'=> '樊新民', 'contactAddress'=> ' 惠民县辛店镇', 'url'=> 'http://proimg.nongnet.com/spUpload/Images/2018062221501551.jpg'), array('province'=> '陕西省', 'title'=> '(供)绿色无公害 精品黄金蜜', 'infoNum'=> 'INFO_2014_15259', 'activityTime'=> '长期有效', 'clickTime'=> '142', 'phone'=> ' 13227831015', 'contact'=> '魏威', 'contactAddress'=> ' 蓝田县孟村镇东村三组', 'url'=> 'http://www.nongnet.com/spUpload/Images/1707839266.jpg'), array('province'=> '江西省', 'title'=> '(供)供应西瓜,皮薄，瓤红，甜脆，多汁的原棚瓜', 'infoNum'=> 'INFO_2014_15027', 'activityTime'=> '长期有效', 'clickTime'=> '205', 'phone'=> ' 13402108056', 'contact'=> '张海波', 'contactAddress'=> ' 江西省抚州市乐安县', 'url'=> 'http://proimg.nongnet.com/spUpload/Images/2018053114412086.jpg'), array('province'=> '北京市', 'title'=> '(供)江苏东台西瓜大量上市中', 'infoNum'=> 'INFO_2014_15018', 'activityTime'=> '长期有效', 'clickTime'=> '156', 'phone'=> ' 18662064246', 'contact'=> '小王', 'contactAddress'=> ' 江苏省东台市三仓镇', 'url'=> 'http://proimg.nongnet.com/spUpload/Images/2018053108564079.jpg'), array('province'=> '广东省', 'title'=> '(供)阳西县上洋镇西瓜己大量上市，有意者可前来收购。', 'infoNum'=> 'INFO_2014_14243', 'activityTime'=> '长期有效', 'clickTime'=> '167', 'phone'=> ' 18900803730', 'contact'=> '卢祝', 'contactAddress'=> ' 上洋镇', 'url'=> 'http://proimg.nongnet.com/spUpload/Images/2018042621473807.jpg'), array('province'=> '陕西省', 'title'=> '(供)陕西大棚小甜瓜产地批发上市价格', 'infoNum'=> 'INFO_2014_14202', 'activityTime'=> '长期有效', 'clickTime'=> '135', 'phone'=> ' 13891304389', 'contact'=> '严先生', 'contactAddress'=> ' 陕西省大荔县卫军瓜果商行', 'url'=> 'http://www.nongnet.com/spUpload/Images/690056420.jpg'), array('province'=> '江苏省', 'title'=> '(供)特小凤西瓜上市了，专业代收，诚信合作，欢迎致电', 'infoNum'=> 'INFO_2014_13940', 'activityTime'=> '长期有效', 'clickTime'=> '177', 'phone'=> ' 15151118387', 'contact'=> '吴先生', 'contactAddress'=> ' 潼阳镇', 'url'=> 'http://proimg.nongnet.com/spUpload/Images/2018042811261200.jpg'), array('province'=> '山东省', 'title'=> '(供)供应中油4.5号 ，黄油126油桃价格', 'infoNum'=> 'INFO_2014_13831', 'activityTime'=> '长期有效', 'clickTime'=> '160', 'phone'=> ' 15953987826', 'contact'=> '苏先生', 'contactAddress'=> ' 葛沟', 'url'=> 'http://proimg.nongnet.com/spUpload/Images/2018040918155183.jpg')), '其他农副'=> array(array('province'=> '河南省', 'title'=> '(供)纯正花生油', 'infoNum'=> 'INFO_2014_14959', 'activityTime'=> '长期有效', 'clickTime'=> '217', 'phone'=> ' 15603927941', 'contact'=> '常修菊', 'contactAddress'=> ' 河南省浚县屯子镇钊寨村', 'url'=> 'http://proimg.nongnet.com/spUpload/Images/2018052816474047.jpg'), array('province'=> '云南省', 'title'=> '(供)云南缅甸黄玉米', 'infoNum'=> 'INFO_2014_14353', 'activityTime'=> '长期有效', 'clickTime'=> '263', 'phone'=> ' 13958506551', 'contact'=> '张先生', 'contactAddress'=> ' 云南�院耆鹄�', 'url'=> 'http://proimg.nongnet.com/spUpload/Images/2018050206023907.jpg'), array('province'=> '山东省', 'title'=> '(供)出售肉牛犊 黄牛 改良肉牛 杂交牛 黄牛犊', 'infoNum'=> 'INFO_2014_14273', 'activityTime'=> '长期有效', 'clickTime'=> '199', 'phone'=> ' 15865836828', 'contact'=> '徐龙虎', 'contactAddress'=> ' 山东省菏泽市郓城县', 'url'=> 'http://proimg.nongnet.com/spUpload/Images/2018042720290656.jpg'), array('province'=> '湖南省', 'title'=> '(供)求购玉米高梁小麦大豆豆粕棉粕菜粕等饲料原料', 'infoNum'=> 'INFO_2014_13780', 'activityTime'=> '长期有效', 'clickTime'=> '236', 'phone'=> ' 15197008069', 'contact'=> '张女士', 'contactAddress'=> ' 东湖东路', 'url'=> 'http://www.nongnet.com/spUpload/Images/2136362138.jpg'), array('province'=> '四川省', 'title'=> '(供)求购大米、玉米、大豆、淀粉、高粱等', 'infoNum'=> 'INFO_2014_13678', 'activityTime'=> '长期有效', 'clickTime'=> '188', 'phone'=> ' 13880617468', 'contact'=> '杨先生', 'contactAddress'=> ' 四川成都', 'url'=> 'None'), array('province'=> '湖南省', 'title'=> 'array(求)长年求购玉米大豆棉菜粕麦麸油糖。', 'infoNum'=> 'INFO_2014_13547', 'activityTime'=> '长期有效', 'clickTime'=> '197', 'phone'=> ' 13973047693', 'contact'=> '刘木想', 'contactAddress'=> ' 文星镇东湖东路', 'url'=> 'None'), array('province'=> '内蒙古自治区', 'title'=> '(供)清水河特产小香米', 'infoNum'=> 'INFO_2014_12905', 'activityTime'=> '长期有效', 'clickTime'=> '174', 'phone'=> ' 15391171985', 'contact'=> '侯在明', 'contactAddress'=> ' 呼和浩特市金川开发区', 'url'=> 'http://proimg.nongnet.com/spUpload/Images/2018030119155605.jpg'), array('province'=> '浙江省', 'title'=> '(供)供应 青蛙 田鸡 黑斑蛙 小蝌蚪', 'infoNum'=> 'INFO_2014_11305', 'activityTime'=> '长期有效', 'clickTime'=> '209', 'phone'=> ' 18368603258', 'contact'=> '华经理', 'contactAddress'=> ' 航埠镇', 'url'=> 'http://webimg2017.nongnet.com/spUpload/Images/1889840648.jpg'), array('province'=> '云南省', 'title'=> '(供)缅甸优质玉米', 'infoNum'=> 'INFO_2014_11137', 'activityTime'=> '长期有效', 'clickTime'=> '212', 'phone'=> ' 18908823952', 'contact'=> '依坐', 'contactAddress'=> ' 瑞丽市勐卯镇喊沙村64号', 'url'=> 'http://proimg2017.nongnet.com/spUpload/Images/2017112413353735.jpg'), array('province'=> '湖南省', 'title'=> '(供)放养黑山羊种羊低价销售', 'infoNum'=> 'INFO_2014_10681', 'activityTime'=> '长期有效', 'clickTime'=> '202', 'phone'=> ' 15211071239', 'contact'=> '', 'contactAddress'=> ' 湘潭县花石镇金丰村', 'url'=> 'None'))\n"
     ],
     "output_type": "stream"
    }
   ],
   "source": [
    "print(str(data).replace(':','=>')[1:-1].replace(\"http=>\",\"http:\").replace('{','array(').replace('}',')').replace('[','array(').replace(']',')').replace('array(供)','(供)'))\n",
    "\n",
    "    "
   ],
   "metadata": {
    "collapsed": false,
    "pycharm": {
     "name": "#%%\n",
     "is_executing": false
    }
   }
  }
 ],
 "metadata": {
  "kernelspec": {
   "display_name": "Python 3",
   "language": "python",
   "name": "python3"
  },
  "language_info": {
   "codemirror_mode": {
    "name": "ipython",
    "version": 2
   },
   "file_extension": ".py",
   "mimetype": "text/x-python",
   "name": "python",
   "nbconvert_exporter": "python",
   "pygments_lexer": "ipython2",
   "version": "2.7.6"
  },
  "pycharm": {
   "stem_cell": {
    "cell_type": "raw",
    "source": [],
    "metadata": {
     "collapsed": false
    }
   }
  }
 },
 "nbformat": 4,
 "nbformat_minor": 0
}