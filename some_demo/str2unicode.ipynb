{
 "cells": [
  {
   "cell_type": "code",
   "execution_count": 3,
   "metadata": {
    "collapsed": true,
    "pycharm": {
     "is_executing": false
    }
   },
   "outputs": [
    {
     "name": "stdout",
     "text": [
      "\"\\u7701\\u4efd\\u4e2d\\u6587\\u540d\"\n\"省份中文名\"\n"
     ],
     "output_type": "stream"
    }
   ],
   "source": [
    "import json\n",
    "str1 = json.dumps('省份中文名')\n",
    "print(str1)\n",
    "str2 = json.dumps('省份中文名', ensure_ascii=False)\n",
    "print(str2)\n"
   ]
  },
  {
   "cell_type": "code",
   "execution_count": 6,
   "outputs": [
    {
     "name": "stdout",
     "text": [
      "{\"value\": \"\\u7701\\u4efd\\u4e2d\\u6587\\u540d\"}\n{\"value\": \"省份中文名\"}\n"
     ],
     "output_type": "stream"
    }
   ],
   "source": [
    "dict1 = {'value':'省份中文名'}\n",
    "str1 = json.dumps(dict1)\n",
    "print(str1)\n",
    "\n",
    "str2 = json.dumps(dict1, ensure_ascii=False)\n",
    "print(str2)\n"
   ],
   "metadata": {
    "collapsed": false,
    "pycharm": {
     "name": "#%%\n",
     "is_executing": false
    }
   }
  }
 ],
 "metadata": {
  "kernelspec": {
   "display_name": "Python 3",
   "language": "python",
   "name": "python3"
  },
  "language_info": {
   "codemirror_mode": {
    "name": "ipython",
    "version": 2
   },
   "file_extension": ".py",
   "mimetype": "text/x-python",
   "name": "python",
   "nbconvert_exporter": "python",
   "pygments_lexer": "ipython2",
   "version": "2.7.6"
  },
  "pycharm": {
   "stem_cell": {
    "cell_type": "raw",
    "source": [],
    "metadata": {
     "collapsed": false
    }
   }
  }
 },
 "nbformat": 4,
 "nbformat_minor": 0
}