{
 "cells": [
  {
   "cell_type": "code",
   "execution_count": 23,
   "metadata": {
    "collapsed": true,
    "pycharm": {
     "is_executing": false
    }
   },
   "outputs": [],
   "source": [
    "headers = {\n",
    "    'accept': '*/*',\n",
    "    'user-agent': 'Mozilla/5.0 (Linux; Android 10; MI 8 Build/QKQ1.190828.002; wv) AppleWebKit/537.36 (KHTML, like Gecko) Version/4.0 Chrome/83.0.4103.101 Mobile Safari/537.36 - mmbWebBrowse - android',\n",
    "    'Content-Type': 'application/x-www-form-urlencoded; charset=utf-8',\n",
    "    # 'Content-Length': ' 632',\n",
    "    'Host': 'apapia-sqk.manmanbuy.com',\n",
    "    'Connection': 'Keep-Alive',\n",
    "    'Accept-Encoding': 'gzip',\n",
    "    'Cookie': 'ASP.NET_SessionId=itetus1ucoxmkmm5oymouqzm; jjkcpnew111=cp15918450_223104212238_2020/8/24',\n",
    "}\n",
    "url = 'https://apapia-sqk.manmanbuy.com/index_json.ashx'\n",
    "data = {'methodName': 'getcuxiaolist',\n",
    "        'page': '2',\n",
    "        'classid': '15',\n",
    "        'c_ctrl': 'w_tab_f_index_content',\n",
    "        'pagesize': '6',\n",
    "        't': '1603848594141',\n",
    "        'jsoncallback': '%3F',\n",
    "        'username': '',\n",
    "        'u_name': '',\n",
    "        'sign': '',\n",
    "        'c_appver': '3.4.41',\n",
    "        'c_ostype': 'android',\n",
    "        'c_osver': '10',\n",
    "        'c_devid': '94%3A87%3Ae0%3A22%3A63%3A6d',\n",
    "        'c_patch': '',\n",
    "        'c_devmodel': 'MI%208',\n",
    "        'c_brand': 'Xiaomi',\n",
    "        'c_operator': '%E4%B8%AD%E5%9B%BD%E7%A7%BB%E5%8A%A8',\n",
    "        'c_win': 'w_393_h_738',\n",
    "        'c_dp': '1',\n",
    "        'c_safearea': '32.3636360168457_0',\n",
    "        'c_mac': '94%3A87%3Ae0%3A22%3A63%3A6d',\n",
    "        'c_oaid': 'e31561dafae0ecb5',\n",
    "        'c_vaid': 'b6622d460e6d1144',\n",
    "        'c_aaid': 'e4a88635-9042-4ace-bec2-f82d018ced8b',\n",
    "        'c_firstchannel': '%E5%B0%8F%E7%B1%B3',\n",
    "        'c_firstquerendate': '1598267388973',\n",
    "        'c_channel': '%E5%B0%8F%E7%B1%B3',\n",
    "        'c_test': '',\n",
    "        'token': '4C9E8ECD447BC67B5B45A943180C597A',\n",
    "        }"
   ]
  },
  {
   "cell_type": "code",
   "execution_count": 22,
   "metadata": {
    "pycharm": {
     "is_executing": false,
     "name": "#%%\n"
    }
   },
   "outputs": [
    {
     "name": "stdout",
     "text": [
      "{\"ok\":0,\"msg\":\"没有调用该方法的权限\",\"code\":10006,\"result\":{\"Success\":false,\"errorMsg\":\"2:token不正确\",\"paramStr\":\"\",\"token\":\"\",\"keys\":{}}}\n"
     ],
     "output_type": "stream"
    }
   ],
   "source": [
    "import requests\n",
    "response = requests.post(url=url, headers=headers, data=data)\n",
    "response.encoding = response.apparent_encoding\n",
    "print(response.text)"
   ]
  },
  {
   "cell_type": "code",
   "execution_count": 12,
   "metadata": {
    "pycharm": {
     "is_executing": false,
     "name": "#%%\n"
    }
   },
   "outputs": [
    {
     "name": "stdout",
     "output_type": "stream",
     "text": [
      "1\n"
     ]
    }
   ],
   "source": [
    "print('1')"
   ]
  }
 ],
 "metadata": {
  "kernelspec": {
   "display_name": "Python 3",
   "language": "python",
   "name": "python3"
  },
  "language_info": {
   "codemirror_mode": {
    "name": "ipython",
    "version": 3
   },
   "file_extension": ".py",
   "mimetype": "text/x-python",
   "name": "python",
   "nbconvert_exporter": "python",
   "pygments_lexer": "ipython3",
   "version": "3.7.3"
  },
  "pycharm": {
   "stem_cell": {
    "cell_type": "raw",
    "source": [],
    "metadata": {
     "collapsed": false
    }
   }
  }
 },
 "nbformat": 4,
 "nbformat_minor": 1
}