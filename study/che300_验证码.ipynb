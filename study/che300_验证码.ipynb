{
 "cells": [
  {
   "cell_type": "code",
   "execution_count": 1,
   "outputs": [],
   "source": [
    "import logging\n",
    "import random\n",
    "import json\n",
    "import time\n",
    "import traceback\n",
    "import requests\n",
    "from redis import Redis\n",
    "from scrapy import signals\n",
    "from selenium.webdriver.support.wait import WebDriverWait\n",
    "from twisted.internet.error import TimeoutError\n",
    "from selenium import webdriver\n",
    "from scrapy.http import HtmlResponse\n",
    "from selenium.webdriver import FirefoxProfile\n",
    "from selenium.webdriver.common.desired_capabilities import DesiredCapabilities\n",
    "from twisted.internet.error import TimeoutError, TCPTimedOutError"
   ],
   "metadata": {
    "collapsed": false,
    "pycharm": {
     "name": "#%%\n",
     "is_executing": false
    }
   }
  },
  {
   "cell_type": "code",
   "execution_count": 2,
   "metadata": {
    "collapsed": true,
    "pycharm": {
     "is_executing": false
    }
   },
   "outputs": [],
   "source": [
    "class SeleniumMiddleware(object):\n",
    "    \"\"\"\n",
    "    selenium 动态加载代理ip 、 cookie\n",
    "    \"\"\"\n",
    "\n",
    "    def __init__(self, timeout=30):\n",
    "        profile = FirefoxProfile()\n",
    "        options = webdriver.FirefoxOptions()\n",
    "        # options.add_argument('--headless')\n",
    "        # 去掉提示：Chrome正收到自动测试软件的控制\n",
    "        options.add_argument('disable-infobars')\n",
    "\n",
    "        # 设置代理\n",
    "        profile.set_preference('network.proxy.type', 1)\n",
    "        profile.set_preference('network.proxy.http', '81.68.214.148')\n",
    "        profile.set_preference('network.proxy.http_port', 16128)\n",
    "        profile.set_preference('network.proxy.ssl', '81.68.214.148')\n",
    "        profile.set_preference('network.proxy.ssl_port', 16128)\n",
    "\n",
    "        # 禁止加载照片\n",
    "        # profile.set_preference('permissions.default.image', 2)\n",
    "        # 禁止加载css样式表\n",
    "        profile.set_preference('permissions.default.stylesheet', 2)\n",
    "        options.set_preference(\"dom.webnotifications.enabled\", False)\n",
    "        # 修改页面加载策略\n",
    "        # none表示将br.get方法改为非阻塞模式，在页面加载过程中也可以给br发送指令，如获取url，pagesource等资源。\n",
    "        # desired_capabilities = DesiredCapabilities.FIREFOX  # 修改页面加载策略页面加载策略\n",
    "        # desired_capabilities[\"pageLoadStrategy\"] = \"none\"\n",
    "\n",
    "        # self.browser = webdriver.Firefox(firefox_profile=profile, firefox_options=options,\n",
    "        #                                  executable_path='/usr/bin/firefox')\n",
    "\n",
    "        self.browser = webdriver.Firefox(firefox_profile=profile, firefox_options=options)\n",
    "        # 首先加载要添加cookie的网站, 然后添加cookie字典\n",
    "        self.timeout = timeout\n",
    "        # self.browser.maximize_window()\n",
    "        self.browser.set_page_load_timeout(self.timeout)  # 设置页面加载超时\n",
    "        self.browser.set_script_timeout(self.timeout)  # 设置页面异步js执行超时\n",
    "        # self.wait = WebDriverWait(self.browser, self.timeout, poll_frequency=0.5)\n",
    "\n",
    "    def process_request(self):\n",
    "        main_win = self.browser.current_window_handle  # 记录当前窗口的句柄\n",
    "        all_win = self.browser.window_handles\n",
    "        try:\n",
    "            if len(all_win) == 1:\n",
    "                logging.info(\"-------------------弹出保护罩-------------------\")\n",
    "                js = 'window.open(\"https://www.baidu.com\");'\n",
    "                self.browser.execute_script(js)\n",
    "                # 还是定位在main_win上的\n",
    "                for win in all_win:\n",
    "                    if main_win != win:\n",
    "                        print('保护罩WIN', win, 'Main', main_win)\n",
    "                        self.browser.switch_to.window(main_win)\n",
    "\n",
    "            # 此处访问要请求的url\n",
    "            try:\n",
    "                self.browser.get('https://www.che300.com/partner/result.php?prov=1&city=1&brand=131&series=1319&model=18263&registerDate=2011-12&mileAge=18.17&intention=0&partnerId=douyin&unit=1&sn=ea166d6028daee0544c4036ef4f72571&sld=bj')\n",
    "                time.sleep(200)\n",
    "            except:\n",
    "                logging.error(\"加载页面太慢，停止加载，继续下一步操作\")\n",
    "                self.browser.execute_script(\"window.stop()\")\n",
    "            url = self.browser.current_url\n",
    "            body = self.browser.page_source\n",
    "\n",
    "        except:\n",
    "            # 超时\n",
    "            logging.info(\"-------------------Time out-------------------\")\n",
    "            # 切换新的浏览器窗口\n",
    "            for win in all_win:\n",
    "                if main_win != win:\n",
    "                    logging.info(\"-------------------切换到保护罩-------------------\")\n",
    "                    print('WIN', win, 'Main', main_win)\n",
    "                    self.browser.close()\n",
    "                    self.browser.switch_to.window(win)\n",
    "                    main_win = win\n",
    "\n",
    "            js = 'window.open(\"https://www.baidu.com\");'\n",
    "            self.browser.execute_script(js)\n",
    "            if 'time' in str(traceback.format_exc()):\n",
    "                # print('页面访问超时')\n",
    "                logging.info(\"-------------------页面访问超时-------------------\")\n",
    "\n",
    "    def get_Proxy(self):\n",
    "        url = 'http://192.168.2.120:5000'\n",
    "        proxy = requests.get(url, auth=('admin', 'zd123456')).text[0:-6]\n",
    "        try:\n",
    "            ip = proxy.split(\":\")[0]\n",
    "            port = proxy.split(\":\")[1]\n",
    "        except Exception as e:\n",
    "            logging.error('取代理时出错了，暂时将自己的代理顶上', repr(e))\n",
    "            ip = '81.68.214.148'\n",
    "            port = '16128'\n",
    "        return proxy, ip, port\n",
    "\n",
    "    def set_proxy(self, driver, ip='', port=0):\n",
    "        try:\n",
    "            driver.get(\"about:config\")\n",
    "        except:\n",
    "            logging.error(\"动态加载IP时，页面加载页面太慢，停止加载，继续下一步操作\")\n",
    "            self.browser.execute_script(\"window.stop()\")\n",
    "        script = '''var prefs = Components.classes[\"@mozilla.org/preferences-service;1\"].getService(Components.interfaces.nsIPrefBranch);\n",
    "                        prefs.setIntPref(\"network.proxy.type\", 1);\n",
    "                        prefs.setCharPref(\"network.proxy.http\", \"{ip}\");\n",
    "                        prefs.setIntPref(\"network.proxy.http_port\", \"{port}\");\n",
    "                        prefs.setCharPref(\"network.proxy.ssl\", \"{ip}\");\n",
    "                        prefs.setIntPref(\"network.proxy.ssl_port\", \"{port}\");\n",
    "                        prefs.setCharPref(\"network.proxy.ftp\", \"{ip}\");\n",
    "                        prefs.setIntPref(\"network.proxy.ftp_port\", \"{port}\");\n",
    "            　　　　　　 prefs.setBoolPref(\"general.useragent.site_specific_overrides\",true);\n",
    "            　　　　　　 prefs.setBoolPref(\"general.useragent.updates.enabled\",true);\n",
    "                        prefs.setBoolPref(\"browser.cache.disk.enable\", false);\n",
    "                        prefs.setBoolPref(\"browser.cache.memory.enable\", false);\n",
    "                        prefs.setBoolPref(\"browser.cache.offline.enable\", false);\n",
    "                '''.format(ip=ip, port=port)\n",
    "        try:\n",
    "            driver.execute_script(script)\n",
    "        except Exception as e:\n",
    "            logging.error('设置动态代理时出错！！！', repr(e))"
   ]
  },
  {
   "cell_type": "code",
   "execution_count": null,
   "outputs": [
    {
     "name": "stderr",
     "text": [
      "c:\\users\\13164\\appdata\\local\\programs\\python\\python37\\lib\\site-packages\\ipykernel_launcher.py:33: DeprecationWarning: use options instead of firefox_options\n",
      "ERROR:root:加载页面太慢，停止加载，继续下一步操作\n",
      "WARNING:urllib3.connectionpool:Retrying (Retry(total=2, connect=None, read=None, redirect=None, status=None)) after connection broken by 'NewConnectionError('<urllib3.connection.HTTPConnection object at 0x000001078F4D54A8>: Failed to establish a new connection: [WinError 10061] 由于目标计算机积极拒绝，无法连接。')': /session/057374b7-f20c-45d3-9a02-30ea06ded41e/execute/sync\n",
      "WARNING:urllib3.connectionpool:Retrying (Retry(total=1, connect=None, read=None, redirect=None, status=None)) after connection broken by 'NewConnectionError('<urllib3.connection.HTTPConnection object at 0x000001078F4CEE48>: Failed to establish a new connection: [WinError 10061] 由于目标计算机积极拒绝，无法连接。')': /session/057374b7-f20c-45d3-9a02-30ea06ded41e/execute/sync\n"
     ],
     "output_type": "stream"
    }
   ],
   "source": [
    "SeleniumMiddleware().process_request()\n",
    "\n"
   ],
   "metadata": {
    "collapsed": false,
    "pycharm": {
     "name": "#%%\n",
     "is_executing": true
    }
   }
  }
 ],
 "metadata": {
  "kernelspec": {
   "display_name": "Python 3",
   "language": "python",
   "name": "python3"
  },
  "language_info": {
   "codemirror_mode": {
    "name": "ipython",
    "version": 2
   },
   "file_extension": ".py",
   "mimetype": "text/x-python",
   "name": "python",
   "nbconvert_exporter": "python",
   "pygments_lexer": "ipython2",
   "version": "2.7.6"
  },
  "pycharm": {
   "stem_cell": {
    "cell_type": "raw",
    "source": [],
    "metadata": {
     "collapsed": false
    }
   }
  }
 },
 "nbformat": 4,
 "nbformat_minor": 0
}