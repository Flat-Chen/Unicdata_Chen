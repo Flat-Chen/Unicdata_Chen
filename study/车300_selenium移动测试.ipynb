{
 "cells": [
  {
   "cell_type": "code",
   "execution_count": 24,
   "metadata": {
    "collapsed": true,
    "pycharm": {
     "is_executing": false
    }
   },
   "outputs": [],
   "source": [
    "import random\n",
    "import time\n",
    "import requests\n",
    "from selenium.webdriver import Chrome, ActionChains\n",
    "from selenium.webdriver.chrome.options import Options\n",
    "\n",
    "def getProxy():\n",
    "    s = requests.session()\n",
    "    s.keep_alive = False\n",
    "    url_list = ['http://192.168.2.120:5000']\n",
    "    url = url_list[0]\n",
    "    headers = {\n",
    "        'Connection': 'close',\n",
    "    }\n",
    "    proxy = s.get(url, headers=headers, auth=('admin', 'zd123456')).text[0:-6]\n",
    "    return proxy\n",
    "\n",
    "chrome_options = Options()\n",
    "# chrome_options.add_argument(\"--headless\")\n",
    "ip = getProxy()\n",
    "chrome_options.add_argument(('--proxy-server=' + ip))\n",
    "chrome_options.add_argument('user-agent=Mozilla/5.0 (Macintosh; Intel Mac OS X 10_15_7) AppleWebKit/537.36 (KHTML, like Gecko) Chrome/86.0.4240.198 Safari/537.36')\n",
    "\n",
    "driver = Chrome(options=chrome_options)\n",
    "\n",
    "with open('stealth.min.js') as f:\n",
    "    js = f.read()\n",
    "\n",
    "driver.execute_cdp_cmd(\"Page.addScriptToEvaluateOnNewDocument\", {\n",
    "  \"source\": js\n",
    "})\n",
    "driver.execute_cdp_cmd(\"Page.addScriptToEvaluateOnNewDocument\", {\n",
    "  \"source\": '''window.onmousemove = function(event){\n",
    "            var nDiv = document.createElement('div')  //创建新的div\n",
    "            var e = event || window.event   //获取事件对象\n",
    "            //设置div的样式(红色小圆点)和位置(鼠标当前位置)\n",
    "            nDiv.style.cssText = \"position:absolute; width:5px; height:5px; background-color:red; border-radius:50%\"   \n",
    "            nDiv.style.left = e.pageX + \"px\"\n",
    "            nDiv.style.top = e.pageY + \"px\"\n",
    "            //把创建好的div添加到body里面\n",
    "            document.body.appendChild(nDiv)\n",
    "\n",
    "            //延迟定时器实现一秒后删除效果\n",
    "            setTimeout(function(){\n",
    "                nDiv.remove();\n",
    "            },1000)\n",
    "        }'''\n",
    "})\n",
    "\n",
    "driver.get('https://www.che300.com/forbidden/partner_index?pd=87a38998227cbbc23dcad51cd7f76ab2&r_u=%2Fpartner%2Fresult.php%3Fprov%3D22%26city%3D22%26brand%3D30%26series%3D386%26model%3D21359%26registerDate%3D2014-1%26mileAge%3D13.17%26intention%3D0%26partnerId%3Ddouyin%26unit%3D1%26sn%3D93a15125acc736ab66bb791a1e37ae1a%26sld%3Dcd%2F')\n",
    "# driver.get('http://safety.autohome.com.cn/userverify/index?locnum=109707&backurl=//club.autohome.com.cn%2Fbbs%2Fthread%2Fac12bce5963b9161%2F92472742-1.html')"
   ]
  },
  {
   "cell_type": "code",
   "execution_count": 15,
   "outputs": [],
   "source": [
    "def get_track(x):\n",
    "    '''\n",
    "    滑块移动轨迹\n",
    "    初速度 v =0\n",
    "    单位时间 t = 0.2\n",
    "    位移轨迹 tracks = []\n",
    "    当前位移 ccurrent = 0\n",
    "    :param x:\n",
    "    :return:\n",
    "    '''\n",
    "    v = 1\n",
    "    t = 0.3\n",
    "    tracks = []\n",
    "    current = 0\n",
    "    # mid = x*5/8#到达mid值开始减速\n",
    "    # x = x+10\n",
    "    while current < x:\n",
    "        # if current < mid:\n",
    "        #     a = random.randint(1,3)\n",
    "        # else:\n",
    "        #     a = -random.randint(2,4)\n",
    "        a = 2\n",
    "        v0 = v\n",
    "        #单位时间内位移公式\n",
    "        s =v0*t+0.5*a*(t**2)\n",
    "        #当前位移\n",
    "        current = current+s\n",
    "        tracks.append(round(s))\n",
    "        v = v0+a*t\n",
    "\n",
    "    for i in range(3):\n",
    "        tracks.append(-1)\n",
    "    for i in range(3):\n",
    "        tracks.append(-2)\n",
    "    return tracks\n"
   ],
   "metadata": {
    "collapsed": false,
    "pycharm": {
     "name": "#%%\n",
     "is_executing": false
    }
   }
  },
  {
   "cell_type": "code",
   "execution_count": 3,
   "outputs": [],
   "source": [
    "moved = 0 \n",
    "btn = driver.find_element_by_id(\"dx_captcha_basic_slider_1\")\n",
    "mouse_action = ActionChains(driver).click_and_hold(btn)\n",
    "# mouse_action.move_by_offset(xoffset=0, yoffset=100).perform()\n",
    "time.sleep(0.15)\n",
    "tracks = get_track(126)\n",
    "for i in tracks:\n",
    "    mouse_action.move_by_offset(xoffset=i, yoffset=random.randint(-2,2))\n",
    "    moved = moved + i\n",
    "# 稳定一秒再松开\n",
    "time.sleep(1)\n",
    "mouse_action.release().perform()\n",
    "# mouse_action.move_by_offset(xoffset=random.randint(200, 300), yoffset=random.randint(200, 300)).perform()"
   ],
   "metadata": {
    "collapsed": false,
    "pycharm": {
     "name": "#%% 加速度\n",
     "is_executing": false
    }
   }
  },
  {
   "cell_type": "code",
   "execution_count": 2,
   "outputs": [
    {
     "name": "stdout",
     "text": [
      "6\n",
      "12\n",
      "19\n",
      "25\n",
      "33\n40\n",
      "48\n",
      "53\n",
      "61\n",
      "68\n75\n81\n84\n",
      "87\n89\n",
      "91\n",
      "0\n91\n"
     ],
     "output_type": "stream"
    }
   ],
   "source": [
    "btn = driver.find_element_by_id(\"dx_captcha_basic_slider_1\")\n",
    "mouse_action = ActionChains(driver).click_and_hold(btn)\n",
    "\n",
    "# time.sleep(2)\n",
    "distance = 91\n",
    "moved = 0\n",
    "# mouse_action.move_by_offset(distance, 0).perform()\n",
    "while 1:\n",
    "    if distance - moved > 10:\n",
    "        # 如果距离大于10，就让他移动快一点\n",
    "        span = random.randint(5, 8)\n",
    "        mouse_action.move_by_offset(span, 0)\n",
    "        moved = moved + span\n",
    "        print(moved)\n",
    "        time.sleep(random.uniform(0, 1))\n",
    "\n",
    "    elif distance - moved >= 1 and distance - moved <= 10:\n",
    "        # 快到缺口了，就移动慢一点\n",
    "        span = random.randint(2, 3)\n",
    "        mouse_action.move_by_offset(span, 0)\n",
    "        moved = moved + span\n",
    "        print(moved)\n",
    "        time.sleep(random.uniform(0, 1))\n",
    "\n",
    "    else:\n",
    "        # 滑过头了 滑回来\n",
    "        span = distance - moved\n",
    "        moved = moved + span\n",
    "        print(span)\n",
    "        print(moved)\n",
    "        mouse_action.move_by_offset(span, 0)\n",
    "        time.sleep(random.uniform(0, 1))\n",
    "        break\n",
    "mouse_action.release().perform()"
   ],
   "metadata": {
    "collapsed": false,
    "pycharm": {
     "name": "#%% 原牛牛\n",
     "is_executing": false
    }
   }
  },
  {
   "cell_type": "code",
   "execution_count": 54,
   "outputs": [
    {
     "traceback": [
      "\u001b[1;31m---------------------------------------------------------------------------\u001b[0m",
      "\u001b[1;31mStaleElementReferenceException\u001b[0m            Traceback (most recent call last)",
      "\u001b[1;32m<ipython-input-54-2416cd540193>\u001b[0m in \u001b[0;36m<module>\u001b[1;34m\u001b[0m\n\u001b[1;32m----> 1\u001b[1;33m \u001b[0mmouse_action\u001b[0m\u001b[1;33m.\u001b[0m\u001b[0mmove_by_offset\u001b[0m\u001b[1;33m(\u001b[0m\u001b[1;36m180\u001b[0m\u001b[1;33m,\u001b[0m \u001b[1;36m0\u001b[0m\u001b[1;33m)\u001b[0m\u001b[1;33m.\u001b[0m\u001b[0mperform\u001b[0m\u001b[1;33m(\u001b[0m\u001b[1;33m)\u001b[0m\u001b[1;33m\u001b[0m\u001b[1;33m\u001b[0m\u001b[0m\n\u001b[0m\u001b[0;32m      2\u001b[0m \u001b[1;33m\u001b[0m\u001b[0m\n\u001b[0;32m      3\u001b[0m \u001b[1;33m\u001b[0m\u001b[0m\n",
      "\u001b[1;32mc:\\users\\13164\\appdata\\local\\programs\\python\\python37\\lib\\site-packages\\selenium\\webdriver\\common\\action_chains.py\u001b[0m in \u001b[0;36mperform\u001b[1;34m(self)\u001b[0m\n\u001b[0;32m     78\u001b[0m         \"\"\"\n\u001b[0;32m     79\u001b[0m         \u001b[1;32mif\u001b[0m \u001b[0mself\u001b[0m\u001b[1;33m.\u001b[0m\u001b[0m_driver\u001b[0m\u001b[1;33m.\u001b[0m\u001b[0mw3c\u001b[0m\u001b[1;33m:\u001b[0m\u001b[1;33m\u001b[0m\u001b[1;33m\u001b[0m\u001b[0m\n\u001b[1;32m---> 80\u001b[1;33m             \u001b[0mself\u001b[0m\u001b[1;33m.\u001b[0m\u001b[0mw3c_actions\u001b[0m\u001b[1;33m.\u001b[0m\u001b[0mperform\u001b[0m\u001b[1;33m(\u001b[0m\u001b[1;33m)\u001b[0m\u001b[1;33m\u001b[0m\u001b[1;33m\u001b[0m\u001b[0m\n\u001b[0m\u001b[0;32m     81\u001b[0m         \u001b[1;32melse\u001b[0m\u001b[1;33m:\u001b[0m\u001b[1;33m\u001b[0m\u001b[1;33m\u001b[0m\u001b[0m\n\u001b[0;32m     82\u001b[0m             \u001b[1;32mfor\u001b[0m \u001b[0maction\u001b[0m \u001b[1;32min\u001b[0m \u001b[0mself\u001b[0m\u001b[1;33m.\u001b[0m\u001b[0m_actions\u001b[0m\u001b[1;33m:\u001b[0m\u001b[1;33m\u001b[0m\u001b[1;33m\u001b[0m\u001b[0m\n",
      "\u001b[1;32mc:\\users\\13164\\appdata\\local\\programs\\python\\python37\\lib\\site-packages\\selenium\\webdriver\\common\\actions\\action_builder.py\u001b[0m in \u001b[0;36mperform\u001b[1;34m(self)\u001b[0m\n\u001b[0;32m     74\u001b[0m             \u001b[1;32mif\u001b[0m \u001b[0mencoded\u001b[0m\u001b[1;33m[\u001b[0m\u001b[1;34m'actions'\u001b[0m\u001b[1;33m]\u001b[0m\u001b[1;33m:\u001b[0m\u001b[1;33m\u001b[0m\u001b[1;33m\u001b[0m\u001b[0m\n\u001b[0;32m     75\u001b[0m                 \u001b[0menc\u001b[0m\u001b[1;33m[\u001b[0m\u001b[1;34m\"actions\"\u001b[0m\u001b[1;33m]\u001b[0m\u001b[1;33m.\u001b[0m\u001b[0mappend\u001b[0m\u001b[1;33m(\u001b[0m\u001b[0mencoded\u001b[0m\u001b[1;33m)\u001b[0m\u001b[1;33m\u001b[0m\u001b[1;33m\u001b[0m\u001b[0m\n\u001b[1;32m---> 76\u001b[1;33m         \u001b[0mself\u001b[0m\u001b[1;33m.\u001b[0m\u001b[0mdriver\u001b[0m\u001b[1;33m.\u001b[0m\u001b[0mexecute\u001b[0m\u001b[1;33m(\u001b[0m\u001b[0mCommand\u001b[0m\u001b[1;33m.\u001b[0m\u001b[0mW3C_ACTIONS\u001b[0m\u001b[1;33m,\u001b[0m \u001b[0menc\u001b[0m\u001b[1;33m)\u001b[0m\u001b[1;33m\u001b[0m\u001b[1;33m\u001b[0m\u001b[0m\n\u001b[0m\u001b[0;32m     77\u001b[0m \u001b[1;33m\u001b[0m\u001b[0m\n\u001b[0;32m     78\u001b[0m     \u001b[1;32mdef\u001b[0m \u001b[0mclear_actions\u001b[0m\u001b[1;33m(\u001b[0m\u001b[0mself\u001b[0m\u001b[1;33m)\u001b[0m\u001b[1;33m:\u001b[0m\u001b[1;33m\u001b[0m\u001b[1;33m\u001b[0m\u001b[0m\n",
      "\u001b[1;32mc:\\users\\13164\\appdata\\local\\programs\\python\\python37\\lib\\site-packages\\selenium\\webdriver\\remote\\webdriver.py\u001b[0m in \u001b[0;36mexecute\u001b[1;34m(self, driver_command, params)\u001b[0m\n\u001b[0;32m    319\u001b[0m         \u001b[0mresponse\u001b[0m \u001b[1;33m=\u001b[0m \u001b[0mself\u001b[0m\u001b[1;33m.\u001b[0m\u001b[0mcommand_executor\u001b[0m\u001b[1;33m.\u001b[0m\u001b[0mexecute\u001b[0m\u001b[1;33m(\u001b[0m\u001b[0mdriver_command\u001b[0m\u001b[1;33m,\u001b[0m \u001b[0mparams\u001b[0m\u001b[1;33m)\u001b[0m\u001b[1;33m\u001b[0m\u001b[1;33m\u001b[0m\u001b[0m\n\u001b[0;32m    320\u001b[0m         \u001b[1;32mif\u001b[0m \u001b[0mresponse\u001b[0m\u001b[1;33m:\u001b[0m\u001b[1;33m\u001b[0m\u001b[1;33m\u001b[0m\u001b[0m\n\u001b[1;32m--> 321\u001b[1;33m             \u001b[0mself\u001b[0m\u001b[1;33m.\u001b[0m\u001b[0merror_handler\u001b[0m\u001b[1;33m.\u001b[0m\u001b[0mcheck_response\u001b[0m\u001b[1;33m(\u001b[0m\u001b[0mresponse\u001b[0m\u001b[1;33m)\u001b[0m\u001b[1;33m\u001b[0m\u001b[1;33m\u001b[0m\u001b[0m\n\u001b[0m\u001b[0;32m    322\u001b[0m             response['value'] = self._unwrap_value(\n\u001b[0;32m    323\u001b[0m                 response.get('value', None))\n",
      "\u001b[1;32mc:\\users\\13164\\appdata\\local\\programs\\python\\python37\\lib\\site-packages\\selenium\\webdriver\\remote\\errorhandler.py\u001b[0m in \u001b[0;36mcheck_response\u001b[1;34m(self, response)\u001b[0m\n\u001b[0;32m    240\u001b[0m                 \u001b[0malert_text\u001b[0m \u001b[1;33m=\u001b[0m \u001b[0mvalue\u001b[0m\u001b[1;33m[\u001b[0m\u001b[1;34m'alert'\u001b[0m\u001b[1;33m]\u001b[0m\u001b[1;33m.\u001b[0m\u001b[0mget\u001b[0m\u001b[1;33m(\u001b[0m\u001b[1;34m'text'\u001b[0m\u001b[1;33m)\u001b[0m\u001b[1;33m\u001b[0m\u001b[1;33m\u001b[0m\u001b[0m\n\u001b[0;32m    241\u001b[0m             \u001b[1;32mraise\u001b[0m \u001b[0mexception_class\u001b[0m\u001b[1;33m(\u001b[0m\u001b[0mmessage\u001b[0m\u001b[1;33m,\u001b[0m \u001b[0mscreen\u001b[0m\u001b[1;33m,\u001b[0m \u001b[0mstacktrace\u001b[0m\u001b[1;33m,\u001b[0m \u001b[0malert_text\u001b[0m\u001b[1;33m)\u001b[0m\u001b[1;33m\u001b[0m\u001b[1;33m\u001b[0m\u001b[0m\n\u001b[1;32m--> 242\u001b[1;33m         \u001b[1;32mraise\u001b[0m \u001b[0mexception_class\u001b[0m\u001b[1;33m(\u001b[0m\u001b[0mmessage\u001b[0m\u001b[1;33m,\u001b[0m \u001b[0mscreen\u001b[0m\u001b[1;33m,\u001b[0m \u001b[0mstacktrace\u001b[0m\u001b[1;33m)\u001b[0m\u001b[1;33m\u001b[0m\u001b[1;33m\u001b[0m\u001b[0m\n\u001b[0m\u001b[0;32m    243\u001b[0m \u001b[1;33m\u001b[0m\u001b[0m\n\u001b[0;32m    244\u001b[0m     \u001b[1;32mdef\u001b[0m \u001b[0m_value_or_default\u001b[0m\u001b[1;33m(\u001b[0m\u001b[0mself\u001b[0m\u001b[1;33m,\u001b[0m \u001b[0mobj\u001b[0m\u001b[1;33m,\u001b[0m \u001b[0mkey\u001b[0m\u001b[1;33m,\u001b[0m \u001b[0mdefault\u001b[0m\u001b[1;33m)\u001b[0m\u001b[1;33m:\u001b[0m\u001b[1;33m\u001b[0m\u001b[1;33m\u001b[0m\u001b[0m\n",
      "\u001b[1;31mStaleElementReferenceException\u001b[0m: Message: stale element reference: element is not attached to the page document\n  (Session info: chrome=87.0.4280.88)\n"
     ],
     "ename": "StaleElementReferenceException",
     "evalue": "Message: stale element reference: element is not attached to the page document\n  (Session info: chrome=87.0.4280.88)\n",
     "output_type": "error"
    }
   ],
   "source": [
    "for i in range(10):\n",
    "    mouse_action.move_by_offset(xoffset=random.randint(100, 300), yoffset=random.randint(-100, 100)).perform()\n",
    "    time.sleep(0.5)\n",
    "mouse_action.move_by_offset(180, 0).perform()\n",
    "time.sleep(0.48)\n",
    "mouse_action.release().perform()\n"
   ],
   "metadata": {
    "collapsed": false,
    "pycharm": {
     "name": "#%% 随机移动\n",
     "is_executing": false
    }
   }
  },
  {
   "cell_type": "code",
   "execution_count": 4,
   "outputs": [],
   "source": [
    "btn = driver.find_element_by_id(\"dx_captcha_basic_slider_1\")\n",
    "mouse_action = ActionChains(driver).click_and_hold(btn).perform()\n",
    "# mouse_action.move_by_offset(10, 0).perform()"
   ],
   "metadata": {
    "collapsed": false,
    "pycharm": {
     "name": "#%%\n",
     "is_executing": false
    }
   }
  },
  {
   "cell_type": "code",
   "execution_count": 7,
   "outputs": [],
   "source": [
    "mouse_action.move_by_offset(11, 0)\n",
    "mouse_action.move_by_offset(12, 0)\n",
    "mouse_action.move_by_offset(13, 0)\n",
    "mouse_action.move_by_offset(40, 0)\n",
    "mouse_action.move_by_offset(60, 0)\n",
    "mouse_action.move_by_offset(-30, 0)\n",
    "mouse_action.move_by_offset(4, 0)\n",
    "mouse_action.move_by_offset(35, 0)\n",
    "mouse_action.move_by_offset(22, 0)\n",
    "mouse_action.move_by_offset(-1, 0)\n",
    "mouse_action.release().perform()"
   ],
   "metadata": {
    "collapsed": false,
    "pycharm": {
     "name": "#%%\n",
     "is_executing": false
    }
   }
  },
  {
   "cell_type": "code",
   "execution_count": 89,
   "outputs": [],
   "source": [
    "mouse_action.move_by_offset(12, 0).perform()"
   ],
   "metadata": {
    "collapsed": false,
    "pycharm": {
     "name": "#%%\n",
     "is_executing": false
    }
   }
  },
  {
   "cell_type": "code",
   "execution_count": 90,
   "outputs": [],
   "source": [
    "mouse_action.move_by_offset(13, 0).perform()"
   ],
   "metadata": {
    "collapsed": false,
    "pycharm": {
     "name": "#%%\n",
     "is_executing": false
    }
   }
  },
  {
   "cell_type": "code",
   "execution_count": 91,
   "outputs": [],
   "source": [
    "mouse_action.move_by_offset(-60, 0).perform()"
   ],
   "metadata": {
    "collapsed": false,
    "pycharm": {
     "name": "#%%\n",
     "is_executing": false
    }
   }
  },
  {
   "cell_type": "code",
   "execution_count": 92,
   "outputs": [],
   "source": [
    "mouse_action.move_by_offset(-60, 0).perform()"
   ],
   "metadata": {
    "collapsed": false,
    "pycharm": {
     "name": "#%%\n",
     "is_executing": false
    }
   }
  },
  {
   "cell_type": "code",
   "execution_count": 49,
   "outputs": [
    {
     "traceback": [
      "\u001b[1;31m---------------------------------------------------------------------------\u001b[0m",
      "\u001b[1;31mMoveTargetOutOfBoundsException\u001b[0m            Traceback (most recent call last)",
      "\u001b[1;32m<ipython-input-49-8f1b83f936d4>\u001b[0m in \u001b[0;36m<module>\u001b[1;34m\u001b[0m\n\u001b[0;32m      8\u001b[0m \u001b[1;31m# mouse_action.context_click()\u001b[0m\u001b[1;33m\u001b[0m\u001b[1;33m\u001b[0m\u001b[1;33m\u001b[0m\u001b[0m\n\u001b[0;32m      9\u001b[0m     \u001b[0mtime\u001b[0m\u001b[1;33m.\u001b[0m\u001b[0msleep\u001b[0m\u001b[1;33m(\u001b[0m\u001b[1;36m0.5\u001b[0m\u001b[1;33m)\u001b[0m\u001b[1;33m\u001b[0m\u001b[1;33m\u001b[0m\u001b[0m\n\u001b[1;32m---> 10\u001b[1;33m \u001b[0mmouse_action\u001b[0m\u001b[1;33m.\u001b[0m\u001b[0mmove_by_offset\u001b[0m\u001b[1;33m(\u001b[0m\u001b[0mrandom\u001b[0m\u001b[1;33m.\u001b[0m\u001b[0mrandint\u001b[0m\u001b[1;33m(\u001b[0m\u001b[1;33m-\u001b[0m\u001b[1;36m200\u001b[0m\u001b[1;33m,\u001b[0m \u001b[1;36m200\u001b[0m\u001b[1;33m)\u001b[0m\u001b[1;33m,\u001b[0m \u001b[0mrandom\u001b[0m\u001b[1;33m.\u001b[0m\u001b[0mrandint\u001b[0m\u001b[1;33m(\u001b[0m\u001b[1;33m-\u001b[0m\u001b[1;36m200\u001b[0m\u001b[1;33m,\u001b[0m \u001b[1;36m100\u001b[0m\u001b[1;33m)\u001b[0m\u001b[1;33m)\u001b[0m\u001b[1;33m.\u001b[0m\u001b[0mperform\u001b[0m\u001b[1;33m(\u001b[0m\u001b[1;33m)\u001b[0m\u001b[1;33m\u001b[0m\u001b[1;33m\u001b[0m\u001b[0m\n\u001b[0m\u001b[0;32m     11\u001b[0m \u001b[1;31m# mouse_action.click()\u001b[0m\u001b[1;33m\u001b[0m\u001b[1;33m\u001b[0m\u001b[1;33m\u001b[0m\u001b[0m\n\u001b[0;32m     12\u001b[0m \u001b[1;31m# mouse_action.click(btn).perform()\u001b[0m\u001b[1;33m\u001b[0m\u001b[1;33m\u001b[0m\u001b[1;33m\u001b[0m\u001b[0m\n",
      "\u001b[1;32mc:\\users\\13164\\appdata\\local\\programs\\python\\python37\\lib\\site-packages\\selenium\\webdriver\\common\\action_chains.py\u001b[0m in \u001b[0;36mperform\u001b[1;34m(self)\u001b[0m\n\u001b[0;32m     78\u001b[0m         \"\"\"\n\u001b[0;32m     79\u001b[0m         \u001b[1;32mif\u001b[0m \u001b[0mself\u001b[0m\u001b[1;33m.\u001b[0m\u001b[0m_driver\u001b[0m\u001b[1;33m.\u001b[0m\u001b[0mw3c\u001b[0m\u001b[1;33m:\u001b[0m\u001b[1;33m\u001b[0m\u001b[1;33m\u001b[0m\u001b[0m\n\u001b[1;32m---> 80\u001b[1;33m             \u001b[0mself\u001b[0m\u001b[1;33m.\u001b[0m\u001b[0mw3c_actions\u001b[0m\u001b[1;33m.\u001b[0m\u001b[0mperform\u001b[0m\u001b[1;33m(\u001b[0m\u001b[1;33m)\u001b[0m\u001b[1;33m\u001b[0m\u001b[1;33m\u001b[0m\u001b[0m\n\u001b[0m\u001b[0;32m     81\u001b[0m         \u001b[1;32melse\u001b[0m\u001b[1;33m:\u001b[0m\u001b[1;33m\u001b[0m\u001b[1;33m\u001b[0m\u001b[0m\n\u001b[0;32m     82\u001b[0m             \u001b[1;32mfor\u001b[0m \u001b[0maction\u001b[0m \u001b[1;32min\u001b[0m \u001b[0mself\u001b[0m\u001b[1;33m.\u001b[0m\u001b[0m_actions\u001b[0m\u001b[1;33m:\u001b[0m\u001b[1;33m\u001b[0m\u001b[1;33m\u001b[0m\u001b[0m\n",
      "\u001b[1;32mc:\\users\\13164\\appdata\\local\\programs\\python\\python37\\lib\\site-packages\\selenium\\webdriver\\common\\actions\\action_builder.py\u001b[0m in \u001b[0;36mperform\u001b[1;34m(self)\u001b[0m\n\u001b[0;32m     74\u001b[0m             \u001b[1;32mif\u001b[0m \u001b[0mencoded\u001b[0m\u001b[1;33m[\u001b[0m\u001b[1;34m'actions'\u001b[0m\u001b[1;33m]\u001b[0m\u001b[1;33m:\u001b[0m\u001b[1;33m\u001b[0m\u001b[1;33m\u001b[0m\u001b[0m\n\u001b[0;32m     75\u001b[0m                 \u001b[0menc\u001b[0m\u001b[1;33m[\u001b[0m\u001b[1;34m\"actions\"\u001b[0m\u001b[1;33m]\u001b[0m\u001b[1;33m.\u001b[0m\u001b[0mappend\u001b[0m\u001b[1;33m(\u001b[0m\u001b[0mencoded\u001b[0m\u001b[1;33m)\u001b[0m\u001b[1;33m\u001b[0m\u001b[1;33m\u001b[0m\u001b[0m\n\u001b[1;32m---> 76\u001b[1;33m         \u001b[0mself\u001b[0m\u001b[1;33m.\u001b[0m\u001b[0mdriver\u001b[0m\u001b[1;33m.\u001b[0m\u001b[0mexecute\u001b[0m\u001b[1;33m(\u001b[0m\u001b[0mCommand\u001b[0m\u001b[1;33m.\u001b[0m\u001b[0mW3C_ACTIONS\u001b[0m\u001b[1;33m,\u001b[0m \u001b[0menc\u001b[0m\u001b[1;33m)\u001b[0m\u001b[1;33m\u001b[0m\u001b[1;33m\u001b[0m\u001b[0m\n\u001b[0m\u001b[0;32m     77\u001b[0m \u001b[1;33m\u001b[0m\u001b[0m\n\u001b[0;32m     78\u001b[0m     \u001b[1;32mdef\u001b[0m \u001b[0mclear_actions\u001b[0m\u001b[1;33m(\u001b[0m\u001b[0mself\u001b[0m\u001b[1;33m)\u001b[0m\u001b[1;33m:\u001b[0m\u001b[1;33m\u001b[0m\u001b[1;33m\u001b[0m\u001b[0m\n",
      "\u001b[1;32mc:\\users\\13164\\appdata\\local\\programs\\python\\python37\\lib\\site-packages\\selenium\\webdriver\\remote\\webdriver.py\u001b[0m in \u001b[0;36mexecute\u001b[1;34m(self, driver_command, params)\u001b[0m\n\u001b[0;32m    319\u001b[0m         \u001b[0mresponse\u001b[0m \u001b[1;33m=\u001b[0m \u001b[0mself\u001b[0m\u001b[1;33m.\u001b[0m\u001b[0mcommand_executor\u001b[0m\u001b[1;33m.\u001b[0m\u001b[0mexecute\u001b[0m\u001b[1;33m(\u001b[0m\u001b[0mdriver_command\u001b[0m\u001b[1;33m,\u001b[0m \u001b[0mparams\u001b[0m\u001b[1;33m)\u001b[0m\u001b[1;33m\u001b[0m\u001b[1;33m\u001b[0m\u001b[0m\n\u001b[0;32m    320\u001b[0m         \u001b[1;32mif\u001b[0m \u001b[0mresponse\u001b[0m\u001b[1;33m:\u001b[0m\u001b[1;33m\u001b[0m\u001b[1;33m\u001b[0m\u001b[0m\n\u001b[1;32m--> 321\u001b[1;33m             \u001b[0mself\u001b[0m\u001b[1;33m.\u001b[0m\u001b[0merror_handler\u001b[0m\u001b[1;33m.\u001b[0m\u001b[0mcheck_response\u001b[0m\u001b[1;33m(\u001b[0m\u001b[0mresponse\u001b[0m\u001b[1;33m)\u001b[0m\u001b[1;33m\u001b[0m\u001b[1;33m\u001b[0m\u001b[0m\n\u001b[0m\u001b[0;32m    322\u001b[0m             response['value'] = self._unwrap_value(\n\u001b[0;32m    323\u001b[0m                 response.get('value', None))\n",
      "\u001b[1;32mc:\\users\\13164\\appdata\\local\\programs\\python\\python37\\lib\\site-packages\\selenium\\webdriver\\remote\\errorhandler.py\u001b[0m in \u001b[0;36mcheck_response\u001b[1;34m(self, response)\u001b[0m\n\u001b[0;32m    240\u001b[0m                 \u001b[0malert_text\u001b[0m \u001b[1;33m=\u001b[0m \u001b[0mvalue\u001b[0m\u001b[1;33m[\u001b[0m\u001b[1;34m'alert'\u001b[0m\u001b[1;33m]\u001b[0m\u001b[1;33m.\u001b[0m\u001b[0mget\u001b[0m\u001b[1;33m(\u001b[0m\u001b[1;34m'text'\u001b[0m\u001b[1;33m)\u001b[0m\u001b[1;33m\u001b[0m\u001b[1;33m\u001b[0m\u001b[0m\n\u001b[0;32m    241\u001b[0m             \u001b[1;32mraise\u001b[0m \u001b[0mexception_class\u001b[0m\u001b[1;33m(\u001b[0m\u001b[0mmessage\u001b[0m\u001b[1;33m,\u001b[0m \u001b[0mscreen\u001b[0m\u001b[1;33m,\u001b[0m \u001b[0mstacktrace\u001b[0m\u001b[1;33m,\u001b[0m \u001b[0malert_text\u001b[0m\u001b[1;33m)\u001b[0m\u001b[1;33m\u001b[0m\u001b[1;33m\u001b[0m\u001b[0m\n\u001b[1;32m--> 242\u001b[1;33m         \u001b[1;32mraise\u001b[0m \u001b[0mexception_class\u001b[0m\u001b[1;33m(\u001b[0m\u001b[0mmessage\u001b[0m\u001b[1;33m,\u001b[0m \u001b[0mscreen\u001b[0m\u001b[1;33m,\u001b[0m \u001b[0mstacktrace\u001b[0m\u001b[1;33m)\u001b[0m\u001b[1;33m\u001b[0m\u001b[1;33m\u001b[0m\u001b[0m\n\u001b[0m\u001b[0;32m    243\u001b[0m \u001b[1;33m\u001b[0m\u001b[0m\n\u001b[0;32m    244\u001b[0m     \u001b[1;32mdef\u001b[0m \u001b[0m_value_or_default\u001b[0m\u001b[1;33m(\u001b[0m\u001b[0mself\u001b[0m\u001b[1;33m,\u001b[0m \u001b[0mobj\u001b[0m\u001b[1;33m,\u001b[0m \u001b[0mkey\u001b[0m\u001b[1;33m,\u001b[0m \u001b[0mdefault\u001b[0m\u001b[1;33m)\u001b[0m\u001b[1;33m:\u001b[0m\u001b[1;33m\u001b[0m\u001b[1;33m\u001b[0m\u001b[0m\n",
      "\u001b[1;31mMoveTargetOutOfBoundsException\u001b[0m: Message: move target out of bounds\n  (Session info: chrome=87.0.4280.88)\n"
     ],
     "ename": "MoveTargetOutOfBoundsException",
     "evalue": "Message: move target out of bounds\n  (Session info: chrome=87.0.4280.88)\n",
     "output_type": "error"
    }
   ],
   "source": [
    "btn = driver.find_element_by_id(\"dx_captcha_basic_slider_1\")\n",
    "mouse_action = ActionChains(driver).move_to_element(btn)\n",
    "\n",
    "for i in range(10):\n",
    "    mouse_action.move_by_offset(random.randint(-200, 200), random.randint(-200, 100))\n",
    "# mouse_action.click()\n",
    "# mouse_action.click()\n",
    "# mouse_action.context_click()\n",
    "    time.sleep(0.5)\n",
    "mouse_action.move_by_offset(random.randint(-200, 200), random.randint(-200, 100)).perform()\n",
    "# mouse_action.click()\n",
    "# mouse_action.click(btn).perform()\n",
    "# mouse_action.click()\n",
    "# mouse_action.click_and_hold(btn).perform()\n",
    "# ActionChains(driver).release().perform()\n",
    "\n",
    "# mouse_action = ActionChains(driver).click_and_hold(btn).perform()\n",
    "# offset = 197\n",
    "# move_steps = int(offset/4)\n",
    "# for i in range(0, move_steps):\n",
    "#     # 路程前半部分速度较快\n",
    "#     if i < int(move_steps/2):\n",
    "#         # sleep(random.randint(1, 10) / 500)#\n",
    "#         # 滑块每次向右移动四个像素，鼠标Y坐标在上下5个像素内随机摆动\n",
    "#         mouse_action.move_by_offset(4, random.randint(-5, 5))\n",
    "#     else:\n",
    "#         # 在路程的后半段，越接近终点速度越慢\n",
    "#         # 每次移动之前sleep一段时间，时间为总距离与已移动距离方差的倒数\n",
    "#         seed = 90.0/(pow(move_steps, 2) - pow(i, 2))\n",
    "# #                 time.sleep(seed)\n",
    "#         mouse_action.move_by_offset(4, random.randint(-5, 5))\n",
    "# \n",
    "#     # mouse_action = ActionChains(driver).click_and_hold(btn).perform()\n",
    "# # 到达终点时，左右摆动，假装做调整。\n",
    "# time.sleep(0.1)\n",
    "# mouse_action.move_by_offset(5, random.randint(-5, 5))\n",
    "# time.sleep(0.2)\n",
    "# mouse_action.move_by_offset(-6, random.randint(2,5))\n",
    "# time.sleep(0.5)\n",
    "# # 松开鼠标\n",
    "# mouse_action.release().perform()"
   ],
   "metadata": {
    "collapsed": false,
    "pycharm": {
     "name": "#%%\n",
     "is_executing": false
    }
   }
  },
  {
   "cell_type": "code",
   "execution_count": 21,
   "outputs": [],
   "source": [
    "btn = driver.find_element_by_class_name(\"autohome_wait\")\n",
    "ActionChains(driver).click(btn).perform()\n"
   ],
   "metadata": {
    "collapsed": false,
    "pycharm": {
     "name": "#%%\n",
     "is_executing": false
    }
   }
  },
  {
   "cell_type": "code",
   "execution_count": 23,
   "outputs": [],
   "source": [
    "btn = driver.find_element_by_class_name(\"verify-move-block\")\n",
    "mouse_action = ActionChains(driver).click_and_hold(btn)\n",
    "\n",
    "moved = 0 \n",
    "\n",
    "# mouse_action.move_by_offset(xoffset=0, yoffset=100).perform()\n",
    "time.sleep(0.15)\n",
    "tracks = get_track(178)\n",
    "for i in tracks:\n",
    "    mouse_action.move_by_offset(xoffset=i, yoffset=random.randint(-2,2))\n",
    "    moved = moved + i\n",
    "# 稳定一秒再松开\n",
    "time.sleep(1)\n",
    "mouse_action.release().perform()\n",
    "\n",
    "\n"
   ],
   "metadata": {
    "collapsed": false,
    "pycharm": {
     "name": "#%%\n",
     "is_executing": false
    }
   }
  },
  {
   "cell_type": "code",
   "execution_count": 25,
   "outputs": [],
   "source": [
    "list_ren = [(0, 0), (4, 0), (8, 1), (13, 1), (20, 2), (29, 2), (37, 2), (45, 2), (58, 3), (66, 3), (73, 3), (80, 3), (87, 3), (94, 3), (101, 3), (107, 3), (113, 3), (120, 3), (128, 3), (133, 4), (143, 6), (147, 7), (149, 7), (151, 7), (155, 7), (159, 8), (163, 9), (165, 9), (169, 10), (172, 10), (175, 10), (180, 10), (186, 11), (190, 11), (194, 12), (197, 12), (199, 12), (202, 12), (204, 12), (205, 12), (206, 12), (207, 12), (208, 12), (210, 12), (212, 12), (214, 12), (215, 12), (216, 12), (217, 12), (218, 12), (219, 12), (220, 12), (221, 12), (222, 12), (223, 12), (224, 12), (225, 12), (226, 12), (227, 12), (228, 12), (229, 12)]\n",
    "offset = 198"
   ],
   "metadata": {
    "collapsed": false,
    "pycharm": {
     "name": "#%% 计算人为轨迹\n",
     "is_executing": false
    }
   }
  },
  {
   "cell_type": "code",
   "execution_count": 26,
   "outputs": [
    {
     "name": "stdout",
     "text": [
      "[(0, 0), (3, 0), (6, 0), (11, 0), (17, 1), (25, 1), (31, 1), (38, 1), (50, 2), (57, 2), (63, 2), (69, 2), (75, 2), (81, 2), (87, 2), (92, 2), (97, 2), (103, 2), (110, 2), (114, 3), (123, 5), (127, 6), (128, 6), (130, 6), (134, 6), (137, 6), (140, 7), (142, 7), (146, 8), (148, 8), (151, 8), (155, 8), (160, 9), (164, 9), (167, 10), (170, 10), (172, 10), (174, 10), (176, 10), (177, 10), (178, 10), (178, 10), (179, 10), (181, 10), (183, 10), (185, 10), (185, 10), (186, 10), (187, 10), (188, 10), (189, 10), (190, 10), (191, 10), (191, 10), (192, 10), (193, 10), (194, 10), (195, 10), (196, 10), (197, 10), (198, 10)]\n"
     ],
     "output_type": "stream"
    }
   ],
   "source": [
    "q =  offset / 229\n",
    "list_moni = []\n",
    "for i in list_ren:\n",
    "    x = int(i[0] * q)\n",
    "    y = int(i[1] * q)\n",
    "    list_moni.append((x, y))\n",
    "print(list_moni)\n"
   ],
   "metadata": {
    "collapsed": false,
    "pycharm": {
     "name": "#%%\n",
     "is_executing": false
    }
   }
  },
  {
   "cell_type": "code",
   "execution_count": 27,
   "outputs": [
    {
     "name": "stdout",
     "text": [
      "(0, 0)\n(3, 0)\n(6, 0)\n(11, 0)\n(17, 1)\n(25, 1)\n(31, 1)\n(38, 1)\n(50, 2)\n(57, 2)\n(63, 2)\n(69, 2)\n(75, 2)\n(81, 2)\n(87, 2)\n(92, 2)\n(97, 2)\n(103, 2)\n(110, 2)\n(114, 3)\n(123, 5)\n(127, 6)\n(128, 6)\n(130, 6)\n(134, 6)\n(137, 6)\n(140, 7)\n(142, 7)\n(146, 8)\n(148, 8)\n(151, 8)\n(155, 8)\n(160, 9)\n(164, 9)\n(167, 10)\n(170, 10)\n(172, 10)\n(174, 10)\n(176, 10)\n(177, 10)\n(178, 10)\n(178, 10)\n(179, 10)\n(181, 10)\n(183, 10)\n(185, 10)\n(185, 10)\n(186, 10)\n(187, 10)\n(188, 10)\n(189, 10)\n(190, 10)\n(191, 10)\n(191, 10)\n(192, 10)\n(193, 10)\n(194, 10)\n(195, 10)\n(196, 10)\n(197, 10)\n(198, 10)\n"
     ],
     "output_type": "stream"
    }
   ],
   "source": [
    "btn = driver.find_element_by_id(\"dx_captcha_basic_slider_1\")\n",
    "mouse_action = ActionChains(driver).click_and_hold(btn)\n",
    "movedx = 0\n",
    "movedy = 0 \n",
    "for i in list_moni:\n",
    "    mouse_action.move_by_offset(i[0] - movedx, i[1] - movedy)\n",
    "    print(i)\n",
    "    movedx = i[0]\n",
    "    movedy = i[1]\n",
    "time.sleep(0.48)\n",
    "mouse_action.release().perform()\n",
    "\n"
   ],
   "metadata": {
    "collapsed": false,
    "pycharm": {
     "name": "#%%\n",
     "is_executing": false
    }
   }
  }
 ],
 "metadata": {
  "kernelspec": {
   "display_name": "Python 3",
   "language": "python",
   "name": "python3"
  },
  "language_info": {
   "codemirror_mode": {
    "name": "ipython",
    "version": 2
   },
   "file_extension": ".py",
   "mimetype": "text/x-python",
   "name": "python",
   "nbconvert_exporter": "python",
   "pygments_lexer": "ipython2",
   "version": "2.7.6"
  },
  "pycharm": {
   "stem_cell": {
    "cell_type": "raw",
    "source": [],
    "metadata": {
     "collapsed": false
    }
   }
  }
 },
 "nbformat": 4,
 "nbformat_minor": 0
}