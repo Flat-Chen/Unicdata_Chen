{
 "cells": [
  {
   "cell_type": "code",
   "execution_count": 1,
   "metadata": {
    "collapsed": true,
    "pycharm": {
     "is_executing": false
    }
   },
   "outputs": [
    {
     "name": "stdout",
     "text": [
      "-1103 72 <module 'time' (built-in)>\n-1104 71 <module 'time' (built-in)>\n-1105 71 <module 'time' (built-in)>\n-1106 71 <module 'time' (built-in)>\n",
      "-1107 70 <module 'time' (built-in)>\n-1107 70 <module 'time' (built-in)>\n-1107 70 <module 'time' (built-in)>\n-1107 70 <module 'time' (built-in)>\n",
      "-1107 70 <module 'time' (built-in)>\n-1107 70 <module 'time' (built-in)>\n-1107 70 <module 'time' (built-in)>\n",
      "-1107 70 <module 'time' (built-in)>\n-1107 70 <module 'time' (built-in)>\n-1107 70 <module 'time' (built-in)>\n-1107 70 <module 'time' (built-in)>\n",
      "-1107 70 <module 'time' (built-in)>\n-1107 70 <module 'time' (built-in)>\n-1107 70 <module 'time' (built-in)>\n",
      "-1107 70 <module 'time' (built-in)>\n-1107 70 <module 'time' (built-in)>\n-1107 70 <module 'time' (built-in)>\n-1093 77 <module 'time' (built-in)>\n",
      "-1004 175 <module 'time' (built-in)>\n-935 268 <module 'time' (built-in)>\n-860 391 <module 'time' (built-in)>\n-853 413 <module 'time' (built-in)>\n",
      "-831 447 <module 'time' (built-in)>\n-798 459 <module 'time' (built-in)>\n-800 460 <module 'time' (built-in)>\n-801 460 <module 'time' (built-in)>\n",
      "-801 467 <module 'time' (built-in)>\n-800 475 <module 'time' (built-in)>\n-799 475 <module 'time' (built-in)>\n-796 479 <module 'time' (built-in)>\n",
      "-794 480 <module 'time' (built-in)>\n-794 480 <module 'time' (built-in)>\n-784 480 <module 'time' (built-in)>\n-756 480 <module 'time' (built-in)>\n",
      "-751 480 <module 'time' (built-in)>\n-739 480 <module 'time' (built-in)>\n-725 480 <module 'time' (built-in)>\n-712 478 <module 'time' (built-in)>\n",
      "-700 478 <module 'time' (built-in)>\n-692 478 <module 'time' (built-in)>\n-685 478 <module 'time' (built-in)>\n-676 476 <module 'time' (built-in)>\n",
      "-670 475 <module 'time' (built-in)>\n-659 475 <module 'time' (built-in)>\n-652 475 <module 'time' (built-in)>\n-650 474 <module 'time' (built-in)>\n",
      "-646 474 <module 'time' (built-in)>\n-643 473 <module 'time' (built-in)>\n-640 472 <module 'time' (built-in)>\n-638 472 <module 'time' (built-in)>\n",
      "-638 472 <module 'time' (built-in)>\n-638 472 <module 'time' (built-in)>\n-638 472 <module 'time' (built-in)>\n-638 472 <module 'time' (built-in)>\n",
      "-638 472 <module 'time' (built-in)>\n-638 472 <module 'time' (built-in)>\n-638 472 <module 'time' (built-in)>\n-638 471 <module 'time' (built-in)>\n",
      "-638 471 <module 'time' (built-in)>\n-633 471 <module 'time' (built-in)>\n-614 474 <module 'time' (built-in)>\n-616 476 <module 'time' (built-in)>\n",
      "-616 476 <module 'time' (built-in)>\n-572 459 <module 'time' (built-in)>\n-122 454 <module 'time' (built-in)>\n241 478 <module 'time' (built-in)>\n",
      "242 478 <module 'time' (built-in)>\n242 478 <module 'time' (built-in)>\n281 474 <module 'time' (built-in)>\n444 495 <module 'time' (built-in)>\n",
      "504 504 <module 'time' (built-in)>\n505 504 <module 'time' (built-in)>\n508 504 <module 'time' (built-in)>\n508 504 <module 'time' (built-in)>\n",
      "508 504 <module 'time' (built-in)>\n508 504 <module 'time' (built-in)>\n508 504 <module 'time' (built-in)>\n508 504 <module 'time' (built-in)>\n",
      "508 504 <module 'time' (built-in)>\n508 504 <module 'time' (built-in)>\n508 504 <module 'time' (built-in)>\n508 504 <module 'time' (built-in)>\n",
      "508 504 <module 'time' (built-in)>\n508 504 <module 'time' (built-in)>\n515 504 <module 'time' (built-in)>\n561 511 <module 'time' (built-in)>\n",
      "648 529 <module 'time' (built-in)>\n695 533 <module 'time' (built-in)>\n720 533 <module 'time' (built-in)>\n716 533 <module 'time' (built-in)>\n",
      "716 533 <module 'time' (built-in)>\n716 533 <module 'time' (built-in)>\n713 530 <module 'time' (built-in)>\n713 529 <module 'time' (built-in)>\n",
      "713 529 <module 'time' (built-in)>\n713 529 <module 'time' (built-in)>\n713 529 <module 'time' (built-in)>\n734 529 <module 'time' (built-in)>\n",
      "749 527 <module 'time' (built-in)>\n774 521 <module 'time' (built-in)>\n850 520 <module 'time' (built-in)>\n1167 520 <module 'time' (built-in)>\n",
      "1522 520 <module 'time' (built-in)>\n1567 520 <module 'time' (built-in)>\n1567 520 <module 'time' (built-in)>\n1572 517 <module 'time' (built-in)>\n",
      "1578 514 <module 'time' (built-in)>\n1584 509 <module 'time' (built-in)>\n1584 509 <module 'time' (built-in)>\n1584 509 <module 'time' (built-in)>\n",
      "1584 509 <module 'time' (built-in)>\n1584 509 <module 'time' (built-in)>\n1584 509 <module 'time' (built-in)>\n1584 509 <module 'time' (built-in)>\n",
      "1584 509 <module 'time' (built-in)>\n1584 509 <module 'time' (built-in)>\n1584 509 <module 'time' (built-in)>\n1584 509 <module 'time' (built-in)>\n",
      "1584 509 <module 'time' (built-in)>\n1584 509 <module 'time' (built-in)>\n1587 509 <module 'time' (built-in)>\n1587 509 <module 'time' (built-in)>\n",
      "1587 509 <module 'time' (built-in)>\n1587 509 <module 'time' (built-in)>\n1588 509 <module 'time' (built-in)>\n1589 509 <module 'time' (built-in)>\n",
      "1598 507 <module 'time' (built-in)>\n1598 507 <module 'time' (built-in)>\n1598 507 <module 'time' (built-in)>\n1598 507 <module 'time' (built-in)>\n",
      "1598 507 <module 'time' (built-in)>\n1598 507 <module 'time' (built-in)>\n1615 492 <module 'time' (built-in)>\n1636 486 <module 'time' (built-in)>\n",
      "1627 485 <module 'time' (built-in)>\n1626 485 <module 'time' (built-in)>\n1613 485 <module 'time' (built-in)>\n1587 489 <module 'time' (built-in)>\n",
      "1590 487 <module 'time' (built-in)>\n1593 484 <module 'time' (built-in)>\n1623 465 <module 'time' (built-in)>\n1644 451 <module 'time' (built-in)>\n",
      "1638 451 <module 'time' (built-in)>\n1635 450 <module 'time' (built-in)>\n1673 432 <module 'time' (built-in)>\n1741 360 <module 'time' (built-in)>\n",
      "1774 277 <module 'time' (built-in)>\n1795 240 <module 'time' (built-in)>\n1807 223 <module 'time' (built-in)>\n1835 208 <module 'time' (built-in)>\n",
      "1863 192 <module 'time' (built-in)>\n1869 180 <module 'time' (built-in)>\n1876 171 <module 'time' (built-in)>\n1881 168 <module 'time' (built-in)>\n",
      "1885 166 <module 'time' (built-in)>\n1888 166 <module 'time' (built-in)>\n1891 166 <module 'time' (built-in)>\n1893 166 <module 'time' (built-in)>\n",
      "1893 166 <module 'time' (built-in)>\n1894 166 <module 'time' (built-in)>\n1894 166 <module 'time' (built-in)>\n1893 168 <module 'time' (built-in)>\n",
      "1890 187 <module 'time' (built-in)>\n1891 217 <module 'time' (built-in)>\n1893 247 <module 'time' (built-in)>\n1893 283 <module 'time' (built-in)>\n",
      "1893 326 <module 'time' (built-in)>\n1893 362 <module 'time' (built-in)>\n1891 387 <module 'time' (built-in)>\n1887 411 <module 'time' (built-in)>\n",
      "1883 442 <module 'time' (built-in)>\n1882 471 <module 'time' (built-in)>\n1882 489 <module 'time' (built-in)>\n1879 507 <module 'time' (built-in)>\n",
      "1876 522 <module 'time' (built-in)>\n1875 534 <module 'time' (built-in)>\n1874 542 <module 'time' (built-in)>\n1874 550 <module 'time' (built-in)>\n",
      "1873 558 <module 'time' (built-in)>\n1871 569 <module 'time' (built-in)>\n1870 574 <module 'time' (built-in)>\n1870 577 <module 'time' (built-in)>\n",
      "1870 577 <module 'time' (built-in)>\n1870 577 <module 'time' (built-in)>\n1869 580 <module 'time' (built-in)>\n1869 581 <module 'time' (built-in)>\n",
      "1869 581 <module 'time' (built-in)>\n1869 582 <module 'time' (built-in)>\n1869 584 <module 'time' (built-in)>\n1869 585 <module 'time' (built-in)>\n",
      "1868 588 <module 'time' (built-in)>\n1868 588 <module 'time' (built-in)>\n1868 590 <module 'time' (built-in)>\n1868 594 <module 'time' (built-in)>\n",
      "1868 596 <module 'time' (built-in)>\n1868 596 <module 'time' (built-in)>\n"
     ],
     "output_type": "stream"
    },
    {
     "data": {
      "text/plain": "<Figure size 432x288 with 1 Axes>",
      "image/png": "[encoded data removed]"
     },
     "metadata": {
      "needs_background": "light"
     },
     "output_type": "display_data"
    }
   ],
   "source": [
    "import pyautogui as pag\n",
    "import matplotlib.pyplot as plt\n",
    "import  os\n",
    "import  time\n",
    "import pyautogui as pag\n",
    "i = 0\n",
    "xs , ys  = [] , []\n",
    "while i < 200:\n",
    "    x,y = pag.position()   #获取当前鼠标的位置\n",
    "    xs.append(x);ys.append(y)\n",
    "    time.sleep(0.05);print(x,y,time)\n",
    "    i = i + 1\n",
    "\n",
    "\n",
    "\n",
    "plt.xlabel('x')\n",
    "plt.ylabel('y')\n",
    "plt.title('the mouse log')\n",
    "#plt.plot(xs,ys) #轨迹图\n",
    "plt.scatter(xs,ys) #散点图\n",
    "#plt.hist(xs) #直方图\n",
    "plt.show()\n"
   ]
  }
 ],
 "metadata": {
  "kernelspec": {
   "display_name": "Python 3",
   "language": "python",
   "name": "python3"
  },
  "language_info": {
   "codemirror_mode": {
    "name": "ipython",
    "version": 2
   },
   "file_extension": ".py",
   "mimetype": "text/x-python",
   "name": "python",
   "nbconvert_exporter": "python",
   "pygments_lexer": "ipython2",
   "version": "2.7.6"
  },
  "pycharm": {
   "stem_cell": {
    "cell_type": "raw",
    "source": [],
    "metadata": {
     "collapsed": false
    }
   }
  }
 },
 "nbformat": 4,
 "nbformat_minor": 0
}