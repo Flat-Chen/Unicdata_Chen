{
 "cells": [
  {
   "cell_type": "code",
   "execution_count": 2,
   "metadata": {
    "collapsed": true,
    "pycharm": {
     "is_executing": false
    }
   },
   "outputs": [],
   "source": [
    "import random\n",
    "import time\n",
    "import pymongo\n",
    "import requests\n",
    "from selenium.webdriver import Chrome, ActionChains\n",
    "from selenium.webdriver.chrome.options import Options\n",
    "from lxml import etree\n",
    "import cv2\n",
    "import numpy as np\n",
    "from matplotlib import pyplot as plt\n",
    "import pandas as pd\n",
    "from matplotlib import font_manager\n",
    "import random\n"
   ]
  },
  {
   "cell_type": "code",
   "execution_count": 3,
   "outputs": [],
   "source": [
    "def getProxy():\n",
    "    s = requests.session()\n",
    "    s.keep_alive = False\n",
    "    url_list = ['http://192.168.2.120:5000']\n",
    "    url = url_list[0]\n",
    "    headers = {\n",
    "        'Connection': 'close',\n",
    "    }\n",
    "    proxy = s.get(url, headers=headers, auth=('admin', 'zd123456')).text[0:-6]\n",
    "    return proxy"
   ],
   "metadata": {
    "collapsed": false,
    "pycharm": {
     "name": "#%%\n",
     "is_executing": false
    }
   }
  },
  {
   "cell_type": "code",
   "execution_count": 4,
   "outputs": [],
   "source": [
    "def start_driver(url):\n",
    "    chrome_options = Options()\n",
    "    # chrome_options.add_argument(\"--headless\")\n",
    "    # ip = getProxy()\n",
    "    # ip = '81.68.214.148:16128'\n",
    "    ip = '192.168.1.92:8100'\n",
    "    chrome_options.add_argument(('--proxy-server=' + ip))\n",
    "    chrome_options.add_argument('user-agent=Mozilla/5.0 (Macintosh; Intel Mac OS X 10_15_7) AppleWebKit/537.36 (KHTML, like Gecko) Chrome/86.0.4240.198 Safari/537.36')\n",
    "    \n",
    "    driver = Chrome(options=chrome_options)\n",
    "    \n",
    "    with open('stealth.min.js') as f:\n",
    "        js = f.read()\n",
    "    \n",
    "    driver.execute_cdp_cmd(\"Page.addScriptToEvaluateOnNewDocument\", {\n",
    "      \"source\": js\n",
    "    })\n",
    "    \n",
    "    # #在网页上加鼠标的移动轨迹显示\n",
    "    # driver.execute_cdp_cmd(\"Page.addScriptToEvaluateOnNewDocument\", {\n",
    "    #   \"source\": '''window.onmousemove = function(event){\n",
    "    #             var nDiv = document.createElement('div')  //创建新的div\n",
    "    #             var e = event || window.event   //获取事件对象\n",
    "    #             //设置div的样式(红色小圆点)和位置(鼠标当前位置)\n",
    "    #             nDiv.style.cssText = \"position:absolute; width:5px; height:5px; background-color:red; border-radius:50%\"   \n",
    "    #             nDiv.style.left = e.pageX + \"px\"\n",
    "    #             nDiv.style.top = e.pageY + \"px\"\n",
    "    #             //把创建好的div添加到body里面\n",
    "    #             document.body.appendChild(nDiv)\n",
    "    # \n",
    "    #             //延迟定时器实现一秒后删除效果\n",
    "    #             setTimeout(function(){\n",
    "    #                 nDiv.remove();\n",
    "    #             },1000)\n",
    "    #         }'''\n",
    "    # })\n",
    "    \n",
    "    driver.get(url)\n",
    "    return driver"
   ],
   "metadata": {
    "collapsed": false,
    "pycharm": {
     "name": "#%%\n",
     "is_executing": false
    }
   }
  },
  {
   "cell_type": "code",
   "execution_count": 5,
   "outputs": [],
   "source": [
    "def get_yzm(driver):\n",
    "    html = etree.HTML(driver.page_source)\n",
    "    slider = html.xpath('//div[@id=\"dx_captcha_basic_sub-slider_1\"]/img/@src')[0]\n",
    "    # print(slider)\n",
    "    response = requests.get(slider)\n",
    "    with open('slider.png','wb') as f:\n",
    "        f.write(response.content)\n",
    "    f.close()\n",
    "    \n",
    "    ele = driver.find_element_by_id('dx_captcha_basic_bg_1')\n",
    "    ele.screenshot('yzm.png') "
   ],
   "metadata": {
    "collapsed": false,
    "pycharm": {
     "name": "#%%\n",
     "is_executing": false
    }
   }
  },
  {
   "cell_type": "code",
   "execution_count": 6,
   "outputs": [],
   "source": [
    "def run():\n",
    "    \n",
    "    # parameter to seperate template area from find temple area\n",
    "    cropcol = 60\n",
    "    \n",
    "    # path2files = '/home/junyi/R/RPA/yolo/c3/'\n",
    "    target_rgb_raw = cv2.imread('yzm.png')\n",
    "    target_rgb = target_rgb_raw[:,:cropcol,:]\n",
    "    template_gray = cv2.imread('slider.png', 0)\n",
    "\n",
    "    \n",
    "    # PART1 - find y area where figures are located, in order to crop out unnecessary parts\n",
    "    \n",
    "    # target: find green area with mask filter\n",
    "    hsv = cv2.cvtColor(target_rgb, cv2.COLOR_BGR2HSV)\n",
    "    lower_green = np.array([50,60,60])\n",
    "    upper_green = np.array([90,255,255])\n",
    "    mask = cv2.inRange(hsv, lower_green, upper_green)\n",
    "    \n",
    "    # target: do erode+dilate in order to delete noise\n",
    "    \n",
    "    # first try erode+dilate on 3x3\n",
    "    kernel = np.ones((3,3),np.uint8)\n",
    "    maskm = cv2.morphologyEx(mask, cv2.MORPH_OPEN, kernel)\n",
    "    \n",
    "    # if first fail, second try erode+dilate on 1x1\n",
    "    if np.min(np.where(maskm.sum(1)>0))>=118 : \n",
    "        kernel = np.ones((1,1),np.uint8)\n",
    "        maskm = cv2.morphologyEx(mask, cv2.MORPH_OPEN, kernel)\n",
    "    \n",
    "    # if second fail, do not run any erode+dilate\n",
    "    if np.min(np.where(maskm.sum(1)>0))>=118 : \n",
    "        maskm = mask\n",
    "\n",
    "\n",
    "\n",
    "    # define y area where figures are located\n",
    "    index_step = 10\n",
    "    top_index = np.min(np.where(maskm.sum(1)>0)) - index_step\n",
    "    bot_index = top_index + index_step + index_step + 40 \n",
    "\n",
    "\n",
    "\n",
    "    # PART2 - clean template \n",
    "    \n",
    "    ret, template_threshed = cv2.threshold(template_gray, 70, 250, cv2.THRESH_BINARY)\n",
    "    contour,hier = cv2.findContours(template_threshed,cv2.RETR_CCOMP,cv2.CHAIN_APPROX_SIMPLE)\n",
    "    for cnt in contour:\n",
    "        cv2.drawContours(template_threshed,[cnt],0,255,-1)\n",
    "    template_gray0 = template_gray*(template_threshed/255).astype(np.uint8)\n",
    "    xvals  = np.where(template_gray0.any(axis=0))\n",
    "    xvals1 = max(0,np.min(xvals)-5)\n",
    "    xvals2 = np.max(xvals)+5\n",
    "    yvals  = np.where(template_gray0.any(axis=1))\n",
    "    yvals1 = max(0,np.min(yvals)-5)\n",
    "    yvals2 = np.max(yvals)+5\n",
    "    template_gray01 = template_gray0[yvals1:yvals2,xvals1:xvals2]\n",
    "\n",
    "    template_gray2 = np.delete (template_gray01, np.where(~template_gray01.any(axis=1)), axis=0)\n",
    "    template_gray2 = np.delete (template_gray2, np.where(~template_gray2.any(axis=0)), axis=1)\n",
    "    template_gray2 =  cv2.resize(template_gray2, (40,40)).astype(np.uint8)\n",
    "    template_gray1 = template_gray2.copy()\n",
    "    template_gray2[template_gray2>0]=255\n",
    "    w, h = template_gray2.shape[::-1]\n",
    "    edges = cv2.Canny(template_gray2,50,150,apertureSize = 3)\n",
    "\n",
    "    template_gray01[template_gray01>0]=255\n",
    "    edges1 = cv2.Canny(template_gray01,50,150,apertureSize = 3)\n",
    "    edges1 = np.delete (edges1, np.where(~edges1.any(axis=1)), axis=0)\n",
    "    edges1 = np.delete (edges1, np.where(~edges1.any(axis=0)), axis=1)\n",
    "    edges1 =  cv2.resize(edges1, (40,40)).astype(np.uint8)\n",
    "    edges1[edges1>0] = 255\n",
    "\n",
    "\n",
    "    # PART3 - clean crop out target\n",
    "    \n",
    "    # crop out unnecessary parts and apply threshold functions\n",
    "    target_rgb = target_rgb_raw[top_index:bot_index,cropcol:,:]\n",
    "    target_gray = cv2.cvtColor(target_rgb, cv2.COLOR_BGR2GRAY)\n",
    "    ret, threshed0 = cv2.threshold(target_gray, 50, 255, cv2.THRESH_TOZERO)\n",
    "    ret, threshed0 = cv2.threshold(threshed0, 55, 60, cv2.THRESH_TOZERO)\n",
    "    thresh = cv2.adaptiveThreshold(threshed0, 255, cv2.ADAPTIVE_THRESH_MEAN_C, cv2.THRESH_BINARY, 21, 6)\n",
    "\n",
    "\n",
    "    # PART4 - match target contours with template contours\n",
    "    df = pd.DataFrame()\n",
    "    \n",
    "    # run 4 models \n",
    "    res1 = cv2.matchTemplate(thresh, edges, cv2.TM_CCOEFF)\n",
    "    min_val, max_val, min_loc, max_loc = cv2.minMaxLoc(res1)\n",
    "    df = df.append(pd.Series([min_val]+list(min_loc)), ignore_index=True)\n",
    "    df = df.append(pd.Series([max_val]+list(max_loc)), ignore_index=True)\n",
    "\n",
    "    res2 = cv2.matchTemplate(thresh, edges1, cv2.TM_CCOEFF)\n",
    "    min_val, max_val, min_loc, max_loc = cv2.minMaxLoc(res2)\n",
    "    df = df.append(pd.Series([min_val]+list(min_loc)), ignore_index=True)\n",
    "    df = df.append(pd.Series([max_val]+list(max_loc)), ignore_index=True)\n",
    "\n",
    "    res2 = cv2.matchTemplate(threshed0, edges, cv2.TM_CCOEFF)\n",
    "    min_val, max_val, min_loc, max_loc = cv2.minMaxLoc(res2)\n",
    "    df = df.append(pd.Series([min_val]+list(min_loc)), ignore_index=True)\n",
    "    df = df.append(pd.Series([max_val]+list(max_loc)), ignore_index=True)\n",
    "\n",
    "    res2 = cv2.matchTemplate(threshed0, edges1, cv2.TM_CCOEFF)\n",
    "    min_val, max_val, min_loc, max_loc = cv2.minMaxLoc(res2)\n",
    "    df = df.append(pd.Series([min_val]+list(min_loc)), ignore_index=True)\n",
    "    df = df.append(pd.Series([max_val]+list(max_loc)), ignore_index=True)\n",
    "\n",
    "\n",
    "    # select top result based on correlation coef and topleft point location\n",
    "    df.columns = ['coef','x','y']\n",
    "    df['coef_abs'] = df.coef.abs()\n",
    "    \n",
    "    if (df.y>0).sum():\n",
    "        df = df[df.y>0]\n",
    "    if (df.y>7).sum():\n",
    "        df = df[df.y>7]\n",
    "    if (df.x>0).sum():\n",
    "        df = df[df.x>0]\n",
    "    if (df.y<18).sum():\n",
    "        df = df[df.y<18]\n",
    "    \n",
    "    \n",
    "    df = df.sort_values(by=['coef_abs'], ascending=False)\n",
    "    top_left = (df.iloc[0,:].values[1:3])\n",
    "    top_left = tuple(np.int16(top_left))\n",
    "    distance = top_left[0]\n",
    "    \n",
    "    # plot debug\n",
    "    bottom_right = (top_left[0] + w, top_left[1] + h)\n",
    "    cv2.rectangle(target_gray,top_left, bottom_right, 255, 2)\n",
    "    x = [distance  +(w/2)]\n",
    "    plt.subplot(211),plt.imshow(template_gray)\n",
    "    plt.subplot(212),plt.imshow(target_gray),plt.plot(x, 30, '*', linewidth=5000, color='firebrick')\n",
    "    plt.show() \n",
    "    print(df)\n",
    "    \n",
    "    return(distance + 45)"
   ],
   "metadata": {
    "collapsed": false,
    "pycharm": {
     "name": "#%%\n",
     "is_executing": false
    }
   }
  },
  {
   "cell_type": "code",
   "execution_count": 7,
   "outputs": [],
   "source": [
    "def get_removing(run):\n",
    "    list_ren1 = [(0, 0), (4, 0), (8, 1), (13, 1), (20, 2), (29, 2), (37, 2), (45, 2), (58, 3), (66, 3), (73, 3), (80, 3), (87, 3), (94, 3), (101, 3), (107, 3), (113, 3), (120, 3), (128, 3), (133, 4), (143, 6), (147, 7), (149, 7), (151, 7), (155, 7), (159, 8), (163, 9), (165, 9), (169, 10), (172, 10), (175, 10), (180, 10), (186, 11), (190, 11), (194, 12), (197, 12), (199, 12), (202, 12), (204, 12), (205, 12), (206, 12), (207, 12), (208, 12), (210, 12), (212, 12), (214, 12), (215, 12), (216, 12), (217, 12), (218, 12), (219, 12), (220, 12), (221, 12), (222, 12), (223, 12), (224, 12), (225, 12), (226, 12), (227, 12), (228, 12), (229, 12)]\n",
    "    list_ren2 = [(0, 0), (3, 0), (10, 0), (14, 1), (18, 1), (25, 2), (28, 2), (29, 2), (30, 2), (31, 2), (32, 3), (34, 3), (35, 3), (37, 3), (40, 3), (41, 3), (48, 3), (51, 3), (53, 3), (54, 3), (55, 4), (56, 4), (57, 4), (58, 4), (60, 4), (63, 4), (66, 4), (67, 4), (69, 4), (70, 4), (72, 4), (75, 4), (76, 4), (79, 4), (80, 4), (82, 4), (85, 4), (90, 4), (96, 4), (100, 4), (101, 4), (102, 4), (106, 4), (108, 4), (109, 4), (110, 5), (112, 5), (115, 5), (117, 5), (120, 5), (123, 6), (126, 6), (129, 7), (131, 7), (132, 7), (133, 7), (134, 7), (136, 7), (137, 7), (139, 7), (141, 7), (143, 7), (145, 7), (148, 7), (149, 7), (151, 7), (152, 7), (153, 7), (154, 7), (155, 7), (157, 7), (160, 7), (162, 7), (163, 7), (166, 7), (170, 7), (174, 7), (175, 7), (176, 7), (177, 7), (178, 7), (179, 7), (180, 7), (181, 7), (182, 7), (183, 7), (184, 7), (185, 7), (186, 7), (187, 7), (188, 7), (189, 7), (190, 6), (191, 6), (192, 6)]\n",
    "    list_ren3 = [(0, 0), (7, 0), (25, 0), (49, 0), (71, 0), (89, 0), (109, 0), (122, 1), (138, 2), (153, 5), (168, 6), (183, 6), (200, 7), (216, 8), (226, 8), (231, 10), (233, 10), (236, 10), (239, 10), (242, 10), (243, 10), (245, 10), (246, 9), (247, 9), (248, 8), (250, 8), (251, 8), (252, 8), (255, 8), (256, 8), (259, 7), (261, 7), (261, 6)]\n",
    "    list_ren4 = [(0, 0), (2, 0), (3, 0), (5, 0), (6, 0), (8, 0), (9, 0), (11, 0), (12, 0), (13, 0), (14, 0), (15, 0), (21, 0), (28, 0), (34, 0), (37, 0), (40, 0), (46, 0), (49, 0), (53, 0), (57, 0), (61, 0), (65, 0), (70, 0), (74, 1), (77, 1), (79, 1), (80, 1), (82, 1), (84, 1), (87, 1), (90, 1), (93, 3), (97, 4), (98, 4), (99, 4), (100, 4), (101, 4), (103, 4), (105, 4), (106, 5), (107, 5), (110, 5), (112, 5), (113, 5), (114, 5), (115, 5), (117, 5), (119, 5), (121, 5), (122, 5), (123, 5), (124, 5), (125, 5), (128, 5), (129, 5), (131, 5), (134, 6), (135, 6), (136, 6), (137, 6), (137, 7), (139, 7), (141, 7), (144, 8), (147, 8), (149, 9), (150, 9), (151, 10), (153, 10), (155, 10), (157, 11), (160, 11), (161, 11), (163, 11), (167, 13), (169, 13), (171, 13), (173, 13), (174, 13)]\n",
    "    list_ren5 = [(0, 0), (1, 0), (2, 0), (3, 0), (5, 1), (9, 3), (14, 3), (20, 4), (30, 4), (35, 4), (38, 6), (40, 6), (43, 6), (47, 7), (51, 7), (53, 7), (56, 7), (62, 7), (67, 7), (74, 7), (83, 7), (86, 7), (90, 7), (93, 7), (96, 7), (99, 7), (102, 7), (105, 7), (109, 7), (112, 7), (118, 7), (123, 7), (130, 7), (133, 8), (134, 8), (137, 8), (139, 9), (141, 9), (143, 10), (145, 10), (147, 10), (149, 10), (157, 10), (160, 10), (164, 10), (168, 10), (170, 10), (171, 10), (173, 10), (174, 10), (176, 10), (177, 10), (179, 10), (178, 10), (177, 10), (176, 10), (175, 10), (174, 10), (173, 10), (172, 10), (171, 10)]\n",
    "    list_ren = random.choice([list_ren1,list_ren2,list_ren3,list_ren4,list_ren5])\n",
    "    # list_ren = list_ren5\n",
    "    q =  run / list_ren[-1][0]\n",
    "    list_moni = []\n",
    "    for i in list_ren:\n",
    "        x = int(i[0] * q)\n",
    "        y = int(i[1] * q)\n",
    "        list_moni.append((x, y))\n",
    "    return list_moni"
   ],
   "metadata": {
    "collapsed": false,
    "pycharm": {
     "name": "#%%\n",
     "is_executing": false
    }
   }
  },
  {
   "cell_type": "code",
   "execution_count": 8,
   "outputs": [],
   "source": [
    "def move(driver,list_moni):\n",
    "    btn = driver.find_element_by_id(\"dx_captcha_basic_slider_1\")\n",
    "    mouse_action = ActionChains(driver).click_and_hold(btn)\n",
    "    movedx = 0\n",
    "    movedy = 0 \n",
    "    for i in list_moni:\n",
    "        mouse_action.move_by_offset(i[0] - movedx, i[1] - movedy)\n",
    "        movedx = i[0]\n",
    "        movedy = i[1]\n",
    "    time.sleep(0.48)\n",
    "    # mouse_action.move_by_offset(list_moni[-1][0],list_moni[-1][1])\n",
    "    mouse_action.release().perform()"
   ],
   "metadata": {
    "collapsed": false,
    "pycharm": {
     "name": "#%%\n",
     "is_executing": false
    }
   }
  },
  {
   "cell_type": "code",
   "execution_count": 10,
   "outputs": [],
   "source": [
    "forbidden_url = 'https://www.che300.com/forbidden/partner_index?pd=87a38998227cbbc23dcad51cd7f76ab2&r_u=%2Fpartner%2Fresult.php%3Fprov%3D22%26city%3D22%26brand%3D30%26series%3D386%26model%3D21359%26registerDate%3D2014-1%26mileAge%3D13.17%26intention%3D0%26partnerId%3Ddouyin%26unit%3D1%26sn%3D93a15125acc736ab66bb791a1e37ae1a%26sld%3Dcd%2F'\n",
    "url = 'https://www.che300.com/partner/result.php?prov=9&city=9&brand=9&series=2233&model=22414&registerDate=2017-1&mileAge=8&intention=0&partnerId=ynhcj&unit=1&sn=624e150569cc97df95e6c2de9fcee043&sld=cc'\n",
    "for i in range(1):\n",
    "    try:\n",
    "        driver = start_driver(url)\n",
    "        time.sleep(3)\n",
    "        for i in range(10):\n",
    "            try:\n",
    "                get_yzm(driver)\n",
    "            except:\n",
    "                print('代理过慢，验证码未加载出来')\n",
    "                continue\n",
    "            try:\n",
    "                removing = run()\n",
    "            except ValueError:\n",
    "                print('换一张图片再识别')\n",
    "                flash = driver.find_element_by_id(\"dx_captcha_basic_btn-refresh_1\")\n",
    "                mouse_action = ActionChains(driver).click(flash).perform()\n",
    "                time.sleep(1)\n",
    "                continue\n",
    "            list_moni = get_removing(removing)\n",
    "            move(driver, list_moni)\n",
    "            time.sleep(5)\n",
    "            if '价格区间分布' in driver.page_source:\n",
    "                print('成功！！！')\n",
    "                driver.close()\n",
    "                break\n",
    "        try:\n",
    "            driver.close()\n",
    "        except:\n",
    "            pass\n",
    "    except:\n",
    "        try:\n",
    "            driver.close()\n",
    "        except:\n",
    "            pass\n",
    "        continue\n",
    "    "
   ],
   "metadata": {
    "collapsed": false,
    "pycharm": {
     "name": "#%%\n",
     "is_executing": false
    }
   }
  },
  {
   "cell_type": "code",
   "execution_count": 12,
   "outputs": [
    {
     "name": "stdout",
     "text": [
      "<!DOCTYPE html>\r\n<!--STATUS OK--><html> <head><meta http-equiv=content-type content=text/html;charset=utf-8><meta http-equiv=X-UA-Compatible content=IE=Edge><meta content=always name=referrer><link rel=stylesheet type=text/css href=http://s1.bdstatic.com/r/www/cache/bdorz/baidu.min.css><title>百度一下，你就知道</title></head> <body link=#0000cc> <div id=wrapper> <div id=head> <div class=head_wrapper> <div class=s_form> <div class=s_form_wrapper> <div id=lg> <img hidefocus=true src=//www.baidu.com/img/bd_logo1.png width=270 height=129> </div> <form id=form name=f action=//www.baidu.com/s class=fm> <input type=hidden name=bdorz_come value=1> <input type=hidden name=ie value=utf-8> <input type=hidden name=f value=8> <input type=hidden name=rsv_bp value=1> <input type=hidden name=rsv_idx value=1> <input type=hidden name=tn value=baidu><span class=\"bg s_ipt_wr\"><input id=kw name=wd class=s_ipt value maxlength=255 autocomplete=off autofocus></span><span class=\"bg s_btn_wr\"><input type=submit id=su value=百度一下 class=\"bg s_btn\"></span> </form> </div> </div> <div id=u1> <a href=http://news.baidu.com name=tj_trnews class=mnav>新闻</a> <a href=http://www.hao123.com name=tj_trhao123 class=mnav>hao123</a> <a href=http://map.baidu.com name=tj_trmap class=mnav>地图</a> <a href=http://v.baidu.com name=tj_trvideo class=mnav>视频</a> <a href=http://tieba.baidu.com name=tj_trtieba class=mnav>贴吧</a> <noscript> <a href=http://www.baidu.com/bdorz/login.gif?login&amp;tpl=mn&amp;u=http%3A%2F%2Fwww.baidu.com%2f%3fbdorz_come%3d1 name=tj_login class=lb>登录</a> </noscript> <script>document.write('<a href=\"http://www.baidu.com/bdorz/login.gif?login&tpl=mn&u='+ encodeURIComponent(window.location.href+ (window.location.search === \"\" ? \"?\" : \"&\")+ \"bdorz_come=1\")+ '\" name=\"tj_login\" class=\"lb\">登录</a>');</script> <a href=//www.baidu.com/more/ name=tj_briicon class=bri style=\"display: block;\">更多产品</a> </div> </div> </div> <div id=ftCon> <div id=ftConw> <p id=lh> <a href=http://home.baidu.com>关于百度</a> <a href=http://ir.baidu.com>About Baidu</a> </p> <p id=cp>&copy;2017&nbsp;Baidu&nbsp;<a href=http://www.baidu.com/duty/>使用百度前必读</a>&nbsp; <a href=http://jianyi.baidu.com/ class=cp-feedback>意见反馈</a>&nbsp;京ICP证030173号&nbsp; <img src=//www.baidu.com/img/gs.gif> </p> </div> </div> </div> </body> </html>\r\n\n"
     ],
     "output_type": "stream"
    }
   ],
   "source": [
    "\n"
   ],
   "metadata": {
    "collapsed": false,
    "pycharm": {
     "name": "#%%\n",
     "is_executing": false
    }
   }
  }
 ],
 "metadata": {
  "kernelspec": {
   "display_name": "Python 3",
   "language": "python",
   "name": "python3"
  },
  "language_info": {
   "codemirror_mode": {
    "name": "ipython",
    "version": 2
   },
   "file_extension": ".py",
   "mimetype": "text/x-python",
   "name": "python",
   "nbconvert_exporter": "python",
   "pygments_lexer": "ipython2",
   "version": "2.7.6"
  },
  "pycharm": {
   "stem_cell": {
    "cell_type": "raw",
    "source": [],
    "metadata": {
     "collapsed": false
    }
   }
  }
 },
 "nbformat": 4,
 "nbformat_minor": 0
}