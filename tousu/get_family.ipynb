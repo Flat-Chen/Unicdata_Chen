{
 "cells": [
  {
   "cell_type": "code",
   "execution_count": 7,
   "outputs": [],
   "source": [
    "dict1 = {\"code\":200,\"message\":\"操作成功\",\"data\":{\"factory\":\"上汽大众\",\"brandList\":[{\"list\":[{\"modelList\":[],\"family\":\"朗逸\"},{\"modelList\":[],\"family\":\"途安\"},{\"modelList\":[],\"family\":\"途观\"},{\"modelList\":[],\"family\":\"帕萨特\"},{\"modelList\":[],\"family\":\"途岳\"},{\"modelList\":[],\"family\":\"朗行\"},{\"modelList\":[],\"family\":\"Passat领驭\"},{\"modelList\":[],\"family\":\"Polo\"},{\"modelList\":[],\"family\":\"桑塔纳\"},{\"modelList\":[],\"family\":\"途观L\"},{\"modelList\":[],\"family\":\"桑塔纳志俊\"},{\"modelList\":[],\"family\":\"桑塔纳经典\"},{\"modelList\":[],\"family\":\"朗境\"},{\"modelList\":[],\"family\":\"帕萨特新能源\"},{\"modelList\":[],\"family\":\"凌渡\"},{\"modelList\":[],\"family\":\"途昂X\"},{\"modelList\":[],\"family\":\"途昂\"},{\"modelList\":[],\"family\":\"途铠\"},{\"modelList\":[],\"family\":\"途观L新能源\"},{\"modelList\":[],\"family\":\"辉昂\"},{\"modelList\":[],\"family\":\"桑塔纳·浩纳\"},{\"modelList\":[],\"family\":\"新桑塔纳\"},{\"modelList\":[],\"family\":\"桑塔纳·尚纳\"},{\"modelList\":[],\"family\":\"Cross桑塔纳\"}],\"brand\":\"大众\"},{\"list\":[{\"modelList\":[],\"family\":\"明锐\"},{\"modelList\":[],\"family\":\"Yeti\"},{\"modelList\":[],\"family\":\"晶锐\"},{\"modelList\":[],\"family\":\"昊锐\"},{\"modelList\":[],\"family\":\"柯迪亚克\"},{\"modelList\":[],\"family\":\"昕锐\"},{\"modelList\":[],\"family\":\"昕动\"},{\"modelList\":[],\"family\":\"速派\"},{\"modelList\":[],\"family\":\"柯迪亚克GT\"},{\"modelList\":[],\"family\":\"柯珞克\"},{\"modelList\":[],\"family\":\"柯米克\"}],\"brand\":\"斯柯达\"}]}}\n",
    "\n",
    "dict2 = {\"code\":200,\"message\":\"操作成功\",\"data\":{\"factory\":\"上汽通用\",\"brandList\":[{\"list\":[{\"modelList\":[],\"family\":\"VELITE 6\"},{\"modelList\":[],\"family\":\"别克GL6\"},{\"modelList\":[],\"family\":\"VELITE 5\"},{\"modelList\":[],\"family\":\"别克GL8\"},{\"modelList\":[],\"family\":\"凯越\"},{\"modelList\":[],\"family\":\"君威\"},{\"modelList\":[],\"family\":\"君越\"},{\"modelList\":[],\"family\":\"英朗\"},{\"modelList\":[],\"family\":\"阅朗\"},{\"modelList\":[],\"family\":\"林荫大道\"},{\"modelList\":[],\"family\":\"昂科拉GX\"},{\"modelList\":[],\"family\":\"威朗\"},{\"modelList\":[],\"family\":\"昂科威\"},{\"modelList\":[],\"family\":\"昂科拉\"},{\"modelList\":[],\"family\":\"昂科旗\"},{\"modelList\":[],\"family\":\"荣御\"},{\"modelList\":[],\"family\":\"微蓝\"},{\"modelList\":[],\"family\":\"昂科雷\"}],\"brand\":\"别克\"},{\"list\":[{\"modelList\":[],\"family\":\"乐风\"},{\"modelList\":[],\"family\":\"科鲁兹\"},{\"modelList\":[],\"family\":\"赛欧\"},{\"modelList\":[],\"family\":\"乐骋\"},{\"modelList\":[],\"family\":\"景程\"},{\"modelList\":[],\"family\":\"科帕奇\"},{\"modelList\":[],\"family\":\"迈锐宝XL\"},{\"modelList\":[],\"family\":\"科鲁泽\"},{\"modelList\":[],\"family\":\"创酷\"},{\"modelList\":[],\"family\":\"爱唯欧\"},{\"modelList\":[],\"family\":\"创界\"},{\"modelList\":[],\"family\":\"沃兰多\"},{\"modelList\":[],\"family\":\"乐风RV\"},{\"modelList\":[],\"family\":\"探界者\"},{\"modelList\":[],\"family\":\"迈锐宝\"},{\"modelList\":[],\"family\":\"科沃兹\"}],\"brand\":\"雪佛兰\"},{\"list\":[{\"modelList\":[],\"family\":\"凯迪拉克CT6\"},{\"modelList\":[],\"family\":\"凯迪拉克XT4\"},{\"modelList\":[],\"family\":\"凯迪拉克XT6\"},{\"modelList\":[],\"family\":\"SLS赛威\"},{\"modelList\":[],\"family\":\"凯迪拉克CT5\"},{\"modelList\":[],\"family\":\"凯迪拉克CTS\"},{\"modelList\":[],\"family\":\"凯迪拉克XTS\"},{\"modelList\":[],\"family\":\"凯迪拉克ATS-L\"},{\"modelList\":[],\"family\":\"凯迪拉克XT5\"}],\"brand\":\"凯迪拉克\"}]}}\n",
    "\n",
    "dict3 = {\"code\":200,\"message\":\"操作成功\",\"data\":{\"factory\":\"上汽乘用车\",\"brandList\":[{\"list\":[{\"modelList\":[],\"family\":\"荣威550\"},{\"modelList\":[],\"family\":\"荣威RX5\"},{\"modelList\":[],\"family\":\"荣威e550\"},{\"modelList\":[],\"family\":\"荣威e50\"},{\"modelList\":[],\"family\":\"荣威W5\"},{\"modelList\":[],\"family\":\"荣威MARVEL X\"},{\"modelList\":[],\"family\":\"荣威RX5 MAX\"},{\"modelList\":[],\"family\":\"荣威RX5新能源\"},{\"modelList\":[],\"family\":\"荣威950\"},{\"modelList\":[],\"family\":\"荣威i6\"},{\"modelList\":[],\"family\":\"荣威RX8\"},{\"modelList\":[],\"family\":\"荣威360\"},{\"modelList\":[],\"family\":\"荣威RX3\"},{\"modelList\":[],\"family\":\"荣威350\"},{\"modelList\":[],\"family\":\"荣威750\"},{\"modelList\":[],\"family\":\"Vision-R\"},{\"modelList\":[],\"family\":\"荣威MAX\"},{\"modelList\":[],\"family\":\"荣威ei6\"},{\"modelList\":[],\"family\":\"荣威i5\"},{\"modelList\":[],\"family\":\"荣威Ei5\"},{\"modelList\":[],\"family\":\"荣威e950\"}],\"brand\":\"荣威\"},{\"list\":[{\"modelList\":[],\"family\":\"名爵5\"},{\"modelList\":[],\"family\":\"名爵6\"},{\"modelList\":[],\"family\":\"锐腾\"},{\"modelList\":[],\"family\":\"名爵7\"},{\"modelList\":[],\"family\":\"名爵EZS纯电动\"},{\"modelList\":[],\"family\":\"名爵3\"},{\"modelList\":[],\"family\":\"锐行\"},{\"modelList\":[],\"family\":\"名爵TF\"},{\"modelList\":[],\"family\":\"名爵3SW\"},{\"modelList\":[],\"family\":\"名爵6新能源\"},{\"modelList\":[],\"family\":\"名爵HS\"},{\"modelList\":[],\"family\":\"名爵iGS\"},{\"modelList\":[],\"family\":\"MG&nbspZS\"}],\"brand\":\"名爵\"}]}}\n",
    "\n",
    "dict4 = {\"code\":200,\"message\":\"操作成功\",\"data\":{\"factory\":\"上汽通用五菱\",\"brandList\":[{\"list\":[{\"modelList\":[],\"family\":\"宝骏510\"},{\"modelList\":[],\"family\":\"宝骏610\"},{\"modelList\":[],\"family\":\"宝骏E200\"},{\"modelList\":[],\"family\":\"宝骏310W\"},{\"modelList\":[],\"family\":\"新宝骏RS-5\"},{\"modelList\":[],\"family\":\"宝骏310\"},{\"modelList\":[],\"family\":\"宝骏530\"},{\"modelList\":[],\"family\":\"新宝骏RC-6\"},{\"modelList\":[],\"family\":\"宝骏730\"},{\"modelList\":[],\"family\":\"宝骏360\"},{\"modelList\":[],\"family\":\"宝骏630\"},{\"modelList\":[],\"family\":\"宝骏E100\"},{\"modelList\":[],\"family\":\"宝骏560\"},{\"modelList\":[],\"family\":\"新宝骏RM-5\"}],\"brand\":\"宝骏\"},{\"list\":[{\"modelList\":[],\"family\":\"PN货车\"},{\"modelList\":[],\"family\":\"五菱荣光V\"},{\"modelList\":[],\"family\":\"五菱之光小卡\"},{\"modelList\":[],\"family\":\"五菱荣光小卡\"},{\"modelList\":[],\"family\":\"五菱荣光\"},{\"modelList\":[],\"family\":\"五菱征程\"},{\"modelList\":[],\"family\":\"五菱宏光\"},{\"modelList\":[],\"family\":\"五菱之光\"},{\"modelList\":[],\"family\":\"五菱宏光V\"},{\"modelList\":[],\"family\":\"五菱宏光S3\"},{\"modelList\":[],\"family\":\"五菱荣光新卡\"}],\"brand\":\"五菱汽车\"}]}}\n",
    "\n",
    "dict5 = {\"code\":200,\"message\":\"操作成功\",\"data\":{\"factory\":\"上汽大通\",\"brandList\":[{\"list\":[{\"modelList\":[],\"family\":\"上汽大通G10\"},{\"modelList\":[],\"family\":\"上汽大通D60\"},{\"modelList\":[],\"family\":\"大通EV80\"},{\"modelList\":[],\"family\":\"上汽大通V80\"},{\"modelList\":[],\"family\":\"上汽MAXUS T70\"},{\"modelList\":[],\"family\":\"上汽大通D90\"},{\"modelList\":[],\"family\":\"上汽大通T60\"},{\"modelList\":[],\"family\":\"上汽大通G20\"},{\"modelList\":[],\"family\":\"上汽大通EG10\"},{\"modelList\":[],\"family\":\"上汽大通G50\"},{\"modelList\":[],\"family\":\"上汽大通EG50\"}],\"brand\":\"上汽大通\"}]}}\n",
    "\n",
    "dict6 = {\"code\":200,\"message\":\"操作成功\",\"data\":{\"factory\":\"南京依维柯\",\"brandList\":[{\"list\":[{\"modelList\":[],\"family\":\"快运王\"},{\"modelList\":[],\"family\":\"跃进经典\"},{\"modelList\":[],\"family\":\"依维柯Daily(欧胜)\"},{\"modelList\":[],\"family\":\"依维柯\"},{\"modelList\":[],\"family\":\"依维柯得意\"},{\"modelList\":[],\"family\":\"依维柯Power Daily\"},{\"modelList\":[],\"family\":\"跃进\"},{\"modelList\":[],\"family\":\"红岩金刚\"},{\"modelList\":[],\"family\":\"都灵\"},{\"modelList\":[],\"family\":\"依维柯Ouba\"},{\"modelList\":[],\"family\":\"超越\"},{\"modelList\":[],\"family\":\"跃进轻卡\"},{\"modelList\":[],\"family\":\"跃进货车\"},{\"modelList\":[],\"family\":\"红岩牌\"}],\"brand\":\"依维柯\"}]}}\n",
    "\n",
    "list_all = [dict1, dict2, dict3, dict4, dict5, dict6]\n",
    "\n",
    "dataSource_list = ['315汽车网', '车质网', '汽车消费网', '汽车投诉网']\n"
   ],
   "metadata": {
    "collapsed": false,
    "pycharm": {
     "name": "#%%\n",
     "is_executing": false
    }
   }
  },
  {
   "cell_type": "code",
   "execution_count": 8,
   "outputs": [],
   "source": [
    "brand_item = dict() #key是所有品牌 valve是品牌的查询条件\n",
    "for i in list_all:\n",
    "    factory = i['data']['factory']\n",
    "    brands = i['data']['brandList']\n",
    "    \n",
    "    for brand in brands:\n",
    "        brandname = brand['brand']\n",
    "        family_serch = [] # 查询条件字段[]\n",
    "        for family in brand['list']:\n",
    "            familyname = family['family']\n",
    "            str_find_insert = {\"series\" :{'$regex':f'{familyname}'}}\n",
    "            # print(str_find_insert)\n",
    "            family_serch.append(str_find_insert)\n",
    "        # print(family_serch)\n",
    "        item_family = dict()\n",
    "        item_family[brandname] = family_serch\n",
    "        # print(item_family)\n",
    "        brand_item.update(item_family)       "
   ],
   "metadata": {
    "collapsed": false,
    "pycharm": {
     "name": "#%%\n",
     "is_executing": false
    }
   }
  },
  {
   "cell_type": "code",
   "execution_count": 9,
   "outputs": [
    {
     "name": "stdout",
     "text": [
      "315汽车网 大众 11\n",
      "315汽车网 斯柯达 2\n",
      "315汽车网 别克 3\n",
      "315汽车网 雪佛兰 1\n",
      "315汽车网 凯迪拉克 0\n",
      "315汽车网 荣威 1\n",
      "315汽车网 名爵 0\n",
      "315汽车网 宝骏 1\n",
      "315汽车网 五菱汽车 0\n",
      "315汽车网 上汽大通 0\n",
      "315汽车网 依维柯 0\n",
      "车质网 大众 399\n",
      "车质网 斯柯达 117\n",
      "车质网 别克 201\n",
      "车质网 雪佛兰 82\n",
      "车质网 凯迪拉克 78\n",
      "车质网 荣威 62\n",
      "车质网 名爵 35\n",
      "车质网 宝骏 58\n",
      "车质网 五菱汽车 31\n",
      "车质网 上汽大通 0\n",
      "车质网 依维柯 4\n",
      "汽车消费网 大众 42\n",
      "汽车消费网 斯柯达 21\n",
      "汽车消费网 别克 42\n",
      "汽车消费网 雪佛兰 19\n",
      "汽车消费网 凯迪拉克 13\n",
      "汽车消费网 荣威 15\n",
      "汽车消费网 名爵 7\n",
      "汽车消费网 宝骏 8\n",
      "汽车消费网 五菱汽车 5\n",
      "汽车消费网 上汽大通 0\n",
      "汽车消费网 依维柯 0\n",
      "汽车投诉网 大众 64\n",
      "汽车投诉网 斯柯达 14\n",
      "汽车投诉网 别克 51\n",
      "汽车投诉网 雪佛兰 30\n",
      "汽车投诉网 凯迪拉克 11\n",
      "汽车投诉网 荣威 24\n",
      "汽车投诉网 名爵 6\n",
      "汽车投诉网 宝骏 17\n",
      "汽车投诉网 五菱汽车 4\n",
      "汽车投诉网 上汽大通 0\n",
      "汽车投诉网 依维柯 0\n"
     ],
     "output_type": "stream"
    }
   ],
   "source": [
    "import pandas as pd\n",
    "import pymongo\n",
    "\n",
    "# 连接数据库\n",
    "client = pymongo.MongoClient('192.168.2.149', 27017)\n",
    "db = client['tousu']\n",
    "collection = db['quanwang_tousu']\n",
    "\n",
    "# 数据库查询\n",
    "\n",
    "# 四个网站分别查询\n",
    "for dataSource in dataSource_list:\n",
    "    for key,value in brand_item.items():\n",
    "        serch = { \"$and\" : [{ \"$and\" : [{\"tousu_date\" : { \"$lte\" : \"2020-09-31\" }}, {\"tousu_date\" : { \"$gte\" : \"2020-09-01\" }}, {\"dataSource\" : dataSource}] }, { \"$or\" : value }] }\n",
    "        find_brand = collection.find(serch)\n",
    "        df = pd.DataFrame(list(find_brand))\n",
    "        print(dataSource,key,len(df))\n",
    "        "
   ],
   "metadata": {
    "collapsed": false,
    "pycharm": {
     "name": "#%%\n",
     "is_executing": false
    }
   }
  },
  {
   "cell_type": "code",
   "execution_count": 10,
   "outputs": [
    {
     "name": "stdout",
     "text": [
      "315汽车网 94\n",
      "车质网 5880\n汽车消费网 848\n",
      "汽车投诉网 1188\n"
     ],
     "output_type": "stream"
    }
   ],
   "source": [
    "#全网合计\n",
    "for dataSource in dataSource_list:\n",
    "    quanwang = collection.find({'$and': [{'$and': [{'tousu_date': {'$lte': '2020-09-31'}},{'tousu_date': {'$gte': '2020-09-01'}}, {'dataSource': dataSource}]}]})\n",
    "    heji = pd.DataFrame(list(quanwang))\n",
    "    print(dataSource,len(heji))\n"
   ],
   "metadata": {
    "collapsed": false,
    "pycharm": {
     "name": "#%%\n",
     "is_executing": false
    }
   }
  },
  {
   "cell_type": "code",
   "execution_count": 14,
   "outputs": [
    {
     "name": "stdout",
     "text": [
      "{'大众': [{'series': {'$regex': '朗逸'}}, {'series': {'$regex': '途安'}}, {'series': {'$regex': '途观'}}, {'series': {'$regex': '帕萨特'}}, {'series': {'$regex': '途岳'}}, {'series': {'$regex': '朗行'}}, {'series': {'$regex': 'Passat领驭'}}, {'series': {'$regex': 'Polo'}}, {'series': {'$regex': '桑塔纳'}}, {'series': {'$regex': '途观L'}}, {'series': {'$regex': '桑塔纳志俊'}}, {'series': {'$regex': '桑塔纳经典'}}, {'series': {'$regex': '朗境'}}, {'series': {'$regex': '帕萨特新能源'}}, {'series': {'$regex': '凌渡'}}, {'series': {'$regex': '途昂X'}}, {'series': {'$regex': '途昂'}}, {'series': {'$regex': '途铠'}}, {'series': {'$regex': '途观L新能源'}}, {'series': {'$regex': '辉昂'}}, {'series': {'$regex': '桑塔纳·浩纳'}}, {'series': {'$regex': '新桑塔纳'}}, {'series': {'$regex': '桑塔纳·尚纳'}}, {'series': {'$regex': 'Cross桑塔纳'}}], '斯柯达': [{'series': {'$regex': '明锐'}}, {'series': {'$regex': 'Yeti'}}, {'series': {'$regex': '晶锐'}}, {'series': {'$regex': '昊锐'}}, {'series': {'$regex': '柯迪亚克'}}, {'series': {'$regex': '昕锐'}}, {'series': {'$regex': '昕动'}}, {'series': {'$regex': '速派'}}, {'series': {'$regex': '柯迪亚克GT'}}, {'series': {'$regex': '柯珞克'}}, {'series': {'$regex': '柯米克'}}], '别克': [{'series': {'$regex': 'VELITE 6'}}, {'series': {'$regex': '别克GL6'}}, {'series': {'$regex': 'VELITE 5'}}, {'series': {'$regex': '别克GL8'}}, {'series': {'$regex': '凯越'}}, {'series': {'$regex': '君威'}}, {'series': {'$regex': '君越'}}, {'series': {'$regex': '英朗'}}, {'series': {'$regex': '阅朗'}}, {'series': {'$regex': '林荫大道'}}, {'series': {'$regex': '昂科拉GX'}}, {'series': {'$regex': '威朗'}}, {'series': {'$regex': '昂科威'}}, {'series': {'$regex': '昂科拉'}}, {'series': {'$regex': '昂科旗'}}, {'series': {'$regex': '荣御'}}, {'series': {'$regex': '微蓝'}}, {'series': {'$regex': '昂科雷'}}], '雪佛兰': [{'series': {'$regex': '乐风'}}, {'series': {'$regex': '科鲁兹'}}, {'series': {'$regex': '赛欧'}}, {'series': {'$regex': '乐骋'}}, {'series': {'$regex': '景程'}}, {'series': {'$regex': '科帕奇'}}, {'series': {'$regex': '迈锐宝XL'}}, {'series': {'$regex': '科鲁泽'}}, {'series': {'$regex': '创酷'}}, {'series': {'$regex': '爱唯欧'}}, {'series': {'$regex': '创界'}}, {'series': {'$regex': '沃兰多'}}, {'series': {'$regex': '乐风RV'}}, {'series': {'$regex': '探界者'}}, {'series': {'$regex': '迈锐宝'}}, {'series': {'$regex': '科沃兹'}}], '凯迪拉克': [{'series': {'$regex': '凯迪拉克CT6'}}, {'series': {'$regex': '凯迪拉克XT4'}}, {'series': {'$regex': '凯迪拉克XT6'}}, {'series': {'$regex': 'SLS赛威'}}, {'series': {'$regex': '凯迪拉克CT5'}}, {'series': {'$regex': '凯迪拉克CTS'}}, {'series': {'$regex': '凯迪拉克XTS'}}, {'series': {'$regex': '凯迪拉克ATS-L'}}, {'series': {'$regex': '凯迪拉克XT5'}}], '荣威': [{'series': {'$regex': '荣威550'}}, {'series': {'$regex': '荣威RX5'}}, {'series': {'$regex': '荣威e550'}}, {'series': {'$regex': '荣威e50'}}, {'series': {'$regex': '荣威W5'}}, {'series': {'$regex': '荣威MARVEL X'}}, {'series': {'$regex': '荣威RX5 MAX'}}, {'series': {'$regex': '荣威RX5新能源'}}, {'series': {'$regex': '荣威950'}}, {'series': {'$regex': '荣威i6'}}, {'series': {'$regex': '荣威RX8'}}, {'series': {'$regex': '荣威360'}}, {'series': {'$regex': '荣威RX3'}}, {'series': {'$regex': '荣威350'}}, {'series': {'$regex': '荣威750'}}, {'series': {'$regex': 'Vision-R'}}, {'series': {'$regex': '荣威MAX'}}, {'series': {'$regex': '荣威ei6'}}, {'series': {'$regex': '荣威i5'}}, {'series': {'$regex': '荣威Ei5'}}, {'series': {'$regex': '荣威e950'}}], '名爵': [{'series': {'$regex': '名爵5'}}, {'series': {'$regex': '名爵6'}}, {'series': {'$regex': '锐腾'}}, {'series': {'$regex': '名爵7'}}, {'series': {'$regex': '名爵EZS纯电动'}}, {'series': {'$regex': '名爵3'}}, {'series': {'$regex': '锐行'}}, {'series': {'$regex': '名爵TF'}}, {'series': {'$regex': '名爵3SW'}}, {'series': {'$regex': '名爵6新能源'}}, {'series': {'$regex': '名爵HS'}}, {'series': {'$regex': '名爵iGS'}}, {'series': {'$regex': 'MG&nbspZS'}}], '宝骏': [{'series': {'$regex': '宝骏510'}}, {'series': {'$regex': '宝骏610'}}, {'series': {'$regex': '宝骏E200'}}, {'series': {'$regex': '宝骏310W'}}, {'series': {'$regex': '新宝骏RS-5'}}, {'series': {'$regex': '宝骏310'}}, {'series': {'$regex': '宝骏530'}}, {'series': {'$regex': '新宝骏RC-6'}}, {'series': {'$regex': '宝骏730'}}, {'series': {'$regex': '宝骏360'}}, {'series': {'$regex': '宝骏630'}}, {'series': {'$regex': '宝骏E100'}}, {'series': {'$regex': '宝骏560'}}, {'series': {'$regex': '新宝骏RM-5'}}], '五菱汽车': [{'series': {'$regex': 'PN货车'}}, {'series': {'$regex': '五菱荣光V'}}, {'series': {'$regex': '五菱之光小卡'}}, {'series': {'$regex': '五菱荣光小卡'}}, {'series': {'$regex': '五菱荣光'}}, {'series': {'$regex': '五菱征程'}}, {'series': {'$regex': '五菱宏光'}}, {'series': {'$regex': '五菱之光'}}, {'series': {'$regex': '五菱宏光V'}}, {'series': {'$regex': '五菱宏光S3'}}, {'series': {'$regex': '五菱荣光新卡'}}], '上汽大通': [{'series': {'$regex': '上汽大通G10'}}, {'series': {'$regex': '上汽大通D60'}}, {'series': {'$regex': '大通EV80'}}, {'series': {'$regex': '上汽大通V80'}}, {'series': {'$regex': '上汽MAXUS T70'}}, {'series': {'$regex': '上汽大通D90'}}, {'series': {'$regex': '上汽大通T60'}}, {'series': {'$regex': '上汽大通G20'}}, {'series': {'$regex': '上汽大通EG10'}}, {'series': {'$regex': '上汽大通G50'}}, {'series': {'$regex': '上汽大通EG50'}}], '依维柯': [{'series': {'$regex': '快运王'}}, {'series': {'$regex': '跃进经典'}}, {'series': {'$regex': '依维柯Daily(欧胜)'}}, {'series': {'$regex': '依维柯'}}, {'series': {'$regex': '依维柯得意'}}, {'series': {'$regex': '依维柯Power Daily'}}, {'series': {'$regex': '跃进'}}, {'series': {'$regex': '红岩金刚'}}, {'series': {'$regex': '都灵'}}, {'series': {'$regex': '依维柯Ouba'}}, {'series': {'$regex': '超越'}}, {'series': {'$regex': '跃进轻卡'}}, {'series': {'$regex': '跃进货车'}}, {'series': {'$regex': '红岩牌'}}]}\n"
     ],
     "output_type": "stream"
    },
    {
     "traceback": [
      "\u001b[1;31m---------------------------------------------------------------------------\u001b[0m",
      "\u001b[1;31mKeyError\u001b[0m                                  Traceback (most recent call last)",
      "\u001b[1;32m<ipython-input-14-7f6c26bab37f>\u001b[0m in \u001b[0;36m<module>\u001b[1;34m\u001b[0m\n\u001b[0;32m      1\u001b[0m \u001b[0mprint\u001b[0m\u001b[1;33m(\u001b[0m\u001b[0mbrand_item\u001b[0m\u001b[1;33m)\u001b[0m\u001b[1;33m\u001b[0m\u001b[1;33m\u001b[0m\u001b[0m\n\u001b[1;32m----> 2\u001b[1;33m \u001b[0mrongwei\u001b[0m \u001b[1;33m=\u001b[0m \u001b[0mcollection\u001b[0m\u001b[1;33m.\u001b[0m\u001b[0mfind\u001b[0m\u001b[1;33m(\u001b[0m\u001b[1;33m{\u001b[0m\u001b[1;34m'$and'\u001b[0m\u001b[1;33m:\u001b[0m \u001b[1;33m[\u001b[0m\u001b[1;33m{\u001b[0m\u001b[1;34m'$and'\u001b[0m\u001b[1;33m:\u001b[0m \u001b[1;33m[\u001b[0m\u001b[1;33m{\u001b[0m\u001b[1;34m'tousu_date'\u001b[0m\u001b[1;33m:\u001b[0m \u001b[1;33m{\u001b[0m\u001b[1;34m'$lte'\u001b[0m\u001b[1;33m:\u001b[0m \u001b[1;34m'2020-09-31'\u001b[0m\u001b[1;33m}\u001b[0m\u001b[1;33m}\u001b[0m\u001b[1;33m,\u001b[0m\u001b[1;33m{\u001b[0m\u001b[1;34m'tousu_date'\u001b[0m\u001b[1;33m:\u001b[0m \u001b[1;33m{\u001b[0m\u001b[1;34m'$gte'\u001b[0m\u001b[1;33m:\u001b[0m \u001b[1;34m'2020-09-01'\u001b[0m\u001b[1;33m}\u001b[0m\u001b[1;33m}\u001b[0m\u001b[1;33m,\u001b[0m \u001b[1;33m{\u001b[0m\u001b[1;34m'dataSource'\u001b[0m\u001b[1;33m:\u001b[0m \u001b[0mbrand_item\u001b[0m\u001b[1;33m[\u001b[0m\u001b[1;34m'哈弗'\u001b[0m\u001b[1;33m]\u001b[0m\u001b[1;33m}\u001b[0m\u001b[1;33m]\u001b[0m\u001b[1;33m}\u001b[0m\u001b[1;33m]\u001b[0m\u001b[1;33m}\u001b[0m\u001b[1;33m)\u001b[0m\u001b[1;33m\u001b[0m\u001b[1;33m\u001b[0m\u001b[0m\n\u001b[0m\u001b[0;32m      3\u001b[0m \u001b[0mheji\u001b[0m \u001b[1;33m=\u001b[0m \u001b[0mpd\u001b[0m\u001b[1;33m.\u001b[0m\u001b[0mDataFrame\u001b[0m\u001b[1;33m(\u001b[0m\u001b[0mlist\u001b[0m\u001b[1;33m(\u001b[0m\u001b[0mrongwei\u001b[0m\u001b[1;33m)\u001b[0m\u001b[1;33m)\u001b[0m\u001b[1;33m\u001b[0m\u001b[1;33m\u001b[0m\u001b[0m\n\u001b[0;32m      4\u001b[0m \u001b[0mprint\u001b[0m\u001b[1;33m(\u001b[0m\u001b[0mlen\u001b[0m\u001b[1;33m(\u001b[0m\u001b[0mheji\u001b[0m\u001b[1;33m)\u001b[0m\u001b[1;33m)\u001b[0m\u001b[1;33m\u001b[0m\u001b[1;33m\u001b[0m\u001b[0m\n\u001b[0;32m      5\u001b[0m \u001b[1;33m\u001b[0m\u001b[0m\n",
      "\u001b[1;31mKeyError\u001b[0m: '哈弗'"
     ],
     "ename": "KeyError",
     "evalue": "'哈弗'",
     "output_type": "error"
    }
   ],
   "source": [
    "print(brand_item)\n",
    "rongwei = collection.find({'$and': [{'$and': [{'tousu_date': {'$lte': '2020-09-31'}},{'tousu_date': {'$gte': '2020-09-01'}}, {'dataSource': brand_item['哈弗']}]}]})\n",
    "heji = pd.DataFrame(list(rongwei))\n",
    "print(len(heji))\n"
   ],
   "metadata": {
    "collapsed": false,
    "pycharm": {
     "name": "#%% 6品牌\n",
     "is_executing": false
    }
   }
  }
 ],
 "metadata": {
  "kernelspec": {
   "display_name": "Python 3",
   "language": "python",
   "name": "python3"
  },
  "language_info": {
   "codemirror_mode": {
    "name": "ipython",
    "version": 2
   },
   "file_extension": ".py",
   "mimetype": "text/x-python",
   "name": "python",
   "nbconvert_exporter": "python",
   "pygments_lexer": "ipython2",
   "version": "2.7.6"
  },
  "pycharm": {
   "stem_cell": {
    "cell_type": "raw",
    "source": [],
    "metadata": {
     "collapsed": false
    }
   }
  }
 },
 "nbformat": 4,
 "nbformat_minor": 0
}