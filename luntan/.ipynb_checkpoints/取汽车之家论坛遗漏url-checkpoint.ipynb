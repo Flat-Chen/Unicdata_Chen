{
 "cells": [
  {
   "cell_type": "code",
   "execution_count": 21,
   "metadata": {
    "pycharm": {
     "is_executing": false,
     "name": "#%%\n"
    }
   },
   "outputs": [
    {
     "name": "stdout",
     "output_type": "stream",
     "text": [
      "2020-10-24 2020-10-01\n"
     ]
    }
   ],
   "source": [
    "import time\n",
    "import pymysql\n",
    "import datetime\n",
    "import pandas as pd\n",
    "import numpy as np\n",
    "\n",
    "# 打开数据库连接\n",
    "db = pymysql.connect(\"192.168.1.94\", \"dataUser94\",\n",
    "                     \"94dataUser@2020\", \"saicnqms\")\n",
    "\n",
    "# 使用cursor()方法获取操作游标\n",
    "cursor = db.cursor()\n",
    "\n",
    "the_day_before_yesterday = time.strftime(\n",
    "    \"%Y-%m\", time.localtime()) + '-' + str(int(time.strftime(\"%d\", time.localtime())) - 3)\n",
    "last_month = datetime.datetime.now().month - 1\n",
    "last_month = f\"0{str(last_month)}\" if last_month < 10 else last_month\n",
    "last_month = str(datetime.datetime.now().year) + '-' + str(last_month) + '-01'\n",
    "last_month = '2020-10-01'\n",
    "print(the_day_before_yesterday, last_month)\n"
   ]
  },
  {
   "cell_type": "code",
   "execution_count": 11,
   "metadata": {
    "pycharm": {
     "is_executing": false,
     "name": "#%% 查询url总表中上个月到前三天的所有url\n"
    }
   },
   "outputs": [
    {
     "name": "stdout",
     "output_type": "stream",
     "text": [
      "['_id', 'grabtime', 'posted_time', 'isvideo', 'car_id', 'user_car', 'page', 'brand', 'factory', 'tiezi_url', 'status']\n",
      "88811\n"
     ]
    }
   ],
   "source": [
    "# SQL 查询语句\n",
    "# 总url\n",
    "try:\n",
    "    #     获取表头\n",
    "    cursor.execute(\n",
    "        '''select *  from autohome_luntan_allurl;''')\n",
    "    cols1 = [i[0] for i in cursor.description]\n",
    "    print(cols1)\n",
    "    # 执行SQL语句\n",
    "    sql1 = \"SELECT posted_time,user_car,brand,factory,tiezi_url,isvideo FROM autohome_luntan_allurl WHERE posted_time <= '{}' AND  posted_time >= '{}'\".format(\n",
    "        the_day_before_yesterday, last_month)\n",
    "    cursor.execute(sql1)\n",
    "    # 获取所有记录列表\n",
    "    results1 = cursor.fetchall()\n",
    "    print(len(results1))\n",
    "#     print(results1)\n",
    "except:\n",
    "    print(\"总URL表查询失败\")"
   ]
  },
  {
   "cell_type": "code",
   "execution_count": 12,
   "metadata": {
    "pycharm": {
     "is_executing": false,
     "name": "#%%  查询已经抓取完成的表的上个月到三天前的url\n"
    }
   },
   "outputs": [
    {
     "name": "stdout",
     "output_type": "stream",
     "text": [
      "['id', 'brand', 'click_num', 'content', 'content_num', 'factory', 'grabtime', 'information_source', 'parsetime', 'posted_time', 'province', 'region', 'reply_num', 'statusplus', 'title', 'url', 'user_car', 'user_name', 'create_time']\n",
      "78683\n"
     ]
    }
   ],
   "source": [
    "# 已经抓取的url\n",
    "try:\n",
    "    #     获取表头\n",
    "    cursor.execute('''select *  from luntan_all_copy;''')\n",
    "    cols2 = [i[0] for i in cursor.description]\n",
    "    print(cols2)\n",
    "    # 执行SQL语句\n",
    "    sql2 = \"SELECT posted_time,user_car,brand,factory,url FROM luntan_all_copy WHERE posted_time <= '{}' AND posted_time >= '{}' AND information_source = 'autohome'\".format(\n",
    "        the_day_before_yesterday, last_month)\n",
    "    cursor.execute(sql2)\n",
    "    results2 = cursor.fetchall()\n",
    "    print(len(results2))\n",
    "except:\n",
    "    print(\"luntan_all_copy表查询失败\")\n"
   ]
  },
  {
   "cell_type": "code",
   "execution_count": 43,
   "metadata": {
    "pycharm": {
     "is_executing": false,
     "name": "#%%\n"
    }
   },
   "outputs": [
    {
     "name": "stdout",
     "output_type": "stream",
     "text": [
      "总url表去重前： 88811\n",
      "总url表去重后： 47895\n",
      "           posted_time   user_car brand factory  \\\n",
      "0  2020-10-23 17:33:50       创界论坛   雪佛兰    上汽通用   \n",
      "1  2020-10-23 13:49:33       创界论坛   雪佛兰    上汽通用   \n",
      "2  2020-10-23 11:49:05       创界论坛   雪佛兰    上汽通用   \n",
      "3  2020-10-22 20:23:38       创界论坛   雪佛兰    上汽通用   \n",
      "4  2020-10-20 18:55:28  Orlando论坛   雪佛兰    上汽通用   \n",
      "\n",
      "                                                 url isvideo  \n",
      "0  http://club.autohome.com.cn/bbs/thread/4f8b719...       0  \n",
      "1  http://club.autohome.com.cn/bbs/thread/85d2954...       0  \n",
      "2  http://club.autohome.com.cn/bbs/thread/d12654b...       0  \n",
      "3  http://club.autohome.com.cn/bbs/thread/13a9ab9...       1  \n",
      "4  http://club.autohome.com.cn/bbs/thread/6528409...       0  \n"
     ]
    }
   ],
   "source": [
    "df1 = pd.DataFrame(np.array(results1), columns=['posted_time','user_car','brand','factory','url','isvideo'])\n",
    "print('总url表去重前：', len(df1))\n",
    "df1 = df1.drop_duplicates('url')\n",
    "print('总url表去重后：', len(df1))\n",
    "df1['url'] = df1['url'].map(lambda x: x.replace('https', 'http'))\n",
    "\n",
    "print(df1.head())"
   ]
  },
  {
   "cell_type": "code",
   "execution_count": 44,
   "metadata": {
    "pycharm": {
     "is_executing": false,
     "name": "#%%\n"
    }
   },
   "outputs": [
    {
     "name": "stdout",
     "output_type": "stream",
     "text": [
      "已抓取表去重前： 78683\n",
      "已抓取表去重后： 38300\n",
      "          posted_time   user_car brand factory  \\\n",
      "0 2020-10-12 06:55:40  荣威RX5 MAX    荣威   上汽乘用车   \n",
      "1 2020-10-12 06:56:27  荣威RX5 MAX    荣威   上汽乘用车   \n",
      "2 2020-10-12 06:59:41  荣威RX5 MAX    荣威   上汽乘用车   \n",
      "3 2020-10-09 22:13:11      迈锐宝XL   雪佛兰    上汽通用   \n",
      "4 2020-10-10 13:03:49  荣威RX5 MAX    荣威   上汽乘用车   \n",
      "\n",
      "                                                 url  \n",
      "0  http://club.autohome.com.cn/bbs/thread/c2480a0...  \n",
      "1  http://club.autohome.com.cn/bbs/thread/9778b8b...  \n",
      "2  http://club.autohome.com.cn/bbs/thread/ce6d9bf...  \n",
      "3  http://club.autohome.com.cn/bbs/thread/7442983...  \n",
      "4  http://club.autohome.com.cn/bbs/thread/dc20e22...  \n"
     ]
    }
   ],
   "source": [
    "df2 = pd.DataFrame(np.array(results2), columns=['posted_time','user_car','brand','factory','url'])\n",
    "print('已抓取表去重前：', len(df2))\n",
    "df2 = df2.drop_duplicates('url')\n",
    "print('已抓取表去重后：', len(df2))\n",
    "df2['url'] = df2['url'].map(lambda x: x.replace('https', 'http'))\n",
    "\n",
    "print(df2.head())"
   ]
  },
  {
   "cell_type": "code",
   "execution_count": 45,
   "metadata": {
    "pycharm": {
     "is_executing": false,
     "name": "#%%\n"
    }
   },
   "outputs": [
    {
     "data": {
      "text/html": [
       "<div>\n",
       "<style scoped>\n",
       "    .dataframe tbody tr th:only-of-type {\n",
       "        vertical-align: middle;\n",
       "    }\n",
       "\n",
       "    .dataframe tbody tr th {\n",
       "        vertical-align: top;\n",
       "    }\n",
       "\n",
       "    .dataframe thead th {\n",
       "        text-align: right;\n",
       "    }\n",
       "</style>\n",
       "<table border=\"1\" class=\"dataframe\">\n",
       "  <thead>\n",
       "    <tr style=\"text-align: right;\">\n",
       "      <th></th>\n",
       "      <th>posted_time</th>\n",
       "      <th>user_car</th>\n",
       "      <th>brand</th>\n",
       "      <th>factory</th>\n",
       "      <th>url</th>\n",
       "      <th>isvideo</th>\n",
       "    </tr>\n",
       "  </thead>\n",
       "  <tbody>\n",
       "    <tr>\n",
       "      <th>0</th>\n",
       "      <td>2020-10-23 17:33:50</td>\n",
       "      <td>创界论坛</td>\n",
       "      <td>雪佛兰</td>\n",
       "      <td>上汽通用</td>\n",
       "      <td>http://club.autohome.com.cn/bbs/thread/4f8b719...</td>\n",
       "      <td>0</td>\n",
       "    </tr>\n",
       "    <tr>\n",
       "      <th>1</th>\n",
       "      <td>2020-10-23 13:49:33</td>\n",
       "      <td>创界论坛</td>\n",
       "      <td>雪佛兰</td>\n",
       "      <td>上汽通用</td>\n",
       "      <td>http://club.autohome.com.cn/bbs/thread/85d2954...</td>\n",
       "      <td>0</td>\n",
       "    </tr>\n",
       "    <tr>\n",
       "      <th>2</th>\n",
       "      <td>2020-10-23 11:49:05</td>\n",
       "      <td>创界论坛</td>\n",
       "      <td>雪佛兰</td>\n",
       "      <td>上汽通用</td>\n",
       "      <td>http://club.autohome.com.cn/bbs/thread/d12654b...</td>\n",
       "      <td>0</td>\n",
       "    </tr>\n",
       "    <tr>\n",
       "      <th>3</th>\n",
       "      <td>2020-10-22 20:23:38</td>\n",
       "      <td>创界论坛</td>\n",
       "      <td>雪佛兰</td>\n",
       "      <td>上汽通用</td>\n",
       "      <td>http://club.autohome.com.cn/bbs/thread/13a9ab9...</td>\n",
       "      <td>1</td>\n",
       "    </tr>\n",
       "    <tr>\n",
       "      <th>4</th>\n",
       "      <td>2020-10-20 18:55:28</td>\n",
       "      <td>Orlando论坛</td>\n",
       "      <td>雪佛兰</td>\n",
       "      <td>上汽通用</td>\n",
       "      <td>http://club.autohome.com.cn/bbs/thread/6528409...</td>\n",
       "      <td>0</td>\n",
       "    </tr>\n",
       "  </tbody>\n",
       "</table>\n",
       "</div>"
      ],
      "text/plain": [
       "           posted_time   user_car brand factory  \\\n",
       "0  2020-10-23 17:33:50       创界论坛   雪佛兰    上汽通用   \n",
       "1  2020-10-23 13:49:33       创界论坛   雪佛兰    上汽通用   \n",
       "2  2020-10-23 11:49:05       创界论坛   雪佛兰    上汽通用   \n",
       "3  2020-10-22 20:23:38       创界论坛   雪佛兰    上汽通用   \n",
       "4  2020-10-20 18:55:28  Orlando论坛   雪佛兰    上汽通用   \n",
       "\n",
       "                                                 url isvideo  \n",
       "0  http://club.autohome.com.cn/bbs/thread/4f8b719...       0  \n",
       "1  http://club.autohome.com.cn/bbs/thread/85d2954...       0  \n",
       "2  http://club.autohome.com.cn/bbs/thread/d12654b...       0  \n",
       "3  http://club.autohome.com.cn/bbs/thread/13a9ab9...       1  \n",
       "4  http://club.autohome.com.cn/bbs/thread/6528409...       0  "
      ]
     },
     "execution_count": 45,
     "metadata": {},
     "output_type": "execute_result"
    }
   ],
   "source": [
    "df1 = df1.append(df2)\n",
    "df1 = df1.append(df2)\n",
    "df1.head()"
   ]
  },
  {
   "cell_type": "code",
   "execution_count": 46,
   "metadata": {
    "pycharm": {
     "is_executing": false
    }
   },
   "outputs": [
    {
     "data": {
      "text/plain": [
       "(10698, 6)"
      ]
     },
     "execution_count": 46,
     "metadata": {},
     "output_type": "execute_result"
    }
   ],
   "source": [
    "df0 = df1.drop_duplicates(subset=['url'], keep=False)\n",
    "df0.shape"
   ]
  },
  {
   "cell_type": "code",
   "execution_count": 47,
   "metadata": {},
   "outputs": [
    {
     "data": {
      "text/html": [
       "<div>\n",
       "<style scoped>\n",
       "    .dataframe tbody tr th:only-of-type {\n",
       "        vertical-align: middle;\n",
       "    }\n",
       "\n",
       "    .dataframe tbody tr th {\n",
       "        vertical-align: top;\n",
       "    }\n",
       "\n",
       "    .dataframe thead th {\n",
       "        text-align: right;\n",
       "    }\n",
       "</style>\n",
       "<table border=\"1\" class=\"dataframe\">\n",
       "  <thead>\n",
       "    <tr style=\"text-align: right;\">\n",
       "      <th></th>\n",
       "      <th>posted_time</th>\n",
       "      <th>user_car</th>\n",
       "      <th>brand</th>\n",
       "      <th>factory</th>\n",
       "      <th>url</th>\n",
       "      <th>isvideo</th>\n",
       "    </tr>\n",
       "  </thead>\n",
       "  <tbody>\n",
       "    <tr>\n",
       "      <th>0</th>\n",
       "      <td>2020-10-23 17:33:50</td>\n",
       "      <td>创界论坛</td>\n",
       "      <td>雪佛兰</td>\n",
       "      <td>上汽通用</td>\n",
       "      <td>http://club.autohome.com.cn/bbs/thread/4f8b719...</td>\n",
       "      <td>0</td>\n",
       "    </tr>\n",
       "    <tr>\n",
       "      <th>1</th>\n",
       "      <td>2020-10-23 13:49:33</td>\n",
       "      <td>创界论坛</td>\n",
       "      <td>雪佛兰</td>\n",
       "      <td>上汽通用</td>\n",
       "      <td>http://club.autohome.com.cn/bbs/thread/85d2954...</td>\n",
       "      <td>0</td>\n",
       "    </tr>\n",
       "    <tr>\n",
       "      <th>2</th>\n",
       "      <td>2020-10-23 11:49:05</td>\n",
       "      <td>创界论坛</td>\n",
       "      <td>雪佛兰</td>\n",
       "      <td>上汽通用</td>\n",
       "      <td>http://club.autohome.com.cn/bbs/thread/d12654b...</td>\n",
       "      <td>0</td>\n",
       "    </tr>\n",
       "    <tr>\n",
       "      <th>3</th>\n",
       "      <td>2020-10-22 20:23:38</td>\n",
       "      <td>创界论坛</td>\n",
       "      <td>雪佛兰</td>\n",
       "      <td>上汽通用</td>\n",
       "      <td>http://club.autohome.com.cn/bbs/thread/13a9ab9...</td>\n",
       "      <td>1</td>\n",
       "    </tr>\n",
       "    <tr>\n",
       "      <th>4</th>\n",
       "      <td>2020-10-20 18:55:28</td>\n",
       "      <td>Orlando论坛</td>\n",
       "      <td>雪佛兰</td>\n",
       "      <td>上汽通用</td>\n",
       "      <td>http://club.autohome.com.cn/bbs/thread/6528409...</td>\n",
       "      <td>0</td>\n",
       "    </tr>\n",
       "  </tbody>\n",
       "</table>\n",
       "</div>"
      ],
      "text/plain": [
       "           posted_time   user_car brand factory  \\\n",
       "0  2020-10-23 17:33:50       创界论坛   雪佛兰    上汽通用   \n",
       "1  2020-10-23 13:49:33       创界论坛   雪佛兰    上汽通用   \n",
       "2  2020-10-23 11:49:05       创界论坛   雪佛兰    上汽通用   \n",
       "3  2020-10-22 20:23:38       创界论坛   雪佛兰    上汽通用   \n",
       "4  2020-10-20 18:55:28  Orlando论坛   雪佛兰    上汽通用   \n",
       "\n",
       "                                                 url isvideo  \n",
       "0  http://club.autohome.com.cn/bbs/thread/4f8b719...       0  \n",
       "1  http://club.autohome.com.cn/bbs/thread/85d2954...       0  \n",
       "2  http://club.autohome.com.cn/bbs/thread/d12654b...       0  \n",
       "3  http://club.autohome.com.cn/bbs/thread/13a9ab9...       1  \n",
       "4  http://club.autohome.com.cn/bbs/thread/6528409...       0  "
      ]
     },
     "execution_count": 47,
     "metadata": {},
     "output_type": "execute_result"
    }
   ],
   "source": [
    "df0.head()"
   ]
  },
  {
   "cell_type": "code",
   "execution_count": 48,
   "metadata": {},
   "outputs": [
    {
     "data": {
      "text/plain": [
       "(10698, 6)"
      ]
     },
     "execution_count": 48,
     "metadata": {},
     "output_type": "execute_result"
    }
   ],
   "source": [
    "df0 = df0.drop_duplicates('url')\n",
    "df0.shape"
   ]
  },
  {
   "cell_type": "code",
   "execution_count": 24,
   "metadata": {},
   "outputs": [],
   "source": []
  },
  {
   "cell_type": "code",
   "execution_count": 21,
   "metadata": {
    "scrolled": true
   },
   "outputs": [
    {
     "data": {
      "text/plain": [
       "<pymongo.results.InsertManyResult at 0x2f08f611708>"
      ]
     },
     "execution_count": 21,
     "metadata": {},
     "output_type": "execute_result"
    }
   ],
   "source": [
    "#漏抓url写入mongo\n",
    "import pymongo\n",
    "mongo_client = pymongo.MongoClient('192.168.2.149', 27017)\n",
    "db = mongo_client['luntan']\n",
    "mycol = db['autohome_luntan_lost']\n",
    "data = df0.to_dict(orient='record')\n",
    "mycol.insert_many(data)"
   ]
  },
  {
   "cell_type": "code",
   "execution_count": null,
   "metadata": {},
   "outputs": [],
   "source": []
  },
  {
   "cell_type": "code",
   "execution_count": null,
   "metadata": {},
   "outputs": [],
   "source": []
  },
  {
   "cell_type": "markdown",
   "metadata": {},
   "source": [
    "# 第二次补抓"
   ]
  },
  {
   "cell_type": "code",
   "execution_count": 22,
   "metadata": {},
   "outputs": [
    {
     "name": "stdout",
     "output_type": "stream",
     "text": [
      "['brand', 'click_num', 'content', 'content_num', 'factory', 'grabtime', 'information_source', 'parsetime', 'posted_time', 'province', 'region', 'reply_num', 'statusplus', 'title', 'url', 'user_car', 'user_name']\n",
      "1518\n"
     ]
    }
   ],
   "source": [
    "# 已经抓取的url\n",
    "try:\n",
    "    #     获取表头\n",
    "    cursor.execute('''select *  from luntan_autohome_lost;''')\n",
    "    cols3 = [i[0] for i in cursor.description]\n",
    "    print(cols3)\n",
    "    # 执行SQL语句\n",
    "    sql3 = \"SELECT posted_time,user_car,brand,factory,url FROM luntan_autohome_lost WHERE posted_time <= '{}' AND posted_time >= '{}' AND information_source = 'autohome'\".format(\n",
    "        the_day_before_yesterday, last_month)\n",
    "    cursor.execute(sql3)\n",
    "    results3 = cursor.fetchall()\n",
    "    print(len(results3))\n",
    "except:\n",
    "    print(\"luntan_all_copy表查询失败\")\n",
    "\n",
    "# 关闭数据库连接\n",
    "\n",
    "db.close()"
   ]
  },
  {
   "cell_type": "code",
   "execution_count": 49,
   "metadata": {
    "pycharm": {
     "name": "#%%\n"
    }
   },
   "outputs": [
    {
     "name": "stdout",
     "output_type": "stream",
     "text": [
      "已抓取表去重前： 1518\n",
      "已抓取表去重后： 1518\n",
      "           posted_time user_car brand factory  \\\n",
      "0  2020-10-23 13:49:33       创界   雪佛兰    上汽通用   \n",
      "1  2020-10-23 02:38:57    荣威950    荣威   上汽乘用车   \n",
      "2  2020-10-23 09:28:21    荣威350    荣威   上汽乘用车   \n",
      "3  2020-10-22 16:51:18      科帕奇   雪佛兰    上汽通用   \n",
      "4  2020-10-23 21:48:54       赛欧   雪佛兰    上汽通用   \n",
      "\n",
      "                                                 url  \n",
      "0  http://club.autohome.com.cn/bbs/thread/85d2954...  \n",
      "1  http://club.autohome.com.cn/bbs/thread/7046725...  \n",
      "2  http://club.autohome.com.cn/bbs/thread/d84e7a1...  \n",
      "3  http://club.autohome.com.cn/bbs/thread/040f52c...  \n",
      "4  http://club.autohome.com.cn/bbs/thread/a6155fc...  \n"
     ]
    }
   ],
   "source": [
    "df3 = pd.DataFrame(np.array(results3), columns=['posted_time','user_car','brand','factory','url'])\n",
    "print('已抓取表去重前：', len(df3))\n",
    "df3 = df3.drop_duplicates('url')\n",
    "print('已抓取表去重后：', len(df3))\n",
    "df3['url'] = df3['url'].map(lambda x: x.replace('https', 'http'))\n",
    "\n",
    "print(df3.head())"
   ]
  },
  {
   "cell_type": "code",
   "execution_count": 50,
   "metadata": {
    "scrolled": true
   },
   "outputs": [
    {
     "data": {
      "text/html": [
       "<div>\n",
       "<style scoped>\n",
       "    .dataframe tbody tr th:only-of-type {\n",
       "        vertical-align: middle;\n",
       "    }\n",
       "\n",
       "    .dataframe tbody tr th {\n",
       "        vertical-align: top;\n",
       "    }\n",
       "\n",
       "    .dataframe thead th {\n",
       "        text-align: right;\n",
       "    }\n",
       "</style>\n",
       "<table border=\"1\" class=\"dataframe\">\n",
       "  <thead>\n",
       "    <tr style=\"text-align: right;\">\n",
       "      <th></th>\n",
       "      <th>posted_time</th>\n",
       "      <th>user_car</th>\n",
       "      <th>brand</th>\n",
       "      <th>factory</th>\n",
       "      <th>url</th>\n",
       "      <th>isvideo</th>\n",
       "    </tr>\n",
       "  </thead>\n",
       "  <tbody>\n",
       "    <tr>\n",
       "      <th>0</th>\n",
       "      <td>2020-10-23 17:33:50</td>\n",
       "      <td>创界论坛</td>\n",
       "      <td>雪佛兰</td>\n",
       "      <td>上汽通用</td>\n",
       "      <td>http://club.autohome.com.cn/bbs/thread/4f8b719...</td>\n",
       "      <td>0</td>\n",
       "    </tr>\n",
       "    <tr>\n",
       "      <th>1</th>\n",
       "      <td>2020-10-23 13:49:33</td>\n",
       "      <td>创界论坛</td>\n",
       "      <td>雪佛兰</td>\n",
       "      <td>上汽通用</td>\n",
       "      <td>http://club.autohome.com.cn/bbs/thread/85d2954...</td>\n",
       "      <td>0</td>\n",
       "    </tr>\n",
       "    <tr>\n",
       "      <th>2</th>\n",
       "      <td>2020-10-23 11:49:05</td>\n",
       "      <td>创界论坛</td>\n",
       "      <td>雪佛兰</td>\n",
       "      <td>上汽通用</td>\n",
       "      <td>http://club.autohome.com.cn/bbs/thread/d12654b...</td>\n",
       "      <td>0</td>\n",
       "    </tr>\n",
       "    <tr>\n",
       "      <th>3</th>\n",
       "      <td>2020-10-22 20:23:38</td>\n",
       "      <td>创界论坛</td>\n",
       "      <td>雪佛兰</td>\n",
       "      <td>上汽通用</td>\n",
       "      <td>http://club.autohome.com.cn/bbs/thread/13a9ab9...</td>\n",
       "      <td>1</td>\n",
       "    </tr>\n",
       "    <tr>\n",
       "      <th>4</th>\n",
       "      <td>2020-10-20 18:55:28</td>\n",
       "      <td>Orlando论坛</td>\n",
       "      <td>雪佛兰</td>\n",
       "      <td>上汽通用</td>\n",
       "      <td>http://club.autohome.com.cn/bbs/thread/6528409...</td>\n",
       "      <td>0</td>\n",
       "    </tr>\n",
       "  </tbody>\n",
       "</table>\n",
       "</div>"
      ],
      "text/plain": [
       "           posted_time   user_car brand factory  \\\n",
       "0  2020-10-23 17:33:50       创界论坛   雪佛兰    上汽通用   \n",
       "1  2020-10-23 13:49:33       创界论坛   雪佛兰    上汽通用   \n",
       "2  2020-10-23 11:49:05       创界论坛   雪佛兰    上汽通用   \n",
       "3  2020-10-22 20:23:38       创界论坛   雪佛兰    上汽通用   \n",
       "4  2020-10-20 18:55:28  Orlando论坛   雪佛兰    上汽通用   \n",
       "\n",
       "                                                 url isvideo  \n",
       "0  http://club.autohome.com.cn/bbs/thread/4f8b719...       0  \n",
       "1  http://club.autohome.com.cn/bbs/thread/85d2954...       0  \n",
       "2  http://club.autohome.com.cn/bbs/thread/d12654b...       0  \n",
       "3  http://club.autohome.com.cn/bbs/thread/13a9ab9...       1  \n",
       "4  http://club.autohome.com.cn/bbs/thread/6528409...       0  "
      ]
     },
     "execution_count": 50,
     "metadata": {},
     "output_type": "execute_result"
    }
   ],
   "source": [
    "df0 = df0.append(df3)\n",
    "df0 = df0.append(df3)\n",
    "df0.head()"
   ]
  },
  {
   "cell_type": "code",
   "execution_count": 51,
   "metadata": {},
   "outputs": [
    {
     "data": {
      "text/plain": [
       "(13734, 6)"
      ]
     },
     "execution_count": 51,
     "metadata": {},
     "output_type": "execute_result"
    }
   ],
   "source": [
    "df0.shape"
   ]
  },
  {
   "cell_type": "code",
   "execution_count": 52,
   "metadata": {},
   "outputs": [
    {
     "data": {
      "text/plain": [
       "(9180, 6)"
      ]
     },
     "execution_count": 52,
     "metadata": {},
     "output_type": "execute_result"
    }
   ],
   "source": [
    "df0 = df0.drop_duplicates(subset=['url'], keep=False)\n",
    "df0.shape"
   ]
  },
  {
   "cell_type": "code",
   "execution_count": 53,
   "metadata": {},
   "outputs": [
    {
     "data": {
      "text/plain": [
       "(9180, 6)"
      ]
     },
     "execution_count": 53,
     "metadata": {},
     "output_type": "execute_result"
    }
   ],
   "source": [
    "df0 = df0.drop_duplicates('url')\n",
    "df0.shape"
   ]
  },
  {
   "cell_type": "code",
   "execution_count": 54,
   "metadata": {},
   "outputs": [
    {
     "data": {
      "text/plain": [
       "<pymongo.results.InsertManyResult at 0x15f8aebb2c8>"
      ]
     },
     "execution_count": 54,
     "metadata": {},
     "output_type": "execute_result"
    }
   ],
   "source": [
    "#漏抓url写入mongo\n",
    "import pymongo\n",
    "mongo_client = pymongo.MongoClient('192.168.2.149', 27017)\n",
    "db = mongo_client['luntan']\n",
    "mycol = db['autohome_luntan_lost1']\n",
    "data = df0.to_dict(orient='record')\n",
    "mycol.insert_many(data)"
   ]
  },
  {
   "cell_type": "code",
   "execution_count": null,
   "metadata": {},
   "outputs": [],
   "source": []
  },
  {
   "cell_type": "code",
   "execution_count": null,
   "metadata": {},
   "outputs": [],
   "source": []
  },
  {
   "cell_type": "code",
   "execution_count": null,
   "metadata": {},
   "outputs": [],
   "source": []
  },
  {
   "cell_type": "code",
   "execution_count": null,
   "metadata": {},
   "outputs": [],
   "source": []
  },
  {
   "cell_type": "code",
   "execution_count": null,
   "metadata": {},
   "outputs": [],
   "source": []
  },
  {
   "cell_type": "code",
   "execution_count": null,
   "metadata": {},
   "outputs": [],
   "source": []
  },
  {
   "cell_type": "code",
   "execution_count": null,
   "metadata": {
    "pycharm": {
     "name": "#%%\n"
    }
   },
   "outputs": [],
   "source": []
  },
  {
   "cell_type": "code",
   "execution_count": null,
   "metadata": {
    "pycharm": {
     "name": "#%%\n"
    }
   },
   "outputs": [],
   "source": []
  },
  {
   "cell_type": "code",
   "execution_count": null,
   "metadata": {
    "pycharm": {
     "name": "#%%\n"
    }
   },
   "outputs": [],
   "source": []
  },
  {
   "cell_type": "code",
   "execution_count": null,
   "metadata": {
    "pycharm": {
     "name": "#%%\n"
    }
   },
   "outputs": [],
   "source": []
  },
  {
   "cell_type": "code",
   "execution_count": null,
   "metadata": {
    "pycharm": {
     "name": "#%%\n"
    }
   },
   "outputs": [],
   "source": []
  }
 ],
 "metadata": {
  "kernelspec": {
   "display_name": "Python 3",
   "language": "python",
   "name": "python3"
  },
  "language_info": {
   "codemirror_mode": {
    "name": "ipython",
    "version": 3
   },
   "file_extension": ".py",
   "mimetype": "text/x-python",
   "name": "python",
   "nbconvert_exporter": "python",
   "pygments_lexer": "ipython3",
   "version": "3.7.3"
  },
  "pycharm": {
   "stem_cell": {
    "cell_type": "raw",
    "metadata": {
     "collapsed": false
    },
    "source": []
   }
  }
 },
 "nbformat": 4,
 "nbformat_minor": 1
}
