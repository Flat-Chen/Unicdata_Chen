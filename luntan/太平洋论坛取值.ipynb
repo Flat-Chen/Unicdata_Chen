{
 "cells": [
  {
   "cell_type": "code",
   "execution_count": 4,
   "metadata": {
    "collapsed": true,
    "pycharm": {
     "name": "#%%  \n",
     "is_executing": false
    }
   },
   "outputs": [],
   "source": [
    "content_list =[\"异味\",\"烧油\",\"电路问题\",\"发动机故障\",\"有问题\",\"抖动\",\"异常\",\"未解决\",\"维修\",\"晃动\",\"质量问题\",\"减配\",\"动力性差\",\"无法正常行驶\",\n",
    "\"漏油\",\"故障\",\"死机\",\"厂家处理\",\"不亮\",\"常亮\",\"异响\",\"顿挫\",\"开胶\",\"漏水\",\"开裂\",\"掉漆\",\"熄火\",\"维权\",\"自燃\",\"爆炸\",\"中保研\",\"偏置\"]\n",
    "\n",
    "factoryname_unic = [\"上汽大众\", \"上汽斯柯达\", \"上汽通用别克\", \"上汽通用雪佛兰\", \"上汽通用凯迪拉克\", \"上汽集团\", \"上汽通用五菱\", \"上汽大通\", \"南京依维柯\"]\n"
   ]
  },
  {
   "cell_type": "code",
   "execution_count": 5,
   "outputs": [
    {
     "name": "stdout",
     "text": [
      "太平洋论坛整月贴子数: 61911\n"
     ],
     "output_type": "stream"
    }
   ],
   "source": [
    "import pandas as pd\n",
    "import pymongo\n",
    "\n",
    "\n",
    "# 连接数据库\n",
    "client = pymongo.MongoClient('192.168.2.149', 27017)\n",
    "db = client['luntan']\n",
    "xcar_collection = db['pcauto_luntan']\n",
    "xcar_data = xcar_collection.find({'$and': [{'$and': [{'posted_time': {'$lte': '2020-08-31'}},{'posted_time': {'$gte': '2020-08-01'}}]}]})\n",
    "xcar_all = pd.DataFrame(xcar_data)\n",
    "# print(xcar_all.shape)\n",
    "print('太平洋论坛整月贴子数:',len(xcar_all))\n",
    "# xcar_all.to_excel('太平洋2020-08.xlsx')\n"
   ],
   "metadata": {
    "collapsed": false,
    "pycharm": {
     "name": "#%%   数据库连接\n",
     "is_executing": false
    }
   }
  },
  {
   "cell_type": "code",
   "execution_count": 21,
   "outputs": [
    {
     "name": "stdout",
     "text": [
      "太平洋论坛全网质量相关的数据量： 4179\n"
     ],
     "output_type": "stream"
    }
   ],
   "source": [
    "\n",
    "cleaned_data = xcar_all   \n",
    "tmp_list = []\n",
    "for con in content_list:\n",
    "    tmp = cleaned_data.loc[cleaned_data['content'].str.contains(con)]\n",
    "    tmp_list.append(tmp)\n",
    "for con in content_list:\n",
    "    tmp = cleaned_data.loc[cleaned_data['title'].str.contains(con)]\n",
    "    tmp_list.append(tmp)\n",
    "df = pd.concat(tmp_list, sort=False)\n",
    "res = df.drop_duplicates(ignore_index=True)\n",
    "print('太平洋论坛全网质量相关的数据量：', len(res))"
   ],
   "metadata": {
    "collapsed": false,
    "pycharm": {
     "name": "#%%    质量相关\n",
     "is_executing": false
    }
   }
  },
  {
   "cell_type": "code",
   "execution_count": 22,
   "outputs": [
    {
     "name": "stdout",
     "text": [
      "太平洋论坛质量相关的数据量： 184\n"
     ],
     "output_type": "stream"
    }
   ],
   "source": [
    "\n",
    "pcauto_shangqi = res.loc[res['factory'].str.contains('上汽')]\n",
    "print('太平洋论坛质量相关的数据量：', len(pcauto_shangqi))\n",
    "    \n",
    "\n"
   ],
   "metadata": {
    "collapsed": false,
    "pycharm": {
     "name": "#%%  太平洋论坛 上汽 质量相关\n",
     "is_executing": false
    }
   }
  }
 ],
 "metadata": {
  "kernelspec": {
   "display_name": "Python 3",
   "language": "python",
   "name": "python3"
  },
  "language_info": {
   "codemirror_mode": {
    "name": "ipython",
    "version": 2
   },
   "file_extension": ".py",
   "mimetype": "text/x-python",
   "name": "python",
   "nbconvert_exporter": "python",
   "pygments_lexer": "ipython2",
   "version": "2.7.6"
  },
  "pycharm": {
   "stem_cell": {
    "cell_type": "raw",
    "source": [],
    "metadata": {
     "collapsed": false
    }
   }
  }
 },
 "nbformat": 4,
 "nbformat_minor": 0
}