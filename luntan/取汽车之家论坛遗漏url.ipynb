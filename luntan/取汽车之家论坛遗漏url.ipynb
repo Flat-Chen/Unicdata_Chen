{
 "cells": [
  {
   "cell_type": "code",
   "execution_count": 2,
   "metadata": {
    "pycharm": {
     "is_executing": false,
     "name": "#%%\n"
    }
   },
   "outputs": [
    {
     "name": "stdout",
     "output_type": "stream",
     "text": [
      "2020-10-23 2020-09-01\n"
     ]
    }
   ],
   "source": [
    "import time\n",
    "import pymysql\n",
    "import datetime\n",
    "\n",
    "# 打开数据库连接\n",
    "db = pymysql.connect(\"192.168.1.94\", \"dataUser94\",\n",
    "                     \"94dataUser@2020\", \"saicnqms\")\n",
    "\n",
    "# 使用cursor()方法获取操作游标\n",
    "cursor = db.cursor()\n",
    "\n",
    "the_day_before_yesterday = time.strftime(\n",
    "    \"%Y-%m\", time.localtime()) + '-' + str(int(time.strftime(\"%d\", time.localtime())) - 3)\n",
    "last_month = datetime.datetime.now().month - 1\n",
    "last_month = f\"0{str(last_month)}\" if last_month < 10 else last_month\n",
    "last_month = str(datetime.datetime.now().year) + '-' + str(last_month) + '-01'\n",
    "print(the_day_before_yesterday, last_month)"
   ]
  },
  {
   "cell_type": "code",
   "execution_count": 3,
   "metadata": {
    "pycharm": {
     "is_executing": false,
     "name": "#%% 查询url总表中上个月到前三天的所有url\n"
    }
   },
   "outputs": [
    {
     "name": "stdout",
     "output_type": "stream",
     "text": [
      "['grabtime', 'posted_time', 'car_id', 'user_car', 'page', 'brand', 'factory', 'tiezi_url', 'status']\n",
      "109932\n"
     ]
    }
   ],
   "source": [
    "# SQL 查询语句\n",
    "# 总url\n",
    "try:\n",
    "#     获取表头\n",
    "    cursor.execute('''select * from autohome_luntan_allurl;''')\n",
    "    cols1 = [i[0] for i in cursor.description]\n",
    "    print(cols1)\n",
    "    # 执行SQL语句\n",
    "    sql1 = \"SELECT * FROM autohome_luntan_allurl WHERE posted_time <= '{}' AND  posted_time >= '{}'\".format(\n",
    "    the_day_before_yesterday, last_month)\n",
    "    cursor.execute(sql1)\n",
    "    # 获取所有记录列表\n",
    "    results1 = cursor.fetchall()\n",
    "    print(len(results1))\n",
    "#     print(results1)\n",
    "except:\n",
    "    print(\"总URL表查询失败\")"
   ]
  },
  {
   "cell_type": "code",
   "execution_count": 4,
   "metadata": {
    "pycharm": {
     "is_executing": false,
     "name": "#%%  查询已经抓取完成的表的上个月到三天前的url\n"
    }
   },
   "outputs": [
    {
     "name": "stdout",
     "output_type": "stream",
     "text": [
      "['id', 'brand', 'click_num', 'content', 'content_num', 'factory', 'grabtime', 'information_source', 'parsetime', 'posted_time', 'province', 'region', 'reply_num', 'statusplus', 'title', 'url', 'user_car', 'user_name', 'create_time']\n",
      "180180\n"
     ]
    }
   ],
   "source": [
    "# 已经抓取的url\n",
    "try:\n",
    "    #     获取表头\n",
    "    cursor.execute('''select * from luntan_all_copy;''')\n",
    "    cols2 = [i[0] for i in cursor.description]\n",
    "    print(cols2)\n",
    "    # 执行SQL语句\n",
    "    sql2 = \"SELECT * FROM luntan_all_copy WHERE posted_time <= '{}' AND posted_time >= '{}' AND information_source = 'autohome'\".format(\n",
    "        the_day_before_yesterday, last_month)\n",
    "    cursor.execute(sql2)\n",
    "    results2 = cursor.fetchall()\n",
    "    print(len(results2))\n",
    "except:\n",
    "    print(\"luntan_all_copy表查询失败\")\n",
    "\n",
    "# 关闭数据库连接\n",
    "\n",
    "db.close()"
   ]
  },
  {
   "cell_type": "code",
   "execution_count": 6,
   "metadata": {
    "pycharm": {
     "is_executing": false,
     "name": "#%%\n"
    }
   },
   "outputs": [
    {
     "name": "stdout",
     "output_type": "stream",
     "text": [
      "总url表去重前： 109932\n",
      "总url表去重后： 109932\n",
      "                   grabtime          posted_time car_id    user_car page  \\\n",
      "0       2020-10-26 10:33:13  2020-10-22 16:25:50   2531        都灵论坛    1   \n",
      "1       2020-10-26 10:33:13  2020-10-20 19:20:26   2531        都灵论坛    1   \n",
      "2       2020-10-26 10:33:13  2020-10-20 18:29:46   5057  依维柯褒迪新能源论坛    1   \n",
      "3       2020-10-26 10:33:13  2020-10-18 22:45:41   5057  依维柯褒迪新能源论坛    1   \n",
      "4       2020-10-26 10:33:13  2020-10-18 22:47:37   2531        都灵论坛    1   \n",
      "...                     ...                  ...    ...         ...  ...   \n",
      "109927  2020-10-26 12:25:03  2020-09-01 10:00:09    166     别克GL8论坛   19   \n",
      "109928  2020-10-26 12:25:03  2020-09-01 09:54:56    166     别克GL8论坛   19   \n",
      "109929  2020-10-26 12:25:03  2020-09-01 09:42:11    166     别克GL8论坛   19   \n",
      "109930  2020-10-26 12:25:03  2020-09-01 09:14:22    166     别克GL8论坛   19   \n",
      "109931  2020-10-26 12:25:03  2020-09-01 01:23:54    166     别克GL8论坛   19   \n",
      "\n",
      "       brand factory                                          tiezi_url  \\\n",
      "0        依维柯   南京依维柯  http://club.autohome.com.cn/bbs/thread/9aebc99...   \n",
      "1        依维柯   南京依维柯  http://club.autohome.com.cn/bbs/thread/69e44da...   \n",
      "2        依维柯   南京依维柯  http://club.autohome.com.cn/bbs/thread/a6e02bd...   \n",
      "3        依维柯   南京依维柯  http://club.autohome.com.cn/bbs/thread/eef3406...   \n",
      "4        依维柯   南京依维柯  http://club.autohome.com.cn/bbs/thread/2ed45db...   \n",
      "...      ...     ...                                                ...   \n",
      "109927    别克    上汽通用  http://club.autohome.com.cn/bbs/thread/766282f...   \n",
      "109928    别克    上汽通用  http://club.autohome.com.cn/bbs/thread/9215387...   \n",
      "109929    别克    上汽通用  http://club.autohome.com.cn/bbs/thread/a8c41db...   \n",
      "109930    别克    上汽通用  http://club.autohome.com.cn/bbs/thread/db2e0fc...   \n",
      "109931    别克    上汽通用  http://club.autohome.com.cn/bbs/thread/c6fdd20...   \n",
      "\n",
      "                                                   status  \n",
      "0       http://club.autohome.com.cn/bbs/thread/9aebc99...  \n",
      "1       http://club.autohome.com.cn/bbs/thread/69e44da...  \n",
      "2       http://club.autohome.com.cn/bbs/thread/a6e02bd...  \n",
      "3       http://club.autohome.com.cn/bbs/thread/eef3406...  \n",
      "4       http://club.autohome.com.cn/bbs/thread/2ed45db...  \n",
      "...                                                   ...  \n",
      "109927  http://club.autohome.com.cn/bbs/thread/766282f...  \n",
      "109928  http://club.autohome.com.cn/bbs/thread/9215387...  \n",
      "109929  http://club.autohome.com.cn/bbs/thread/a8c41db...  \n",
      "109930  http://club.autohome.com.cn/bbs/thread/db2e0fc...  \n",
      "109931  http://club.autohome.com.cn/bbs/thread/c6fdd20...  \n",
      "\n",
      "[109932 rows x 9 columns]\n"
     ]
    }
   ],
   "source": [
    "import pandas as pd\n",
    "import numpy as np\n",
    "\n",
    "df1 = pd.DataFrame(np.array(results1), columns=cols1)\n",
    "print('总url表去重前：', len(df1))\n",
    "df1 = df1.drop_duplicates('tiezi_url')\n",
    "print('总url表去重后：', len(df1))\n",
    "df1['tiezi_url'] = df1['tiezi_url'].map(lambda x: x.replace('https', 'http'))\n",
    "\n",
    "print(df1)"
   ]
  },
  {
   "cell_type": "code",
   "execution_count": 7,
   "metadata": {
    "pycharm": {
     "is_executing": false,
     "name": "#%%\n"
    }
   },
   "outputs": [
    {
     "name": "stdout",
     "output_type": "stream",
     "text": [
      "已抓取表去重前： 180180\n",
      "已抓取表去重后： 94900\n",
      "             id brand click_num  \\\n",
      "0             1    荣威      5030   \n",
      "1             2    荣威        24   \n",
      "2             3    荣威      5029   \n",
      "3             5   雪佛兰       283   \n",
      "4             6    荣威        20   \n",
      "...         ...   ...       ...   \n",
      "180170  2715653    荣威        11   \n",
      "180172  2715707    荣威       121   \n",
      "180174  2715807    荣威        53   \n",
      "180175  2715868    荣威        60   \n",
      "180178  2718995    荣威        48   \n",
      "\n",
      "                                                  content content_num factory  \\\n",
      "0       我家的大白（荣威RX5 MAX）也是已经购买半年多了，当初买车时也是看了很多车，目标就是选定...          22   上汽乘用车   \n",
      "1       哈哈，今天和媳妇一起去溜达，嘿嘿大家都在上班，我们却在玩，哈哈！因为我们两人的年休假还有没用...           6   上汽乘用车   \n",
      "2       “一叶落知天下秋”，小小的落叶，如纤纤玉手，拨动了四季轮回中“秋”的琴弦，于是，清新轻盈的旋...          47   上汽乘用车   \n",
      "3                 请教顶配车主，xl的毫米波雷达装在哪个位置呢？咋样的？有哪位兄弟有图片吗？谢谢          24    上汽通用   \n",
      "4       随着荣威汽车不断的被大家所接受，荣威在产品的各个方面都做的非常考究，荣威RX5MAX的上市，...          10   上汽乘用车   \n",
      "...                                                   ...         ...     ...   \n",
      "180170  其实入手荣威i5前，我是不懂车的，不知道什么样的车才好；我是第一次看到i5就被它外观给吸引了...         165   上汽乘用车   \n",
      "180172  上次已经分享过了，i5属于我的婚前礼物，为什么说是婚前礼物呢，虽然首付是我负的，但是，多数资...           1   上汽乘用车   \n",
      "180174  我本人就是一个荣威车主，我之所以买荣威i5也是有如下原因的。之前我媳妇换工作，工作的地方比较...          33   上汽乘用车   \n",
      "180175  朋友说想换个几万的车，她第一部是合资车suv，现在想换个轿车而且图个代步，就不想花太多钱了。...         108   上汽乘用车   \n",
      "180178  如今的国内市场，汽车是琳琅满目，多的能挑花眼，尤其是现在家用用途比较多，大家都比较喜欢空间大...          34   上汽乘用车   \n",
      "\n",
      "                  grabtime information_source           parsetime  \\\n",
      "0      2020-10-13 10:34:16           autohome 2020-10-13 10:34:16   \n",
      "1      2020-10-13 10:34:17           autohome 2020-10-13 10:34:17   \n",
      "2      2020-10-13 10:34:20           autohome 2020-10-13 10:34:20   \n",
      "3      2020-10-13 10:34:33           autohome 2020-10-13 10:34:33   \n",
      "4      2020-10-13 10:34:41           autohome 2020-10-13 10:34:41   \n",
      "...                    ...                ...                 ...   \n",
      "180170 2020-10-26 11:57:45           autohome 2020-10-26 11:57:45   \n",
      "180172 2020-10-26 11:57:56           autohome 2020-10-26 11:57:56   \n",
      "180174 2020-10-26 11:58:26           autohome 2020-10-26 11:58:26   \n",
      "180175 2020-10-26 11:58:41           autohome 2020-10-26 11:58:41   \n",
      "180178 2020-10-26 12:14:01           autohome 2020-10-26 12:14:01   \n",
      "\n",
      "               posted_time province region reply_num  \\\n",
      "0      2020-10-12 06:55:40       辽宁     沈阳         0   \n",
      "1      2020-10-12 06:56:27       北京   None         0   \n",
      "2      2020-10-12 06:59:41       浙江     金华         1   \n",
      "3      2020-10-09 22:13:11       上海   None         4   \n",
      "4      2020-10-10 13:03:49       北京   None         1   \n",
      "...                    ...      ...    ...       ...   \n",
      "180170 2020-09-02 10:16:41       广东     佛山         2   \n",
      "180172 2020-09-01 20:02:36       贵州     毕节         3   \n",
      "180174 2020-09-07 12:04:10       河南     郑州         1   \n",
      "180175 2020-09-04 10:01:07       广东     揭阳         0   \n",
      "180178 2020-09-02 11:12:59       北京   None         3   \n",
      "\n",
      "                                               statusplus  \\\n",
      "0       嘻嘻哈哈的长大当初选择荣威RX5 MAX，现在没有让我后悔！2020-10-12 06:55...   \n",
      "1       麦兜蓝球球休年休，出来溜达溜达，人还是比较多的！2020-10-12 06:56:27北京荣...   \n",
      "2       奔跑的七仙女秋天是收获的季节，开着我的RX5 MAX感受收获的喜悦2020-10-12 06...   \n",
      "3       鼠标很脏请教，顶配的毫米波雷达咋样的呢？2020-10-9 22:13:11上海雪佛兰283417   \n",
      "4       天津车友ftgg6g大气霸气的荣威RX5MAX2020-10-10 13:03:49北京荣威...   \n",
      "...                                                   ...   \n",
      "180170       佛山车友nr1onp喜欢~是有道理的2020-9-2 10:16:41广东荣威11217   \n",
      "180172  aetzb5pwfp8婚前准备，还好有你i52020-9-1 20:02:36贵州荣威121317   \n",
      "180174         速度至尚经济实用的选择～荣威i52020-9-7 12:04:10河南荣威53117   \n",
      "180175  Fsjsin5想买轿车，荣威I5你就毫不犹豫地买吧2020-9-4 10:01:07广东荣威...   \n",
      "180178   关于她0702家用轿车，还是i5的性价比最高2020-9-2 11:12:59北京荣威48317   \n",
      "\n",
      "                              title  \\\n",
      "0           当初选择荣威RX5 MAX，现在没有让我后悔！   \n",
      "1               休年休，出来溜达溜达，人还是比较多的！   \n",
      "2       秋天是收获的季节，开着我的RX5 MAX感受收获的喜悦   \n",
      "3                  请教，顶配的毫米波雷达咋样的呢？   \n",
      "4                     大气霸气的荣威RX5MAX   \n",
      "...                             ...   \n",
      "180170                     喜欢~是有道理的   \n",
      "180172                  婚前准备，还好有你i5   \n",
      "180174                 经济实用的选择～荣威i5   \n",
      "180175           想买轿车，荣威I5你就毫不犹豫地买吧   \n",
      "180178              家用轿车，还是i5的性价比最高   \n",
      "\n",
      "                                                      url   user_car  \\\n",
      "0       http://club.autohome.com.cn/bbs/thread/c2480a0...  荣威RX5 MAX   \n",
      "1       http://club.autohome.com.cn/bbs/thread/9778b8b...  荣威RX5 MAX   \n",
      "2       http://club.autohome.com.cn/bbs/thread/ce6d9bf...  荣威RX5 MAX   \n",
      "3       http://club.autohome.com.cn/bbs/thread/7442983...      迈锐宝XL   \n",
      "4       http://club.autohome.com.cn/bbs/thread/dc20e22...  荣威RX5 MAX   \n",
      "...                                                   ...        ...   \n",
      "180170  http://club.autohome.com.cn/bbs/thread/d6a13bb...       荣威i5   \n",
      "180172  http://club.autohome.com.cn/bbs/thread/debdc07...       荣威i5   \n",
      "180174  http://club.autohome.com.cn/bbs/thread/437efdd...       荣威i5   \n",
      "180175  http://club.autohome.com.cn/bbs/thread/0e96297...       荣威i5   \n",
      "180178  http://club.autohome.com.cn/bbs/thread/6c75bd8...       荣威i5   \n",
      "\n",
      "          user_name create_time  \n",
      "0           嘻嘻哈哈的长大        None  \n",
      "1             麦兜蓝球球        None  \n",
      "2            奔跑的七仙女        None  \n",
      "3              鼠标很脏        None  \n",
      "4        天津车友ftgg6g        None  \n",
      "...             ...         ...  \n",
      "180170   佛山车友nr1onp        None  \n",
      "180172  aetzb5pwfp8        None  \n",
      "180174         速度至尚        None  \n",
      "180175      Fsjsin5        None  \n",
      "180178      关于她0702        None  \n",
      "\n",
      "[94900 rows x 19 columns]\n"
     ]
    }
   ],
   "source": [
    "df2 = pd.DataFrame(np.array(results2), columns=cols2)\n",
    "print('已抓取表去重前：', len(df2))\n",
    "df2 = df2.drop_duplicates('url')\n",
    "print('已抓取表去重后：', len(df2))\n",
    "df2['url'] = df2['url'].map(lambda x: x.replace('https', 'http'))\n",
    "\n",
    "print(df2)"
   ]
  },
  {
   "cell_type": "code",
   "execution_count": 8,
   "metadata": {
    "pycharm": {
     "is_executing": false,
     "name": "#%%\n"
    }
   },
   "outputs": [
    {
     "data": {
      "text/html": [
       "<div>\n",
       "<style scoped>\n",
       "    .dataframe tbody tr th:only-of-type {\n",
       "        vertical-align: middle;\n",
       "    }\n",
       "\n",
       "    .dataframe tbody tr th {\n",
       "        vertical-align: top;\n",
       "    }\n",
       "\n",
       "    .dataframe thead th {\n",
       "        text-align: right;\n",
       "    }\n",
       "</style>\n",
       "<table border=\"1\" class=\"dataframe\">\n",
       "  <thead>\n",
       "    <tr style=\"text-align: right;\">\n",
       "      <th></th>\n",
       "      <th>grabtime</th>\n",
       "      <th>posted_time</th>\n",
       "      <th>car_id</th>\n",
       "      <th>user_car</th>\n",
       "      <th>page</th>\n",
       "      <th>brand</th>\n",
       "      <th>factory</th>\n",
       "      <th>tiezi_url</th>\n",
       "      <th>status</th>\n",
       "      <th>id</th>\n",
       "      <th>...</th>\n",
       "      <th>information_source</th>\n",
       "      <th>parsetime</th>\n",
       "      <th>province</th>\n",
       "      <th>region</th>\n",
       "      <th>reply_num</th>\n",
       "      <th>statusplus</th>\n",
       "      <th>title</th>\n",
       "      <th>url</th>\n",
       "      <th>user_name</th>\n",
       "      <th>create_time</th>\n",
       "    </tr>\n",
       "  </thead>\n",
       "  <tbody>\n",
       "    <tr>\n",
       "      <th>0</th>\n",
       "      <td>2020-10-26 10:33:13</td>\n",
       "      <td>2020-10-22 16:25:50</td>\n",
       "      <td>2531</td>\n",
       "      <td>都灵论坛</td>\n",
       "      <td>1</td>\n",
       "      <td>依维柯</td>\n",
       "      <td>南京依维柯</td>\n",
       "      <td>http://club.autohome.com.cn/bbs/thread/9aebc99...</td>\n",
       "      <td>http://club.autohome.com.cn/bbs/thread/9aebc99...</td>\n",
       "      <td>NaN</td>\n",
       "      <td>...</td>\n",
       "      <td>NaN</td>\n",
       "      <td>NaT</td>\n",
       "      <td>NaN</td>\n",
       "      <td>NaN</td>\n",
       "      <td>NaN</td>\n",
       "      <td>NaN</td>\n",
       "      <td>NaN</td>\n",
       "      <td>NaN</td>\n",
       "      <td>NaN</td>\n",
       "      <td>NaN</td>\n",
       "    </tr>\n",
       "    <tr>\n",
       "      <th>1</th>\n",
       "      <td>2020-10-26 10:33:13</td>\n",
       "      <td>2020-10-20 19:20:26</td>\n",
       "      <td>2531</td>\n",
       "      <td>都灵论坛</td>\n",
       "      <td>1</td>\n",
       "      <td>依维柯</td>\n",
       "      <td>南京依维柯</td>\n",
       "      <td>http://club.autohome.com.cn/bbs/thread/69e44da...</td>\n",
       "      <td>http://club.autohome.com.cn/bbs/thread/69e44da...</td>\n",
       "      <td>NaN</td>\n",
       "      <td>...</td>\n",
       "      <td>NaN</td>\n",
       "      <td>NaT</td>\n",
       "      <td>NaN</td>\n",
       "      <td>NaN</td>\n",
       "      <td>NaN</td>\n",
       "      <td>NaN</td>\n",
       "      <td>NaN</td>\n",
       "      <td>NaN</td>\n",
       "      <td>NaN</td>\n",
       "      <td>NaN</td>\n",
       "    </tr>\n",
       "    <tr>\n",
       "      <th>2</th>\n",
       "      <td>2020-10-26 10:33:13</td>\n",
       "      <td>2020-10-20 18:29:46</td>\n",
       "      <td>5057</td>\n",
       "      <td>依维柯褒迪新能源论坛</td>\n",
       "      <td>1</td>\n",
       "      <td>依维柯</td>\n",
       "      <td>南京依维柯</td>\n",
       "      <td>http://club.autohome.com.cn/bbs/thread/a6e02bd...</td>\n",
       "      <td>http://club.autohome.com.cn/bbs/thread/a6e02bd...</td>\n",
       "      <td>NaN</td>\n",
       "      <td>...</td>\n",
       "      <td>NaN</td>\n",
       "      <td>NaT</td>\n",
       "      <td>NaN</td>\n",
       "      <td>NaN</td>\n",
       "      <td>NaN</td>\n",
       "      <td>NaN</td>\n",
       "      <td>NaN</td>\n",
       "      <td>NaN</td>\n",
       "      <td>NaN</td>\n",
       "      <td>NaN</td>\n",
       "    </tr>\n",
       "    <tr>\n",
       "      <th>3</th>\n",
       "      <td>2020-10-26 10:33:13</td>\n",
       "      <td>2020-10-18 22:45:41</td>\n",
       "      <td>5057</td>\n",
       "      <td>依维柯褒迪新能源论坛</td>\n",
       "      <td>1</td>\n",
       "      <td>依维柯</td>\n",
       "      <td>南京依维柯</td>\n",
       "      <td>http://club.autohome.com.cn/bbs/thread/eef3406...</td>\n",
       "      <td>http://club.autohome.com.cn/bbs/thread/eef3406...</td>\n",
       "      <td>NaN</td>\n",
       "      <td>...</td>\n",
       "      <td>NaN</td>\n",
       "      <td>NaT</td>\n",
       "      <td>NaN</td>\n",
       "      <td>NaN</td>\n",
       "      <td>NaN</td>\n",
       "      <td>NaN</td>\n",
       "      <td>NaN</td>\n",
       "      <td>NaN</td>\n",
       "      <td>NaN</td>\n",
       "      <td>NaN</td>\n",
       "    </tr>\n",
       "    <tr>\n",
       "      <th>4</th>\n",
       "      <td>2020-10-26 10:33:13</td>\n",
       "      <td>2020-10-18 22:47:37</td>\n",
       "      <td>2531</td>\n",
       "      <td>都灵论坛</td>\n",
       "      <td>1</td>\n",
       "      <td>依维柯</td>\n",
       "      <td>南京依维柯</td>\n",
       "      <td>http://club.autohome.com.cn/bbs/thread/2ed45db...</td>\n",
       "      <td>http://club.autohome.com.cn/bbs/thread/2ed45db...</td>\n",
       "      <td>NaN</td>\n",
       "      <td>...</td>\n",
       "      <td>NaN</td>\n",
       "      <td>NaT</td>\n",
       "      <td>NaN</td>\n",
       "      <td>NaN</td>\n",
       "      <td>NaN</td>\n",
       "      <td>NaN</td>\n",
       "      <td>NaN</td>\n",
       "      <td>NaN</td>\n",
       "      <td>NaN</td>\n",
       "      <td>NaN</td>\n",
       "    </tr>\n",
       "  </tbody>\n",
       "</table>\n",
       "<p>5 rows × 23 columns</p>\n",
       "</div>"
      ],
      "text/plain": [
       "              grabtime          posted_time car_id    user_car page brand  \\\n",
       "0  2020-10-26 10:33:13  2020-10-22 16:25:50   2531        都灵论坛    1   依维柯   \n",
       "1  2020-10-26 10:33:13  2020-10-20 19:20:26   2531        都灵论坛    1   依维柯   \n",
       "2  2020-10-26 10:33:13  2020-10-20 18:29:46   5057  依维柯褒迪新能源论坛    1   依维柯   \n",
       "3  2020-10-26 10:33:13  2020-10-18 22:45:41   5057  依维柯褒迪新能源论坛    1   依维柯   \n",
       "4  2020-10-26 10:33:13  2020-10-18 22:47:37   2531        都灵论坛    1   依维柯   \n",
       "\n",
       "  factory                                          tiezi_url  \\\n",
       "0   南京依维柯  http://club.autohome.com.cn/bbs/thread/9aebc99...   \n",
       "1   南京依维柯  http://club.autohome.com.cn/bbs/thread/69e44da...   \n",
       "2   南京依维柯  http://club.autohome.com.cn/bbs/thread/a6e02bd...   \n",
       "3   南京依维柯  http://club.autohome.com.cn/bbs/thread/eef3406...   \n",
       "4   南京依维柯  http://club.autohome.com.cn/bbs/thread/2ed45db...   \n",
       "\n",
       "                                              status   id  ...  \\\n",
       "0  http://club.autohome.com.cn/bbs/thread/9aebc99...  NaN  ...   \n",
       "1  http://club.autohome.com.cn/bbs/thread/69e44da...  NaN  ...   \n",
       "2  http://club.autohome.com.cn/bbs/thread/a6e02bd...  NaN  ...   \n",
       "3  http://club.autohome.com.cn/bbs/thread/eef3406...  NaN  ...   \n",
       "4  http://club.autohome.com.cn/bbs/thread/2ed45db...  NaN  ...   \n",
       "\n",
       "  information_source parsetime province region reply_num statusplus title  \\\n",
       "0                NaN       NaT      NaN    NaN       NaN        NaN   NaN   \n",
       "1                NaN       NaT      NaN    NaN       NaN        NaN   NaN   \n",
       "2                NaN       NaT      NaN    NaN       NaN        NaN   NaN   \n",
       "3                NaN       NaT      NaN    NaN       NaN        NaN   NaN   \n",
       "4                NaN       NaT      NaN    NaN       NaN        NaN   NaN   \n",
       "\n",
       "   url user_name create_time  \n",
       "0  NaN       NaN         NaN  \n",
       "1  NaN       NaN         NaN  \n",
       "2  NaN       NaN         NaN  \n",
       "3  NaN       NaN         NaN  \n",
       "4  NaN       NaN         NaN  \n",
       "\n",
       "[5 rows x 23 columns]"
      ]
     },
     "execution_count": 8,
     "metadata": {},
     "output_type": "execute_result"
    }
   ],
   "source": [
    "df = df1.append(df2)\n",
    "df = df.append(df2)\n",
    "df.head()"
   ]
  },
  {
   "cell_type": "code",
   "execution_count": 9,
   "metadata": {
    "pycharm": {
     "is_executing": false
    }
   },
   "outputs": [
    {
     "data": {
      "text/plain": [
       "(109932, 23)"
      ]
     },
     "execution_count": 9,
     "metadata": {},
     "output_type": "execute_result"
    }
   ],
   "source": [
    "df0 = df.drop_duplicates(subset=['tiezi_url', 'url'], keep=False)\n",
    "df0.shape"
   ]
  },
  {
   "cell_type": "code",
   "execution_count": 10,
   "metadata": {},
   "outputs": [
    {
     "data": {
      "text/plain": [
       "(299732, 23)"
      ]
     },
     "execution_count": 10,
     "metadata": {},
     "output_type": "execute_result"
    }
   ],
   "source": [
    "df.shape"
   ]
  },
  {
   "cell_type": "code",
   "execution_count": 11,
   "metadata": {},
   "outputs": [
    {
     "data": {
      "text/plain": [
       "299732"
      ]
     },
     "execution_count": 11,
     "metadata": {},
     "output_type": "execute_result"
    }
   ],
   "source": [
    "109932 + 94900 * 2"
   ]
  },
  {
   "cell_type": "code",
   "execution_count": 22,
   "metadata": {},
   "outputs": [
    {
     "name": "stdout",
     "output_type": "stream",
     "text": [
      "(109932, 9)\n",
      "(94900, 19)\n"
     ]
    }
   ],
   "source": [
    "print(df1.shape)\n",
    "print(df2.shape)"
   ]
  },
  {
   "cell_type": "code",
   "execution_count": 50,
   "metadata": {},
   "outputs": [
    {
     "ename": "AttributeError",
     "evalue": "'Series' object has no attribute 'compare'",
     "output_type": "error",
     "traceback": [
      "\u001b[1;31m---------------------------------------------------------------------------\u001b[0m",
      "\u001b[1;31mAttributeError\u001b[0m                            Traceback (most recent call last)",
      "\u001b[1;32m<ipython-input-50-9be67cccf898>\u001b[0m in \u001b[0;36m<module>\u001b[1;34m\u001b[0m\n\u001b[1;32m----> 1\u001b[1;33m \u001b[0mser1\u001b[0m\u001b[1;33m.\u001b[0m\u001b[0mcompare\u001b[0m\u001b[1;33m(\u001b[0m\u001b[0mser2\u001b[0m\u001b[1;33m)\u001b[0m\u001b[1;33m\u001b[0m\u001b[1;33m\u001b[0m\u001b[0m\n\u001b[0m",
      "\u001b[1;32mc:\\users\\13164\\appdata\\local\\programs\\python\\python37\\lib\\site-packages\\pandas\\core\\generic.py\u001b[0m in \u001b[0;36m__getattr__\u001b[1;34m(self, name)\u001b[0m\n\u001b[0;32m   5272\u001b[0m             \u001b[1;32mif\u001b[0m \u001b[0mself\u001b[0m\u001b[1;33m.\u001b[0m\u001b[0m_info_axis\u001b[0m\u001b[1;33m.\u001b[0m\u001b[0m_can_hold_identifiers_and_holds_name\u001b[0m\u001b[1;33m(\u001b[0m\u001b[0mname\u001b[0m\u001b[1;33m)\u001b[0m\u001b[1;33m:\u001b[0m\u001b[1;33m\u001b[0m\u001b[1;33m\u001b[0m\u001b[0m\n\u001b[0;32m   5273\u001b[0m                 \u001b[1;32mreturn\u001b[0m \u001b[0mself\u001b[0m\u001b[1;33m[\u001b[0m\u001b[0mname\u001b[0m\u001b[1;33m]\u001b[0m\u001b[1;33m\u001b[0m\u001b[1;33m\u001b[0m\u001b[0m\n\u001b[1;32m-> 5274\u001b[1;33m             \u001b[1;32mreturn\u001b[0m \u001b[0mobject\u001b[0m\u001b[1;33m.\u001b[0m\u001b[0m__getattribute__\u001b[0m\u001b[1;33m(\u001b[0m\u001b[0mself\u001b[0m\u001b[1;33m,\u001b[0m \u001b[0mname\u001b[0m\u001b[1;33m)\u001b[0m\u001b[1;33m\u001b[0m\u001b[1;33m\u001b[0m\u001b[0m\n\u001b[0m\u001b[0;32m   5275\u001b[0m \u001b[1;33m\u001b[0m\u001b[0m\n\u001b[0;32m   5276\u001b[0m     \u001b[1;32mdef\u001b[0m \u001b[0m__setattr__\u001b[0m\u001b[1;33m(\u001b[0m\u001b[0mself\u001b[0m\u001b[1;33m,\u001b[0m \u001b[0mname\u001b[0m\u001b[1;33m:\u001b[0m \u001b[0mstr\u001b[0m\u001b[1;33m,\u001b[0m \u001b[0mvalue\u001b[0m\u001b[1;33m)\u001b[0m \u001b[1;33m->\u001b[0m \u001b[1;32mNone\u001b[0m\u001b[1;33m:\u001b[0m\u001b[1;33m\u001b[0m\u001b[1;33m\u001b[0m\u001b[0m\n",
      "\u001b[1;31mAttributeError\u001b[0m: 'Series' object has no attribute 'compare'"
     ]
    }
   ],
   "source": [
    "ser1.compare(ser2)"
   ]
  },
  {
   "cell_type": "code",
   "execution_count": null,
   "metadata": {},
   "outputs": [],
   "source": []
  }
 ],
 "metadata": {
  "kernelspec": {
   "display_name": "Python 3",
   "language": "python",
   "name": "python3"
  },
  "language_info": {
   "codemirror_mode": {
    "name": "ipython",
    "version": 3
   },
   "file_extension": ".py",
   "mimetype": "text/x-python",
   "name": "python",
   "nbconvert_exporter": "python",
   "pygments_lexer": "ipython3",
   "version": "3.7.3"
  },
  "pycharm": {
   "stem_cell": {
    "cell_type": "raw",
    "metadata": {
     "collapsed": false
    },
    "source": []
   }
  }
 },
 "nbformat": 4,
 "nbformat_minor": 1
}
