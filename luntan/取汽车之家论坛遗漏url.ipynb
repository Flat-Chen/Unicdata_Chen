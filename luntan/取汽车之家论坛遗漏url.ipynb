{
 "cells": [
  {
   "cell_type": "code",
   "execution_count": 14,
   "metadata": {
    "pycharm": {
     "is_executing": false,
     "name": "#%%\n"
    }
   },
   "outputs": [
    {
     "name": "stdout",
     "output_type": "stream",
     "text": [
      "2020-10-24 2020-10-01\n"
     ]
    }
   ],
   "source": [
    "import time\n",
    "import pymysql\n",
    "import datetime\n",
    "\n",
    "# 打开数据库连接\n",
    "db = pymysql.connect(\"192.168.1.94\", \"dataUser94\",\n",
    "                     \"94dataUser@2020\", \"saicnqms\")\n",
    "\n",
    "# 使用cursor()方法获取操作游标\n",
    "cursor = db.cursor()\n",
    "\n",
    "the_day_before_yesterday = time.strftime(\n",
    "    \"%Y-%m\", time.localtime()) + '-' + str(int(time.strftime(\"%d\", time.localtime())) - 3)\n",
    "last_month = datetime.datetime.now().month - 1\n",
    "last_month = f\"0{str(last_month)}\" if last_month < 10 else last_month\n",
    "last_month = str(datetime.datetime.now().year) + '-' + str(last_month) + '-01'\n",
    "last_month = '2020-10-01'\n",
    "print(the_day_before_yesterday, last_month)\n"
   ]
  },
  {
   "cell_type": "code",
   "execution_count": 15,
   "metadata": {
    "pycharm": {
     "is_executing": false,
     "name": "#%% 查询url总表中上个月到前三天的所有url\n"
    }
   },
   "outputs": [
    {
     "name": "stdout",
     "output_type": "stream",
     "text": [
      "['_id', 'grabtime', 'posted_time', 'isvideo', 'car_id', 'user_car', 'page', 'brand', 'factory', 'tiezi_url', 'status']\n",
      "88811\n"
     ]
    }
   ],
   "source": [
    "# SQL 查询语句\n",
    "# 总url\n",
    "try:\n",
    "    #     获取表头\n",
    "    cursor.execute(\n",
    "        '''select *  from autohome_luntan_allurl;''')\n",
    "    cols1 = [i[0] for i in cursor.description]\n",
    "    print(cols1)\n",
    "    # 执行SQL语句\n",
    "    sql1 = \"SELECT posted_time,user_car,brand,factory,tiezi_url,isvideo FROM autohome_luntan_allurl WHERE posted_time <= '{}' AND  posted_time >= '{}'\".format(\n",
    "        the_day_before_yesterday, last_month)\n",
    "    cursor.execute(sql1)\n",
    "    # 获取所有记录列表\n",
    "    results1 = cursor.fetchall()\n",
    "    print(len(results1))\n",
    "#     print(results1)\n",
    "except:\n",
    "    print(\"总URL表查询失败\")"
   ]
  },
  {
   "cell_type": "code",
   "execution_count": 5,
   "metadata": {
    "pycharm": {
     "is_executing": false,
     "name": "#%%  查询已经抓取完成的表的上个月到三天前的url\n"
    }
   },
   "outputs": [
    {
     "name": "stdout",
     "output_type": "stream",
     "text": [
      "['id', 'brand', 'click_num', 'content', 'content_num', 'factory', 'grabtime', 'information_source', 'parsetime', 'posted_time', 'province', 'region', 'reply_num', 'statusplus', 'title', 'url', 'user_car', 'user_name', 'create_time']\n",
      "78683\n"
     ]
    }
   ],
   "source": [
    "# 已经抓取的url\n",
    "try:\n",
    "    #     获取表头\n",
    "    cursor.execute('''select *  from luntan_all_copy;''')\n",
    "    cols2 = [i[0] for i in cursor.description]\n",
    "    print(cols2)\n",
    "    # 执行SQL语句\n",
    "    sql2 = \"SELECT posted_time,user_car,brand,factory,url FROM luntan_all_copy WHERE posted_time <= '{}' AND posted_time >= '{}' AND information_source = 'autohome'\".format(\n",
    "        the_day_before_yesterday, last_month)\n",
    "    cursor.execute(sql2)\n",
    "    results2 = cursor.fetchall()\n",
    "    print(len(results2))\n",
    "except:\n",
    "    print(\"luntan_all_copy表查询失败\")\n",
    "\n",
    "# 关闭数据库连接\n",
    "\n",
    "db.close()"
   ]
  },
  {
   "cell_type": "code",
   "execution_count": 16,
   "metadata": {
    "pycharm": {
     "is_executing": false,
     "name": "#%%\n"
    }
   },
   "outputs": [
    {
     "name": "stdout",
     "output_type": "stream",
     "text": [
      "总url表去重前： 88811\n",
      "总url表去重后： 47895\n",
      "           posted_time   user_car brand factory  \\\n",
      "0  2020-10-23 17:33:50       创界论坛   雪佛兰    上汽通用   \n",
      "1  2020-10-23 13:49:33       创界论坛   雪佛兰    上汽通用   \n",
      "2  2020-10-23 11:49:05       创界论坛   雪佛兰    上汽通用   \n",
      "3  2020-10-22 20:23:38       创界论坛   雪佛兰    上汽通用   \n",
      "4  2020-10-20 18:55:28  Orlando论坛   雪佛兰    上汽通用   \n",
      "\n",
      "                                                 url isvideo  \n",
      "0  http://club.autohome.com.cn/bbs/thread/4f8b719...       0  \n",
      "1  http://club.autohome.com.cn/bbs/thread/85d2954...       0  \n",
      "2  http://club.autohome.com.cn/bbs/thread/d12654b...       0  \n",
      "3  http://club.autohome.com.cn/bbs/thread/13a9ab9...       1  \n",
      "4  http://club.autohome.com.cn/bbs/thread/6528409...       0  \n"
     ]
    }
   ],
   "source": [
    "import pandas as pd\n",
    "import numpy as np\n",
    "\n",
    "df1 = pd.DataFrame(np.array(results1), columns=['posted_time','user_car','brand','factory','url','isvideo'])\n",
    "print('总url表去重前：', len(df1))\n",
    "df1 = df1.drop_duplicates('url')\n",
    "print('总url表去重后：', len(df1))\n",
    "df1['url'] = df1['url'].map(lambda x: x.replace('https', 'http'))\n",
    "\n",
    "print(df1.head())"
   ]
  },
  {
   "cell_type": "code",
   "execution_count": 7,
   "metadata": {
    "pycharm": {
     "is_executing": false,
     "name": "#%%\n"
    }
   },
   "outputs": [
    {
     "name": "stdout",
     "output_type": "stream",
     "text": [
      "已抓取表去重前： 78683\n",
      "已抓取表去重后： 38300\n",
      "          posted_time   user_car brand factory  \\\n",
      "0 2020-10-12 06:55:40  荣威RX5 MAX    荣威   上汽乘用车   \n",
      "1 2020-10-12 06:56:27  荣威RX5 MAX    荣威   上汽乘用车   \n",
      "2 2020-10-12 06:59:41  荣威RX5 MAX    荣威   上汽乘用车   \n",
      "3 2020-10-09 22:13:11      迈锐宝XL   雪佛兰    上汽通用   \n",
      "4 2020-10-10 13:03:49  荣威RX5 MAX    荣威   上汽乘用车   \n",
      "\n",
      "                                                 url  \n",
      "0  http://club.autohome.com.cn/bbs/thread/c2480a0...  \n",
      "1  http://club.autohome.com.cn/bbs/thread/9778b8b...  \n",
      "2  http://club.autohome.com.cn/bbs/thread/ce6d9bf...  \n",
      "3  http://club.autohome.com.cn/bbs/thread/7442983...  \n",
      "4  http://club.autohome.com.cn/bbs/thread/dc20e22...  \n"
     ]
    }
   ],
   "source": [
    "df2 = pd.DataFrame(np.array(results2), columns=['posted_time','user_car','brand','factory','url'])\n",
    "print('已抓取表去重前：', len(df2))\n",
    "df2 = df2.drop_duplicates('url')\n",
    "print('已抓取表去重后：', len(df2))\n",
    "df2['url'] = df2['url'].map(lambda x: x.replace('https', 'http'))\n",
    "\n",
    "print(df2.head())"
   ]
  },
  {
   "cell_type": "code",
   "execution_count": 17,
   "metadata": {
    "pycharm": {
     "is_executing": false,
     "name": "#%%\n"
    }
   },
   "outputs": [
    {
     "data": {
      "text/html": [
       "<div>\n",
       "<style scoped>\n",
       "    .dataframe tbody tr th:only-of-type {\n",
       "        vertical-align: middle;\n",
       "    }\n",
       "\n",
       "    .dataframe tbody tr th {\n",
       "        vertical-align: top;\n",
       "    }\n",
       "\n",
       "    .dataframe thead th {\n",
       "        text-align: right;\n",
       "    }\n",
       "</style>\n",
       "<table border=\"1\" class=\"dataframe\">\n",
       "  <thead>\n",
       "    <tr style=\"text-align: right;\">\n",
       "      <th></th>\n",
       "      <th>posted_time</th>\n",
       "      <th>user_car</th>\n",
       "      <th>brand</th>\n",
       "      <th>factory</th>\n",
       "      <th>url</th>\n",
       "      <th>isvideo</th>\n",
       "    </tr>\n",
       "  </thead>\n",
       "  <tbody>\n",
       "    <tr>\n",
       "      <th>0</th>\n",
       "      <td>2020-10-23 17:33:50</td>\n",
       "      <td>创界论坛</td>\n",
       "      <td>雪佛兰</td>\n",
       "      <td>上汽通用</td>\n",
       "      <td>http://club.autohome.com.cn/bbs/thread/4f8b719...</td>\n",
       "      <td>0</td>\n",
       "    </tr>\n",
       "    <tr>\n",
       "      <th>1</th>\n",
       "      <td>2020-10-23 13:49:33</td>\n",
       "      <td>创界论坛</td>\n",
       "      <td>雪佛兰</td>\n",
       "      <td>上汽通用</td>\n",
       "      <td>http://club.autohome.com.cn/bbs/thread/85d2954...</td>\n",
       "      <td>0</td>\n",
       "    </tr>\n",
       "    <tr>\n",
       "      <th>2</th>\n",
       "      <td>2020-10-23 11:49:05</td>\n",
       "      <td>创界论坛</td>\n",
       "      <td>雪佛兰</td>\n",
       "      <td>上汽通用</td>\n",
       "      <td>http://club.autohome.com.cn/bbs/thread/d12654b...</td>\n",
       "      <td>0</td>\n",
       "    </tr>\n",
       "    <tr>\n",
       "      <th>3</th>\n",
       "      <td>2020-10-22 20:23:38</td>\n",
       "      <td>创界论坛</td>\n",
       "      <td>雪佛兰</td>\n",
       "      <td>上汽通用</td>\n",
       "      <td>http://club.autohome.com.cn/bbs/thread/13a9ab9...</td>\n",
       "      <td>1</td>\n",
       "    </tr>\n",
       "    <tr>\n",
       "      <th>4</th>\n",
       "      <td>2020-10-20 18:55:28</td>\n",
       "      <td>Orlando论坛</td>\n",
       "      <td>雪佛兰</td>\n",
       "      <td>上汽通用</td>\n",
       "      <td>http://club.autohome.com.cn/bbs/thread/6528409...</td>\n",
       "      <td>0</td>\n",
       "    </tr>\n",
       "  </tbody>\n",
       "</table>\n",
       "</div>"
      ],
      "text/plain": [
       "           posted_time   user_car brand factory  \\\n",
       "0  2020-10-23 17:33:50       创界论坛   雪佛兰    上汽通用   \n",
       "1  2020-10-23 13:49:33       创界论坛   雪佛兰    上汽通用   \n",
       "2  2020-10-23 11:49:05       创界论坛   雪佛兰    上汽通用   \n",
       "3  2020-10-22 20:23:38       创界论坛   雪佛兰    上汽通用   \n",
       "4  2020-10-20 18:55:28  Orlando论坛   雪佛兰    上汽通用   \n",
       "\n",
       "                                                 url isvideo  \n",
       "0  http://club.autohome.com.cn/bbs/thread/4f8b719...       0  \n",
       "1  http://club.autohome.com.cn/bbs/thread/85d2954...       0  \n",
       "2  http://club.autohome.com.cn/bbs/thread/d12654b...       0  \n",
       "3  http://club.autohome.com.cn/bbs/thread/13a9ab9...       1  \n",
       "4  http://club.autohome.com.cn/bbs/thread/6528409...       0  "
      ]
     },
     "execution_count": 17,
     "metadata": {},
     "output_type": "execute_result"
    }
   ],
   "source": [
    "df1 = df1.append(df2)\n",
    "df1 = df1.append(df2)\n",
    "df1.head()"
   ]
  },
  {
   "cell_type": "code",
   "execution_count": 18,
   "metadata": {
    "pycharm": {
     "is_executing": false
    }
   },
   "outputs": [
    {
     "data": {
      "text/plain": [
       "(10698, 6)"
      ]
     },
     "execution_count": 18,
     "metadata": {},
     "output_type": "execute_result"
    }
   ],
   "source": [
    "df0 = df1.drop_duplicates(subset=['url'], keep=False)\n",
    "df0.shape"
   ]
  },
  {
   "cell_type": "code",
   "execution_count": 19,
   "metadata": {},
   "outputs": [
    {
     "data": {
      "text/html": [
       "<div>\n",
       "<style scoped>\n",
       "    .dataframe tbody tr th:only-of-type {\n",
       "        vertical-align: middle;\n",
       "    }\n",
       "\n",
       "    .dataframe tbody tr th {\n",
       "        vertical-align: top;\n",
       "    }\n",
       "\n",
       "    .dataframe thead th {\n",
       "        text-align: right;\n",
       "    }\n",
       "</style>\n",
       "<table border=\"1\" class=\"dataframe\">\n",
       "  <thead>\n",
       "    <tr style=\"text-align: right;\">\n",
       "      <th></th>\n",
       "      <th>posted_time</th>\n",
       "      <th>user_car</th>\n",
       "      <th>brand</th>\n",
       "      <th>factory</th>\n",
       "      <th>url</th>\n",
       "      <th>isvideo</th>\n",
       "    </tr>\n",
       "  </thead>\n",
       "  <tbody>\n",
       "    <tr>\n",
       "      <th>0</th>\n",
       "      <td>2020-10-23 17:33:50</td>\n",
       "      <td>创界论坛</td>\n",
       "      <td>雪佛兰</td>\n",
       "      <td>上汽通用</td>\n",
       "      <td>http://club.autohome.com.cn/bbs/thread/4f8b719...</td>\n",
       "      <td>0</td>\n",
       "    </tr>\n",
       "    <tr>\n",
       "      <th>1</th>\n",
       "      <td>2020-10-23 13:49:33</td>\n",
       "      <td>创界论坛</td>\n",
       "      <td>雪佛兰</td>\n",
       "      <td>上汽通用</td>\n",
       "      <td>http://club.autohome.com.cn/bbs/thread/85d2954...</td>\n",
       "      <td>0</td>\n",
       "    </tr>\n",
       "    <tr>\n",
       "      <th>2</th>\n",
       "      <td>2020-10-23 11:49:05</td>\n",
       "      <td>创界论坛</td>\n",
       "      <td>雪佛兰</td>\n",
       "      <td>上汽通用</td>\n",
       "      <td>http://club.autohome.com.cn/bbs/thread/d12654b...</td>\n",
       "      <td>0</td>\n",
       "    </tr>\n",
       "    <tr>\n",
       "      <th>3</th>\n",
       "      <td>2020-10-22 20:23:38</td>\n",
       "      <td>创界论坛</td>\n",
       "      <td>雪佛兰</td>\n",
       "      <td>上汽通用</td>\n",
       "      <td>http://club.autohome.com.cn/bbs/thread/13a9ab9...</td>\n",
       "      <td>1</td>\n",
       "    </tr>\n",
       "    <tr>\n",
       "      <th>4</th>\n",
       "      <td>2020-10-20 18:55:28</td>\n",
       "      <td>Orlando论坛</td>\n",
       "      <td>雪佛兰</td>\n",
       "      <td>上汽通用</td>\n",
       "      <td>http://club.autohome.com.cn/bbs/thread/6528409...</td>\n",
       "      <td>0</td>\n",
       "    </tr>\n",
       "  </tbody>\n",
       "</table>\n",
       "</div>"
      ],
      "text/plain": [
       "           posted_time   user_car brand factory  \\\n",
       "0  2020-10-23 17:33:50       创界论坛   雪佛兰    上汽通用   \n",
       "1  2020-10-23 13:49:33       创界论坛   雪佛兰    上汽通用   \n",
       "2  2020-10-23 11:49:05       创界论坛   雪佛兰    上汽通用   \n",
       "3  2020-10-22 20:23:38       创界论坛   雪佛兰    上汽通用   \n",
       "4  2020-10-20 18:55:28  Orlando论坛   雪佛兰    上汽通用   \n",
       "\n",
       "                                                 url isvideo  \n",
       "0  http://club.autohome.com.cn/bbs/thread/4f8b719...       0  \n",
       "1  http://club.autohome.com.cn/bbs/thread/85d2954...       0  \n",
       "2  http://club.autohome.com.cn/bbs/thread/d12654b...       0  \n",
       "3  http://club.autohome.com.cn/bbs/thread/13a9ab9...       1  \n",
       "4  http://club.autohome.com.cn/bbs/thread/6528409...       0  "
      ]
     },
     "execution_count": 19,
     "metadata": {},
     "output_type": "execute_result"
    }
   ],
   "source": [
    "df0.head()"
   ]
  },
  {
   "cell_type": "code",
   "execution_count": 23,
   "metadata": {},
   "outputs": [
    {
     "data": {
      "text/plain": [
       "(10698, 6)"
      ]
     },
     "execution_count": 23,
     "metadata": {},
     "output_type": "execute_result"
    }
   ],
   "source": [
    "df0 = df0.drop_duplicates('url')\n",
    "df0.shape"
   ]
  },
  {
   "cell_type": "code",
   "execution_count": 24,
   "metadata": {},
   "outputs": [],
   "source": [
    "#漏抓url写入mongo\n",
    "# from sqlalchemy import create_engine\n",
    "\n",
    "# connect = create_engine('mysql+pymysql://94dataUser@2020:dataUser94@192.168.1.94:3306/saicnqms?charset=utf-8')\n",
    "# pd.io.sql.to_sql()"
   ]
  },
  {
   "cell_type": "code",
   "execution_count": 21,
   "metadata": {},
   "outputs": [
    {
     "data": {
      "text/plain": [
       "<pymongo.results.InsertManyResult at 0x2f08f611708>"
      ]
     },
     "execution_count": 21,
     "metadata": {},
     "output_type": "execute_result"
    }
   ],
   "source": [
    "#漏抓url写入mongo\n",
    "import pymongo\n",
    "mongo_client = pymongo.MongoClient('192.168.2.149', 27017)\n",
    "db = mongo_client['luntan']\n",
    "mycol = db['autohome_luntan_lost']\n",
    "data = df0.to_dict(orient='record')\n",
    "mycol.insert_many(data)"
   ]
  },
  {
   "cell_type": "code",
   "execution_count": null,
   "metadata": {},
   "outputs": [],
   "source": []
  },
  {
   "cell_type": "code",
   "execution_count": null,
   "metadata": {},
   "outputs": [],
   "source": []
  },
  {
   "cell_type": "code",
   "execution_count": null,
   "metadata": {
    "pycharm": {
     "name": "#%%\n"
    }
   },
   "outputs": [],
   "source": []
  },
  {
   "cell_type": "code",
   "execution_count": 5,
   "metadata": {
    "pycharm": {
     "name": "#%%\n"
    }
   },
   "outputs": [
    {
     "name": "stdout",
     "output_type": "stream",
     "text": [
      "{'returncode': 0, 'message': '', 'result': {'pageindex': 1, 'pagecount': 15, 'rowcount': 1478, 'currpagerowcount': 0, 'list': [{'topicid': 91028654, 'title': '车门有一小块凹陷,没伤车漆,怎么修复?', 'post_memberid': 199375672, 'post_membername': 'PP小朋友', 'postdate': '2020-10-25 23:13:57', 'ispic': 0, 'ispoll': 18, 'isrefine': 0, 'replycount': 4, 'viewcount': 0, 'videoid': '', 'isvideo': 0, 'videoinfo': None, 'qainfo': {'topicid': 91028654, 'issolve': False, 'ishigh': False, 'confirmreplyid': 0, 'summary': ''}, 'tags': [], 'topictype': '问', 'imgs': '', 'jximgs': '', 'url': 'http://club.autohome.com.cn/bbs/thread/ac29bb177ee5eb48/91028654-1.html', 'piccount': 0, 'isjingxuan': 0, 'issolve': 0, 'liveid': None, 'livecover': None}, {'topicid': 90921495, 'title': '均速行驶能省油吗？', 'post_memberid': 10686541, 'post_membername': '芝罘人', 'postdate': '2020-10-21 20:31:47', 'ispic': 0, 'ispoll': 18, 'isrefine': 0, 'replycount': 1, 'viewcount': 0, 'videoid': '', 'isvideo': 0, 'videoinfo': None, 'qainfo': {'topicid': 90921495, 'issolve': False, 'ishigh': False, 'confirmreplyid': 0, 'summary': ''}, 'tags': [], 'topictype': '问', 'imgs': '', 'jximgs': '', 'url': 'http://club.autohome.com.cn/bbs/thread/85bb57bbaf41ece0/90921495-1.html', 'piccount': 0, 'isjingxuan': 0, 'issolve': 0, 'liveid': None, 'livecover': None}, {'topicid': 90895858, 'title': '收广东地区TF', 'post_memberid': 5853897, 'post_membername': 'qjxs', 'postdate': '2020-10-20 21:45:45', 'ispic': 1, 'ispoll': 0, 'isrefine': 0, 'replycount': 0, 'viewcount': 0, 'videoid': '', 'isvideo': 0, 'videoinfo': None, 'qainfo': None, 'tags': [], 'topictype': '', 'imgs': 'http://club2.autoimg.cn/album/g30/M01/CA/06/userphotos/2020/10/20/21/500_ChwFlF-O6gaAUWXOAAvOlpNtPgc329.jpg', 'jximgs': '', 'url': 'http://club.autohome.com.cn/bbs/thread/fafa33ca819293a1/90895858-1.html', 'piccount': 1, 'isjingxuan': 0, 'issolve': 0, 'liveid': None, 'livecover': None}, {'topicid': 90892697, 'title': '向前走吧，沿着你的道路鲜花将不断开放。', 'post_memberid': 198128350, 'post_membername': '长春车友六六六', 'postdate': '2020-10-20 19:01:21', 'ispic': 1, 'ispoll': 90, 'isrefine': 0, 'replycount': 0, 'viewcount': 0, 'videoid': '', 'isvideo': 0, 'videoinfo': None, 'qainfo': None, 'tags': [], 'topictype': '', 'imgs': 'http://club2.autoimg.cn/album/g24/M06/4F/B9/userphotos/2020/10/20/19/ChsEl1-Ow32ALpEYAACbwSVuMfk435.jpg,http://club2.autoimg.cn/album/g28/M0B/D7/C7/userphotos/2020/10/20/19/ChwFkl-Ow36AKrw-AAC08cLwF0w466.jpg,http://club2.autoimg.cn/album/g24/M08/4F/B9/userphotos/2020/10/20/19/ChsEl1-Ow3-AbkCHAACBNEmMXFg921.jpg,http://club2.autoimg.cn/album/g24/M02/5D/7F/userphotos/2020/10/20/19/ChsEeV-Ow3-ABXTgAAB3IVrpGWE115.jpg,http://club2.autoimg.cn/album/g24/M06/5D/7F/userphotos/2020/10/20/19/ChsEeV-Ow4CAKt9SAAB662AUAA0232.jpg', 'jximgs': '', 'url': 'http://club.autohome.com.cn/bbs/thread/508039f5e484e117/90892697-1.html', 'piccount': 6, 'isjingxuan': 0, 'issolve': 0, 'liveid': None, 'livecover': None}, {'topicid': 90860885, 'title': '电缆失窃后突然回归库房，迷之操作竟是嫌疑人做贼心虚', 'post_memberid': 170988735, 'post_membername': '海小网', 'postdate': '2020-10-19 13:49:51', 'ispic': 0, 'ispoll': 0, 'isrefine': 0, 'replycount': 0, 'viewcount': 0, 'videoid': '', 'isvideo': 0, 'videoinfo': None, 'qainfo': None, 'tags': [], 'topictype': '', 'imgs': '', 'jximgs': '', 'url': 'http://club.autohome.com.cn/bbs/thread/03b8a688a58a3dfd/90860885-1.html', 'piccount': 0, 'isjingxuan': 0, 'issolve': 0, 'liveid': None, 'livecover': None}, {'topicid': 90848838, 'title': '名爵GT其实看着不错，但知名度不高！', 'post_memberid': 53725793, 'post_membername': '木木乖呐', 'postdate': '2020-10-18 22:50:55', 'ispic': 1, 'ispoll': 90, 'isrefine': 0, 'replycount': 0, 'viewcount': 0, 'videoid': '', 'isvideo': 0, 'videoinfo': None, 'qainfo': None, 'tags': [], 'topictype': '', 'imgs': 'http://club2.autoimg.cn/album/g1/M0B/AF/5A/userphotos/2020/10/18/22/ChwFqV-MVkmAe8w7AAIInr4MP_k168.jpg,http://club2.autoimg.cn/album/g1/M02/9F/2E/userphotos/2020/10/18/22/ChsEj1-MVkqAMDk5AAIUxbylUQo070.jpg,http://club2.autoimg.cn/album/g1/M0B/A7/A0/userphotos/2020/10/18/22/ChsEmV-MVkuALnUVAAKjNhgf72c413.jpg,http://club2.autoimg.cn/album/g1/M09/A7/A0/userphotos/2020/10/18/22/ChsEmV-MVkuAGahTAALd-GB9Q5M251.jpg,http://club2.autoimg.cn/album/g1/M04/A7/A0/userphotos/2020/10/18/22/ChsEmV-MVkyAbwIJAAInhB7y-PM414.jpg', 'jximgs': '', 'url': 'http://club.autohome.com.cn/bbs/thread/de5fccf69f75373c/90848838-1.html', 'piccount': 9, 'isjingxuan': 0, 'issolve': 0, 'liveid': None, 'livecover': None}, {'topicid': 90808898, 'title': '汽车喷漆后,立刻洗车打蜡好吗？', 'post_memberid': 28394495, 'post_membername': 'hyqttbsw', 'postdate': '2020-10-17 10:47:54', 'ispic': 0, 'ispoll': 18, 'isrefine': 0, 'replycount': 2, 'viewcount': 0, 'videoid': '', 'isvideo': 0, 'videoinfo': None, 'qainfo': {'topicid': 90808898, 'issolve': False, 'ishigh': False, 'confirmreplyid': 0, 'summary': ''}, 'tags': [], 'topictype': '问', 'imgs': '', 'jximgs': '', 'url': 'http://club.autohome.com.cn/bbs/thread/d3373ec0fa15b1cd/90808898-1.html', 'piccount': 0, 'isjingxuan': 0, 'issolve': 0, 'liveid': None, 'livecover': None}, {'topicid': 90795079, 'title': 'BOSE+全景天窗，上汽名爵MG领航将上市，颜值高配置强。', 'post_memberid': 23009869, 'post_membername': '旅途happy', 'postdate': '2020-10-16 18:30:01', 'ispic': 1, 'ispoll': 90, 'isrefine': 0, 'replycount': 0, 'viewcount': 0, 'videoid': '', 'isvideo': 0, 'videoinfo': None, 'qainfo': None, 'tags': [], 'topictype': '', 'imgs': 'http://club2.autoimg.cn/album/g26/M09/D0/4E/userphotos/2020/10/16/18/ChwFkF-JdiOAWZ0eAAGONDQWItQ093.jpg,http://club2.autoimg.cn/album/g26/M07/7E/FD/userphotos/2020/10/16/18/ChsEnF-JdiSAft6NAAEPKFvhY7o272.jpg,http://club2.autoimg.cn/album/g25/M04/D7/34/userphotos/2020/10/16/18/ChsEel-JdiWActuGAAEalP1cWdw480.jpg,http://club2.autoimg.cn/album/g26/M08/D0/4F/userphotos/2020/10/16/18/ChwFkF-JdiaAIGiUAADNYYsT8d0437.jpg,http://club2.autoimg.cn/album/g26/M00/7E/F9/userphotos/2020/10/16/18/ChsEe1-JdieAGFk7AAES5DjZH6U008.jpg', 'jximgs': '', 'url': 'http://club.autohome.com.cn/bbs/thread/59783b7a6c0e3bc8/90795079-1.html', 'piccount': 6, 'isjingxuan': 0, 'issolve': 0, 'liveid': None, 'livecover': None}, {'topicid': 90792256, 'title': '怎么去验车啊？', 'post_memberid': 66288500, 'post_membername': 'wang251720102', 'postdate': '2020-10-16 16:34:31', 'ispic': 0, 'ispoll': 18, 'isrefine': 0, 'replycount': 4, 'viewcount': 0, 'videoid': '', 'isvideo': 0, 'videoinfo': None, 'qainfo': {'topicid': 90792256, 'issolve': False, 'ishigh': False, 'confirmreplyid': 0, 'summary': ''}, 'tags': [], 'topictype': '问', 'imgs': '', 'jximgs': '', 'url': 'http://club.autohome.com.cn/bbs/thread/062997a9d220fbe8/90792256-1.html', 'piccount': 0, 'isjingxuan': 0, 'issolve': 0, 'liveid': None, 'livecover': None}, {'topicid': 90758053, 'title': '汽车内饰清洗后会改善汽车空气质量吗？', 'post_memberid': 20258575, 'post_membername': 'kaobenburongyi1', 'postdate': '2020-10-15 10:09:35', 'ispic': 0, 'ispoll': 18, 'isrefine': 0, 'replycount': 2, 'viewcount': 0, 'videoid': '', 'isvideo': 0, 'videoinfo': None, 'qainfo': {'topicid': 90758053, 'issolve': False, 'ishigh': False, 'confirmreplyid': 0, 'summary': ''}, 'tags': [], 'topictype': '问', 'imgs': '', 'jximgs': '', 'url': 'http://club.autohome.com.cn/bbs/thread/72a87a721f517eea/90758053-1.html', 'piccount': 0, 'isjingxuan': 0, 'issolve': 0, 'liveid': None, 'livecover': None}, {'topicid': 90751432, 'title': '大保养一般多久做一次？', 'post_memberid': 95732949, 'post_membername': '古德耐斯', 'postdate': '2020-10-14 23:09:15', 'ispic': 0, 'ispoll': 18, 'isrefine': 0, 'replycount': 0, 'viewcount': 0, 'videoid': '', 'isvideo': 0, 'videoinfo': None, 'qainfo': {'topicid': 90751432, 'issolve': False, 'ishigh': False, 'confirmreplyid': 0, 'summary': ''}, 'tags': [], 'topictype': '问', 'imgs': '', 'jximgs': '', 'url': 'http://club.autohome.com.cn/bbs/thread/a0b747d882ff863f/90751432-1.html', 'piccount': 0, 'isjingxuan': 0, 'issolve': 0, 'liveid': None, 'livecover': None}, {'topicid': 90734062, 'title': '名爵领航作为MG第3代家族设计语言的首发车型，视觉冲击力强大', 'post_memberid': 23009869, 'post_membername': '旅途happy', 'postdate': '2020-10-14 11:24:17', 'ispic': 1, 'ispoll': 90, 'isrefine': 0, 'replycount': 0, 'viewcount': 0, 'videoid': '', 'isvideo': 0, 'videoinfo': None, 'qainfo': None, 'tags': [], 'topictype': '', 'imgs': 'http://club2.autoimg.cn/album/g26/M08/6D/20/userphotos/2020/10/14/11/ChsEe1-Gb1yAMGquAACiBQHZp-o731.jpg,http://club2.autoimg.cn/album/g2/M01/A5/4A/userphotos/2020/10/14/11/ChsEml-Gb12Ac3T9AADYkAZWSAQ179.jpg,http://club2.autoimg.cn/album/g2/M0B/6B/2C/userphotos/2020/10/14/11/ChsEkF-Gb12AYltgAADEtH7UlSU956.jpg,http://club2.autoimg.cn/album/g2/M09/90/F6/userphotos/2020/10/14/11/ChwFql-Gb16AT9UpAADRSqreVn4909.jpg,http://club2.autoimg.cn/album/g26/M04/6D/20/userphotos/2020/10/14/11/ChsEe1-Gb1-AckLiAADPcGj8fLQ043.jpg', 'jximgs': '', 'url': 'http://club.autohome.com.cn/bbs/thread/8db01d3726b200b8/90734062-1.html', 'piccount': 8, 'isjingxuan': 0, 'issolve': 0, 'liveid': None, 'livecover': None}, {'topicid': 90644604, 'title': '旅行的意义在于欣赏路上的风景，记录每刻的心情。', 'post_memberid': 26566779, 'post_membername': '名字297662', 'postdate': '2020-10-10 22:35:53', 'ispic': 1, 'ispoll': 90, 'isrefine': 0, 'replycount': 0, 'viewcount': 0, 'videoid': '', 'isvideo': 0, 'videoinfo': None, 'qainfo': None, 'tags': [], 'topictype': '', 'imgs': 'http://club2.autoimg.cn/album/g1/M02/6F/DD/userphotos/2020/10/10/22/ChsEmV-BxsWALf_-AAJrtV-rdMU113.jpg,http://club2.autoimg.cn/album/g1/M01/67/5C/userphotos/2020/10/10/22/ChsEj1-BxsaAAzizAAMUK4lAW1E251.jpg,http://club2.autoimg.cn/album/g1/M03/67/5C/userphotos/2020/10/10/22/ChsEj1-BxsaAQEhUAARJgUkpecY108.jpg,http://club2.autoimg.cn/album/g1/M0A/77/B9/userphotos/2020/10/10/22/ChwFqV-BxseATdlUAAQ3F1Nkl08967.jpg,http://club2.autoimg.cn/album/g1/M09/6F/DE/userphotos/2020/10/10/22/ChsEmV-BxsiAR2KrAAPhyi1FZKU980.jpg', 'jximgs': '', 'url': 'http://club.autohome.com.cn/bbs/thread/8d0a8cd78abea7a9/90644604-1.html', 'piccount': 6, 'isjingxuan': 0, 'issolve': 0, 'liveid': None, 'livecover': None}, {'topicid': 90639695, 'title': '这里的风景美不胜收，真让人流连忘返。', 'post_memberid': 199076411, 'post_membername': '努力努力努力888', 'postdate': '2020-10-10 19:20:31', 'ispic': 1, 'ispoll': 90, 'isrefine': 0, 'replycount': 0, 'viewcount': 0, 'videoid': '', 'isvideo': 0, 'videoinfo': None, 'qainfo': None, 'tags': [], 'topictype': '', 'imgs': 'http://club2.autoimg.cn/album/g28/M07/4A/E7/userphotos/2020/10/10/19/ChsEfV-BmPqACyPIAAL3uuGj1Rg936.jpg,http://club2.autoimg.cn/album/g1/M08/6E/C1/userphotos/2020/10/10/19/ChsEmV-BmPuAKE5vAAUL98wUubY754.jpg,http://club2.autoimg.cn/album/g1/M05/76/9B/userphotos/2020/10/10/19/ChwFqV-BmPyAF8_SAAMYaGT8_rg644.jpg,http://club2.autoimg.cn/album/g1/M0A/66/41/userphotos/2020/10/10/19/ChsEj1-BmP2AMn3XAATUg2cd_jU209.jpg,http://club2.autoimg.cn/album/g1/M05/6E/C1/userphotos/2020/10/10/19/ChsEmV-BmP2AQaBlAAN3F_oXv6Y437.jpg', 'jximgs': '', 'url': 'http://club.autohome.com.cn/bbs/thread/2472ea0d244c1b3a/90639695-1.html', 'piccount': 6, 'isjingxuan': 0, 'issolve': 0, 'liveid': None, 'livecover': None}, {'topicid': 90629134, 'title': '2020北京车展  名爵全新SUV旗舰领航正式上市', 'post_memberid': 27904242, 'post_membername': '冷静慎言', 'postdate': '2020-10-10 13:13:38', 'ispic': 1, 'ispoll': 90, 'isrefine': 0, 'replycount': 0, 'viewcount': 0, 'videoid': '', 'isvideo': 0, 'videoinfo': None, 'qainfo': None, 'tags': [], 'topictype': '', 'imgs': 'http://club2.autoimg.cn/album/g24/M06/98/89/userphotos/2020/10/10/13/ChwFjl-BQvuAfon_AAJIBUmqKlc355.jpg,http://club2.autoimg.cn/album/g24/M06/05/5D/userphotos/2020/10/10/13/ChsEl1-BQvyASZUIAALMd2VpJ68138.jpg,http://club2.autoimg.cn/album/g24/M0A/05/5D/userphotos/2020/10/10/13/ChsEl1-BQv2AaSxuAAMMJ_WslEE606.jpg,http://club2.autoimg.cn/album/g24/M00/98/8A/userphotos/2020/10/10/13/ChwFjl-BQv2ARJPpAAJrKG0pMBw235.jpg,http://club2.autoimg.cn/album/g24/M03/05/5E/userphotos/2020/10/10/13/ChsEl1-BQwCAAxHQAAMq78qFhM0620.jpg', 'jximgs': '', 'url': 'http://club.autohome.com.cn/bbs/thread/7a9f8639d6c1624e/90629134-1.html', 'piccount': 7, 'isjingxuan': 0, 'issolve': 0, 'liveid': None, 'livecover': None}, {'topicid': 90612276, 'title': '名爵领航犀利的三角眼、倾斜的鲨鱼鼻让前脸的很有攻击姿态', 'post_memberid': 38733113, 'post_membername': '过去式刺痛命脉', 'postdate': '2020-10-09 19:30:59', 'ispic': 1, 'ispoll': 90, 'isrefine': 0, 'replycount': 0, 'viewcount': 0, 'videoid': '', 'isvideo': 0, 'videoinfo': None, 'qainfo': None, 'tags': [], 'topictype': '', 'imgs': 'http://club2.autoimg.cn/album/g28/M03/43/E0/userphotos/2020/10/09/19/ChsEfV-ASe-AVBEHAACZGqDnzSM128.jpg,http://club2.autoimg.cn/album/g26/M07/4D/FA/userphotos/2020/10/09/19/ChsEnF-ASfCAEXuHAACGJmlGl5U939.jpg,http://club2.autoimg.cn/album/g26/M03/4E/00/userphotos/2020/10/09/19/ChsEe1-ASfCAC_VWAACPcuMKaX0462.jpg,http://club2.autoimg.cn/album/g26/M08/9F/71/userphotos/2020/10/09/19/ChwFkF-ASfGAe--uAAB_XQJrwUg855.jpg,http://club2.autoimg.cn/album/g26/M06/4D/FA/userphotos/2020/10/09/19/ChsEnF-ASfKABa2iAACbXScUTag469.jpg', 'jximgs': '', 'url': 'http://club.autohome.com.cn/bbs/thread/1c3430fde17643b2/90612276-1.html', 'piccount': 6, 'isjingxuan': 0, 'issolve': 0, 'liveid': None, 'livecover': None}, {'topicid': 90611744, 'title': '手动tf有没有国四的？', 'post_memberid': 191891296, 'post_membername': 'agxjhfpmilu', 'postdate': '2020-10-09 19:11:12', 'ispic': 0, 'ispoll': 18, 'isrefine': 0, 'replycount': 1, 'viewcount': 0, 'videoid': '', 'isvideo': 0, 'videoinfo': None, 'qainfo': {'topicid': 90611744, 'issolve': False, 'ishigh': False, 'confirmreplyid': 0, 'summary': ''}, 'tags': [], 'topictype': '问', 'imgs': '', 'jximgs': '', 'url': 'http://club.autohome.com.cn/bbs/thread/298a397cce9dbd6a/90611744-1.html', 'piccount': 0, 'isjingxuan': 0, 'issolve': 0, 'liveid': None, 'livecover': None}, {'topicid': 90611539, 'title': '江苏南通收一手动tf', 'post_memberid': 191891296, 'post_membername': 'agxjhfpmilu', 'postdate': '2020-10-09 19:02:43', 'ispic': 0, 'ispoll': 0, 'isrefine': 0, 'replycount': 0, 'viewcount': 0, 'videoid': '', 'isvideo': 0, 'videoinfo': None, 'qainfo': None, 'tags': [], 'topictype': '', 'imgs': '', 'jximgs': '', 'url': 'http://club.autohome.com.cn/bbs/thread/23c9766174b8d660/90611539-1.html', 'piccount': 0, 'isjingxuan': 0, 'issolve': 0, 'liveid': None, 'livecover': None}, {'topicid': 90603475, 'title': '牙膏可以修复汽车玻璃小刮痕吗?', 'post_memberid': 20258575, 'post_membername': 'kaobenburongyi1', 'postdate': '2020-10-09 13:41:46', 'ispic': 0, 'ispoll': 18, 'isrefine': 0, 'replycount': 3, 'viewcount': 0, 'videoid': '', 'isvideo': 0, 'videoinfo': None, 'qainfo': {'topicid': 90603475, 'issolve': False, 'ishigh': True, 'confirmreplyid': 0, 'summary': '牙膏是可以修复汽车玻璃上轻微的小划痕的，如果划痕很深的话就不能修饰了。维护汽车前挡风玻璃其实就是维护雨括，维护好了对雨括对挡风玻璃都有优点，延伸雨括的寿数期限。1、运用专用或适宜的雨刮片，并及时替换（通常是一年一换），避免刮花前档玻璃。2、'}, 'tags': [], 'topictype': '问', 'imgs': '', 'jximgs': '', 'url': 'http://club.autohome.com.cn/bbs/thread/fc68e4aa33c2914a/90603475-1.html', 'piccount': 0, 'isjingxuan': 0, 'issolve': 0, 'liveid': None, 'livecover': None}, {'topicid': 90587866, 'title': '名爵HS整体设计上和现款车型是一样的', 'post_memberid': 85003492, 'post_membername': '赵某某0527', 'postdate': '2020-10-08 21:11:52', 'ispic': 1, 'ispoll': 90, 'isrefine': 0, 'replycount': 0, 'viewcount': 0, 'videoid': '', 'isvideo': 0, 'videoinfo': None, 'qainfo': None, 'tags': [], 'topictype': '', 'imgs': 'http://club2.autoimg.cn/album/g28/M08/83/21/userphotos/2020/10/08/21/ChwFkl9_EBCAGuMnAAFJCwaRFN0721.jpg,http://club2.autoimg.cn/album/g28/M04/83/21/userphotos/2020/10/08/21/ChwFkl9_EBGAKV35AAD1-eC8ExA441.jpg,http://club2.autoimg.cn/album/g25/M0B/9A/92/userphotos/2020/10/08/21/ChsEmF9_EBSAIiKWAAE8rwuRo3E594.jpg,http://club2.autoimg.cn/album/g25/M05/9F/49/userphotos/2020/10/08/21/ChsEel9_EBWATStFAAE_SMbM5PQ075.jpg,http://club2.autoimg.cn/album/g25/M0B/98/0B/userphotos/2020/10/08/21/ChwFj19_EBWADfEsAAFUikbIQUo761.jpg', 'jximgs': '', 'url': 'http://club.autohome.com.cn/bbs/thread/0b02e21cac7b5577/90587866-1.html', 'piccount': 9, 'isjingxuan': 0, 'issolve': 0, 'liveid': None, 'livecover': None}, {'topicid': 90571410, 'title': 'MG领航焕新升级，造型更为激进', 'post_memberid': 101597775, 'post_membername': '一抹清风520', 'postdate': '2020-10-08 09:42:17', 'ispic': 1, 'ispoll': 90, 'isrefine': 0, 'replycount': 0, 'viewcount': 0, 'videoid': '', 'isvideo': 0, 'videoinfo': None, 'qainfo': None, 'tags': [], 'topictype': '', 'imgs': 'http://club2.autoimg.cn/album/g27/M0A/8E/90/userphotos/2020/10/08/09/ChwFkV9-bnaAHKNoAAC2JZybkjg336.jpg,http://club2.autoimg.cn/album/g27/M0B/40/52/userphotos/2020/10/08/09/ChsEnV9-bneAGNYGAACLBiG-9ok651.jpg,http://club2.autoimg.cn/album/g24/M05/89/69/userphotos/2020/10/08/09/ChwFjl9-bneAatSwAAA8HpqDDYo213.jpg,http://club2.autoimg.cn/album/g27/M02/3F/BD/userphotos/2020/10/08/09/ChsEfF9-bneAR3cvAACKp3pTnkg233.jpg,http://club2.autoimg.cn/album/g27/M04/3F/BD/userphotos/2020/10/08/09/ChsEfF9-bniAbzYjAACVn1-8-8I931.jpg', 'jximgs': '', 'url': 'http://club.autohome.com.cn/bbs/thread/f6ab0a2052ef503f/90571410-1.html', 'piccount': 6, 'isjingxuan': 0, 'issolve': 0, 'liveid': None, 'livecover': None}, {'topicid': 90561914, 'title': '北京车展上，上汽名爵旗下全新SUV车型MG领航正式亮相', 'post_memberid': 38733113, 'post_membername': '过去式刺痛命脉', 'postdate': '2020-10-07 20:53:52', 'ispic': 1, 'ispoll': 90, 'isrefine': 0, 'replycount': 0, 'viewcount': 0, 'videoid': '', 'isvideo': 0, 'videoinfo': None, 'qainfo': None, 'tags': [], 'topictype': '', 'imgs': 'http://club2.autoimg.cn/album/g1/M01/5A/2C/userphotos/2020/10/07/20/ChsEmV99ulqAEsF2AADAg0ZE9SI617.jpg,http://club2.autoimg.cn/album/g1/M06/5A/2C/userphotos/2020/10/07/20/ChsEmV99uluAMaAEAAC9bi5CDFE537.jpg,http://club2.autoimg.cn/album/g27/M0B/3E/00/userphotos/2020/10/07/20/ChsEnV99ul2Absi5AACjOLzhd_U029.jpg,http://club2.autoimg.cn/album/g1/M07/5A/2C/userphotos/2020/10/07/20/ChsEmV99ul6AO18aAACkVG4GpoQ964.jpg,http://club2.autoimg.cn/album/g27/M06/8C/45/userphotos/2020/10/07/20/ChwFkV99ul6ASLzqAACVPOUms0U892.jpg', 'jximgs': '', 'url': 'http://club.autohome.com.cn/bbs/thread/74054cc038b1fd44/90561914-1.html', 'piccount': 7, 'isjingxuan': 0, 'issolve': 0, 'liveid': None, 'livecover': None}, {'topicid': 90559414, 'title': '名爵5时隔多年又出新款', 'post_memberid': 16599655, 'post_membername': '谁TM买小米', 'postdate': '2020-10-07 19:22:33', 'ispic': 1, 'ispoll': 90, 'isrefine': 0, 'replycount': 0, 'viewcount': 0, 'videoid': '', 'isvideo': 0, 'videoinfo': None, 'qainfo': None, 'tags': [], 'topictype': '', 'imgs': 'http://club2.autoimg.cn/album/g27/M05/3D/6D/userphotos/2020/10/07/19/ChsEnV99pPaAVPuUAABvZFFrLI4213.jpg,http://club2.autoimg.cn/album/g30/M03/32/6E/userphotos/2020/10/07/19/ChsEoF99pPeAegtsAAB5knS9Pe4319.jpg,http://club2.autoimg.cn/album/g27/M05/3C/D9/userphotos/2020/10/07/19/ChsEfF99pPeANN7jAACPV4hPyPs332.jpg,http://club2.autoimg.cn/album/g30/M09/32/87/userphotos/2020/10/07/19/ChsEf199pPeAYk-YAACGeLJJQq4894.jpg,http://club2.autoimg.cn/album/g30/M07/32/6E/userphotos/2020/10/07/19/ChsEoF99pPiAWxkXAACVxXzdIqw768.jpg', 'jximgs': '', 'url': 'http://club.autohome.com.cn/bbs/thread/4787d7aa75c676a8/90559414-1.html', 'piccount': 6, 'isjingxuan': 0, 'issolve': 0, 'liveid': None, 'livecover': None}, {'topicid': 90558858, 'title': '北京车展全新MG领航实车，外观采用名爵全新的设计语言！', 'post_memberid': 77116469, 'post_membername': '马到功成mj', 'postdate': '2020-10-07 19:07:49', 'ispic': 1, 'ispoll': 90, 'isrefine': 0, 'replycount': 0, 'viewcount': 0, 'videoid': '', 'isvideo': 0, 'videoinfo': None, 'qainfo': None, 'tags': [], 'topictype': '', 'imgs': 'http://club2.autoimg.cn/album/g3/M09/5B/79/userphotos/2020/10/07/19/ChwFlV99oX2AeuqRAAFYv7oXLKI670.jpg,http://club2.autoimg.cn/album/g26/M07/3F/FB/userphotos/2020/10/07/19/ChsEe199oX6AJvDsAAFqoc99FW4172.jpg,http://club2.autoimg.cn/album/g3/M02/4E/A6/userphotos/2020/10/07/19/ChsEkV99oX-AUw7vAAFYW5HXzqY143.jpg,http://club2.autoimg.cn/album/g26/M02/91/4F/userphotos/2020/10/07/19/ChwFkF99oYCAAVysAAEIWgWs1Pk224.jpg,http://club2.autoimg.cn/album/g26/M04/3F/FB/userphotos/2020/10/07/19/ChsEe199oYCAFfyuAADdOd1qMwk755.jpg', 'jximgs': '', 'url': 'http://club.autohome.com.cn/bbs/thread/5a8caf3b29e0daa5/90558858-1.html', 'piccount': 9, 'isjingxuan': 0, 'issolve': 0, 'liveid': None, 'livecover': None}, {'topicid': 90546377, 'title': '灵芝的桃花·期待三月，美好的季节。', 'post_memberid': 34546788, 'post_membername': 'mr_jiang1109', 'postdate': '2020-10-07 10:40:42', 'ispic': 1, 'ispoll': 90, 'isrefine': 0, 'replycount': 0, 'viewcount': 0, 'videoid': '', 'isvideo': 0, 'videoinfo': None, 'qainfo': None, 'tags': [], 'topictype': '', 'imgs': 'http://club2.autoimg.cn/album/g1/M06/4D/79/userphotos/2020/10/07/10/ChsEj199KqOAGfKAAADeTLmcykg212.jpg,http://club2.autoimg.cn/album/g1/M09/4D/79/userphotos/2020/10/07/10/ChsEj199KqSAVXkNAACmcPF7c5A958.jpg,http://club2.autoimg.cn/album/g1/M00/55/F0/userphotos/2020/10/07/10/ChsEmV99KqWAGgtQAACeVFC0h9w422.jpg,http://club2.autoimg.cn/album/g1/M01/4D/7A/userphotos/2020/10/07/10/ChsEj199KqWAOvK7AADF1R8WtNQ853.jpg,http://club2.autoimg.cn/album/g1/M09/55/F1/userphotos/2020/10/07/10/ChsEmV99KqaAQz5DAADKy2bPjCI961.jpg', 'jximgs': '', 'url': 'http://club.autohome.com.cn/bbs/thread/2628890c31597892/90546377-1.html', 'piccount': 9, 'isjingxuan': 0, 'issolve': 0, 'liveid': None, 'livecover': None}, {'topicid': 90542589, 'title': 'MG领航亮相2020北京国际车展', 'post_memberid': 77116469, 'post_membername': '马到功成mj', 'postdate': '2020-10-07 07:42:14', 'ispic': 1, 'ispoll': 90, 'isrefine': 0, 'replycount': 0, 'viewcount': 0, 'videoid': '', 'isvideo': 0, 'videoinfo': None, 'qainfo': None, 'tags': [], 'topictype': '', 'imgs': 'http://club2.autoimg.cn/album/g26/M07/3B/81/userphotos/2020/10/07/07/ChsEe199ANGAeA4AAAEBG04w3yE334.jpg,http://club2.autoimg.cn/album/g28/M0B/31/68/userphotos/2020/10/07/07/ChsEfV99ANGAbmXjAADsoKnhirU274.jpg,http://club2.autoimg.cn/album/g28/M09/77/3E/userphotos/2020/10/07/07/ChwFkl99ANKAIjsGAAFJ3R2Cm5I997.jpg,http://club2.autoimg.cn/album/g26/M08/8C/D0/userphotos/2020/10/07/07/ChwFkF99ANKAZ7CfAAEpZKlFVQo537.jpg,http://club2.autoimg.cn/album/g28/M01/77/3E/userphotos/2020/10/07/07/ChwFkl99ANOAa9CeAAFV3hb1u3M735.jpg', 'jximgs': '', 'url': 'http://club.autohome.com.cn/bbs/thread/9aa30f3f7ac40e13/90542589-1.html', 'piccount': 9, 'isjingxuan': 0, 'issolve': 0, 'liveid': None, 'livecover': None}, {'topicid': 90527368, 'title': '穿越在美丽的自然风光，寻找迷失的自我。', 'post_memberid': 198128350, 'post_membername': '长春车友六六六', 'postdate': '2020-10-06 14:38:34', 'ispic': 1, 'ispoll': 90, 'isrefine': 0, 'replycount': 0, 'viewcount': 0, 'videoid': '', 'isvideo': 0, 'videoinfo': None, 'qainfo': None, 'tags': [], 'topictype': '', 'imgs': 'http://club2.autoimg.cn/album/g25/M05/88/A7/userphotos/2020/10/06/14/ChwFj198EOaAZlrrAADEJ6YdTNc725.jpg,http://club2.autoimg.cn/album/g25/M0A/8F/FE/userphotos/2020/10/06/14/ChsEel98EOeAWq5WAACt4W9U4B0586.jpg,http://club2.autoimg.cn/album/g25/M01/8F/FE/userphotos/2020/10/06/14/ChsEel98EOeAafOzAACjdDGu67w546.jpg,http://club2.autoimg.cn/album/g2/M06/35/9B/userphotos/2020/10/06/14/ChsEkF98EOiAVyqRAACjcvwP37M398.jpg,http://club2.autoimg.cn/album/g24/M0B/7E/7D/userphotos/2020/10/06/14/ChwFjl98EOmABVyxAADOBKQYCaY434.jpg', 'jximgs': '', 'url': 'http://club.autohome.com.cn/bbs/thread/903b1b89a4e947b9/90527368-1.html', 'piccount': 6, 'isjingxuan': 0, 'issolve': 0, 'liveid': None, 'livecover': None}, {'topicid': 90523868, 'title': '全新MG5，最大功率分别为173马力和120马力。', 'post_memberid': 77116469, 'post_membername': '马到功成mj', 'postdate': '2020-10-06 11:48:11', 'ispic': 1, 'ispoll': 90, 'isrefine': 0, 'replycount': 0, 'viewcount': 0, 'videoid': '', 'isvideo': 0, 'videoinfo': None, 'qainfo': None, 'tags': [], 'topictype': '', 'imgs': 'http://club2.autoimg.cn/album/g30/M0B/28/BC/userphotos/2020/10/06/11/ChsEoF976PCAY_7oAAHRSB85nY8614.jpg,http://club2.autoimg.cn/album/g30/M09/63/D4/userphotos/2020/10/06/11/ChwFlF976PGAEG_dAAIwkRv945g404.jpg,http://club2.autoimg.cn/album/g30/M07/28/BD/userphotos/2020/10/06/11/ChsEoF976POAHtLAAAJXM5tPLHc867.jpg,http://club2.autoimg.cn/album/g30/M0B/28/BD/userphotos/2020/10/06/11/ChsEoF976PaAfsQzAAH0pCxr9UA518.jpg,http://club2.autoimg.cn/album/g30/M04/28/C2/userphotos/2020/10/06/11/ChsEf1976PeAOuvUAAG6F-rLvCc438.jpg', 'jximgs': '', 'url': 'http://club.autohome.com.cn/bbs/thread/b6cc11f3d3154a52/90523868-1.html', 'piccount': 9, 'isjingxuan': 0, 'issolve': 0, 'liveid': None, 'livecover': None}, {'topicid': 90470625, 'title': '爱就是努力把自己提升到足以祝福TA幸福的格局。', 'post_memberid': 2951543, 'post_membername': '梦泽湖仙人', 'postdate': '2020-10-04 04:01:04', 'ispic': 1, 'ispoll': 90, 'isrefine': 0, 'replycount': 0, 'viewcount': 0, 'videoid': '', 'isvideo': 0, 'videoinfo': None, 'qainfo': None, 'tags': [], 'topictype': '', 'imgs': 'http://club2.autoimg.cn/album/g27/M0B/25/25/userphotos/2020/10/04/04/ChsEfF942H2AHWdLAAFaMC2cDhQ065.jpg,http://club2.autoimg.cn/album/g27/M00/25/BA/userphotos/2020/10/04/04/ChsEnV942H6AZb65AAGQzxrUGI8914.jpg,http://club2.autoimg.cn/album/g27/M0A/25/25/userphotos/2020/10/04/04/ChsEfF942H6AHfsqAAIpY0PUG1M943.jpg,http://club2.autoimg.cn/album/g27/M00/25/BA/userphotos/2020/10/04/04/ChsEnV942H-AZvW0AAFHOzscROo126.jpg,http://club2.autoimg.cn/album/g27/M00/74/0C/userphotos/2020/10/04/04/ChwFkV942H-AcfR-AAD39apIVgA696.jpg', 'jximgs': '', 'url': 'http://club.autohome.com.cn/bbs/thread/f421f271e814e0f9/90470625-1.html', 'piccount': 6, 'isjingxuan': 0, 'issolve': 0, 'liveid': None, 'livecover': None}, {'topicid': 90467469, 'title': '收一台名爵TF  要求手动   天津手续', 'post_memberid': 29183989, 'post_membername': '智厚', 'postdate': '2020-10-03 22:47:33', 'ispic': 1, 'ispoll': 0, 'isrefine': 0, 'replycount': 2, 'viewcount': 0, 'videoid': '', 'isvideo': 0, 'videoinfo': None, 'qainfo': None, 'tags': [], 'topictype': '', 'imgs': 'http://club2.autoimg.cn/album/g3/M06/35/B8/userphotos/2020/10/03/22/500_ChsEkV94jsGAGll6AABGlHh8WIM231.jpg', 'jximgs': '', 'url': 'http://club.autohome.com.cn/bbs/thread/42dac072d6e69abe/90467469-1.html', 'piccount': 1, 'isjingxuan': 0, 'issolve': 0, 'liveid': None, 'livecover': None}, {'topicid': 90449908, 'title': '全液晶仪表盘提供了更强的科技感，而蓝白撞色的内饰配色也显得年', 'post_memberid': 83113253, 'post_membername': '水电老bing', 'postdate': '2020-10-03 08:31:44', 'ispic': 1, 'ispoll': 90, 'isrefine': 0, 'replycount': 0, 'viewcount': 0, 'videoid': '', 'isvideo': 0, 'videoinfo': None, 'qainfo': None, 'tags': [], 'topictype': '', 'imgs': 'http://club2.autoimg.cn/album/g28/M08/5D/DD/userphotos/2020/10/03/08/ChwFkl93xm6AGzL2AAC65vj2qZs689.jpg,http://club2.autoimg.cn/album/g28/M05/18/1A/userphotos/2020/10/03/08/ChsEfV93xm-Aa6fUAACjFpil17Y814.jpg,http://club2.autoimg.cn/album/g28/M07/18/34/userphotos/2020/10/03/08/ChsEnl93xm-AHUw3AAC65vj2qZs992.jpg', 'jximgs': '', 'url': 'http://club.autohome.com.cn/bbs/thread/dc9caa99db1e298c/90449908-1.html', 'piccount': 3, 'isjingxuan': 0, 'issolve': 0, 'liveid': None, 'livecover': None}, {'topicid': 90438471, 'title': '将于10月17日上市，MG领航亮相北京车展', 'post_memberid': 58659213, 'post_membername': '累了肩膀借你', 'postdate': '2020-10-02 17:43:48', 'ispic': 1, 'ispoll': 90, 'isrefine': 0, 'replycount': 0, 'viewcount': 0, 'videoid': '', 'isvideo': 0, 'videoinfo': None, 'qainfo': None, 'tags': [], 'topictype': '', 'imgs': 'http://club2.autoimg.cn/album/g26/M08/1F/09/userphotos/2020/10/02/17/ChsEnF929k6ATq-1AADAg0ZE9SI466.jpg,http://club2.autoimg.cn/album/g26/M08/1F/10/userphotos/2020/10/02/17/ChsEe1929k-AaeQ9AACjOLzhd_U661.jpg,http://club2.autoimg.cn/album/g26/M09/70/73/userphotos/2020/10/02/17/ChwFkF929lCATajbAACVPOUms0U451.jpg,http://club2.autoimg.cn/album/g25/M06/73/12/userphotos/2020/10/02/17/ChsEmF929lGAYChOAAC65vj2qZs926.jpg,http://club2.autoimg.cn/album/g25/M01/73/12/userphotos/2020/10/02/17/ChsEmF929lGAP_48AACjFpil17Y616.jpg', 'jximgs': '', 'url': 'http://club.autohome.com.cn/bbs/thread/296d642b3ed5e2f2/90438471-1.html', 'piccount': 6, 'isjingxuan': 0, 'issolve': 0, 'liveid': None, 'livecover': None}, {'topicid': 90438232, 'title': '大灯为凌厉的狭长样式，看上去十分凶狠', 'post_memberid': 83113253, 'post_membername': '水电老bing', 'postdate': '2020-10-02 17:31:59', 'ispic': 1, 'ispoll': 90, 'isrefine': 0, 'replycount': 0, 'viewcount': 0, 'videoid': '', 'isvideo': 0, 'videoinfo': None, 'qainfo': None, 'tags': [], 'topictype': '', 'imgs': 'http://club2.autoimg.cn/album/g27/M0B/1D/95/userphotos/2020/10/02/17/ChsEnV9284uAKwlKAACf1jynV98611.jpg,http://club2.autoimg.cn/album/g27/M02/1D/09/userphotos/2020/10/02/17/ChsEfF9284uATAMOAAC7dX6VCwQ904.jpg,http://club2.autoimg.cn/album/g27/M03/1D/0A/userphotos/2020/10/02/17/ChsEfF9284yAd5kIAACpBLkmCKc267.jpg,http://club2.autoimg.cn/album/g30/M03/12/1C/userphotos/2020/10/02/17/ChsEoF92842AVLkxAACL-pnrUDI890.jpg,http://club2.autoimg.cn/album/g27/M03/1D/0A/userphotos/2020/10/02/17/ChsEfF92842AXgqyAACfOwWM6ms049.jpg', 'jximgs': '', 'url': 'http://club.autohome.com.cn/bbs/thread/4f6d249e0c1dc91d/90438232-1.html', 'piccount': 7, 'isjingxuan': 0, 'issolve': 0, 'liveid': None, 'livecover': None}, {'topicid': 90421483, 'title': '2020北京车展，围观名爵新车上市', 'post_memberid': 83113253, 'post_membername': '水电老bing', 'postdate': '2020-10-01 21:13:17', 'ispic': 1, 'ispoll': 90, 'isrefine': 0, 'replycount': 0, 'viewcount': 0, 'videoid': '', 'isvideo': 0, 'videoinfo': None, 'qainfo': None, 'tags': [], 'topictype': '', 'imgs': 'http://club2.autoimg.cn/album/g25/M04/6E/A3/userphotos/2020/10/01/21/ChsEmF911eiAGZd6AATMDwnndB4585.jpg,http://club2.autoimg.cn/album/g25/M05/6B/F0/userphotos/2020/10/01/21/ChwFj1911eqAO6XcAATrMr7v3ZA919.jpg,http://club2.autoimg.cn/album/g25/M08/73/63/userphotos/2020/10/01/21/ChsEel911eqAc1T6AARtCASs5_A713.jpg,http://club2.autoimg.cn/album/g25/M01/73/63/userphotos/2020/10/01/21/ChsEel911euAbnVGAAVQ4AVZxCo175.jpg,http://club2.autoimg.cn/album/g25/M06/6B/F0/userphotos/2020/10/01/21/ChwFj1911euAQm4fAARGS7FLYCE580.jpg', 'jximgs': '', 'url': 'http://club.autohome.com.cn/bbs/thread/e8f1f2ae09e0abe4/90421483-1.html', 'piccount': 6, 'isjingxuan': 0, 'issolve': 0, 'liveid': None, 'livecover': None}, {'topicid': 90402514, 'title': '2020年北京车展，名爵旗下全新SUV车型MG领航正式亮相', 'post_memberid': 38733113, 'post_membername': '过去式刺痛命脉', 'postdate': '2020-09-30 23:28:31', 'ispic': 1, 'ispoll': 90, 'isrefine': 0, 'replycount': 0, 'viewcount': 0, 'videoid': '', 'isvideo': 0, 'videoinfo': None, 'qainfo': None, 'tags': [], 'topictype': '', 'imgs': 'http://club2.autoimg.cn/album/g3/M07/11/B3/userphotos/2020/09/30/23/ChsEm190pBqAG6V3AADAg0ZE9SI606.jpg,http://club2.autoimg.cn/album/g3/M08/11/B3/userphotos/2020/09/30/23/ChsEm190pBuAEEc9AAC9bi5CDFE462.jpg,http://club2.autoimg.cn/album/g1/M09/2F/76/userphotos/2020/09/30/23/ChsEmV90pBuAEDzFAACjOLzhd_U698.jpg,http://club2.autoimg.cn/album/g1/M07/27/0D/userphotos/2020/09/30/23/ChsEj190pB2AQvflAACkVG4GpoQ580.jpg,http://club2.autoimg.cn/album/g3/M04/31/67/userphotos/2020/09/30/23/ChwFlV90pB6AEBe9AACVPOUms0U605.jpg', 'jximgs': '', 'url': 'http://club.autohome.com.cn/bbs/thread/0f2500b9fc1a925d/90402514-1.html', 'piccount': 7, 'isjingxuan': 0, 'issolve': 0, 'liveid': None, 'livecover': None}, {'topicid': 90399317, 'title': '新车两侧采用了矩阵式LED前大灯组，搭配下唇红色车漆的点缀', 'post_memberid': 34082029, 'post_membername': '大有作为2017', 'postdate': '2020-09-30 21:43:30', 'ispic': 1, 'ispoll': 90, 'isrefine': 0, 'replycount': 0, 'viewcount': 0, 'videoid': '', 'isvideo': 0, 'videoinfo': None, 'qainfo': None, 'tags': [], 'topictype': '', 'imgs': 'http://club2.autoimg.cn/album/g1/M02/2E/2B/userphotos/2020/09/30/21/ChsEmV90i3aAKrWlAACkqruUxyM271.jpg,http://club2.autoimg.cn/album/g1/M02/25/D2/userphotos/2020/09/30/21/ChsEj190i3uAIUq8AAC5qThHpwE635.jpg,http://club2.autoimg.cn/album/g1/M06/36/27/userphotos/2020/09/30/21/ChwFqV90i36AFfddAAC8wPmNshY440.jpg,http://club2.autoimg.cn/album/g1/M07/25/D5/userphotos/2020/09/30/21/ChsEj190i3-AZZx1AADfRVAupI0910.jpg,http://club2.autoimg.cn/album/g1/M00/2E/32/userphotos/2020/09/30/21/ChsEmV90i4GAVb78AAC-dRfiRoo990.jpg', 'jximgs': '', 'url': 'http://club.autohome.com.cn/bbs/thread/fad94e3c5b3db715/90399317-1.html', 'piccount': 5, 'isjingxuan': 0, 'issolve': 0, 'liveid': None, 'livecover': None}, {'topicid': 90387842, 'title': '外观方面有着很强的视觉冲击力。', 'post_memberid': 16599655, 'post_membername': '谁TM买小米', 'postdate': '2020-09-30 14:42:17', 'ispic': 1, 'ispoll': 90, 'isrefine': 0, 'replycount': 0, 'viewcount': 0, 'videoid': '', 'isvideo': 0, 'videoinfo': None, 'qainfo': None, 'tags': [], 'topictype': '', 'imgs': 'http://club2.autoimg.cn/album/g3/M0B/1F/4C/userphotos/2020/09/30/14/ChsEkV90KMaAZg4IAADAg0ZE9SI593.jpg,http://club2.autoimg.cn/album/g3/M05/2C/2D/userphotos/2020/09/30/14/ChwFlV90KMeAABgpAACUWFyJ63o772.jpg,http://club2.autoimg.cn/album/g3/M09/1F/4D/userphotos/2020/09/30/14/ChsEkV90KMiAaGkcAAC9bi5CDFE174.jpg,http://club2.autoimg.cn/album/g3/M07/2C/2D/userphotos/2020/09/30/14/ChwFlV90KMiASNz4AACjOLzhd_U916.jpg,http://club2.autoimg.cn/album/g3/M03/1F/4D/userphotos/2020/09/30/14/ChsEkV90KMiAC17MAACVPOUms0U085.jpg', 'jximgs': '', 'url': 'http://club.autohome.com.cn/bbs/thread/2ae308cef862608e/90387842-1.html', 'piccount': 6, 'isjingxuan': 0, 'issolve': 0, 'liveid': None, 'livecover': None}, {'topicid': 90383259, 'title': '背包相机目的地下一站我们再相遇。', 'post_memberid': 194490227, 'post_membername': '中年哥', 'postdate': '2020-09-30 11:44:35', 'ispic': 1, 'ispoll': 90, 'isrefine': 0, 'replycount': 0, 'viewcount': 0, 'videoid': '', 'isvideo': 0, 'videoinfo': None, 'qainfo': None, 'tags': [], 'topictype': '', 'imgs': 'http://club2.autoimg.cn/album/g1/M0A/28/0B/userphotos/2020/09/30/11/ChsEmV9z_wSAR6uIAATK7ow-MWM205.jpg,http://club2.autoimg.cn/album/g1/M03/28/0C/userphotos/2020/09/30/11/ChsEmV9z_waATUXBAASJKn2yT3c798.jpg,http://club2.autoimg.cn/album/g1/M01/2F/F6/userphotos/2020/09/30/11/ChwFqV9z_w6AA8YPAAa96v3LM6I830.jpg,http://club2.autoimg.cn/album/g1/M0B/2F/F6/userphotos/2020/09/30/11/ChwFqV9z_xCAWqAlAAO2-PuHxsc111.jpg,http://club2.autoimg.cn/album/g1/M05/28/12/userphotos/2020/09/30/11/ChsEmV9z_xqAUqxaAAF6j4Jq4Z8478.jpg', 'jximgs': '', 'url': 'http://club.autohome.com.cn/bbs/thread/072a897a70a2de99/90383259-1.html', 'piccount': 6, 'isjingxuan': 0, 'issolve': 0, 'liveid': None, 'livecover': None}, {'topicid': 90344312, 'title': 'MG领航是名爵旗下的全新紧凑型SUV，中文名为“领航', 'post_memberid': 83113253, 'post_membername': '水电老bing', 'postdate': '2020-09-29 06:15:19', 'ispic': 1, 'ispoll': 90, 'isrefine': 0, 'replycount': 0, 'viewcount': 0, 'videoid': '', 'isvideo': 0, 'videoinfo': None, 'qainfo': None, 'tags': [], 'topictype': '', 'imgs': 'http://club2.autoimg.cn/album/g25/M06/57/6A/userphotos/2020/09/29/06/ChsEmF9yYHOAJK2_AAP0Kjbtf3A513.jpg,http://club2.autoimg.cn/album/g25/M01/57/6A/userphotos/2020/09/29/06/ChsEmF9yYHSAKOMIAANxok6gvkk037.jpg,http://club2.autoimg.cn/album/g25/M0A/5C/1E/userphotos/2020/09/29/06/ChsEel9yYHSAIeUTAAOPaFPbuOU531.jpg,http://club2.autoimg.cn/album/g25/M03/54/99/userphotos/2020/09/29/06/ChwFj19yYHWAMhVyAASH7TMIqw0450.jpg,http://club2.autoimg.cn/album/g25/M07/54/99/userphotos/2020/09/29/06/ChwFj19yYHaAAwbCAAK5gwP3UqE586.jpg', 'jximgs': '', 'url': 'http://club.autohome.com.cn/bbs/thread/61dd46d5434ebbad/90344312-1.html', 'piccount': 5, 'isjingxuan': 0, 'issolve': 0, 'liveid': None, 'livecover': None}, {'topicid': 90340009, 'title': '名爵的全新紧凑型SUV——MG领航，颜值很不错！', 'post_memberid': 53725793, 'post_membername': '木木乖呐', 'postdate': '2020-09-28 22:05:46', 'ispic': 1, 'ispoll': 90, 'isrefine': 0, 'replycount': 0, 'viewcount': 0, 'videoid': '', 'isvideo': 0, 'videoinfo': None, 'qainfo': None, 'tags': [], 'topictype': '', 'imgs': 'http://club2.autoimg.cn/album/g28/M03/F8/BC/userphotos/2020/09/28/22/ChsEnl9x7beAW1TKAAC_nq5byLQ079.jpg,http://club2.autoimg.cn/album/g28/M08/F8/A8/userphotos/2020/09/28/22/ChsEfV9x7biAcNKnAAC-6hgS3W4949.jpg,http://club2.autoimg.cn/album/g26/M05/01/D7/userphotos/2020/09/28/22/ChsEnF9x7biARf7AAACkMe5mLII115.jpg,http://club2.autoimg.cn/album/g28/M04/3E/46/userphotos/2020/09/28/22/ChwFkl9x7biATVOeAACc8tc5dlQ504.jpg,http://club2.autoimg.cn/album/g24/M00/49/52/userphotos/2020/09/28/22/ChwFjl9x7bmAMCHoAADTg8eW_Fs404.jpg', 'jximgs': '', 'url': 'http://club.autohome.com.cn/bbs/thread/e6cc0d6b29d774da/90340009-1.html', 'piccount': 6, 'isjingxuan': 0, 'issolve': 0, 'liveid': None, 'livecover': None}, {'topicid': 90333135, 'title': '2020北京车展——名爵MG领航灰色外观也不错', 'post_memberid': 83113253, 'post_membername': '水电老bing', 'postdate': '2020-09-28 17:31:01', 'ispic': 1, 'ispoll': 90, 'isrefine': 0, 'replycount': 0, 'viewcount': 0, 'videoid': '', 'isvideo': 0, 'videoinfo': None, 'qainfo': None, 'tags': [], 'topictype': '', 'imgs': 'http://club2.autoimg.cn/album/g26/M03/00/20/userphotos/2020/09/28/17/ChsEe19xrU-AfYqxAAGOfYga_7A022.jpg,http://club2.autoimg.cn/album/g3/M06/FC/CB/userphotos/2020/09/28/17/ChsEm19xrU-AZ8JwAAFfIPTc6qM355.jpg,http://club2.autoimg.cn/album/g26/M01/00/12/userphotos/2020/09/28/17/ChsEnF9xrVGAU7wKAAFVHp2mZ7w105.jpg,http://club2.autoimg.cn/album/g3/M0B/FC/CC/userphotos/2020/09/28/17/ChsEm19xrVKAOiOFAAHHTnfMqr4819.jpg,http://club2.autoimg.cn/album/g26/M09/00/21/userphotos/2020/09/28/17/ChsEe19xrVOASzpTAAHSBkY7BgM156.jpg', 'jximgs': '', 'url': 'http://club.autohome.com.cn/bbs/thread/001e151c8d1e7b58/90333135-1.html', 'piccount': 6, 'isjingxuan': 0, 'issolve': 0, 'liveid': None, 'livecover': None}, {'topicid': 90310868, 'title': '名爵领航采用了全新名爵家族的数字化离散设计，非常具有时尚感。', 'post_memberid': 23009869, 'post_membername': '旅途happy', 'postdate': '2020-09-27 21:48:54', 'ispic': 1, 'ispoll': 90, 'isrefine': 0, 'replycount': 0, 'viewcount': 0, 'videoid': '', 'isvideo': 0, 'videoinfo': None, 'qainfo': None, 'tags': [], 'topictype': '', 'imgs': 'http://club2.autoimg.cn/album/g2/M02/31/76/userphotos/2020/09/27/21/ChsEml9wmEOAWQxnAAB-7EoxC8s115.jpg,http://club2.autoimg.cn/album/g2/M01/31/76/userphotos/2020/09/27/21/ChsEml9wmEOAeo7vAACUek0EhOQ080.jpg,http://club2.autoimg.cn/album/g3/M05/09/17/userphotos/2020/09/27/21/ChsEkV9wmESAKOc7AAB3k2k4oFA781.jpg,http://club2.autoimg.cn/album/g2/M00/F7/34/userphotos/2020/09/27/21/ChsEkF9wmESAUHRqAACK68NgZBA310.jpg,http://club2.autoimg.cn/album/g3/M00/F6/41/userphotos/2020/09/27/21/ChsEm19wmEWAfB07AACSjOxx6Qk825.jpg', 'jximgs': '', 'url': 'http://club.autohome.com.cn/bbs/thread/80fb3d7caddfd56e/90310868-1.html', 'piccount': 6, 'isjingxuan': 0, 'issolve': 0, 'liveid': None, 'livecover': None}, {'topicid': 90292266, 'title': '轮胎一般多久换一次?', 'post_memberid': 95732949, 'post_membername': '古德耐斯', 'postdate': '2020-09-27 09:48:12', 'ispic': 0, 'ispoll': 18, 'isrefine': 0, 'replycount': 16, 'viewcount': 0, 'videoid': '', 'isvideo': 0, 'videoinfo': None, 'qainfo': {'topicid': 90292266, 'issolve': True, 'ishigh': True, 'confirmreplyid': 1320091664, 'summary': '除破损、鼓包的车胎之外，轮胎寿命（更换）由两项指标决定：1.时间。2.磨损程度。哪项先到按哪项更换。一.时间：由生产日期(轮胎侧面有标注)计，五年为老化更换期。如果超过五年，即使轮胎花纹磨损程度未到极限，也要更换。二.磨损程度：如果以行驶里'}, 'tags': [], 'topictype': '问', 'imgs': '', 'jximgs': '', 'url': 'http://club.autohome.com.cn/bbs/thread/f1002bb7a70c78c7/90292266-1.html', 'piccount': 0, 'isjingxuan': 0, 'issolve': 1, 'liveid': None, 'livecover': None}, {'topicid': 90246233, 'title': 'CVT和AMT哪个更靠谱？', 'post_memberid': 4121723, 'post_membername': '晓风残月11', 'postdate': '2020-09-25 11:13:09', 'ispic': 0, 'ispoll': 18, 'isrefine': 0, 'replycount': 4, 'viewcount': 0, 'videoid': '', 'isvideo': 0, 'videoinfo': None, 'qainfo': {'topicid': 90246233, 'issolve': False, 'ishigh': False, 'confirmreplyid': 0, 'summary': ''}, 'tags': [], 'topictype': '问', 'imgs': '', 'jximgs': '', 'url': 'http://club.autohome.com.cn/bbs/thread/7c8eac9418b109be/90246233-1.html', 'piccount': 0, 'isjingxuan': 0, 'issolve': 0, 'liveid': None, 'livecover': None}, {'topicid': 90193448, 'title': '名爵TF有没有固定香水的底座?', 'post_memberid': 179588484, 'post_membername': '滚筒自己', 'postdate': '2020-09-23 11:59:11', 'ispic': 0, 'ispoll': 18, 'isrefine': 0, 'replycount': 0, 'viewcount': 0, 'videoid': '', 'isvideo': 0, 'videoinfo': None, 'qainfo': {'topicid': 90193448, 'issolve': False, 'ishigh': False, 'confirmreplyid': 0, 'summary': ''}, 'tags': [], 'topictype': '问', 'imgs': '', 'jximgs': '', 'url': 'http://club.autohome.com.cn/bbs/thread/57471615a0550908/90193448-1.html', 'piccount': 0, 'isjingxuan': 0, 'issolve': 0, 'liveid': None, 'livecover': None}, {'topicid': 90176734, 'title': '出售爱车09年TF手波。', 'post_memberid': 37328119, 'post_membername': '小夏g', 'postdate': '2020-09-22 18:36:10', 'ispic': 1, 'ispoll': 0, 'isrefine': 0, 'replycount': 1, 'viewcount': 0, 'videoid': '', 'isvideo': 0, 'videoinfo': None, 'qainfo': None, 'tags': [], 'topictype': '', 'imgs': 'http://club2.autoimg.cn/album/g24/M05/8D/AA/userphotos/2020/10/08/20/500_ChwFjl9_BBGAXZWPAAcjFyTiEQs313.jpg,http://club2.autoimg.cn/album/g29/M01/40/3F/userphotos/2020/10/08/20/500_ChsEn19_BBWAcPmQAAfM7v0fMIs423.jpg,http://club2.autoimg.cn/album/g30/M06/39/97/userphotos/2020/10/08/20/500_ChsEoF9_BByACk1PAAdQq8FPaWg081.jpg,http://club2.autoimg.cn/album/g28/M03/C7/F6/userphotos/2020/09/22/18/500_ChsEnl9p05SAXboxAAfCJFcuZNc680.jpg,http://club2.autoimg.cn/album/g29/M08/CA/74/userphotos/2020/09/22/18/500_ChsEn19p05aAWEBCAAcY9_xEP4g118.jpg', 'jximgs': '', 'url': 'http://club.autohome.com.cn/bbs/thread/6831f87bbd0bcae6/90176734-1.html', 'piccount': 6, 'isjingxuan': 0, 'issolve': 0, 'liveid': None, 'livecover': None}, {'topicid': 90166779, 'title': '试问岭南应不好？却道，此心安处是吾乡。', 'post_memberid': 77116469, 'post_membername': '马到功成mj', 'postdate': '2020-09-22 12:56:43', 'ispic': 1, 'ispoll': 90, 'isrefine': 0, 'replycount': 0, 'viewcount': 0, 'videoid': '', 'isvideo': 0, 'videoinfo': None, 'qainfo': None, 'tags': [], 'topictype': '', 'imgs': 'http://club2.autoimg.cn/album/g30/M06/C1/63/userphotos/2020/09/22/12/ChsEoF9phAiAFJ8HAANO4rfrfS0141.jpg,http://club2.autoimg.cn/album/g30/M08/C1/63/userphotos/2020/09/22/12/ChsEoF9phAmALMJgAAJPvxAfOuk527.jpg,http://club2.autoimg.cn/album/g30/M04/FC/6B/userphotos/2020/09/22/12/ChwFlF9phAmASiKRAAG8fDs1QAQ678.jpg,http://club2.autoimg.cn/album/g30/M07/FC/6B/userphotos/2020/09/22/12/ChwFlF9phAqADSOdAADrquvEL_Y979.jpg,http://club2.autoimg.cn/album/g25/M09/1E/E3/userphotos/2020/09/22/12/ChwFj19phAqAdPVAAAIrorXTC74205.jpg', 'jximgs': '', 'url': 'http://club.autohome.com.cn/bbs/thread/312c96ae2b2dbe09/90166779-1.html', 'piccount': 6, 'isjingxuan': 0, 'issolve': 0, 'liveid': None, 'livecover': None}, {'topicid': 90163432, 'title': '一般雨刷器能使用几年？', 'post_memberid': 12310655, 'post_membername': '小荷才露尖尖脚', 'postdate': '2020-09-22 10:41:22', 'ispic': 0, 'ispoll': 18, 'isrefine': 0, 'replycount': 9, 'viewcount': 0, 'videoid': '', 'isvideo': 0, 'videoinfo': None, 'qainfo': {'topicid': 90163432, 'issolve': True, 'ishigh': False, 'confirmreplyid': 1319265659, 'summary': '这般情况下，可以用一年多的时间左右，所以那你可以考虑来购买来使用就行'}, 'tags': [], 'topictype': '问', 'imgs': '', 'jximgs': '', 'url': 'http://club.autohome.com.cn/bbs/thread/43450d8ef85ebf87/90163432-1.html', 'piccount': 0, 'isjingxuan': 0, 'issolve': 1, 'liveid': None, 'livecover': None}, {'topicid': 90152774, 'title': '名爵TF为什么放出来的轮胎气很难闻呢?', 'post_memberid': 74788559, 'post_membername': '斯图加特法兰克福', 'postdate': '2020-09-21 21:03:15', 'ispic': 0, 'ispoll': 18, 'isrefine': 0, 'replycount': 3, 'viewcount': 0, 'videoid': '', 'isvideo': 0, 'videoinfo': None, 'qainfo': {'topicid': 90152774, 'issolve': False, 'ishigh': False, 'confirmreplyid': 0, 'summary': ''}, 'tags': [], 'topictype': '问', 'imgs': '', 'jximgs': '', 'url': 'http://club.autohome.com.cn/bbs/thread/971db7541320d20a/90152774-1.html', 'piccount': 0, 'isjingxuan': 0, 'issolve': 0, 'liveid': None, 'livecover': None}, {'topicid': 90080028, 'title': '名爵领航将运动品牌的特点表现得十分完美。', 'post_memberid': 27904242, 'post_membername': '冷静慎言', 'postdate': '2020-09-18 21:06:04', 'ispic': 1, 'ispoll': 90, 'isrefine': 0, 'replycount': 0, 'viewcount': 0, 'videoid': '', 'isvideo': 0, 'videoinfo': None, 'qainfo': None, 'tags': [], 'topictype': '', 'imgs': 'http://club2.autoimg.cn/album/g29/M09/AE/6B/userphotos/2020/09/18/21/ChsEfl9ksLaAFyrQAAF-oyEndZM380.jpg,http://club2.autoimg.cn/album/g26/M00/03/FB/userphotos/2020/09/18/21/ChwFkF9ksLaAetP8AAHB0SoZZAA177.jpg,http://club2.autoimg.cn/album/g3/M08/AF/65/userphotos/2020/09/18/21/ChsEm19ksLmAXRMQAAFzqEkRJ2A103.jpg,http://club2.autoimg.cn/album/g26/M0B/03/FB/userphotos/2020/09/18/21/ChwFkF9ksLqAdgTRAAGAYPtbuig106.jpg,http://club2.autoimg.cn/album/g3/M05/C2/64/userphotos/2020/09/18/21/ChsEkV9ksLuAY6WwAAEYnoAMXCU491.jpg', 'jximgs': '', 'url': 'http://club.autohome.com.cn/bbs/thread/961f9a87908a4611/90080028-1.html', 'piccount': 6, 'isjingxuan': 0, 'issolve': 0, 'liveid': None, 'livecover': None}, {'topicid': 90073886, 'title': '车漆表面的划痕怎么处理?', 'post_memberid': 4121723, 'post_membername': '晓风残月11', 'postdate': '2020-09-18 16:23:38', 'ispic': 0, 'ispoll': 18, 'isrefine': 0, 'replycount': 3, 'viewcount': 0, 'videoid': '', 'isvideo': 0, 'videoinfo': None, 'qainfo': {'topicid': 90073886, 'issolve': False, 'ishigh': False, 'confirmreplyid': 0, 'summary': ''}, 'tags': [], 'topictype': '问', 'imgs': '', 'jximgs': '', 'url': 'http://club.autohome.com.cn/bbs/thread/6f958174bd93791b/90073886-1.html', 'piccount': 0, 'isjingxuan': 0, 'issolve': 0, 'liveid': None, 'livecover': None}, {'topicid': 90007165, 'title': '收一对进口版尾灯！成色无所谓', 'post_memberid': 14592798, 'post_membername': '姿言姿语', 'postdate': '2020-09-16 06:31:32', 'ispic': 0, 'ispoll': 0, 'isrefine': 0, 'replycount': 0, 'viewcount': 0, 'videoid': '', 'isvideo': 0, 'videoinfo': None, 'qainfo': None, 'tags': [], 'topictype': '', 'imgs': '', 'jximgs': '', 'url': 'http://club.autohome.com.cn/bbs/thread/3837a88ac71fb362/90007165-1.html', 'piccount': 0, 'isjingxuan': 0, 'issolve': 0, 'liveid': None, 'livecover': None}, {'topicid': 90002944, 'title': '新车也提供“Trophy”和“潮”两种外观风格。', 'post_memberid': 16599655, 'post_membername': '谁TM买小米', 'postdate': '2020-09-15 21:40:58', 'ispic': 1, 'ispoll': 90, 'isrefine': 0, 'replycount': 0, 'viewcount': 0, 'videoid': '', 'isvideo': 0, 'videoinfo': None, 'qainfo': None, 'tags': [], 'topictype': '', 'imgs': 'http://club2.autoimg.cn/album/g2/M08/D1/35/userphotos/2020/09/15/21/ChsEml9gxGSAT7EdAADS7Xnjv9I087.jpg,http://club2.autoimg.cn/album/g2/M00/BC/C0/userphotos/2020/09/15/21/ChwFql9gxGWACA-lAAD7xnq92Ic774.jpg,http://club2.autoimg.cn/album/g2/M05/BC/C1/userphotos/2020/09/15/21/ChwFql9gxGiABVdmAAD1DXWLLbk984.jpg,http://club2.autoimg.cn/album/g2/M08/D1/36/userphotos/2020/09/15/21/ChsEml9gxGiAcyAtAACutOqBqw8919.jpg,http://club2.autoimg.cn/album/g2/M01/96/F2/userphotos/2020/09/15/21/ChsEkF9gxGmAWLNvAACWjAhDUvo543.jpg', 'jximgs': '', 'url': 'http://club.autohome.com.cn/bbs/thread/c7e10fd590d05dfe/90002944-1.html', 'piccount': 6, 'isjingxuan': 0, 'issolve': 0, 'liveid': None, 'livecover': None}, {'topicid': 89994264, 'title': '蓄电池用了五年该换了吗?', 'post_memberid': 4121723, 'post_membername': '晓风残月11', 'postdate': '2020-09-15 15:58:07', 'ispic': 0, 'ispoll': 18, 'isrefine': 0, 'replycount': 3, 'viewcount': 0, 'videoid': '', 'isvideo': 0, 'videoinfo': None, 'qainfo': {'topicid': 89994264, 'issolve': False, 'ishigh': False, 'confirmreplyid': 0, 'summary': ''}, 'tags': [], 'topictype': '问', 'imgs': '', 'jximgs': '', 'url': 'http://club.autohome.com.cn/bbs/thread/f32ebd1f1dc23f99/89994264-1.html', 'piccount': 0, 'isjingxuan': 0, 'issolve': 0, 'liveid': None, 'livecover': None}, {'topicid': 89975987, 'title': '防冻液需要多长时间更换一次？', 'post_memberid': 10686541, 'post_membername': '芝罘人', 'postdate': '2020-09-14 20:19:21', 'ispic': 0, 'ispoll': 18, 'isrefine': 0, 'replycount': 2, 'viewcount': 0, 'videoid': '', 'isvideo': 0, 'videoinfo': None, 'qainfo': {'topicid': 89975987, 'issolve': True, 'ishigh': False, 'confirmreplyid': 1318099707, 'summary': '三五年更换一次！简单的保养你可以参考一下随车的保养手册，按照这个保养是完全没有什么问题的！不过我个人有个保养经验分享，你可以参考：0-5万公里：日常小保养，机油机滤更换就可以了，全合成机油可以使用1年或者1W公里，半合成10个月或者8千公里'}, 'tags': [], 'topictype': '问', 'imgs': '', 'jximgs': '', 'url': 'http://club.autohome.com.cn/bbs/thread/b6c26d8f7441a526/89975987-1.html', 'piccount': 0, 'isjingxuan': 0, 'issolve': 1, 'liveid': None, 'livecover': None}, {'topicid': 89971037, 'title': '多功能的行车记录仪好用吗？', 'post_memberid': 95732949, 'post_membername': '古德耐斯', 'postdate': '2020-09-14 16:51:19', 'ispic': 0, 'ispoll': 18, 'isrefine': 0, 'replycount': 0, 'viewcount': 0, 'videoid': '', 'isvideo': 0, 'videoinfo': None, 'qainfo': {'topicid': 89971037, 'issolve': False, 'ishigh': False, 'confirmreplyid': 0, 'summary': ''}, 'tags': [], 'topictype': '问', 'imgs': '', 'jximgs': '', 'url': 'http://club.autohome.com.cn/bbs/thread/02c6d9b8f3c9e680/89971037-1.html', 'piccount': 0, 'isjingxuan': 0, 'issolve': 0, 'liveid': None, 'livecover': None}, {'topicid': 89936594, 'title': '出一台名爵TF', 'post_memberid': 29973088, 'post_membername': 'inter姚', 'postdate': '2020-09-13 12:03:30', 'ispic': 1, 'ispoll': 0, 'isrefine': 0, 'replycount': 3, 'viewcount': 0, 'videoid': '', 'isvideo': 0, 'videoinfo': None, 'qainfo': None, 'tags': [], 'topictype': '', 'imgs': 'http://club2.autoimg.cn/album/g1/M0A/A0/E9/userphotos/2020/09/13/12/500_ChsEmV9dmfeABUnTAA4l9fVrwgE128.jpg,http://club2.autoimg.cn/album/g25/M0A/DA/BA/userphotos/2020/09/13/12/500_ChsEmF9dmfyAEY7QAA2TFLG9nmM316.jpg,http://club2.autoimg.cn/album/g25/M0B/D7/34/userphotos/2020/09/13/12/500_ChwFj19dmf-ALGmoAA1goCQ7nKY144.jpg,http://club2.autoimg.cn/album/g27/M04/83/34/userphotos/2020/09/13/12/500_ChsEnV9dmgOACovWAA4PM9KSZZA473.jpg,http://club2.autoimg.cn/album/g25/M07/DA/BB/userphotos/2020/09/13/12/500_ChsEmF9dmgeALfnwAA7UBitT6mw295.jpg', 'jximgs': '', 'url': 'http://club.autohome.com.cn/bbs/thread/b7b34f0215e29234/89936594-1.html', 'piccount': 8, 'isjingxuan': 0, 'issolve': 0, 'liveid': None, 'livecover': None}, {'topicid': 89933684, 'title': '大家多久洗车一次？', 'post_memberid': 34546788, 'post_membername': 'mr_jiang1109', 'postdate': '2020-09-13 10:11:50', 'ispic': 0, 'ispoll': 18, 'isrefine': 0, 'replycount': 3, 'viewcount': 0, 'videoid': '', 'isvideo': 0, 'videoinfo': None, 'qainfo': {'topicid': 89933684, 'issolve': False, 'ishigh': False, 'confirmreplyid': 0, 'summary': ''}, 'tags': [], 'topictype': '问', 'imgs': '', 'jximgs': '', 'url': 'http://club.autohome.com.cn/bbs/thread/be3a47070fe33fe4/89933684-1.html', 'piccount': 0, 'isjingxuan': 0, 'issolve': 0, 'liveid': None, 'livecover': None}, {'topicid': 89930262, 'title': '请问轮胎使用周期是多长？', 'post_memberid': 4121723, 'post_membername': '晓风残月11', 'postdate': '2020-09-13 06:45:48', 'ispic': 0, 'ispoll': 18, 'isrefine': 0, 'replycount': 4, 'viewcount': 0, 'videoid': '', 'isvideo': 0, 'videoinfo': None, 'qainfo': {'topicid': 89930262, 'issolve': False, 'ishigh': True, 'confirmreplyid': 0, 'summary': '汽车轮胎的更换有很多判断标准，新轮胎过了保质期，也不会丧失使用价值，所以应综合考虑。\\u20281、里程标准\\u2028综合路况4-5万公里。沥青平整路面5万公里，砂石崎岖路3万公里。当超过3万公里时，胎面摩擦系数小于50，如遇雨雪湿滑路面时，胎纹挤排水功能下'}, 'tags': [], 'topictype': '问', 'imgs': '', 'jximgs': '', 'url': 'http://club.autohome.com.cn/bbs/thread/527e998346bee990/89930262-1.html', 'piccount': 0, 'isjingxuan': 0, 'issolve': 0, 'liveid': None, 'livecover': None}, {'topicid': 89888302, 'title': '佛山地区收TF', 'post_memberid': 34054245, 'post_membername': '一般人叫我紫薇', 'postdate': '2020-09-11 14:01:06', 'ispic': 0, 'ispoll': 0, 'isrefine': 0, 'replycount': 1, 'viewcount': 0, 'videoid': '', 'isvideo': 0, 'videoinfo': None, 'qainfo': None, 'tags': [], 'topictype': '', 'imgs': '', 'jximgs': '', 'url': 'http://club.autohome.com.cn/bbs/thread/926f098e997ed3c7/89888302-1.html', 'piccount': 0, 'isjingxuan': 0, 'issolve': 0, 'liveid': None, 'livecover': None}, {'topicid': 89874953, 'title': '你所不知道的远方 都是值得一去的天堂', 'post_memberid': 25411861, 'post_membername': '痦子920', 'postdate': '2020-09-11 04:05:05', 'ispic': 1, 'ispoll': 90, 'isrefine': 0, 'replycount': 0, 'viewcount': 0, 'videoid': '', 'isvideo': 0, 'videoinfo': None, 'qainfo': None, 'tags': [], 'topictype': '', 'imgs': 'http://club2.autoimg.cn/album/g3/M0A/71/E6/userphotos/2020/09/11/04/ChsEm19ahuWAYU-8AARPegiR3pc133.jpg,http://club2.autoimg.cn/album/g3/M0B/91/59/userphotos/2020/09/11/04/ChwFlV9ahuaAFBQMAATsCnfIcVg034.jpg,http://club2.autoimg.cn/album/g3/M05/84/CE/userphotos/2020/09/11/04/ChsEkV9ahumAP7tYAATIAkxMbI0832.jpg,http://club2.autoimg.cn/album/g3/M0B/91/5B/userphotos/2020/09/11/04/ChwFlV9ahuyAQ-H1AAQcf3Ioa8A724.jpg,http://club2.autoimg.cn/album/g3/M02/71/E7/userphotos/2020/09/11/04/ChsEm19ahu2Ab0pFAAV1qMH-q1o184.jpg', 'jximgs': '', 'url': 'http://club.autohome.com.cn/bbs/thread/064e73d60a8880f9/89874953-1.html', 'piccount': 6, 'isjingxuan': 0, 'issolve': 0, 'liveid': None, 'livecover': None}, {'topicid': 89874030, 'title': '江苏南通收辆手动tf', 'post_memberid': 191891296, 'post_membername': 'agxjhfpmilu', 'postdate': '2020-09-11 00:01:38', 'ispic': 0, 'ispoll': 0, 'isrefine': 0, 'replycount': 6, 'viewcount': 0, 'videoid': '', 'isvideo': 0, 'videoinfo': None, 'qainfo': None, 'tags': [], 'topictype': '', 'imgs': '', 'jximgs': '', 'url': 'http://club.autohome.com.cn/bbs/thread/ce1dd04276ad8b22/89874030-1.html', 'piccount': 0, 'isjingxuan': 0, 'issolve': 0, 'liveid': None, 'livecover': None}, {'topicid': 89867278, 'title': '请产积碳是怎么形成的？', 'post_memberid': 4121723, 'post_membername': '晓风残月11', 'postdate': '2020-09-10 19:30:09', 'ispic': 0, 'ispoll': 18, 'isrefine': 0, 'replycount': 0, 'viewcount': 0, 'videoid': '', 'isvideo': 0, 'videoinfo': None, 'qainfo': {'topicid': 89867278, 'issolve': False, 'ishigh': False, 'confirmreplyid': 0, 'summary': ''}, 'tags': [], 'topictype': '问', 'imgs': '', 'jximgs': '', 'url': 'http://club.autohome.com.cn/bbs/thread/14e91d363e40f29d/89867278-1.html', 'piccount': 0, 'isjingxuan': 0, 'issolve': 0, 'liveid': None, 'livecover': None}, {'topicid': 89830745, 'title': '想生活在这样的地方，慢慢变老。', 'post_memberid': 16892014, 'post_membername': '什么都不懂1ABC', 'postdate': '2020-09-09 14:29:17', 'ispic': 1, 'ispoll': 90, 'isrefine': 0, 'replycount': 0, 'viewcount': 0, 'videoid': '', 'isvideo': 0, 'videoinfo': None, 'qainfo': None, 'tags': [], 'topictype': '', 'imgs': 'http://club2.autoimg.cn/album/g29/M08/A6/3B/userphotos/2020/09/09/14/ChwFk19YdjSAHYepAAUOZRbVzjk136.jpg,http://club2.autoimg.cn/album/g24/M06/1D/5E/userphotos/2020/09/09/14/ChsEl19YdjeATX03AANJRnS6LC4253.jpg,http://club2.autoimg.cn/album/g24/M02/2A/F6/userphotos/2020/09/09/14/ChsEeV9YdjiACR5VAAORwcmlhrY954.jpg,http://club2.autoimg.cn/album/g24/M08/2A/F6/userphotos/2020/09/09/14/ChsEeV9YdjmAfrUbAATzZVlhsyU789.jpg,http://club2.autoimg.cn/album/g25/M0B/B9/EB/userphotos/2020/09/09/14/ChwFj19YdjuAWSEMAAQGD6sV6Lc124.jpg', 'jximgs': '', 'url': 'http://club.autohome.com.cn/bbs/thread/340917484c1aeb06/89830745-1.html', 'piccount': 6, 'isjingxuan': 0, 'issolve': 0, 'liveid': None, 'livecover': None}, {'topicid': 89797693, 'title': '四轮定位需要按时做么？', 'post_memberid': 12310655, 'post_membername': '小荷才露尖尖脚', 'postdate': '2020-09-08 11:05:26', 'ispic': 0, 'ispoll': 18, 'isrefine': 0, 'replycount': 9, 'viewcount': 0, 'videoid': '', 'isvideo': 0, 'videoinfo': None, 'qainfo': {'topicid': 89797693, 'issolve': True, 'ishigh': True, 'confirmreplyid': 1317145058, 'summary': '四轮定位仅仅是一种维修手段，通常情况下，如果车子没有什么问题是不需要做四轮定位的，所以四轮定位不需要像做保养一样定期做，而应该视情况而定。四轮定位，是以车辆的四轮参数为依据，通过调整定位，确保车辆良好的可靠性和安全性。经常调的一些四轮定位参'}, 'tags': [], 'topictype': '问', 'imgs': '', 'jximgs': '', 'url': 'http://club.autohome.com.cn/bbs/thread/965ab9f8fc2fa0ad/89797693-1.html', 'piccount': 0, 'isjingxuan': 0, 'issolve': 1, 'liveid': None, 'livecover': None}, {'topicid': 89788833, 'title': '请问不计免陪险要买吗？', 'post_memberid': 4121723, 'post_membername': '晓风残月11', 'postdate': '2020-09-07 23:05:52', 'ispic': 0, 'ispoll': 18, 'isrefine': 0, 'replycount': 1, 'viewcount': 0, 'videoid': '', 'isvideo': 0, 'videoinfo': None, 'qainfo': {'topicid': 89788833, 'issolve': False, 'ishigh': False, 'confirmreplyid': 0, 'summary': ''}, 'tags': [], 'topictype': '问', 'imgs': '', 'jximgs': '', 'url': 'http://club.autohome.com.cn/bbs/thread/80c61197c724ab20/89788833-1.html', 'piccount': 0, 'isjingxuan': 0, 'issolve': 0, 'liveid': None, 'livecover': None}, {'topicid': 89754360, 'title': '铁桶从楼顶掉落 民警及时除隐患', 'post_memberid': 170988735, 'post_membername': '海小网', 'postdate': '2020-09-06 18:30:04', 'ispic': 0, 'ispoll': 0, 'isrefine': 0, 'replycount': 0, 'viewcount': 0, 'videoid': '', 'isvideo': 0, 'videoinfo': None, 'qainfo': None, 'tags': [], 'topictype': '', 'imgs': '', 'jximgs': '', 'url': 'http://club.autohome.com.cn/bbs/thread/6e266800ba759ea5/89754360-1.html', 'piccount': 0, 'isjingxuan': 0, 'issolve': 0, 'liveid': None, 'livecover': None}, {'topicid': 89729776, 'title': '第几次保养需要做大保养呢？', 'post_memberid': 12310655, 'post_membername': '小荷才露尖尖脚', 'postdate': '2020-09-05 16:44:05', 'ispic': 0, 'ispoll': 18, 'isrefine': 0, 'replycount': 3, 'viewcount': 0, 'videoid': '', 'isvideo': 0, 'videoinfo': None, 'qainfo': {'topicid': 89729776, 'issolve': True, 'ishigh': False, 'confirmreplyid': 1316754578, 'summary': '大保养应该是四年或5年左右吧，做一次全全面面的。大包有发，所有的油路基本上该换的都需要换掉，你可以看看使用说明书。'}, 'tags': [], 'topictype': '问', 'imgs': '', 'jximgs': '', 'url': 'http://club.autohome.com.cn/bbs/thread/c2b446b3741b04ac/89729776-1.html', 'piccount': 0, 'isjingxuan': 0, 'issolve': 1, 'liveid': None, 'livecover': None}, {'topicid': 89712092, 'title': '收个自动名爵tf', 'post_memberid': 191864251, 'post_membername': 'addjhgqygbl', 'postdate': '2020-09-04 21:10:53', 'ispic': 0, 'ispoll': 0, 'isrefine': 0, 'replycount': 1, 'viewcount': 0, 'videoid': '', 'isvideo': 0, 'videoinfo': None, 'qainfo': None, 'tags': [], 'topictype': '', 'imgs': '', 'jximgs': '', 'url': 'http://club.autohome.com.cn/bbs/thread/8de6612f7cdd0c33/89712092-1.html', 'piccount': 0, 'isjingxuan': 0, 'issolve': 0, 'liveid': None, 'livecover': None}, {'topicid': 89672349, 'title': '旅行的方式很受人喜欢，尤其是这种地方', 'post_memberid': 25411861, 'post_membername': '痦子920', 'postdate': '2020-09-03 09:45:54', 'ispic': 1, 'ispoll': 90, 'isrefine': 0, 'replycount': 0, 'viewcount': 0, 'videoid': '', 'isvideo': 0, 'videoinfo': None, 'qainfo': None, 'tags': [], 'topictype': '', 'imgs': 'http://club2.autoimg.cn/album/g26/M07/38/E5/userphotos/2020/09/03/09/ChsEe19QSs2ALEhBAAIerZABPgU189.jpg,http://club2.autoimg.cn/album/g26/M02/38/CB/userphotos/2020/09/03/09/ChsEnF9QSs6AHcf6AAKXGU2G9tE904.jpg,http://club2.autoimg.cn/album/g26/M05/38/E5/userphotos/2020/09/03/09/ChsEe19QSs-AfyCkAAJ4yYQvKUA612.jpg,http://club2.autoimg.cn/album/g24/M01/81/04/userphotos/2020/09/03/09/ChwFjl9QSs-AG2MAAAIBxibiLFI606.jpg,http://club2.autoimg.cn/album/g26/M07/8A/14/userphotos/2020/09/03/09/ChwFkF9QStCAF9IrAAIkfFWwjxc736.jpg', 'jximgs': '', 'url': 'http://club.autohome.com.cn/bbs/thread/3be54520e0b82f74/89672349-1.html', 'piccount': 6, 'isjingxuan': 0, 'issolve': 0, 'liveid': None, 'livecover': None}, {'topicid': 89667188, 'title': '刹车盘生锈影响行车安全吗？', 'post_memberid': 4121723, 'post_membername': '晓风残月11', 'postdate': '2020-09-02 23:33:10', 'ispic': 0, 'ispoll': 18, 'isrefine': 0, 'replycount': 1, 'viewcount': 0, 'videoid': '', 'isvideo': 0, 'videoinfo': None, 'qainfo': {'topicid': 89667188, 'issolve': False, 'ishigh': False, 'confirmreplyid': 0, 'summary': ''}, 'tags': [], 'topictype': '问', 'imgs': '', 'jximgs': '', 'url': 'http://club.autohome.com.cn/bbs/thread/0c9416651548279a/89667188-1.html', 'piccount': 0, 'isjingxuan': 0, 'issolve': 0, 'liveid': None, 'livecover': None}, {'topicid': 89627282, 'title': '敞篷车实用性怎么样？', 'post_memberid': 95732949, 'post_membername': '古德耐斯', 'postdate': '2020-09-01 09:32:42', 'ispic': 0, 'ispoll': 18, 'isrefine': 0, 'replycount': 5, 'viewcount': 0, 'videoid': '', 'isvideo': 0, 'videoinfo': None, 'qainfo': {'topicid': 89627282, 'issolve': False, 'ishigh': False, 'confirmreplyid': 0, 'summary': ''}, 'tags': [], 'topictype': '问', 'imgs': '', 'jximgs': '', 'url': 'http://club.autohome.com.cn/bbs/thread/2612a862990a61eb/89627282-1.html', 'piccount': 0, 'isjingxuan': 0, 'issolve': 0, 'liveid': None, 'livecover': None}, {'topicid': 89577125, 'title': '简单的晚餐，就吃这些饭菜。', 'post_memberid': 34546788, 'post_membername': 'mr_jiang1109', 'postdate': '2020-08-29 21:22:35', 'ispic': 1, 'ispoll': 90, 'isrefine': 0, 'replycount': 0, 'viewcount': 0, 'videoid': '', 'isvideo': 0, 'videoinfo': None, 'qainfo': None, 'tags': [], 'topictype': '', 'imgs': 'http://club2.autoimg.cn/album/g25/M02/6E/27/userphotos/2020/08/29/21/ChsEmF9KVpSADu9KAAChMG95AEU979.jpg,http://club2.autoimg.cn/album/g27/M0A/60/3F/userphotos/2020/08/29/21/ChwFkV9KVpSAeHJ2AAIHIxn1sPE199.jpg,http://club2.autoimg.cn/album/g27/M03/12/57/userphotos/2020/08/29/21/ChsEnV9KVpeALLlOAAFHU-6dKq0483.jpg,http://club2.autoimg.cn/album/g25/M07/6E/27/userphotos/2020/08/29/21/ChsEmF9KVpiABs_kAADRDffO8-U427.jpg,http://club2.autoimg.cn/album/g27/M07/12/1B/userphotos/2020/08/29/21/ChsEfF9KVpuAFfLOAACLviYJOK0168.jpg', 'jximgs': '', 'url': 'http://club.autohome.com.cn/bbs/thread/74aa433da9ff3592/89577125-1.html', 'piccount': 6, 'isjingxuan': 0, 'issolve': 0, 'liveid': None, 'livecover': None}, {'topicid': 89569429, 'title': '车贩子可真黑啊。', 'post_memberid': 191864251, 'post_membername': 'addjhgqygbl', 'postdate': '2020-08-29 15:23:45', 'ispic': 0, 'ispoll': 0, 'isrefine': 0, 'replycount': 5, 'viewcount': 0, 'videoid': '', 'isvideo': 0, 'videoinfo': None, 'qainfo': None, 'tags': [], 'topictype': '', 'imgs': '', 'jximgs': '', 'url': 'http://club.autohome.com.cn/bbs/thread/b4b5683a3e3007dd/89569429-1.html', 'piccount': 0, 'isjingxuan': 0, 'issolve': 0, 'liveid': None, 'livecover': None}, {'topicid': 89536868, 'title': '3万内！全网收一台自用！名爵TF!自动优先！谢谢！', 'post_memberid': 78945768, 'post_membername': 'Dhhj316', 'postdate': '2020-08-28 02:31:48', 'ispic': 0, 'ispoll': 0, 'isrefine': 0, 'replycount': 0, 'viewcount': 0, 'videoid': '', 'isvideo': 0, 'videoinfo': None, 'qainfo': None, 'tags': [], 'topictype': '', 'imgs': '', 'jximgs': '', 'url': 'http://club.autohome.com.cn/bbs/thread/91a5e3b28857babe/89536868-1.html', 'piccount': 0, 'isjingxuan': 0, 'issolve': 0, 'liveid': None, 'livecover': None}, {'topicid': 89250536, 'title': '秋是慢慢的，冷是突然来得。', 'post_memberid': 83113253, 'post_membername': '水电老bing', 'postdate': '2020-08-15 10:55:30', 'ispic': 1, 'ispoll': 90, 'isrefine': 0, 'replycount': 0, 'viewcount': 0, 'videoid': '', 'isvideo': 0, 'videoinfo': None, 'qainfo': None, 'tags': [], 'topictype': '', 'imgs': 'http://club2.autoimg.cn/album/g28/M06/8C/D5/userphotos/2020/08/15/10/ChsEfV83TpWANhL4AAaYJ49GxhE670.jpg,http://club2.autoimg.cn/album/g3/M08/8E/A0/userphotos/2020/08/15/10/ChsEm183TpaAK8k3AAP89JTn3eQ810.jpg,http://club2.autoimg.cn/album/g3/M09/A1/6F/userphotos/2020/08/15/10/ChsEkV83TpeAO14ZAAeombkHMeg637.jpg,http://club2.autoimg.cn/album/g28/M02/D2/44/userphotos/2020/08/15/10/ChwFkl83TpqAb97uAAUiyKHpoek132.jpg,http://club2.autoimg.cn/album/g28/M0B/8C/D6/userphotos/2020/08/15/10/ChsEfV83TpuAII23AAaXuDuCFpo184.jpg', 'jximgs': '', 'url': 'http://club.autohome.com.cn/bbs/thread/ceb4ba2b9d26bb51/89250536-1.html', 'piccount': 8, 'isjingxuan': 0, 'issolve': 0, 'liveid': None, 'livecover': None}, {'topicid': 89248252, 'title': '《三十而已》\\n王漫妮老家取景地枫泾古镇', 'post_memberid': 83113253, 'post_membername': '水电老bing', 'postdate': '2020-08-15 09:33:45', 'ispic': 1, 'ispoll': 90, 'isrefine': 0, 'replycount': 0, 'viewcount': 0, 'videoid': '', 'isvideo': 0, 'videoinfo': None, 'qainfo': None, 'tags': [], 'topictype': '', 'imgs': 'http://club2.autoimg.cn/album/g28/M03/8C/32/userphotos/2020/08/15/09/ChsEfV83O2aAW_JrAAcUnG9PASU798.jpg,http://club2.autoimg.cn/album/g28/M07/8C/50/userphotos/2020/08/15/09/ChsEnl83O2eASvQfAAdZOEzCf7s255.jpg,http://club2.autoimg.cn/album/g28/M09/D1/A6/userphotos/2020/08/15/09/ChwFkl83O2qAG4baAAcuYhyPKEg610.jpg,http://club2.autoimg.cn/album/g28/M08/D1/A7/userphotos/2020/08/15/09/ChwFkl83O22AbTtfAAZiM97QsVI809.jpg,http://club2.autoimg.cn/album/g25/M00/E4/54/userphotos/2020/08/15/09/ChwFj183O26AVPOuAAfKARe1ioI958.jpg', 'jximgs': '', 'url': 'http://club.autohome.com.cn/bbs/thread/5d6ac2778083d09d/89248252-1.html', 'piccount': 9, 'isjingxuan': 0, 'issolve': 0, 'liveid': None, 'livecover': None}, {'topicid': 89164674, 'title': '为什么咸鱼上卖那么贵。这车去年也就两万多', 'post_memberid': 54257992, 'post_membername': '糖果不甜真不甜', 'postdate': '2020-08-11 10:17:24', 'ispic': 0, 'ispoll': 0, 'isrefine': 0, 'replycount': 1, 'viewcount': 0, 'videoid': '', 'isvideo': 0, 'videoinfo': None, 'qainfo': None, 'tags': [], 'topictype': '', 'imgs': '', 'jximgs': '', 'url': 'http://club.autohome.com.cn/bbs/thread/2d2fa981ee3f9ebe/89164674-1.html', 'piccount': 0, 'isjingxuan': 0, 'issolve': 0, 'liveid': None, 'livecover': None}, {'topicid': 89138762, 'title': '玩了大半年，准备出手了', 'post_memberid': 4833960, 'post_membername': '贵州农机哥', 'postdate': '2020-08-09 21:59:00', 'ispic': 1, 'ispoll': 0, 'isrefine': 0, 'replycount': 8, 'viewcount': 0, 'videoid': '', 'isvideo': 0, 'videoinfo': None, 'qainfo': None, 'tags': [], 'topictype': '', 'imgs': 'http://club2.autoimg.cn/album/g30/M03/65/17/userphotos/2020/08/09/21/500_ChsEf18wAR6AFV8yAARobbCPu60533.jpg,http://club2.autoimg.cn/album/g1/M04/89/14/userphotos/2020/08/09/21/500_ChsEmV8wAR-AAaKfAARxpSxN6-0158.jpg,http://club2.autoimg.cn/album/g1/M00/91/2B/userphotos/2020/08/09/21/500_ChwFqV8wASCACToFAAKE3mF7CDk184.jpg,http://club2.autoimg.cn/album/g1/M08/91/2C/userphotos/2020/08/09/21/500_ChwFqV8wASGAZDZcAASpGDzKQVU808.jpg,http://club2.autoimg.cn/album/g30/M08/65/17/userphotos/2020/08/09/21/500_ChsEf18wASKAOx-MAAUdnjsroEw491.jpg', 'jximgs': '', 'url': 'http://club.autohome.com.cn/bbs/thread/4a4cf46ac46054e8/89138762-1.html', 'piccount': 6, 'isjingxuan': 0, 'issolve': 0, 'liveid': None, 'livecover': None}, {'topicid': 89106535, 'title': '开车不果断点就能慢慢排队了', 'post_memberid': 180978226, 'post_membername': '奕跑小公举', 'postdate': '2020-08-08 09:23:26', 'ispic': 0, 'ispoll': 80, 'isrefine': 0, 'replycount': 0, 'viewcount': 0, 'videoid': 'D80D411FA6B9BBA26F15C4841F4F2CE2', 'isvideo': 1, 'videoinfo': {'videoid': 'D80D411FA6B9BBA26F15C4841F4F2CE2', 'videoimg': 'http://club2.autoimg.cn/album/g27/M01/AA/E5/userphotos/2020/08/08/09/ChwFkV8t_o2ADZ7tAAKz5LV6fFQ600.jpg', 'duration': 68, 'summary': ''}, 'qainfo': None, 'tags': [{'tagid': 584, 'tagname': '日常拍摄'}], 'topictype': '', 'imgs': '', 'jximgs': '', 'url': 'http://club.autohome.com.cn/bbs/thread/f4bad00e1de1feb2/89106535-1.html', 'piccount': 0, 'isjingxuan': 0, 'issolve': 0, 'liveid': None, 'livecover': None}, {'topicid': 89035289, 'title': '车牌没丢为何挂失 民警查车查出真相', 'post_memberid': 170988735, 'post_membername': '海小网', 'postdate': '2020-08-04 11:16:32', 'ispic': 0, 'ispoll': 0, 'isrefine': 0, 'replycount': 0, 'viewcount': 0, 'videoid': '', 'isvideo': 0, 'videoinfo': None, 'qainfo': None, 'tags': [], 'topictype': '', 'imgs': '', 'jximgs': '', 'url': 'http://club.autohome.com.cn/bbs/thread/2147d33a0ecf1b2f/89035289-1.html', 'piccount': 0, 'isjingxuan': 0, 'issolve': 0, 'liveid': None, 'livecover': None}, {'topicid': 88974942, 'title': '偶然发现一款车', 'post_memberid': 188604030, 'post_membername': 'avbkwlsoh1w', 'postdate': '2020-07-31 19:19:02', 'ispic': 1, 'ispoll': 0, 'isrefine': 0, 'replycount': 0, 'viewcount': 0, 'videoid': '', 'isvideo': 0, 'videoinfo': None, 'qainfo': None, 'tags': [], 'topictype': '', 'imgs': 'http://club2.autoimg.cn/album/g1/M02/4F/D6/userphotos/2020/07/31/19/500_ChwFqV8j_guACvnCAAWot_if4nU923.jpg,http://club2.autoimg.cn/album/g1/M08/47/F3/userphotos/2020/07/31/19/500_ChsEmV8j_g-AHLG1AApaCNmQwvg669.jpg,http://club2.autoimg.cn/album/g1/M0A/3F/23/userphotos/2020/07/31/19/500_ChsEj18j_hOAX1ZBAAnVrmtwWck229.jpg,http://club2.autoimg.cn/album/g1/M05/47/F4/userphotos/2020/07/31/19/500_ChsEmV8j_haAFNk4AAk8sGSkmrM293.jpg,http://club2.autoimg.cn/album/g25/M04/86/52/userphotos/2020/07/31/19/500_ChsEel8j_iOAZx3VAAkzV-mYXO0024.jpg', 'jximgs': '', 'url': 'http://club.autohome.com.cn/bbs/thread/17462757bb4b5151/88974942-1.html', 'piccount': 5, 'isjingxuan': 0, 'issolve': 0, 'liveid': None, 'livecover': None}, {'topicid': 88925625, 'title': '卖废铁，要的滴滴我', 'post_memberid': 54412020, 'post_membername': 'kbdl00520', 'postdate': '2020-07-29 14:33:16', 'ispic': 1, 'ispoll': 0, 'isrefine': 0, 'replycount': 11, 'viewcount': 0, 'videoid': '', 'isvideo': 0, 'videoinfo': None, 'qainfo': None, 'tags': [], 'topictype': '', 'imgs': 'http://club2.autoimg.cn/album/g29/M03/15/13/userphotos/2020/07/29/14/500_ChsEfl8hGA2AYTdkAAc9itqW5QY089.jpg,http://club2.autoimg.cn/album/g27/M05/11/F9/userphotos/2020/07/29/14/500_ChsEnV8hGA2ASxO3AAPOQNHuFVc719.jpg,http://club2.autoimg.cn/album/g25/M03/6F/81/userphotos/2020/07/29/14/500_ChsEmF8hGAyAUhCGAAa4eOughDE265.jpg,http://club2.autoimg.cn/album/g29/M05/13/43/userphotos/2020/07/29/14/500_ChsEn18hGAyAbaYDAAe87R7b0eg241.jpg,http://club2.autoimg.cn/album/g25/M00/74/2C/userphotos/2020/07/29/14/500_ChsEel8hGAuAcBb6AAaz7-97p7s685.jpg', 'jximgs': '', 'url': 'http://club.autohome.com.cn/bbs/thread/82266e1c88200238/88925625-1.html', 'piccount': 6, 'isjingxuan': 0, 'issolve': 0, 'liveid': None, 'livecover': None}, {'topicid': 88898563, 'title': '拿起相机记录生活中的美丽画面', 'post_memberid': 185917645, 'post_membername': '3月11', 'postdate': '2020-07-28 09:46:15', 'ispic': 1, 'ispoll': 90, 'isrefine': 0, 'replycount': 0, 'viewcount': 0, 'videoid': '', 'isvideo': 0, 'videoinfo': None, 'qainfo': None, 'tags': [], 'topictype': '', 'imgs': 'http://club2.autoimg.cn/album/g27/M08/08/39/userphotos/2020/07/28/09/ChsEfF8fg1-AGULBAAHnxST9p48168.jpg,http://club2.autoimg.cn/album/g27/M05/55/EE/userphotos/2020/07/28/09/ChwFkV8fg2KAKxs6AAYZWHo1rG8833.jpg,http://club2.autoimg.cn/album/g26/M01/0E/8B/userphotos/2020/07/28/09/ChsEnF8fg2OAReKsAAHYESpYiIA692.jpg,http://club2.autoimg.cn/album/g26/M05/0E/8B/userphotos/2020/07/28/09/ChsEnF8fg2SAONFkAAXxh7W9ymY065.jpg,http://club2.autoimg.cn/album/g27/M0A/08/3B/userphotos/2020/07/28/09/ChsEfF8fg2aAAoPBAAc3rNnuAa8822.jpg', 'jximgs': '', 'url': 'http://club.autohome.com.cn/bbs/thread/7be17804487f4c7c/88898563-1.html', 'piccount': 6, 'isjingxuan': 0, 'issolve': 0, 'liveid': None, 'livecover': None}, {'topicid': 88870599, 'title': '我要如何删除自己发错的帖子？', 'post_memberid': 26231078, 'post_membername': '阳光耀凡尘', 'postdate': '2020-07-26 20:25:50', 'ispic': 0, 'ispoll': 18, 'isrefine': 0, 'replycount': 2, 'viewcount': 0, 'videoid': '', 'isvideo': 0, 'videoinfo': None, 'qainfo': {'topicid': 88870599, 'issolve': False, 'ishigh': False, 'confirmreplyid': 0, 'summary': ''}, 'tags': [], 'topictype': '问', 'imgs': '', 'jximgs': '', 'url': 'http://club.autohome.com.cn/bbs/thread/ed5a19a512138a6a/88870599-1.html', 'piccount': 0, 'isjingxuan': 0, 'issolve': 0, 'liveid': None, 'livecover': None}, {'topicid': 88870578, 'title': '如何删除自己发错的帖子？', 'post_memberid': 26231078, 'post_membername': '阳光耀凡尘', 'postdate': '2020-07-26 20:24:49', 'ispic': 0, 'ispoll': 18, 'isrefine': 0, 'replycount': 3, 'viewcount': 0, 'videoid': '', 'isvideo': 0, 'videoinfo': None, 'qainfo': {'topicid': 88870578, 'issolve': False, 'ishigh': False, 'confirmreplyid': 0, 'summary': ''}, 'tags': [], 'topictype': '问', 'imgs': '', 'jximgs': '', 'url': 'http://club.autohome.com.cn/bbs/thread/273ad4be2be05a7b/88870578-1.html', 'piccount': 0, 'isjingxuan': 0, 'issolve': 0, 'liveid': None, 'livecover': None}, {'topicid': 88870548, 'title': '如何成为汽车之家答主？', 'post_memberid': 26231078, 'post_membername': '阳光耀凡尘', 'postdate': '2020-07-26 20:23:05', 'ispic': 0, 'ispoll': 18, 'isrefine': 0, 'replycount': 4, 'viewcount': 0, 'videoid': '', 'isvideo': 0, 'videoinfo': None, 'qainfo': {'topicid': 88870548, 'issolve': False, 'ishigh': False, 'confirmreplyid': 0, 'summary': ''}, 'tags': [], 'topictype': '问', 'imgs': '', 'jximgs': '', 'url': 'http://club.autohome.com.cn/bbs/thread/b157bdd0d5bc2270/88870548-1.html', 'piccount': 0, 'isjingxuan': 0, 'issolve': 0, 'liveid': None, 'livecover': None}, {'topicid': 88870507, 'title': '轮胎你们都是多少公里更换的？', 'post_memberid': 26231078, 'post_membername': '阳光耀凡尘', 'postdate': '2020-07-26 20:21:21', 'ispic': 0, 'ispoll': 18, 'isrefine': 0, 'replycount': 11, 'viewcount': 0, 'videoid': '', 'isvideo': 0, 'videoinfo': None, 'qainfo': {'topicid': 88870507, 'issolve': False, 'ishigh': False, 'confirmreplyid': 0, 'summary': ''}, 'tags': [], 'topictype': '问', 'imgs': '', 'jximgs': '', 'url': 'http://club.autohome.com.cn/bbs/thread/09ab3bc7ef02763b/88870507-1.html', 'piccount': 0, 'isjingxuan': 0, 'issolve': 0, 'liveid': None, 'livecover': None}, {'topicid': 88870480, 'title': '车漆打蜡一次可以保持多长时间？', 'post_memberid': 26231078, 'post_membername': '阳光耀凡尘', 'postdate': '2020-07-26 20:20:09', 'ispic': 0, 'ispoll': 18, 'isrefine': 0, 'replycount': 8, 'viewcount': 0, 'videoid': '', 'isvideo': 0, 'videoinfo': None, 'qainfo': {'topicid': 88870480, 'issolve': False, 'ishigh': False, 'confirmreplyid': 0, 'summary': ''}, 'tags': [], 'topictype': '问', 'imgs': '', 'jximgs': '', 'url': 'http://club.autohome.com.cn/bbs/thread/62ea6803f5f40805/88870480-1.html', 'piccount': 0, 'isjingxuan': 0, 'issolve': 0, 'liveid': None, 'livecover': None}, {'topicid': 88870448, 'title': '车内烟味如何去除？', 'post_memberid': 26231078, 'post_membername': '阳光耀凡尘', 'postdate': '2020-07-26 20:18:29', 'ispic': 0, 'ispoll': 18, 'isrefine': 0, 'replycount': 10, 'viewcount': 0, 'videoid': '', 'isvideo': 0, 'videoinfo': None, 'qainfo': {'topicid': 88870448, 'issolve': False, 'ishigh': False, 'confirmreplyid': 0, 'summary': ''}, 'tags': [], 'topictype': '问', 'imgs': '', 'jximgs': '', 'url': 'http://club.autohome.com.cn/bbs/thread/eec9ae7d7eb5fcba/88870448-1.html', 'piccount': 0, 'isjingxuan': 0, 'issolve': 0, 'liveid': None, 'livecover': None}, {'topicid': 88870411, 'title': '汽车雨刷器多久更换？', 'post_memberid': 26231078, 'post_membername': '阳光耀凡尘', 'postdate': '2020-07-26 20:16:58', 'ispic': 0, 'ispoll': 18, 'isrefine': 0, 'replycount': 10, 'viewcount': 0, 'videoid': '', 'isvideo': 0, 'videoinfo': None, 'qainfo': {'topicid': 88870411, 'issolve': False, 'ishigh': False, 'confirmreplyid': 0, 'summary': ''}, 'tags': [], 'topictype': '问', 'imgs': '', 'jximgs': '', 'url': 'http://club.autohome.com.cn/bbs/thread/57d688ab4490a063/88870411-1.html', 'piccount': 0, 'isjingxuan': 0, 'issolve': 0, 'liveid': None, 'livecover': None}, {'topicid': 88855598, 'title': '高价收购京牌名爵tf', 'post_memberid': 3526806, 'post_membername': '虎头小葱', 'postdate': '2020-07-25 22:57:02', 'ispic': 0, 'ispoll': 0, 'isrefine': 0, 'replycount': 1, 'viewcount': 0, 'videoid': '', 'isvideo': 0, 'videoinfo': None, 'qainfo': None, 'tags': [], 'topictype': '', 'imgs': '', 'jximgs': '', 'url': 'http://club.autohome.com.cn/bbs/thread/ad4627abd116f780/88855598-1.html', 'piccount': 0, 'isjingxuan': 0, 'issolve': 0, 'liveid': None, 'livecover': None}, {'topicid': 88853671, 'title': '成都车展酷炫的改装车之名爵展台！', 'post_memberid': 83113253, 'post_membername': '水电老bing', 'postdate': '2020-07-25 21:09:51', 'ispic': 1, 'ispoll': 90, 'isrefine': 0, 'replycount': 0, 'viewcount': 0, 'videoid': '', 'isvideo': 0, 'videoinfo': None, 'qainfo': None, 'tags': [], 'topictype': '', 'imgs': 'http://club2.autoimg.cn/album/g2/M06/FE/BE/userphotos/2020/07/25/21/ChsEkF8cLxuAFLfOAAZmk1TYc8M515.jpg,http://club2.autoimg.cn/album/g2/M03/FE/BF/userphotos/2020/07/25/21/ChsEkF8cLx6AdkMbAAfLNBtn61k700.jpg,http://club2.autoimg.cn/album/g28/M01/FA/FA/userphotos/2020/07/25/21/ChsEnl8cLx6AUHJFAAFz84-liyk081.jpg', 'jximgs': '', 'url': 'http://club.autohome.com.cn/bbs/thread/1a3753c7ea3c1173/88853671-1.html', 'piccount': 3, 'isjingxuan': 0, 'issolve': 0, 'liveid': None, 'livecover': None}, {'topicid': 88835948, 'title': '周末山里玩缆绳，大山里的空气真好。', 'post_memberid': 34546788, 'post_membername': 'mr_jiang1109', 'postdate': '2020-07-24 21:58:46', 'ispic': 1, 'ispoll': 90, 'isrefine': 0, 'replycount': 0, 'viewcount': 0, 'videoid': '', 'isvideo': 0, 'videoinfo': None, 'qainfo': None, 'tags': [], 'topictype': '', 'imgs': 'http://club2.autoimg.cn/album/g2/M01/1C/5A/userphotos/2020/07/24/21/ChwFql8a6Q-AU4MtAAIsBJure8M093.jpg,http://club2.autoimg.cn/album/g3/M02/F8/62/userphotos/2020/07/24/21/ChsEm18a6RCAcyK4AAISFlayt2Y325.jpg,http://club2.autoimg.cn/album/g3/M0B/17/B6/userphotos/2020/07/24/21/ChwFlV8a6RCAQZHtAAD_VTQwlMo925.jpg,http://club2.autoimg.cn/album/g2/M09/31/C7/userphotos/2020/07/24/21/ChsEml8a6RCAbeuJAAHwivP4t1k956.jpg,http://club2.autoimg.cn/album/g3/M02/0B/58/userphotos/2020/07/24/21/ChsEkV8a6ROAUHQEAAGNFgLzUoM163.jpg', 'jximgs': '', 'url': 'http://club.autohome.com.cn/bbs/thread/f2fe3479cc4a1701/88835948-1.html', 'piccount': 6, 'isjingxuan': 0, 'issolve': 0, 'liveid': None, 'livecover': None}, {'topicid': 88703573, 'title': '雨刮工作为什么会有刮不到的地方？', 'post_memberid': 20258575, 'post_membername': 'kaobenburongyi1', 'postdate': '2020-07-17 22:10:32', 'ispic': 0, 'ispoll': 18, 'isrefine': 0, 'replycount': 4, 'viewcount': 0, 'videoid': '', 'isvideo': 0, 'videoinfo': None, 'qainfo': {'topicid': 88703573, 'issolve': False, 'ishigh': False, 'confirmreplyid': 0, 'summary': ''}, 'tags': [], 'topictype': '问', 'imgs': '', 'jximgs': '', 'url': 'http://club.autohome.com.cn/bbs/thread/af94359161552b21/88703573-1.html', 'piccount': 0, 'isjingxuan': 0, 'issolve': 0, 'liveid': None, 'livecover': None}, {'topicid': 88598700, 'title': '马塔努斯卡冰川，冬季比周边地区更容易出现阳光明媚的天气', 'post_memberid': 5419781, 'post_membername': '羊小羊064', 'postdate': '2020-07-12 13:40:25', 'ispic': 1, 'ispoll': 90, 'isrefine': 0, 'replycount': 0, 'viewcount': 0, 'videoid': '', 'isvideo': 0, 'videoinfo': None, 'qainfo': None, 'tags': [], 'topictype': '', 'imgs': 'http://club2.autoimg.cn/album/g25/M05/EF/CE/userphotos/2020/07/12/13/ChsEel8KojyAVarTAAD9iod9nks404.jpg,http://club2.autoimg.cn/album/g25/M04/EF/CE/userphotos/2020/07/12/13/ChsEel8KojyAZq06AAFq_nSCSKo974.jpg,http://club2.autoimg.cn/album/g25/M04/E7/1A/userphotos/2020/07/12/13/ChwFj18Koj-AcJNEAAFQs4sxwgQ994.jpg,http://club2.autoimg.cn/album/g25/M00/EB/38/userphotos/2020/07/12/13/ChsEmF8KokSANx5fAAFO5QmOVG8621.jpg,http://club2.autoimg.cn/album/g25/M00/E7/1B/userphotos/2020/07/12/13/ChwFj18KokWAFvoeAAJv_FNnCJc966.jpg', 'jximgs': '', 'url': 'http://club.autohome.com.cn/bbs/thread/556bf5c012ff5bed/88598700-1.html', 'piccount': 6, 'isjingxuan': 0, 'issolve': 0, 'liveid': None, 'livecover': None}, {'topicid': 88587671, 'title': '当我第一次踏足这片土地时，我感到了天地造化无处不在的奇迹', 'post_memberid': 193360062, 'post_membername': 'avcwps9jyyb', 'postdate': '2020-07-11 19:43:36', 'ispic': 1, 'ispoll': 90, 'isrefine': 0, 'replycount': 0, 'viewcount': 0, 'videoid': '', 'isvideo': 0, 'videoinfo': None, 'qainfo': None, 'tags': [], 'topictype': '', 'imgs': 'http://club2.autoimg.cn/album/g30/M09/C4/57/userphotos/2020/07/11/19/ChwFlF8JpeCAe9TyAAG-KSlNTMY850.jpg,http://club2.autoimg.cn/album/g30/M09/89/73/userphotos/2020/07/11/19/ChsEoF8JpeCAYEJZAAHrhV_ZHCs812.jpg,http://club2.autoimg.cn/album/g30/M09/89/F8/userphotos/2020/07/11/19/ChsEf18JpeGAKV4HAAGzQjSz2lE728.jpg,http://club2.autoimg.cn/album/g30/M07/C4/57/userphotos/2020/07/11/19/ChwFlF8JpeSAVU4bAAFnx6GDmMk791.jpg,http://club2.autoimg.cn/album/g30/M09/89/F8/userphotos/2020/07/11/19/ChsEf18JpeSAZiocAAD00efZDOY101.jpg', 'jximgs': '', 'url': 'http://club.autohome.com.cn/bbs/thread/b92f8e4b37f709fa/88587671-1.html', 'piccount': 6, 'isjingxuan': 0, 'issolve': 0, 'liveid': None, 'livecover': None}, {'topicid': 88566878, 'title': '街头巷尾飘出的粽香，呼朋唤友来了那五月初五', 'post_memberid': 83113253, 'post_membername': '水电老bing', 'postdate': '2020-07-10 15:58:52', 'ispic': 1, 'ispoll': 90, 'isrefine': 0, 'replycount': 0, 'viewcount': 0, 'videoid': '', 'isvideo': 0, 'videoinfo': None, 'qainfo': None, 'tags': [], 'topictype': '', 'imgs': 'http://club2.autoimg.cn/album/g29/M02/81/52/userphotos/2020/07/10/15/ChsEn18IH7eANsldAAEvxW0_Dzg890.jpg,http://club2.autoimg.cn/album/g29/M01/C4/B1/userphotos/2020/07/10/15/ChwFk18IH7iAD_slAAECP8oXBCE980.jpg,http://club2.autoimg.cn/album/g1/M09/A2/1A/userphotos/2020/07/10/15/ChsEmV8IH7qAMxvZAAEuSI5G4RY047.jpg,http://club2.autoimg.cn/album/g29/M08/83/48/userphotos/2020/07/10/15/ChsEfl8IH7uAPQ37AAEhgP_OKO8033.jpg,http://club2.autoimg.cn/album/g29/M05/83/48/userphotos/2020/07/10/15/ChsEfl8IH7uAEQE6AACrqPSh--8787.jpg', 'jximgs': '', 'url': 'http://club.autohome.com.cn/bbs/thread/a7f550b6b205fd49/88566878-1.html', 'piccount': 6, 'isjingxuan': 0, 'issolve': 0, 'liveid': None, 'livecover': None}, {'topicid': 88555343, 'title': '南方爱咸，粽子馅料有咸蛋黄、香菇、肥猪肉……', 'post_memberid': 83113253, 'post_membername': '水电老bing', 'postdate': '2020-07-09 21:48:01', 'ispic': 1, 'ispoll': 90, 'isrefine': 0, 'replycount': 0, 'viewcount': 0, 'videoid': '', 'isvideo': 0, 'videoinfo': None, 'qainfo': None, 'tags': [], 'topictype': '', 'imgs': 'http://club2.autoimg.cn/album/g28/M09/C3/1F/userphotos/2020/07/09/21/ChwFkl8HIA-AduI2AABbx-XGQIc941.jpg,http://club2.autoimg.cn/album/g28/M0B/7E/14/userphotos/2020/07/09/21/ChsEfV8HIA-AZn5sAAC2V0Sv88s709.jpg,http://club2.autoimg.cn/album/g28/M02/7E/3C/userphotos/2020/07/09/21/ChsEnl8HIA-AcMHrAACd3n-sJoM179.jpg,http://club2.autoimg.cn/album/g25/M01/D8/8F/userphotos/2020/07/09/21/ChsEmF8HIBCAeU3PAACnPce2OwM509.jpg,http://club2.autoimg.cn/album/g25/M00/DD/21/userphotos/2020/07/09/21/ChsEel8HIBCAIswjAACabKPN6yU406.jpg', 'jximgs': '', 'url': 'http://club.autohome.com.cn/bbs/thread/4701930b300ba6d4/88555343-1.html', 'piccount': 6, 'isjingxuan': 0, 'issolve': 0, 'liveid': None, 'livecover': None}, {'topicid': 88522454, 'title': 'TF来了。。。', 'post_memberid': 29914359, 'post_membername': '越图图大主教', 'postdate': '2020-07-08 00:18:14', 'ispic': 1, 'ispoll': 0, 'isrefine': 0, 'replycount': 3, 'viewcount': 0, 'videoid': '', 'isvideo': 0, 'videoinfo': None, 'qainfo': None, 'tags': [], 'topictype': '', 'imgs': 'http://club2.autoimg.cn/album/g25/M00/CD/E0/userphotos/2020/07/08/00/500_ChsEel8EoECAb1kLAAlQfusjN1k396.jpg', 'jximgs': '', 'url': 'http://club.autohome.com.cn/bbs/thread/518e3356b52bafa9/88522454-1.html', 'piccount': 1, 'isjingxuan': 0, 'issolve': 0, 'liveid': None, 'livecover': None}], 'taglist': []}}\n"
     ]
    }
   ],
   "source": [
    "import requests\n",
    "import json\n",
    "from lxml import etree\n",
    "headers = {\n",
    "    'Referer': 'https://club.autohome.com.cn/',\n",
    "    \"User-Agent\": \"Mozilla/5.0 (Windows NT 10.0; WOW64) AppleWebKit/537.36 (KHTML, like Gecko) Chrome/72.0.3626.121 Safari/537.36\"\n",
    "}\n",
    "response = requests.get(url = 'https://club.autohome.com.cn/frontapi/topics/getByBbsId?pageindex=1&pagesize=100&bbs=c&bbsid=533&fields=topicid%2Ctitle%2Cpost_memberid%2Cpost_membername%2Cpostdate%2Cispoll%2Cispic%2Cisrefine%2Creplycount%2Cviewcount%2Cvideoid%2Cisvideo%2Cvideoinfo%2Cqainfo%2Ctags%2Ctopictype%2Cimgs%2Cjximgs%2Curl%2Cpiccount%2Cisjingxuan%2Cissolve%2Cliveid%2Clivecover%2Ctopicimgs&orderby=topicid-',headers=headers)\n",
    "response.encoding = response.apparent_encoding\n",
    "html = etree.HTML(response.text)\n",
    "json_data = json.loads(response.text)\n",
    "print(json_data)"
   ]
  },
  {
   "cell_type": "code",
   "execution_count": null,
   "metadata": {
    "pycharm": {
     "name": "#%%\n"
    }
   },
   "outputs": [],
   "source": []
  },
  {
   "cell_type": "code",
   "execution_count": null,
   "metadata": {
    "pycharm": {
     "name": "#%%\n"
    }
   },
   "outputs": [],
   "source": []
  },
  {
   "cell_type": "code",
   "execution_count": null,
   "metadata": {
    "pycharm": {
     "name": "#%%\n"
    }
   },
   "outputs": [],
   "source": []
  },
  {
   "cell_type": "code",
   "execution_count": null,
   "metadata": {
    "pycharm": {
     "name": "#%%\n"
    }
   },
   "outputs": [],
   "source": []
  },
  {
   "cell_type": "code",
   "execution_count": null,
   "metadata": {
    "pycharm": {
     "name": "#%%"
    }
   },
   "outputs": [],
   "source": []
  }
 ],
 "metadata": {
  "kernelspec": {
   "display_name": "Python 3",
   "language": "python",
   "name": "python3"
  },
  "language_info": {
   "codemirror_mode": {
    "name": "ipython",
    "version": 3
   },
   "file_extension": ".py",
   "mimetype": "text/x-python",
   "name": "python",
   "nbconvert_exporter": "python",
   "pygments_lexer": "ipython3",
   "version": "3.7.3"
  },
  "pycharm": {
   "stem_cell": {
    "cell_type": "raw",
    "metadata": {
     "collapsed": false
    },
    "source": []
   }
  }
 },
 "nbformat": 4,
 "nbformat_minor": 1
}
