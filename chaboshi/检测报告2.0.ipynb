{
 "cells": [
  {
   "cell_type": "code",
   "execution_count": 2,
   "metadata": {
    "collapsed": true,
    "pycharm": {
     "is_executing": false
    }
   },
   "outputs": [],
   "source": [
    "import requests\n",
    "from lxml import etree\n",
    "url = 'https://m.chaboshi.cn/wap/findShareDetection?orderno=709c4319f5c543e4a45760721942864b'\n",
    "response = requests.get(url)\n",
    "html = response.text\n",
    "text = etree.HTML(html)\n",
    "# 合同协议网页里面获取VIN码\n",
    "xieyi_url = 'https://app.chaboshi.cn/' + text.xpath('//iframe[@id=\"iframe2\"]/@src')[0]\n",
    "xieyi_response = requests.get(xieyi_url)\n",
    "xieyi_html = xieyi_response.text\n",
    "xieyi_text = etree.HTML(xieyi_html)\n",
    "item = {}"
   ]
  },
  {
   "cell_type": "code",
   "execution_count": 3,
   "outputs": [
    {
     "name": "stdout",
     "text": [
      "{'车辆名称': '宝骏 E100 2017款  智行版', 'VIN': 'LK6ADCE27HB006598', '检测日期': '2020-10-14', '检测结果': '通过', '车辆使用重要部件检测 / 报告编号': '202010JC14260445'}\n"
     ],
     "output_type": "stream"
    }
   ],
   "source": [
    "cheliangmingcheng = text.xpath('//p[@class=\"detectionCarName\"]/text()')[0]\n",
    "VIN = xieyi_text.xpath('//ul[@class=\"insurContract\"]/li/input/@value')[0]\n",
    "jianceriqi = xieyi_text.xpath('//ul[@class=\"insurContract\"]/li/input/@value')[1]\n",
    "jiancejieguo = xieyi_text.xpath('//ul[@class=\"insurContract\"]/li/input/@value')[2]\n",
    "baogaobianhao = text.xpath('//p[@class=\"detectionCarNo\"]/text()')[0]\n",
    "baogao = baogaobianhao.split('：')[0]\n",
    "bianhao = baogaobianhao.split('：')[1]\n",
    "\n",
    "\n",
    "jibenxinxi = {'车辆名称':cheliangmingcheng, 'VIN':VIN, '检测日期':jianceriqi, '检测结果':jiancejieguo, baogao:bianhao}\n",
    "print(jibenxinxi)"
   ],
   "metadata": {
    "collapsed": false,
    "pycharm": {
     "name": "#%% 基本信息\n",
     "is_executing": false
    }
   }
  },
  {
   "cell_type": "code",
   "execution_count": 11,
   "outputs": [
    {
     "name": "stdout",
     "text": [
      "{'事故车/ 非泡水/ 非火烧': 'S', '重要车况评分': '4.0', '重要部件评级': 'A', '检测结果': '非事故、非泡水、非火烧', '各项综合计数': {'事故检测': '0', '泡水检测': '0', '火烧检测': '0', '安全系统': '8', '车身底盘': '8', '电器系统': '0', '动力系统': '0'}}\n"
     ],
     "output_type": "stream"
    }
   ],
   "source": [
    "zonghepingfen = text.xpath('//div[@class=\"detectionBoxNew\"]/p/text()')[0]\n",
    "zonghepingfen1 = zonghepingfen.split(' ')[0]\n",
    "zonghepingfen2 = zonghepingfen.split(' ')[1]\n",
    "zonghepingfen3 = zonghepingfen.split(' ')[2]\n",
    "jiancejieguo = text.xpath('//div[@class=\"detectionBoxNew\"]/div/label/text()')[0]\n",
    "\n",
    "lis = text.xpath('//ul[@class=\"detectionScoreList\"]/li')\n",
    "gexiangzongji = {}\n",
    "for li in lis:\n",
    "    leibie = li.xpath('./p/text()')[0]\n",
    "    try:\n",
    "        jishu = li.xpath('./div/span/text()')[0]\n",
    "    except:\n",
    "        jishu = '0'\n",
    "    gexiangzongji[leibie] = jishu\n",
    "    \n",
    "zonghefen = {'事故车/ 非泡水/ 非火烧':zonghepingfen1, '重要车况评分':zonghepingfen2, '重要部件评级':zonghepingfen3,\n",
    "             '检测结果':jiancejieguo, '各项综合计数':gexiangzongji}\n",
    "print(zonghefen)"
   ],
   "metadata": {
    "collapsed": false,
    "pycharm": {
     "name": "#%% 综合评分\n",
     "is_executing": false
    }
   }
  },
  {
   "cell_type": "code",
   "execution_count": null,
   "outputs": [],
   "source": [],
   "metadata": {
    "collapsed": false,
    "pycharm": {
     "name": "#%%\n"
    }
   }
  },
  {
   "cell_type": "code",
   "execution_count": null,
   "outputs": [],
   "source": [],
   "metadata": {
    "collapsed": false,
    "pycharm": {
     "name": "#%%\n"
    }
   }
  },
  {
   "cell_type": "code",
   "execution_count": null,
   "outputs": [],
   "source": [],
   "metadata": {
    "collapsed": false,
    "pycharm": {
     "name": "#%%\n"
    }
   }
  },
  {
   "cell_type": "code",
   "execution_count": null,
   "outputs": [],
   "source": [
    "\n"
   ],
   "metadata": {
    "collapsed": false,
    "pycharm": {
     "name": "#%%\n"
    }
   }
  }
 ],
 "metadata": {
  "kernelspec": {
   "display_name": "Python 3",
   "language": "python",
   "name": "python3"
  },
  "language_info": {
   "codemirror_mode": {
    "name": "ipython",
    "version": 2
   },
   "file_extension": ".py",
   "mimetype": "text/x-python",
   "name": "python",
   "nbconvert_exporter": "python",
   "pygments_lexer": "ipython2",
   "version": "2.7.6"
  },
  "pycharm": {
   "stem_cell": {
    "cell_type": "raw",
    "source": [],
    "metadata": {
     "collapsed": false
    }
   }
  }
 },
 "nbformat": 4,
 "nbformat_minor": 0
}