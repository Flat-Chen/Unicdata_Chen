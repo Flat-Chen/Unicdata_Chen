{
 "cells": [
  {
   "cell_type": "code",
   "execution_count": 5,
   "metadata": {
    "collapsed": true,
    "pycharm": {
     "is_executing": false
    }
   },
   "outputs": [],
   "source": [
    "import json\n",
    "import requests\n",
    "headers = {'Content-Type': 'application/x-www-form-urlencoded',}"
   ]
  },
  {
   "cell_type": "code",
   "execution_count": 7,
   "outputs": [
    {
     "name": "stdout",
     "text": [
      "{'error': 0, 'msg': '咨询成功', 'info': {'pbid': '1', 'pbname': '奥迪', 'pserid': '553', 'psname': '奥迪A4L', 'mid': '27491', 'mname': '35 TFSI 自动舒适型', 'year': '2016', 'price': '33.29', 'mileage': 2, 'card_time': '2019年09月', 'eva_price': 24.5, 'm_pic': 'https://img1.xcarimg.com/PicLib/m/m27491_300.jpg', 'selllink': '//a.xcar.com.cn/used/post.htm?city_name=北京市&city_id=475&province_id=1&psname=奥迪A4L&year=2016&mname=35 TFSI 自动舒适型&pbid=1&pserid=553&mid=27491&card_times=2019-9-5&mileage=2&phone=18833116644&sale_price=24.5'}}\n33.29\n"
     ],
     "output_type": "stream"
    }
   ],
   "source": [
    "url = 'https://a.xcar.com.cn/nxcar/index.php/userdcar/carassess/assessSub'\n",
    "data = 'mid=27491&' \\\n",
    "       'province_id=1&' \\\n",
    "       'city_id=475&' \\\n",
    "       'city_name=%E5%8C%97%E4%BA%AC%E5%B8%82&' \\\n",
    "       'card_time=2019-9-5&' \\\n",
    "       'mileage=2&' \\\n",
    "       'mobile=18833116644'\n",
    "response = requests.post(url=url,data=data,headers=headers)\n",
    "text = response.content.decode()\n",
    "json_data = json.loads(text)\n",
    "print(json_data)\n",
    "price = json_data['info']['price']\n",
    "print(price)\n",
    "\n",
    "\n"
   ],
   "metadata": {
    "collapsed": false,
    "pycharm": {
     "name": "#%%\n",
     "is_executing": false
    }
   }
  }
 ],
 "metadata": {
  "kernelspec": {
   "display_name": "Python 3",
   "language": "python",
   "name": "python3"
  },
  "language_info": {
   "codemirror_mode": {
    "name": "ipython",
    "version": 2
   },
   "file_extension": ".py",
   "mimetype": "text/x-python",
   "name": "python",
   "nbconvert_exporter": "python",
   "pygments_lexer": "ipython2",
   "version": "2.7.6"
  },
  "pycharm": {
   "stem_cell": {
    "cell_type": "raw",
    "source": [],
    "metadata": {
     "collapsed": false
    }
   }
  }
 },
 "nbformat": 4,
 "nbformat_minor": 0
}