{
 "cells": [
  {
   "cell_type": "code",
   "execution_count": 13,
   "metadata": {
    "collapsed": true,
    "pycharm": {
     "is_executing": false
    }
   },
   "outputs": [
    {
     "name": "stdout",
     "text": [
      "111\n"
     ],
     "output_type": "stream"
    }
   ],
   "source": [
    "import requests\n",
    "url = 'https://k.autohome.com.cn/detail/view_01cjtv425968rk2d9h74sg0000.html#pvareaid=2112108'\n",
    "headers = {\n",
    "    'User-Agents':'Mozilla/5.0 (Windows NT 10.0; Win64; x64) AppleWebKit/537.36 (KHTML, like Gecko) Chrome/62.0.3202.89 Safari/537.36',\n",
    "    'Accept': 'text/html,application/xhtml+xml,application/xml;q=0.9,*/*;q=0.8',\n",
    "}\n",
    "response = requests.get(url=url,headers=headers)\n",
    "response.encoding = response.apparent_encoding\n",
    "# print(response.text)\n",
    "if '而立之年' in response.text:\n",
    "    print('111')\n",
    "else:\n",
    "    print('222')\n"
   ]
  }
 ],
 "metadata": {
  "kernelspec": {
   "display_name": "Python 3",
   "language": "python",
   "name": "python3"
  },
  "language_info": {
   "codemirror_mode": {
    "name": "ipython",
    "version": 2
   },
   "file_extension": ".py",
   "mimetype": "text/x-python",
   "name": "python",
   "nbconvert_exporter": "python",
   "pygments_lexer": "ipython2",
   "version": "2.7.6"
  },
  "pycharm": {
   "stem_cell": {
    "cell_type": "raw",
    "source": [],
    "metadata": {
     "collapsed": false
    }
   }
  }
 },
 "nbformat": 4,
 "nbformat_minor": 0
}